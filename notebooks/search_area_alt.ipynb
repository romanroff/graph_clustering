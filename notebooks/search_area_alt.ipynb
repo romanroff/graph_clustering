{
 "cells": [
  {
   "cell_type": "code",
   "execution_count": 109,
   "id": "92641b5d828c9de8",
   "metadata": {
    "collapsed": false
   },
   "outputs": [],
   "source": [
    "import logging\n",
    "import sys\n",
    "\n",
    "root = logging.getLogger()\n",
    "root.setLevel(logging.INFO)\n",
    "\n",
    "handler = logging.StreamHandler(sys.stdout)\n",
    "handler.setLevel(logging.INFO)\n",
    "formatter = logging.Formatter('%(asctime)s - %(name)s - %(levelname)s - %(message)s')\n",
    "handler.setFormatter(formatter)\n",
    "root.addHandler(handler)"
   ]
  },
  {
   "cell_type": "code",
   "execution_count": 110,
   "id": "679e292ddcafdd40",
   "metadata": {
    "collapsed": false
   },
   "outputs": [],
   "source": [
    "import sys\n",
    "\n",
    "import matplotlib.pyplot as plt\n",
    "\n",
    "sys.path.append('../scripts')\n",
    "sys.path.append('../')\n",
    "\n",
    "from heapq import heappop, heappush\n",
    "from itertools import count\n",
    "\n",
    "import time\n",
    "from multiprocessing import Pool\n",
    "from time import sleep\n",
    "\n",
    "import numpy as np\n",
    "from tqdm.notebook import trange, tqdm\n",
    "from scripts import centroids_graph_builder, graph_osm_loader, utils, clustering\n",
    "\n",
    "import networkx as nx\n"
   ]
  },
  {
   "cell_type": "code",
   "execution_count": 111,
   "id": "25e5c1440003f43a",
   "metadata": {
    "collapsed": false
   },
   "outputs": [],
   "source": [
    "def dijkstra_pfa_min_dst(graph: nx.Graph,\n",
    "                 start: set[int],\n",
    "                 ) -> \\\n",
    "        tuple[float, list[int]]:\n",
    "    adjacency = graph._adj\n",
    "    c = count()\n",
    "    push = heappush\n",
    "    pop = heappop\n",
    "    dist = {}\n",
    "    fringe = []\n",
    "    for s in start:\n",
    "        dist[s] = 0.0\n",
    "        push(fringe, (0.0, next(c), s))\n",
    "    while fringe:\n",
    "        (d, _, v) = pop(fringe)\n",
    "        for u, e in adjacency[v].items():\n",
    "            vu_dist = d + e['length']\n",
    "            if u not in dist or dist[u] > vu_dist:\n",
    "                dist[u] = vu_dist\n",
    "                push(fringe, (vu_dist, next(c), u))\n",
    "    return dist\n"
   ]
  },
  {
   "cell_type": "code",
   "execution_count": 112,
   "id": "34f910ca623208b5",
   "metadata": {
    "collapsed": false
   },
   "outputs": [],
   "source": [
    "def get_rand_graph(N, p):\n",
    "    G = nx.fast_gnp_random_graph(N, p, directed=False)\n",
    "    if not nx.is_connected(G):\n",
    "        tmp = []\n",
    "        for n in nx.connected_components(G):\n",
    "            for q in n:\n",
    "                tmp.append(q)\n",
    "                break\n",
    "        for i in range(len(tmp) - 1):\n",
    "            G.add_edge(tmp[i], tmp[i + 1])\n",
    "    for e in G.edges:\n",
    "        G.add_edge(e[0], e[1], length=np.random.random_sample() + 0.001)\n",
    "    for u in G.nodes:\n",
    "        if u in G[u]:\n",
    "            G.remove_edge(u, u)\n",
    "    return G"
   ]
  },
  {
   "cell_type": "code",
   "execution_count": 113,
   "id": "1b60f4b11aad1567",
   "metadata": {
    "ExecuteTime": {
     "end_time": "2024-11-26T08:25:35.655680Z",
     "start_time": "2024-11-26T08:25:35.591563Z"
    },
    "collapsed": false
   },
   "outputs": [
    {
     "name": "stdout",
     "output_type": "stream",
     "text": [
      "17931 27047\n"
     ]
    }
   ],
   "source": [
    "GRAPH_ID = 'R2555133'  # R13470549 R2555133 R3766483\n",
    "# примеры id есть в graph_osm_loader.py\n",
    "# g = get_rand_graph(1000, 0.1)  # загрузка графа\n",
    "N = 100000\n",
    "p = 3/N\n",
    "# g = get_rand_grAaph(N,p)\n",
    "# g = get_graph()\n",
    "g= graph_osm_loader.get_graph(GRAPH_ID)\n",
    "print(len(g.nodes), len(g.edges))"
   ]
  },
  {
   "cell_type": "code",
   "execution_count": 114,
   "id": "af782e49baab793a",
   "metadata": {
    "ExecuteTime": {
     "end_time": "2024-11-26T08:25:36.781684Z",
     "start_time": "2024-11-26T08:25:36.774170Z"
    },
    "collapsed": false
   },
   "outputs": [],
   "source": [
    "g.remove_edges_from(nx.selfloop_edges(g))"
   ]
  },
  {
   "cell_type": "code",
   "execution_count": 115,
   "id": "84383d0a4d810a26",
   "metadata": {
    "ExecuteTime": {
     "end_time": "2024-11-26T08:25:37.313958Z",
     "start_time": "2024-11-26T08:25:37.309234Z"
    },
    "collapsed": false
   },
   "outputs": [
    {
     "data": {
      "text/plain": [
       "133.90668392578468"
      ]
     },
     "execution_count": 115,
     "metadata": {},
     "output_type": "execute_result"
    }
   ],
   "source": [
    "np.sqrt(len(g.nodes))"
   ]
  },
  {
   "cell_type": "code",
   "execution_count": 102,
   "id": "64b0c1b8f91aeb84",
   "metadata": {
    "ExecuteTime": {
     "end_time": "2024-11-26T08:25:55.589118Z",
     "start_time": "2024-11-26T08:25:37.798158Z"
    },
    "collapsed": false
   },
   "outputs": [
    {
     "name": "stdout",
     "output_type": "stream",
     "text": [
      "2024-11-29 17:38:22,475 - root - INFO - communities: 3409\n"
     ]
    },
    {
     "name": "stderr",
     "output_type": "stream",
     "text": [
      "100%|██████████| 100/100 [00:16<00:00,  6.15it/s]\n"
     ]
    }
   ],
   "source": [
    "cms = clustering.resolve_k_means_communities(g, resolution=500, max_iteration=100, print_log=True)"
   ]
  },
  {
   "cell_type": "markdown",
   "id": "5285889f",
   "metadata": {},
   "source": [
    "### community"
   ]
  },
  {
   "cell_type": "code",
   "execution_count": null,
   "id": "67c54b48",
   "metadata": {},
   "outputs": [
    {
     "data": {
      "text/html": [
       "<div style=\"width:100%;\"><div style=\"position:relative;width:100%;height:0;padding-bottom:60%;\"><span style=\"color:#565656\">Make this Notebook Trusted to load map: File -> Trust Notebook</span><iframe srcdoc=\"&lt;!DOCTYPE html&gt;\n",
       "&lt;html&gt;\n",
       "&lt;head&gt;\n",
       "    \n",
       "    &lt;meta http-equiv=&quot;content-type&quot; content=&quot;text/html; charset=UTF-8&quot; /&gt;\n",
       "    \n",
       "        &lt;script&gt;\n",
       "            L_NO_TOUCH = false;\n",
       "            L_DISABLE_3D = false;\n",
       "        &lt;/script&gt;\n",
       "    \n",
       "    &lt;style&gt;html, body {width: 100%;height: 100%;margin: 0;padding: 0;}&lt;/style&gt;\n",
       "    &lt;style&gt;#map {position:absolute;top:0;bottom:0;right:0;left:0;}&lt;/style&gt;\n",
       "    &lt;script src=&quot;https://cdn.jsdelivr.net/npm/leaflet@1.9.3/dist/leaflet.js&quot;&gt;&lt;/script&gt;\n",
       "    &lt;script src=&quot;https://code.jquery.com/jquery-3.7.1.min.js&quot;&gt;&lt;/script&gt;\n",
       "    &lt;script src=&quot;https://cdn.jsdelivr.net/npm/bootstrap@5.2.2/dist/js/bootstrap.bundle.min.js&quot;&gt;&lt;/script&gt;\n",
       "    &lt;script src=&quot;https://cdnjs.cloudflare.com/ajax/libs/Leaflet.awesome-markers/2.0.2/leaflet.awesome-markers.js&quot;&gt;&lt;/script&gt;\n",
       "    &lt;link rel=&quot;stylesheet&quot; href=&quot;https://cdn.jsdelivr.net/npm/leaflet@1.9.3/dist/leaflet.css&quot;/&gt;\n",
       "    &lt;link rel=&quot;stylesheet&quot; href=&quot;https://cdn.jsdelivr.net/npm/bootstrap@5.2.2/dist/css/bootstrap.min.css&quot;/&gt;\n",
       "    &lt;link rel=&quot;stylesheet&quot; href=&quot;https://netdna.bootstrapcdn.com/bootstrap/3.0.0/css/bootstrap-glyphicons.css&quot;/&gt;\n",
       "    &lt;link rel=&quot;stylesheet&quot; href=&quot;https://cdn.jsdelivr.net/npm/@fortawesome/fontawesome-free@6.2.0/css/all.min.css&quot;/&gt;\n",
       "    &lt;link rel=&quot;stylesheet&quot; href=&quot;https://cdnjs.cloudflare.com/ajax/libs/Leaflet.awesome-markers/2.0.2/leaflet.awesome-markers.css&quot;/&gt;\n",
       "    &lt;link rel=&quot;stylesheet&quot; href=&quot;https://cdn.jsdelivr.net/gh/python-visualization/folium/folium/templates/leaflet.awesome.rotate.min.css&quot;/&gt;\n",
       "    \n",
       "            &lt;meta name=&quot;viewport&quot; content=&quot;width=device-width,\n",
       "                initial-scale=1.0, maximum-scale=1.0, user-scalable=no&quot; /&gt;\n",
       "            &lt;style&gt;\n",
       "                #map_84680dda492867ab341894f4da68230c {\n",
       "                    position: relative;\n",
       "                    width: 100.0%;\n",
       "                    height: 100.0%;\n",
       "                    left: 0.0%;\n",
       "                    top: 0.0%;\n",
       "                }\n",
       "                .leaflet-container { font-size: 1rem; }\n",
       "            &lt;/style&gt;\n",
       "        \n",
       "&lt;/head&gt;\n",
       "&lt;body&gt;\n",
       "    \n",
       "    \n",
       "            &lt;div class=&quot;folium-map&quot; id=&quot;map_84680dda492867ab341894f4da68230c&quot; &gt;&lt;/div&gt;\n",
       "        \n",
       "&lt;/body&gt;\n",
       "&lt;script&gt;\n",
       "    \n",
       "    \n",
       "            var map_84680dda492867ab341894f4da68230c = L.map(\n",
       "                &quot;map_84680dda492867ab341894f4da68230c&quot;,\n",
       "                {\n",
       "                    center: [0.0, 0.0],\n",
       "                    crs: L.CRS.EPSG3857,\n",
       "                    zoom: 1,\n",
       "                    zoomControl: true,\n",
       "                    preferCanvas: false,\n",
       "                }\n",
       "            );\n",
       "\n",
       "            \n",
       "\n",
       "        \n",
       "    \n",
       "            var tile_layer_57a8a361c324dd2625a34cd0976348e9 = L.tileLayer(\n",
       "                &quot;https://tile.openstreetmap.org/{z}/{x}/{y}.png&quot;,\n",
       "                {&quot;attribution&quot;: &quot;\\u0026copy; \\u003ca href=\\&quot;https://www.openstreetmap.org/copyright\\&quot;\\u003eOpenStreetMap\\u003c/a\\u003e contributors&quot;, &quot;detectRetina&quot;: false, &quot;maxNativeZoom&quot;: 19, &quot;maxZoom&quot;: 19, &quot;minZoom&quot;: 0, &quot;noWrap&quot;: false, &quot;opacity&quot;: 1, &quot;subdomains&quot;: &quot;abc&quot;, &quot;tms&quot;: false}\n",
       "            );\n",
       "        \n",
       "    \n",
       "            tile_layer_57a8a361c324dd2625a34cd0976348e9.addTo(map_84680dda492867ab341894f4da68230c);\n",
       "        \n",
       "    \n",
       "            var circle_marker_f5492a82402c1b525e5d86c865358003 = L.circleMarker(\n",
       "                [59.568381, 30.5515166],\n",
       "                {&quot;bubblingMouseEvents&quot;: true, &quot;color&quot;: &quot;#41a27c&quot;, &quot;dashArray&quot;: null, &quot;dashOffset&quot;: null, &quot;fill&quot;: true, &quot;fillColor&quot;: &quot;#41a27c&quot;, &quot;fillOpacity&quot;: 0.8, &quot;fillRule&quot;: &quot;evenodd&quot;, &quot;lineCap&quot;: &quot;round&quot;, &quot;lineJoin&quot;: &quot;round&quot;, &quot;opacity&quot;: 1.0, &quot;radius&quot;: 7, &quot;stroke&quot;: true, &quot;weight&quot;: 3}\n",
       "            ).addTo(map_84680dda492867ab341894f4da68230c);\n",
       "        \n",
       "    \n",
       "        var popup_9268ccb2a58c84f99d2887a1a15bf3a2 = L.popup({&quot;maxWidth&quot;: &quot;100%&quot;});\n",
       "\n",
       "        \n",
       "            \n",
       "                var html_8f185f52024634a7a6a442106411b332 = $(`&lt;div id=&quot;html_8f185f52024634a7a6a442106411b332&quot; style=&quot;width: 100.0%; height: 100.0%;&quot;&gt;Node 1837764610, Community 0&lt;/div&gt;`)[0];\n",
       "                popup_9268ccb2a58c84f99d2887a1a15bf3a2.setContent(html_8f185f52024634a7a6a442106411b332);\n",
       "            \n",
       "        \n",
       "\n",
       "        circle_marker_f5492a82402c1b525e5d86c865358003.bindPopup(popup_9268ccb2a58c84f99d2887a1a15bf3a2)\n",
       "        ;\n",
       "\n",
       "        \n",
       "    \n",
       "    \n",
       "            var circle_marker_b0ca74ab20c57ace2fc1044a0cc7eb94 = L.circleMarker(\n",
       "                [59.5679383, 30.5494897],\n",
       "                {&quot;bubblingMouseEvents&quot;: true, &quot;color&quot;: &quot;#41a27c&quot;, &quot;dashArray&quot;: null, &quot;dashOffset&quot;: null, &quot;fill&quot;: true, &quot;fillColor&quot;: &quot;#41a27c&quot;, &quot;fillOpacity&quot;: 0.8, &quot;fillRule&quot;: &quot;evenodd&quot;, &quot;lineCap&quot;: &quot;round&quot;, &quot;lineJoin&quot;: &quot;round&quot;, &quot;opacity&quot;: 1.0, &quot;radius&quot;: 7, &quot;stroke&quot;: true, &quot;weight&quot;: 3}\n",
       "            ).addTo(map_84680dda492867ab341894f4da68230c);\n",
       "        \n",
       "    \n",
       "        var popup_32a5fcfd0c28a2124c276c0673907933 = L.popup({&quot;maxWidth&quot;: &quot;100%&quot;});\n",
       "\n",
       "        \n",
       "            \n",
       "                var html_6e8f46a8644b9b2dee067b927f9919b2 = $(`&lt;div id=&quot;html_6e8f46a8644b9b2dee067b927f9919b2&quot; style=&quot;width: 100.0%; height: 100.0%;&quot;&gt;Node 1279474058, Community 0&lt;/div&gt;`)[0];\n",
       "                popup_32a5fcfd0c28a2124c276c0673907933.setContent(html_6e8f46a8644b9b2dee067b927f9919b2);\n",
       "            \n",
       "        \n",
       "\n",
       "        circle_marker_b0ca74ab20c57ace2fc1044a0cc7eb94.bindPopup(popup_32a5fcfd0c28a2124c276c0673907933)\n",
       "        ;\n",
       "\n",
       "        \n",
       "    \n",
       "    \n",
       "            var circle_marker_d0ae85398fee42341511d5352615330f = L.circleMarker(\n",
       "                [59.5673922, 30.5530365],\n",
       "                {&quot;bubblingMouseEvents&quot;: true, &quot;color&quot;: &quot;#41a27c&quot;, &quot;dashArray&quot;: null, &quot;dashOffset&quot;: null, &quot;fill&quot;: true, &quot;fillColor&quot;: &quot;#41a27c&quot;, &quot;fillOpacity&quot;: 0.8, &quot;fillRule&quot;: &quot;evenodd&quot;, &quot;lineCap&quot;: &quot;round&quot;, &quot;lineJoin&quot;: &quot;round&quot;, &quot;opacity&quot;: 1.0, &quot;radius&quot;: 7, &quot;stroke&quot;: true, &quot;weight&quot;: 3}\n",
       "            ).addTo(map_84680dda492867ab341894f4da68230c);\n",
       "        \n",
       "    \n",
       "        var popup_ae32dae0607cdcd3650aa0087bce7dbc = L.popup({&quot;maxWidth&quot;: &quot;100%&quot;});\n",
       "\n",
       "        \n",
       "            \n",
       "                var html_47f5eafec6ceb0eca854638aea0d19fb = $(`&lt;div id=&quot;html_47f5eafec6ceb0eca854638aea0d19fb&quot; style=&quot;width: 100.0%; height: 100.0%;&quot;&gt;Node 1279473034, Community 0&lt;/div&gt;`)[0];\n",
       "                popup_ae32dae0607cdcd3650aa0087bce7dbc.setContent(html_47f5eafec6ceb0eca854638aea0d19fb);\n",
       "            \n",
       "        \n",
       "\n",
       "        circle_marker_d0ae85398fee42341511d5352615330f.bindPopup(popup_ae32dae0607cdcd3650aa0087bce7dbc)\n",
       "        ;\n",
       "\n",
       "        \n",
       "    \n",
       "    \n",
       "            var circle_marker_56d761dd05357d5cde1ce1d7c7e00bc6 = L.circleMarker(\n",
       "                [59.5651067, 30.551815],\n",
       "                {&quot;bubblingMouseEvents&quot;: true, &quot;color&quot;: &quot;#41a27c&quot;, &quot;dashArray&quot;: null, &quot;dashOffset&quot;: null, &quot;fill&quot;: true, &quot;fillColor&quot;: &quot;#41a27c&quot;, &quot;fillOpacity&quot;: 0.8, &quot;fillRule&quot;: &quot;evenodd&quot;, &quot;lineCap&quot;: &quot;round&quot;, &quot;lineJoin&quot;: &quot;round&quot;, &quot;opacity&quot;: 1.0, &quot;radius&quot;: 7, &quot;stroke&quot;: true, &quot;weight&quot;: 3}\n",
       "            ).addTo(map_84680dda492867ab341894f4da68230c);\n",
       "        \n",
       "    \n",
       "        var popup_b4805823311735c498ea37e1201aa51e = L.popup({&quot;maxWidth&quot;: &quot;100%&quot;});\n",
       "\n",
       "        \n",
       "            \n",
       "                var html_d3609596aeacbe5499511af1f4d05517 = $(`&lt;div id=&quot;html_d3609596aeacbe5499511af1f4d05517&quot; style=&quot;width: 100.0%; height: 100.0%;&quot;&gt;Node 1279472651, Community 0&lt;/div&gt;`)[0];\n",
       "                popup_b4805823311735c498ea37e1201aa51e.setContent(html_d3609596aeacbe5499511af1f4d05517);\n",
       "            \n",
       "        \n",
       "\n",
       "        circle_marker_56d761dd05357d5cde1ce1d7c7e00bc6.bindPopup(popup_b4805823311735c498ea37e1201aa51e)\n",
       "        ;\n",
       "\n",
       "        \n",
       "    \n",
       "    \n",
       "            var circle_marker_cfda75b338b39f0fd7265efac4cf1fc3 = L.circleMarker(\n",
       "                [59.566996, 30.5471764],\n",
       "                {&quot;bubblingMouseEvents&quot;: true, &quot;color&quot;: &quot;#41a27c&quot;, &quot;dashArray&quot;: null, &quot;dashOffset&quot;: null, &quot;fill&quot;: true, &quot;fillColor&quot;: &quot;#41a27c&quot;, &quot;fillOpacity&quot;: 0.8, &quot;fillRule&quot;: &quot;evenodd&quot;, &quot;lineCap&quot;: &quot;round&quot;, &quot;lineJoin&quot;: &quot;round&quot;, &quot;opacity&quot;: 1.0, &quot;radius&quot;: 7, &quot;stroke&quot;: true, &quot;weight&quot;: 3}\n",
       "            ).addTo(map_84680dda492867ab341894f4da68230c);\n",
       "        \n",
       "    \n",
       "        var popup_3e54ddaaaaac3d3f59bb720e0cd0abd1 = L.popup({&quot;maxWidth&quot;: &quot;100%&quot;});\n",
       "\n",
       "        \n",
       "            \n",
       "                var html_3dcf2a90b4bf4b6943ec7950d24c15f8 = $(`&lt;div id=&quot;html_3dcf2a90b4bf4b6943ec7950d24c15f8&quot; style=&quot;width: 100.0%; height: 100.0%;&quot;&gt;Node 1279473420, Community 0&lt;/div&gt;`)[0];\n",
       "                popup_3e54ddaaaaac3d3f59bb720e0cd0abd1.setContent(html_3dcf2a90b4bf4b6943ec7950d24c15f8);\n",
       "            \n",
       "        \n",
       "\n",
       "        circle_marker_cfda75b338b39f0fd7265efac4cf1fc3.bindPopup(popup_3e54ddaaaaac3d3f59bb720e0cd0abd1)\n",
       "        ;\n",
       "\n",
       "        \n",
       "    \n",
       "    \n",
       "            var circle_marker_44bd2cfaf7a848381a225ce08ceb7c68 = L.circleMarker(\n",
       "                [59.5639343, 30.549905],\n",
       "                {&quot;bubblingMouseEvents&quot;: true, &quot;color&quot;: &quot;#41a27c&quot;, &quot;dashArray&quot;: null, &quot;dashOffset&quot;: null, &quot;fill&quot;: true, &quot;fillColor&quot;: &quot;#41a27c&quot;, &quot;fillOpacity&quot;: 0.8, &quot;fillRule&quot;: &quot;evenodd&quot;, &quot;lineCap&quot;: &quot;round&quot;, &quot;lineJoin&quot;: &quot;round&quot;, &quot;opacity&quot;: 1.0, &quot;radius&quot;: 7, &quot;stroke&quot;: true, &quot;weight&quot;: 3}\n",
       "            ).addTo(map_84680dda492867ab341894f4da68230c);\n",
       "        \n",
       "    \n",
       "        var popup_a43a09317f3383ac43b72bac6c7adb5d = L.popup({&quot;maxWidth&quot;: &quot;100%&quot;});\n",
       "\n",
       "        \n",
       "            \n",
       "                var html_4d5faaa7d0da733472ac1a81a1e8fa33 = $(`&lt;div id=&quot;html_4d5faaa7d0da733472ac1a81a1e8fa33&quot; style=&quot;width: 100.0%; height: 100.0%;&quot;&gt;Node 1279473808, Community 0&lt;/div&gt;`)[0];\n",
       "                popup_a43a09317f3383ac43b72bac6c7adb5d.setContent(html_4d5faaa7d0da733472ac1a81a1e8fa33);\n",
       "            \n",
       "        \n",
       "\n",
       "        circle_marker_44bd2cfaf7a848381a225ce08ceb7c68.bindPopup(popup_a43a09317f3383ac43b72bac6c7adb5d)\n",
       "        ;\n",
       "\n",
       "        \n",
       "    \n",
       "    \n",
       "            var circle_marker_99cb8431faa794e27bd1b53fd01083a1 = L.circleMarker(\n",
       "                [59.5664036, 30.5476605],\n",
       "                {&quot;bubblingMouseEvents&quot;: true, &quot;color&quot;: &quot;#41a27c&quot;, &quot;dashArray&quot;: null, &quot;dashOffset&quot;: null, &quot;fill&quot;: true, &quot;fillColor&quot;: &quot;#41a27c&quot;, &quot;fillOpacity&quot;: 0.8, &quot;fillRule&quot;: &quot;evenodd&quot;, &quot;lineCap&quot;: &quot;round&quot;, &quot;lineJoin&quot;: &quot;round&quot;, &quot;opacity&quot;: 1.0, &quot;radius&quot;: 7, &quot;stroke&quot;: true, &quot;weight&quot;: 3}\n",
       "            ).addTo(map_84680dda492867ab341894f4da68230c);\n",
       "        \n",
       "    \n",
       "        var popup_2b943ad14a8ef8455fe0cda550f8ec9f = L.popup({&quot;maxWidth&quot;: &quot;100%&quot;});\n",
       "\n",
       "        \n",
       "            \n",
       "                var html_a7b97818565143ddfe205504d9fd98c8 = $(`&lt;div id=&quot;html_a7b97818565143ddfe205504d9fd98c8&quot; style=&quot;width: 100.0%; height: 100.0%;&quot;&gt;Node 1279473303, Community 0&lt;/div&gt;`)[0];\n",
       "                popup_2b943ad14a8ef8455fe0cda550f8ec9f.setContent(html_a7b97818565143ddfe205504d9fd98c8);\n",
       "            \n",
       "        \n",
       "\n",
       "        circle_marker_99cb8431faa794e27bd1b53fd01083a1.bindPopup(popup_2b943ad14a8ef8455fe0cda550f8ec9f)\n",
       "        ;\n",
       "\n",
       "        \n",
       "    \n",
       "    \n",
       "            var circle_marker_9dcc1fb8d613a0db6ad87a4501bf4ede = L.circleMarker(\n",
       "                [59.5685015, 30.552059],\n",
       "                {&quot;bubblingMouseEvents&quot;: true, &quot;color&quot;: &quot;#41a27c&quot;, &quot;dashArray&quot;: null, &quot;dashOffset&quot;: null, &quot;fill&quot;: true, &quot;fillColor&quot;: &quot;#41a27c&quot;, &quot;fillOpacity&quot;: 0.8, &quot;fillRule&quot;: &quot;evenodd&quot;, &quot;lineCap&quot;: &quot;round&quot;, &quot;lineJoin&quot;: &quot;round&quot;, &quot;opacity&quot;: 1.0, &quot;radius&quot;: 7, &quot;stroke&quot;: true, &quot;weight&quot;: 3}\n",
       "            ).addTo(map_84680dda492867ab341894f4da68230c);\n",
       "        \n",
       "    \n",
       "        var popup_f52f349333682ac3c80b35b2d8e160e3 = L.popup({&quot;maxWidth&quot;: &quot;100%&quot;});\n",
       "\n",
       "        \n",
       "            \n",
       "                var html_84a3ca11dfb50cfddacec7775920317c = $(`&lt;div id=&quot;html_84a3ca11dfb50cfddacec7775920317c&quot; style=&quot;width: 100.0%; height: 100.0%;&quot;&gt;Node 1279473309, Community 0&lt;/div&gt;`)[0];\n",
       "                popup_f52f349333682ac3c80b35b2d8e160e3.setContent(html_84a3ca11dfb50cfddacec7775920317c);\n",
       "            \n",
       "        \n",
       "\n",
       "        circle_marker_9dcc1fb8d613a0db6ad87a4501bf4ede.bindPopup(popup_f52f349333682ac3c80b35b2d8e160e3)\n",
       "        ;\n",
       "\n",
       "        \n",
       "    \n",
       "    \n",
       "            var circle_marker_4d2aa1d20a657f550fc698b20f2277eb = L.circleMarker(\n",
       "                [59.5628332, 30.5468928],\n",
       "                {&quot;bubblingMouseEvents&quot;: true, &quot;color&quot;: &quot;#41a27c&quot;, &quot;dashArray&quot;: null, &quot;dashOffset&quot;: null, &quot;fill&quot;: true, &quot;fillColor&quot;: &quot;#41a27c&quot;, &quot;fillOpacity&quot;: 0.8, &quot;fillRule&quot;: &quot;evenodd&quot;, &quot;lineCap&quot;: &quot;round&quot;, &quot;lineJoin&quot;: &quot;round&quot;, &quot;opacity&quot;: 1.0, &quot;radius&quot;: 7, &quot;stroke&quot;: true, &quot;weight&quot;: 3}\n",
       "            ).addTo(map_84680dda492867ab341894f4da68230c);\n",
       "        \n",
       "    \n",
       "        var popup_2e724c092d1350f5f8f1b80ab6775f05 = L.popup({&quot;maxWidth&quot;: &quot;100%&quot;});\n",
       "\n",
       "        \n",
       "            \n",
       "                var html_08f08701e0ff5b2cf45c8f23ecec1638 = $(`&lt;div id=&quot;html_08f08701e0ff5b2cf45c8f23ecec1638&quot; style=&quot;width: 100.0%; height: 100.0%;&quot;&gt;Node 1279473058, Community 0&lt;/div&gt;`)[0];\n",
       "                popup_2e724c092d1350f5f8f1b80ab6775f05.setContent(html_08f08701e0ff5b2cf45c8f23ecec1638);\n",
       "            \n",
       "        \n",
       "\n",
       "        circle_marker_4d2aa1d20a657f550fc698b20f2277eb.bindPopup(popup_2e724c092d1350f5f8f1b80ab6775f05)\n",
       "        ;\n",
       "\n",
       "        \n",
       "    \n",
       "    \n",
       "            var circle_marker_dc0a838c4251d5ef40e7db07aeacf092 = L.circleMarker(\n",
       "                [59.564365, 30.5453128],\n",
       "                {&quot;bubblingMouseEvents&quot;: true, &quot;color&quot;: &quot;#41a27c&quot;, &quot;dashArray&quot;: null, &quot;dashOffset&quot;: null, &quot;fill&quot;: true, &quot;fillColor&quot;: &quot;#41a27c&quot;, &quot;fillOpacity&quot;: 0.8, &quot;fillRule&quot;: &quot;evenodd&quot;, &quot;lineCap&quot;: &quot;round&quot;, &quot;lineJoin&quot;: &quot;round&quot;, &quot;opacity&quot;: 1.0, &quot;radius&quot;: 7, &quot;stroke&quot;: true, &quot;weight&quot;: 3}\n",
       "            ).addTo(map_84680dda492867ab341894f4da68230c);\n",
       "        \n",
       "    \n",
       "        var popup_a970ad872416adcdcbae38f356a4ade0 = L.popup({&quot;maxWidth&quot;: &quot;100%&quot;});\n",
       "\n",
       "        \n",
       "            \n",
       "                var html_14512827f0ff4b1555ff1e18305937dd = $(`&lt;div id=&quot;html_14512827f0ff4b1555ff1e18305937dd&quot; style=&quot;width: 100.0%; height: 100.0%;&quot;&gt;Node 1279473960, Community 0&lt;/div&gt;`)[0];\n",
       "                popup_a970ad872416adcdcbae38f356a4ade0.setContent(html_14512827f0ff4b1555ff1e18305937dd);\n",
       "            \n",
       "        \n",
       "\n",
       "        circle_marker_dc0a838c4251d5ef40e7db07aeacf092.bindPopup(popup_a970ad872416adcdcbae38f356a4ade0)\n",
       "        ;\n",
       "\n",
       "        \n",
       "    \n",
       "    \n",
       "            var circle_marker_937363c05ba5cd8573b793d51c1b0ad5 = L.circleMarker(\n",
       "                [59.5678018, 30.5637251],\n",
       "                {&quot;bubblingMouseEvents&quot;: true, &quot;color&quot;: &quot;#41a27c&quot;, &quot;dashArray&quot;: null, &quot;dashOffset&quot;: null, &quot;fill&quot;: true, &quot;fillColor&quot;: &quot;#41a27c&quot;, &quot;fillOpacity&quot;: 0.8, &quot;fillRule&quot;: &quot;evenodd&quot;, &quot;lineCap&quot;: &quot;round&quot;, &quot;lineJoin&quot;: &quot;round&quot;, &quot;opacity&quot;: 1.0, &quot;radius&quot;: 7, &quot;stroke&quot;: true, &quot;weight&quot;: 3}\n",
       "            ).addTo(map_84680dda492867ab341894f4da68230c);\n",
       "        \n",
       "    \n",
       "        var popup_9ae6cc6c9e1e15d3fff006f7f6821b0e = L.popup({&quot;maxWidth&quot;: &quot;100%&quot;});\n",
       "\n",
       "        \n",
       "            \n",
       "                var html_9f1eb3ab8c4757d2ca3b88e48667ca42 = $(`&lt;div id=&quot;html_9f1eb3ab8c4757d2ca3b88e48667ca42&quot; style=&quot;width: 100.0%; height: 100.0%;&quot;&gt;Node 1279474094, Community 0&lt;/div&gt;`)[0];\n",
       "                popup_9ae6cc6c9e1e15d3fff006f7f6821b0e.setContent(html_9f1eb3ab8c4757d2ca3b88e48667ca42);\n",
       "            \n",
       "        \n",
       "\n",
       "        circle_marker_937363c05ba5cd8573b793d51c1b0ad5.bindPopup(popup_9ae6cc6c9e1e15d3fff006f7f6821b0e)\n",
       "        ;\n",
       "\n",
       "        \n",
       "    \n",
       "    \n",
       "            var circle_marker_d9af724991904f382b626b14bd938c5c = L.circleMarker(\n",
       "                [59.5659811, 30.5511169],\n",
       "                {&quot;bubblingMouseEvents&quot;: true, &quot;color&quot;: &quot;#41a27c&quot;, &quot;dashArray&quot;: null, &quot;dashOffset&quot;: null, &quot;fill&quot;: true, &quot;fillColor&quot;: &quot;#41a27c&quot;, &quot;fillOpacity&quot;: 0.8, &quot;fillRule&quot;: &quot;evenodd&quot;, &quot;lineCap&quot;: &quot;round&quot;, &quot;lineJoin&quot;: &quot;round&quot;, &quot;opacity&quot;: 1.0, &quot;radius&quot;: 7, &quot;stroke&quot;: true, &quot;weight&quot;: 3}\n",
       "            ).addTo(map_84680dda492867ab341894f4da68230c);\n",
       "        \n",
       "    \n",
       "        var popup_418aab24497c4935da3f3418e18ddc76 = L.popup({&quot;maxWidth&quot;: &quot;100%&quot;});\n",
       "\n",
       "        \n",
       "            \n",
       "                var html_dfb9bb6e929c5e14e5558deead729338 = $(`&lt;div id=&quot;html_dfb9bb6e929c5e14e5558deead729338&quot; style=&quot;width: 100.0%; height: 100.0%;&quot;&gt;Node 1279473074, Community 0&lt;/div&gt;`)[0];\n",
       "                popup_418aab24497c4935da3f3418e18ddc76.setContent(html_dfb9bb6e929c5e14e5558deead729338);\n",
       "            \n",
       "        \n",
       "\n",
       "        circle_marker_d9af724991904f382b626b14bd938c5c.bindPopup(popup_418aab24497c4935da3f3418e18ddc76)\n",
       "        ;\n",
       "\n",
       "        \n",
       "    \n",
       "    \n",
       "            var circle_marker_a8776e7026edd51be6c0cb2bc6de33af = L.circleMarker(\n",
       "                [59.5636338, 30.5494299],\n",
       "                {&quot;bubblingMouseEvents&quot;: true, &quot;color&quot;: &quot;#41a27c&quot;, &quot;dashArray&quot;: null, &quot;dashOffset&quot;: null, &quot;fill&quot;: true, &quot;fillColor&quot;: &quot;#41a27c&quot;, &quot;fillOpacity&quot;: 0.8, &quot;fillRule&quot;: &quot;evenodd&quot;, &quot;lineCap&quot;: &quot;round&quot;, &quot;lineJoin&quot;: &quot;round&quot;, &quot;opacity&quot;: 1.0, &quot;radius&quot;: 7, &quot;stroke&quot;: true, &quot;weight&quot;: 3}\n",
       "            ).addTo(map_84680dda492867ab341894f4da68230c);\n",
       "        \n",
       "    \n",
       "        var popup_bc0a0933d9cc1bf904a071123b375b53 = L.popup({&quot;maxWidth&quot;: &quot;100%&quot;});\n",
       "\n",
       "        \n",
       "            \n",
       "                var html_f3eed12f662ab4fd930aced3575206c6 = $(`&lt;div id=&quot;html_f3eed12f662ab4fd930aced3575206c6&quot; style=&quot;width: 100.0%; height: 100.0%;&quot;&gt;Node 2296447926, Community 0&lt;/div&gt;`)[0];\n",
       "                popup_bc0a0933d9cc1bf904a071123b375b53.setContent(html_f3eed12f662ab4fd930aced3575206c6);\n",
       "            \n",
       "        \n",
       "\n",
       "        circle_marker_a8776e7026edd51be6c0cb2bc6de33af.bindPopup(popup_bc0a0933d9cc1bf904a071123b375b53)\n",
       "        ;\n",
       "\n",
       "        \n",
       "    \n",
       "    \n",
       "            var circle_marker_309fd4058fc66539cb8f310fc900d7bd = L.circleMarker(\n",
       "                [59.5634664, 30.5483959],\n",
       "                {&quot;bubblingMouseEvents&quot;: true, &quot;color&quot;: &quot;#41a27c&quot;, &quot;dashArray&quot;: null, &quot;dashOffset&quot;: null, &quot;fill&quot;: true, &quot;fillColor&quot;: &quot;#41a27c&quot;, &quot;fillOpacity&quot;: 0.8, &quot;fillRule&quot;: &quot;evenodd&quot;, &quot;lineCap&quot;: &quot;round&quot;, &quot;lineJoin&quot;: &quot;round&quot;, &quot;opacity&quot;: 1.0, &quot;radius&quot;: 7, &quot;stroke&quot;: true, &quot;weight&quot;: 3}\n",
       "            ).addTo(map_84680dda492867ab341894f4da68230c);\n",
       "        \n",
       "    \n",
       "        var popup_3d7e0c3abf135fe956fb81315ee10d5d = L.popup({&quot;maxWidth&quot;: &quot;100%&quot;});\n",
       "\n",
       "        \n",
       "            \n",
       "                var html_7d61a198685268c549e87fad671775f8 = $(`&lt;div id=&quot;html_7d61a198685268c549e87fad671775f8&quot; style=&quot;width: 100.0%; height: 100.0%;&quot;&gt;Node 1279472974, Community 0&lt;/div&gt;`)[0];\n",
       "                popup_3d7e0c3abf135fe956fb81315ee10d5d.setContent(html_7d61a198685268c549e87fad671775f8);\n",
       "            \n",
       "        \n",
       "\n",
       "        circle_marker_309fd4058fc66539cb8f310fc900d7bd.bindPopup(popup_3d7e0c3abf135fe956fb81315ee10d5d)\n",
       "        ;\n",
       "\n",
       "        \n",
       "    \n",
       "    \n",
       "            var circle_marker_6e3fa5bdac3bd0749205694d7b532748 = L.circleMarker(\n",
       "                [59.5700534, 30.5538118],\n",
       "                {&quot;bubblingMouseEvents&quot;: true, &quot;color&quot;: &quot;#41a27c&quot;, &quot;dashArray&quot;: null, &quot;dashOffset&quot;: null, &quot;fill&quot;: true, &quot;fillColor&quot;: &quot;#41a27c&quot;, &quot;fillOpacity&quot;: 0.8, &quot;fillRule&quot;: &quot;evenodd&quot;, &quot;lineCap&quot;: &quot;round&quot;, &quot;lineJoin&quot;: &quot;round&quot;, &quot;opacity&quot;: 1.0, &quot;radius&quot;: 7, &quot;stroke&quot;: true, &quot;weight&quot;: 3}\n",
       "            ).addTo(map_84680dda492867ab341894f4da68230c);\n",
       "        \n",
       "    \n",
       "        var popup_67746c3db4fb11815151ab03833c449c = L.popup({&quot;maxWidth&quot;: &quot;100%&quot;});\n",
       "\n",
       "        \n",
       "            \n",
       "                var html_e4cdd62139b220dc7360ae613d2eaf51 = $(`&lt;div id=&quot;html_e4cdd62139b220dc7360ae613d2eaf51&quot; style=&quot;width: 100.0%; height: 100.0%;&quot;&gt;Node 1837764695, Community 0&lt;/div&gt;`)[0];\n",
       "                popup_67746c3db4fb11815151ab03833c449c.setContent(html_e4cdd62139b220dc7360ae613d2eaf51);\n",
       "            \n",
       "        \n",
       "\n",
       "        circle_marker_6e3fa5bdac3bd0749205694d7b532748.bindPopup(popup_67746c3db4fb11815151ab03833c449c)\n",
       "        ;\n",
       "\n",
       "        \n",
       "    \n",
       "    \n",
       "            var circle_marker_c97bbe498910eec3206cbaf9536c3342 = L.circleMarker(\n",
       "                [59.5643794, 30.5524218],\n",
       "                {&quot;bubblingMouseEvents&quot;: true, &quot;color&quot;: &quot;#41a27c&quot;, &quot;dashArray&quot;: null, &quot;dashOffset&quot;: null, &quot;fill&quot;: true, &quot;fillColor&quot;: &quot;#41a27c&quot;, &quot;fillOpacity&quot;: 0.8, &quot;fillRule&quot;: &quot;evenodd&quot;, &quot;lineCap&quot;: &quot;round&quot;, &quot;lineJoin&quot;: &quot;round&quot;, &quot;opacity&quot;: 1.0, &quot;radius&quot;: 7, &quot;stroke&quot;: true, &quot;weight&quot;: 3}\n",
       "            ).addTo(map_84680dda492867ab341894f4da68230c);\n",
       "        \n",
       "    \n",
       "        var popup_2d7aad6951efdf57b49e6f790938bd12 = L.popup({&quot;maxWidth&quot;: &quot;100%&quot;});\n",
       "\n",
       "        \n",
       "            \n",
       "                var html_86f8688071c15a295231a20ce8db098f = $(`&lt;div id=&quot;html_86f8688071c15a295231a20ce8db098f&quot; style=&quot;width: 100.0%; height: 100.0%;&quot;&gt;Node 1279473243, Community 0&lt;/div&gt;`)[0];\n",
       "                popup_2d7aad6951efdf57b49e6f790938bd12.setContent(html_86f8688071c15a295231a20ce8db098f);\n",
       "            \n",
       "        \n",
       "\n",
       "        circle_marker_c97bbe498910eec3206cbaf9536c3342.bindPopup(popup_2d7aad6951efdf57b49e6f790938bd12)\n",
       "        ;\n",
       "\n",
       "        \n",
       "    \n",
       "    \n",
       "            var circle_marker_ff6bc135463edd3e730b37fd89ee7094 = L.circleMarker(\n",
       "                [59.5704856, 30.5541495],\n",
       "                {&quot;bubblingMouseEvents&quot;: true, &quot;color&quot;: &quot;#41a27c&quot;, &quot;dashArray&quot;: null, &quot;dashOffset&quot;: null, &quot;fill&quot;: true, &quot;fillColor&quot;: &quot;#41a27c&quot;, &quot;fillOpacity&quot;: 0.8, &quot;fillRule&quot;: &quot;evenodd&quot;, &quot;lineCap&quot;: &quot;round&quot;, &quot;lineJoin&quot;: &quot;round&quot;, &quot;opacity&quot;: 1.0, &quot;radius&quot;: 7, &quot;stroke&quot;: true, &quot;weight&quot;: 3}\n",
       "            ).addTo(map_84680dda492867ab341894f4da68230c);\n",
       "        \n",
       "    \n",
       "        var popup_9449bb8e579258c1912d3b9d454410ae = L.popup({&quot;maxWidth&quot;: &quot;100%&quot;});\n",
       "\n",
       "        \n",
       "            \n",
       "                var html_612ee758a2504554cd11a97e9b872feb = $(`&lt;div id=&quot;html_612ee758a2504554cd11a97e9b872feb&quot; style=&quot;width: 100.0%; height: 100.0%;&quot;&gt;Node 1279473764, Community 0&lt;/div&gt;`)[0];\n",
       "                popup_9449bb8e579258c1912d3b9d454410ae.setContent(html_612ee758a2504554cd11a97e9b872feb);\n",
       "            \n",
       "        \n",
       "\n",
       "        circle_marker_ff6bc135463edd3e730b37fd89ee7094.bindPopup(popup_9449bb8e579258c1912d3b9d454410ae)\n",
       "        ;\n",
       "\n",
       "        \n",
       "    \n",
       "    \n",
       "            var circle_marker_7b47bca0854eec7ddaeae2eb9dd17c81 = L.circleMarker(\n",
       "                [59.5671951, 30.5484965],\n",
       "                {&quot;bubblingMouseEvents&quot;: true, &quot;color&quot;: &quot;#41a27c&quot;, &quot;dashArray&quot;: null, &quot;dashOffset&quot;: null, &quot;fill&quot;: true, &quot;fillColor&quot;: &quot;#41a27c&quot;, &quot;fillOpacity&quot;: 0.8, &quot;fillRule&quot;: &quot;evenodd&quot;, &quot;lineCap&quot;: &quot;round&quot;, &quot;lineJoin&quot;: &quot;round&quot;, &quot;opacity&quot;: 1.0, &quot;radius&quot;: 7, &quot;stroke&quot;: true, &quot;weight&quot;: 3}\n",
       "            ).addTo(map_84680dda492867ab341894f4da68230c);\n",
       "        \n",
       "    \n",
       "        var popup_3d1d09958e0898dfd287d9a3a4fe1995 = L.popup({&quot;maxWidth&quot;: &quot;100%&quot;});\n",
       "\n",
       "        \n",
       "            \n",
       "                var html_2bee8f975d8d2940ec13e4e589c6d057 = $(`&lt;div id=&quot;html_2bee8f975d8d2940ec13e4e589c6d057&quot; style=&quot;width: 100.0%; height: 100.0%;&quot;&gt;Node 3301441260, Community 0&lt;/div&gt;`)[0];\n",
       "                popup_3d1d09958e0898dfd287d9a3a4fe1995.setContent(html_2bee8f975d8d2940ec13e4e589c6d057);\n",
       "            \n",
       "        \n",
       "\n",
       "        circle_marker_7b47bca0854eec7ddaeae2eb9dd17c81.bindPopup(popup_3d1d09958e0898dfd287d9a3a4fe1995)\n",
       "        ;\n",
       "\n",
       "        \n",
       "    \n",
       "    \n",
       "            var circle_marker_76a1513135405fb13ea9b27f5b8bdd76 = L.circleMarker(\n",
       "                [59.5668824, 30.5503578],\n",
       "                {&quot;bubblingMouseEvents&quot;: true, &quot;color&quot;: &quot;#41a27c&quot;, &quot;dashArray&quot;: null, &quot;dashOffset&quot;: null, &quot;fill&quot;: true, &quot;fillColor&quot;: &quot;#41a27c&quot;, &quot;fillOpacity&quot;: 0.8, &quot;fillRule&quot;: &quot;evenodd&quot;, &quot;lineCap&quot;: &quot;round&quot;, &quot;lineJoin&quot;: &quot;round&quot;, &quot;opacity&quot;: 1.0, &quot;radius&quot;: 7, &quot;stroke&quot;: true, &quot;weight&quot;: 3}\n",
       "            ).addTo(map_84680dda492867ab341894f4da68230c);\n",
       "        \n",
       "    \n",
       "        var popup_89e983413cbd4584fcbffcb12495c654 = L.popup({&quot;maxWidth&quot;: &quot;100%&quot;});\n",
       "\n",
       "        \n",
       "            \n",
       "                var html_970eef98821a935084551cf28f1efacc = $(`&lt;div id=&quot;html_970eef98821a935084551cf28f1efacc&quot; style=&quot;width: 100.0%; height: 100.0%;&quot;&gt;Node 1279473133, Community 0&lt;/div&gt;`)[0];\n",
       "                popup_89e983413cbd4584fcbffcb12495c654.setContent(html_970eef98821a935084551cf28f1efacc);\n",
       "            \n",
       "        \n",
       "\n",
       "        circle_marker_76a1513135405fb13ea9b27f5b8bdd76.bindPopup(popup_89e983413cbd4584fcbffcb12495c654)\n",
       "        ;\n",
       "\n",
       "        \n",
       "    \n",
       "    \n",
       "            var circle_marker_013438aa0c5600b03282b9e35a01eed7 = L.circleMarker(\n",
       "                [59.5692106, 30.5508631],\n",
       "                {&quot;bubblingMouseEvents&quot;: true, &quot;color&quot;: &quot;#41a27c&quot;, &quot;dashArray&quot;: null, &quot;dashOffset&quot;: null, &quot;fill&quot;: true, &quot;fillColor&quot;: &quot;#41a27c&quot;, &quot;fillOpacity&quot;: 0.8, &quot;fillRule&quot;: &quot;evenodd&quot;, &quot;lineCap&quot;: &quot;round&quot;, &quot;lineJoin&quot;: &quot;round&quot;, &quot;opacity&quot;: 1.0, &quot;radius&quot;: 7, &quot;stroke&quot;: true, &quot;weight&quot;: 3}\n",
       "            ).addTo(map_84680dda492867ab341894f4da68230c);\n",
       "        \n",
       "    \n",
       "        var popup_6f73a2a5746bd5a859e73920da2f3a4a = L.popup({&quot;maxWidth&quot;: &quot;100%&quot;});\n",
       "\n",
       "        \n",
       "            \n",
       "                var html_e9aec8749a5c4b4d0b181b93725c5d40 = $(`&lt;div id=&quot;html_e9aec8749a5c4b4d0b181b93725c5d40&quot; style=&quot;width: 100.0%; height: 100.0%;&quot;&gt;Node 9648170734, Community 0&lt;/div&gt;`)[0];\n",
       "                popup_6f73a2a5746bd5a859e73920da2f3a4a.setContent(html_e9aec8749a5c4b4d0b181b93725c5d40);\n",
       "            \n",
       "        \n",
       "\n",
       "        circle_marker_013438aa0c5600b03282b9e35a01eed7.bindPopup(popup_6f73a2a5746bd5a859e73920da2f3a4a)\n",
       "        ;\n",
       "\n",
       "        \n",
       "    \n",
       "    \n",
       "            var circle_marker_77f8d9261c9c9c464ef8230bd5cfc9f2 = L.circleMarker(\n",
       "                [59.5688382, 30.5491948],\n",
       "                {&quot;bubblingMouseEvents&quot;: true, &quot;color&quot;: &quot;#41a27c&quot;, &quot;dashArray&quot;: null, &quot;dashOffset&quot;: null, &quot;fill&quot;: true, &quot;fillColor&quot;: &quot;#41a27c&quot;, &quot;fillOpacity&quot;: 0.8, &quot;fillRule&quot;: &quot;evenodd&quot;, &quot;lineCap&quot;: &quot;round&quot;, &quot;lineJoin&quot;: &quot;round&quot;, &quot;opacity&quot;: 1.0, &quot;radius&quot;: 7, &quot;stroke&quot;: true, &quot;weight&quot;: 3}\n",
       "            ).addTo(map_84680dda492867ab341894f4da68230c);\n",
       "        \n",
       "    \n",
       "        var popup_7be97e050eb4d06115bf74b757c2de62 = L.popup({&quot;maxWidth&quot;: &quot;100%&quot;});\n",
       "\n",
       "        \n",
       "            \n",
       "                var html_6468dc3630a5f2d7735f1edb5284eba6 = $(`&lt;div id=&quot;html_6468dc3630a5f2d7735f1edb5284eba6&quot; style=&quot;width: 100.0%; height: 100.0%;&quot;&gt;Node 9648170736, Community 0&lt;/div&gt;`)[0];\n",
       "                popup_7be97e050eb4d06115bf74b757c2de62.setContent(html_6468dc3630a5f2d7735f1edb5284eba6);\n",
       "            \n",
       "        \n",
       "\n",
       "        circle_marker_77f8d9261c9c9c464ef8230bd5cfc9f2.bindPopup(popup_7be97e050eb4d06115bf74b757c2de62)\n",
       "        ;\n",
       "\n",
       "        \n",
       "    \n",
       "    \n",
       "            var circle_marker_997a0973a94202a7c834c4bd37e0f411 = L.circleMarker(\n",
       "                [59.5669346, 30.5472398],\n",
       "                {&quot;bubblingMouseEvents&quot;: true, &quot;color&quot;: &quot;#41a27c&quot;, &quot;dashArray&quot;: null, &quot;dashOffset&quot;: null, &quot;fill&quot;: true, &quot;fillColor&quot;: &quot;#41a27c&quot;, &quot;fillOpacity&quot;: 0.8, &quot;fillRule&quot;: &quot;evenodd&quot;, &quot;lineCap&quot;: &quot;round&quot;, &quot;lineJoin&quot;: &quot;round&quot;, &quot;opacity&quot;: 1.0, &quot;radius&quot;: 7, &quot;stroke&quot;: true, &quot;weight&quot;: 3}\n",
       "            ).addTo(map_84680dda492867ab341894f4da68230c);\n",
       "        \n",
       "    \n",
       "        var popup_ec76ec690a33557726e1440552c1c78b = L.popup({&quot;maxWidth&quot;: &quot;100%&quot;});\n",
       "\n",
       "        \n",
       "            \n",
       "                var html_7879655fb01254671983c93178028875 = $(`&lt;div id=&quot;html_7879655fb01254671983c93178028875&quot; style=&quot;width: 100.0%; height: 100.0%;&quot;&gt;Node 1279472755, Community 0&lt;/div&gt;`)[0];\n",
       "                popup_ec76ec690a33557726e1440552c1c78b.setContent(html_7879655fb01254671983c93178028875);\n",
       "            \n",
       "        \n",
       "\n",
       "        circle_marker_997a0973a94202a7c834c4bd37e0f411.bindPopup(popup_ec76ec690a33557726e1440552c1c78b)\n",
       "        ;\n",
       "\n",
       "        \n",
       "    \n",
       "    \n",
       "            var circle_marker_1520b32d0a9ebf554cee77ab58b618a6 = L.circleMarker(\n",
       "                [59.5654736, 30.5484202],\n",
       "                {&quot;bubblingMouseEvents&quot;: true, &quot;color&quot;: &quot;#41a27c&quot;, &quot;dashArray&quot;: null, &quot;dashOffset&quot;: null, &quot;fill&quot;: true, &quot;fillColor&quot;: &quot;#41a27c&quot;, &quot;fillOpacity&quot;: 0.8, &quot;fillRule&quot;: &quot;evenodd&quot;, &quot;lineCap&quot;: &quot;round&quot;, &quot;lineJoin&quot;: &quot;round&quot;, &quot;opacity&quot;: 1.0, &quot;radius&quot;: 7, &quot;stroke&quot;: true, &quot;weight&quot;: 3}\n",
       "            ).addTo(map_84680dda492867ab341894f4da68230c);\n",
       "        \n",
       "    \n",
       "        var popup_fbe8b318ce89fd3020564857ab958a00 = L.popup({&quot;maxWidth&quot;: &quot;100%&quot;});\n",
       "\n",
       "        \n",
       "            \n",
       "                var html_95c8a585d9d2b8044bdac54c93c290ea = $(`&lt;div id=&quot;html_95c8a585d9d2b8044bdac54c93c290ea&quot; style=&quot;width: 100.0%; height: 100.0%;&quot;&gt;Node 1279473532, Community 0&lt;/div&gt;`)[0];\n",
       "                popup_fbe8b318ce89fd3020564857ab958a00.setContent(html_95c8a585d9d2b8044bdac54c93c290ea);\n",
       "            \n",
       "        \n",
       "\n",
       "        circle_marker_1520b32d0a9ebf554cee77ab58b618a6.bindPopup(popup_fbe8b318ce89fd3020564857ab958a00)\n",
       "        ;\n",
       "\n",
       "        \n",
       "    \n",
       "    \n",
       "            var circle_marker_2abce16c9203b3baed46e4022eea602d = L.circleMarker(\n",
       "                [59.5754249, 30.5367613],\n",
       "                {&quot;bubblingMouseEvents&quot;: true, &quot;color&quot;: &quot;#80797f&quot;, &quot;dashArray&quot;: null, &quot;dashOffset&quot;: null, &quot;fill&quot;: true, &quot;fillColor&quot;: &quot;#80797f&quot;, &quot;fillOpacity&quot;: 0.8, &quot;fillRule&quot;: &quot;evenodd&quot;, &quot;lineCap&quot;: &quot;round&quot;, &quot;lineJoin&quot;: &quot;round&quot;, &quot;opacity&quot;: 1.0, &quot;radius&quot;: 7, &quot;stroke&quot;: true, &quot;weight&quot;: 3}\n",
       "            ).addTo(map_84680dda492867ab341894f4da68230c);\n",
       "        \n",
       "    \n",
       "        var popup_90faf546a67934da25ce5cbc57a3a149 = L.popup({&quot;maxWidth&quot;: &quot;100%&quot;});\n",
       "\n",
       "        \n",
       "            \n",
       "                var html_ac3b97843d9911674ffc1350354a011c = $(`&lt;div id=&quot;html_ac3b97843d9911674ffc1350354a011c&quot; style=&quot;width: 100.0%; height: 100.0%;&quot;&gt;Node 1894599429, Community 1&lt;/div&gt;`)[0];\n",
       "                popup_90faf546a67934da25ce5cbc57a3a149.setContent(html_ac3b97843d9911674ffc1350354a011c);\n",
       "            \n",
       "        \n",
       "\n",
       "        circle_marker_2abce16c9203b3baed46e4022eea602d.bindPopup(popup_90faf546a67934da25ce5cbc57a3a149)\n",
       "        ;\n",
       "\n",
       "        \n",
       "    \n",
       "    \n",
       "            var circle_marker_ac948c1c15616895b164205c23e33f83 = L.circleMarker(\n",
       "                [59.5757415, 30.5384678],\n",
       "                {&quot;bubblingMouseEvents&quot;: true, &quot;color&quot;: &quot;#80797f&quot;, &quot;dashArray&quot;: null, &quot;dashOffset&quot;: null, &quot;fill&quot;: true, &quot;fillColor&quot;: &quot;#80797f&quot;, &quot;fillOpacity&quot;: 0.8, &quot;fillRule&quot;: &quot;evenodd&quot;, &quot;lineCap&quot;: &quot;round&quot;, &quot;lineJoin&quot;: &quot;round&quot;, &quot;opacity&quot;: 1.0, &quot;radius&quot;: 7, &quot;stroke&quot;: true, &quot;weight&quot;: 3}\n",
       "            ).addTo(map_84680dda492867ab341894f4da68230c);\n",
       "        \n",
       "    \n",
       "        var popup_b71b64004c1ee49bf1b3abb5ccb02987 = L.popup({&quot;maxWidth&quot;: &quot;100%&quot;});\n",
       "\n",
       "        \n",
       "            \n",
       "                var html_642cfc9a1b37d574ced312103cef2c92 = $(`&lt;div id=&quot;html_642cfc9a1b37d574ced312103cef2c92&quot; style=&quot;width: 100.0%; height: 100.0%;&quot;&gt;Node 1894599462, Community 1&lt;/div&gt;`)[0];\n",
       "                popup_b71b64004c1ee49bf1b3abb5ccb02987.setContent(html_642cfc9a1b37d574ced312103cef2c92);\n",
       "            \n",
       "        \n",
       "\n",
       "        circle_marker_ac948c1c15616895b164205c23e33f83.bindPopup(popup_b71b64004c1ee49bf1b3abb5ccb02987)\n",
       "        ;\n",
       "\n",
       "        \n",
       "    \n",
       "    \n",
       "            var circle_marker_91821c6cbfdc9fada19a94d604bae49c = L.circleMarker(\n",
       "                [59.5773353, 30.547242],\n",
       "                {&quot;bubblingMouseEvents&quot;: true, &quot;color&quot;: &quot;#80797f&quot;, &quot;dashArray&quot;: null, &quot;dashOffset&quot;: null, &quot;fill&quot;: true, &quot;fillColor&quot;: &quot;#80797f&quot;, &quot;fillOpacity&quot;: 0.8, &quot;fillRule&quot;: &quot;evenodd&quot;, &quot;lineCap&quot;: &quot;round&quot;, &quot;lineJoin&quot;: &quot;round&quot;, &quot;opacity&quot;: 1.0, &quot;radius&quot;: 7, &quot;stroke&quot;: true, &quot;weight&quot;: 3}\n",
       "            ).addTo(map_84680dda492867ab341894f4da68230c);\n",
       "        \n",
       "    \n",
       "        var popup_5b0fe1d59557ec0aead950d151c63057 = L.popup({&quot;maxWidth&quot;: &quot;100%&quot;});\n",
       "\n",
       "        \n",
       "            \n",
       "                var html_5f6b0e3665199fe4167992122acd3f42 = $(`&lt;div id=&quot;html_5f6b0e3665199fe4167992122acd3f42&quot; style=&quot;width: 100.0%; height: 100.0%;&quot;&gt;Node 10991579686, Community 1&lt;/div&gt;`)[0];\n",
       "                popup_5b0fe1d59557ec0aead950d151c63057.setContent(html_5f6b0e3665199fe4167992122acd3f42);\n",
       "            \n",
       "        \n",
       "\n",
       "        circle_marker_91821c6cbfdc9fada19a94d604bae49c.bindPopup(popup_5b0fe1d59557ec0aead950d151c63057)\n",
       "        ;\n",
       "\n",
       "        \n",
       "    \n",
       "    \n",
       "            var circle_marker_0661c0f046d0694acbe9aba76aed9b5c = L.circleMarker(\n",
       "                [59.5728547, 30.5477671],\n",
       "                {&quot;bubblingMouseEvents&quot;: true, &quot;color&quot;: &quot;#80797f&quot;, &quot;dashArray&quot;: null, &quot;dashOffset&quot;: null, &quot;fill&quot;: true, &quot;fillColor&quot;: &quot;#80797f&quot;, &quot;fillOpacity&quot;: 0.8, &quot;fillRule&quot;: &quot;evenodd&quot;, &quot;lineCap&quot;: &quot;round&quot;, &quot;lineJoin&quot;: &quot;round&quot;, &quot;opacity&quot;: 1.0, &quot;radius&quot;: 7, &quot;stroke&quot;: true, &quot;weight&quot;: 3}\n",
       "            ).addTo(map_84680dda492867ab341894f4da68230c);\n",
       "        \n",
       "    \n",
       "        var popup_b44b56b3842e2d84f15a3520f733a6da = L.popup({&quot;maxWidth&quot;: &quot;100%&quot;});\n",
       "\n",
       "        \n",
       "            \n",
       "                var html_ba58e7832880769e67638a64e304b19e = $(`&lt;div id=&quot;html_ba58e7832880769e67638a64e304b19e&quot; style=&quot;width: 100.0%; height: 100.0%;&quot;&gt;Node 1837764872, Community 1&lt;/div&gt;`)[0];\n",
       "                popup_b44b56b3842e2d84f15a3520f733a6da.setContent(html_ba58e7832880769e67638a64e304b19e);\n",
       "            \n",
       "        \n",
       "\n",
       "        circle_marker_0661c0f046d0694acbe9aba76aed9b5c.bindPopup(popup_b44b56b3842e2d84f15a3520f733a6da)\n",
       "        ;\n",
       "\n",
       "        \n",
       "    \n",
       "    \n",
       "            var circle_marker_66661c52bcfbd0b4152c1c5c3033ee35 = L.circleMarker(\n",
       "                [59.5763359, 30.5449539],\n",
       "                {&quot;bubblingMouseEvents&quot;: true, &quot;color&quot;: &quot;#80797f&quot;, &quot;dashArray&quot;: null, &quot;dashOffset&quot;: null, &quot;fill&quot;: true, &quot;fillColor&quot;: &quot;#80797f&quot;, &quot;fillOpacity&quot;: 0.8, &quot;fillRule&quot;: &quot;evenodd&quot;, &quot;lineCap&quot;: &quot;round&quot;, &quot;lineJoin&quot;: &quot;round&quot;, &quot;opacity&quot;: 1.0, &quot;radius&quot;: 7, &quot;stroke&quot;: true, &quot;weight&quot;: 3}\n",
       "            ).addTo(map_84680dda492867ab341894f4da68230c);\n",
       "        \n",
       "    \n",
       "        var popup_57e85c2b1623428be916e47f8ffbdc3e = L.popup({&quot;maxWidth&quot;: &quot;100%&quot;});\n",
       "\n",
       "        \n",
       "            \n",
       "                var html_4f980d440977089417f7d657c9f218b3 = $(`&lt;div id=&quot;html_4f980d440977089417f7d657c9f218b3&quot; style=&quot;width: 100.0%; height: 100.0%;&quot;&gt;Node 10703573093, Community 1&lt;/div&gt;`)[0];\n",
       "                popup_57e85c2b1623428be916e47f8ffbdc3e.setContent(html_4f980d440977089417f7d657c9f218b3);\n",
       "            \n",
       "        \n",
       "\n",
       "        circle_marker_66661c52bcfbd0b4152c1c5c3033ee35.bindPopup(popup_57e85c2b1623428be916e47f8ffbdc3e)\n",
       "        ;\n",
       "\n",
       "        \n",
       "    \n",
       "    \n",
       "            var circle_marker_2fabfa3cf538fbf54fc9920d6993ab28 = L.circleMarker(\n",
       "                [59.5764708, 30.547351],\n",
       "                {&quot;bubblingMouseEvents&quot;: true, &quot;color&quot;: &quot;#80797f&quot;, &quot;dashArray&quot;: null, &quot;dashOffset&quot;: null, &quot;fill&quot;: true, &quot;fillColor&quot;: &quot;#80797f&quot;, &quot;fillOpacity&quot;: 0.8, &quot;fillRule&quot;: &quot;evenodd&quot;, &quot;lineCap&quot;: &quot;round&quot;, &quot;lineJoin&quot;: &quot;round&quot;, &quot;opacity&quot;: 1.0, &quot;radius&quot;: 7, &quot;stroke&quot;: true, &quot;weight&quot;: 3}\n",
       "            ).addTo(map_84680dda492867ab341894f4da68230c);\n",
       "        \n",
       "    \n",
       "        var popup_df03ec8d1b52966aefc1019376135cb5 = L.popup({&quot;maxWidth&quot;: &quot;100%&quot;});\n",
       "\n",
       "        \n",
       "            \n",
       "                var html_0dca6c6fe9b659ac9cfa591af291f9be = $(`&lt;div id=&quot;html_0dca6c6fe9b659ac9cfa591af291f9be&quot; style=&quot;width: 100.0%; height: 100.0%;&quot;&gt;Node 4374836522, Community 1&lt;/div&gt;`)[0];\n",
       "                popup_df03ec8d1b52966aefc1019376135cb5.setContent(html_0dca6c6fe9b659ac9cfa591af291f9be);\n",
       "            \n",
       "        \n",
       "\n",
       "        circle_marker_2fabfa3cf538fbf54fc9920d6993ab28.bindPopup(popup_df03ec8d1b52966aefc1019376135cb5)\n",
       "        ;\n",
       "\n",
       "        \n",
       "    \n",
       "    \n",
       "            var circle_marker_dfca8c4d93c16c9daf52335a2f040269 = L.circleMarker(\n",
       "                [59.5733571, 30.5527637],\n",
       "                {&quot;bubblingMouseEvents&quot;: true, &quot;color&quot;: &quot;#80797f&quot;, &quot;dashArray&quot;: null, &quot;dashOffset&quot;: null, &quot;fill&quot;: true, &quot;fillColor&quot;: &quot;#80797f&quot;, &quot;fillOpacity&quot;: 0.8, &quot;fillRule&quot;: &quot;evenodd&quot;, &quot;lineCap&quot;: &quot;round&quot;, &quot;lineJoin&quot;: &quot;round&quot;, &quot;opacity&quot;: 1.0, &quot;radius&quot;: 7, &quot;stroke&quot;: true, &quot;weight&quot;: 3}\n",
       "            ).addTo(map_84680dda492867ab341894f4da68230c);\n",
       "        \n",
       "    \n",
       "        var popup_91049858ee3be0da1a2820e2cdbcbf85 = L.popup({&quot;maxWidth&quot;: &quot;100%&quot;});\n",
       "\n",
       "        \n",
       "            \n",
       "                var html_954e61217e1054b4ee6fee08a394cba1 = $(`&lt;div id=&quot;html_954e61217e1054b4ee6fee08a394cba1&quot; style=&quot;width: 100.0%; height: 100.0%;&quot;&gt;Node 1837764933, Community 1&lt;/div&gt;`)[0];\n",
       "                popup_91049858ee3be0da1a2820e2cdbcbf85.setContent(html_954e61217e1054b4ee6fee08a394cba1);\n",
       "            \n",
       "        \n",
       "\n",
       "        circle_marker_dfca8c4d93c16c9daf52335a2f040269.bindPopup(popup_91049858ee3be0da1a2820e2cdbcbf85)\n",
       "        ;\n",
       "\n",
       "        \n",
       "    \n",
       "    \n",
       "            var circle_marker_9492aab10a994cf852e66ea6320e1ae9 = L.circleMarker(\n",
       "                [59.576331, 30.5448567],\n",
       "                {&quot;bubblingMouseEvents&quot;: true, &quot;color&quot;: &quot;#80797f&quot;, &quot;dashArray&quot;: null, &quot;dashOffset&quot;: null, &quot;fill&quot;: true, &quot;fillColor&quot;: &quot;#80797f&quot;, &quot;fillOpacity&quot;: 0.8, &quot;fillRule&quot;: &quot;evenodd&quot;, &quot;lineCap&quot;: &quot;round&quot;, &quot;lineJoin&quot;: &quot;round&quot;, &quot;opacity&quot;: 1.0, &quot;radius&quot;: 7, &quot;stroke&quot;: true, &quot;weight&quot;: 3}\n",
       "            ).addTo(map_84680dda492867ab341894f4da68230c);\n",
       "        \n",
       "    \n",
       "        var popup_1a04d420c7bcb12f2f7aa06ee697f8a7 = L.popup({&quot;maxWidth&quot;: &quot;100%&quot;});\n",
       "\n",
       "        \n",
       "            \n",
       "                var html_87d9f5353f41969742b59e7854c0c6c0 = $(`&lt;div id=&quot;html_87d9f5353f41969742b59e7854c0c6c0&quot; style=&quot;width: 100.0%; height: 100.0%;&quot;&gt;Node 4374836523, Community 1&lt;/div&gt;`)[0];\n",
       "                popup_1a04d420c7bcb12f2f7aa06ee697f8a7.setContent(html_87d9f5353f41969742b59e7854c0c6c0);\n",
       "            \n",
       "        \n",
       "\n",
       "        circle_marker_9492aab10a994cf852e66ea6320e1ae9.bindPopup(popup_1a04d420c7bcb12f2f7aa06ee697f8a7)\n",
       "        ;\n",
       "\n",
       "        \n",
       "    \n",
       "    \n",
       "            var circle_marker_988a2ca8638a713d1e1a7e929fa3c4bf = L.circleMarker(\n",
       "                [59.5753077, 30.5553583],\n",
       "                {&quot;bubblingMouseEvents&quot;: true, &quot;color&quot;: &quot;#80797f&quot;, &quot;dashArray&quot;: null, &quot;dashOffset&quot;: null, &quot;fill&quot;: true, &quot;fillColor&quot;: &quot;#80797f&quot;, &quot;fillOpacity&quot;: 0.8, &quot;fillRule&quot;: &quot;evenodd&quot;, &quot;lineCap&quot;: &quot;round&quot;, &quot;lineJoin&quot;: &quot;round&quot;, &quot;opacity&quot;: 1.0, &quot;radius&quot;: 7, &quot;stroke&quot;: true, &quot;weight&quot;: 3}\n",
       "            ).addTo(map_84680dda492867ab341894f4da68230c);\n",
       "        \n",
       "    \n",
       "        var popup_35f0e11e53c452509eb1a68ccc7af4bc = L.popup({&quot;maxWidth&quot;: &quot;100%&quot;});\n",
       "\n",
       "        \n",
       "            \n",
       "                var html_43bc992e2edb3ea893ab39d4f48fe0aa = $(`&lt;div id=&quot;html_43bc992e2edb3ea893ab39d4f48fe0aa&quot; style=&quot;width: 100.0%; height: 100.0%;&quot;&gt;Node 1837765160, Community 1&lt;/div&gt;`)[0];\n",
       "                popup_35f0e11e53c452509eb1a68ccc7af4bc.setContent(html_43bc992e2edb3ea893ab39d4f48fe0aa);\n",
       "            \n",
       "        \n",
       "\n",
       "        circle_marker_988a2ca8638a713d1e1a7e929fa3c4bf.bindPopup(popup_35f0e11e53c452509eb1a68ccc7af4bc)\n",
       "        ;\n",
       "\n",
       "        \n",
       "    \n",
       "    \n",
       "            var circle_marker_e4b87937c82100b0e7366d264755bcc2 = L.circleMarker(\n",
       "                [59.5755101, 30.5537501],\n",
       "                {&quot;bubblingMouseEvents&quot;: true, &quot;color&quot;: &quot;#80797f&quot;, &quot;dashArray&quot;: null, &quot;dashOffset&quot;: null, &quot;fill&quot;: true, &quot;fillColor&quot;: &quot;#80797f&quot;, &quot;fillOpacity&quot;: 0.8, &quot;fillRule&quot;: &quot;evenodd&quot;, &quot;lineCap&quot;: &quot;round&quot;, &quot;lineJoin&quot;: &quot;round&quot;, &quot;opacity&quot;: 1.0, &quot;radius&quot;: 7, &quot;stroke&quot;: true, &quot;weight&quot;: 3}\n",
       "            ).addTo(map_84680dda492867ab341894f4da68230c);\n",
       "        \n",
       "    \n",
       "        var popup_39853d0a969ee767a045c05a22cb2d34 = L.popup({&quot;maxWidth&quot;: &quot;100%&quot;});\n",
       "\n",
       "        \n",
       "            \n",
       "                var html_57206da6c5deb764bbdd6c62e37fe6b5 = $(`&lt;div id=&quot;html_57206da6c5deb764bbdd6c62e37fe6b5&quot; style=&quot;width: 100.0%; height: 100.0%;&quot;&gt;Node 1837765166, Community 1&lt;/div&gt;`)[0];\n",
       "                popup_39853d0a969ee767a045c05a22cb2d34.setContent(html_57206da6c5deb764bbdd6c62e37fe6b5);\n",
       "            \n",
       "        \n",
       "\n",
       "        circle_marker_e4b87937c82100b0e7366d264755bcc2.bindPopup(popup_39853d0a969ee767a045c05a22cb2d34)\n",
       "        ;\n",
       "\n",
       "        \n",
       "    \n",
       "    \n",
       "            var circle_marker_bff557b4f9b55ba15ff2d2269fb2b14a = L.circleMarker(\n",
       "                [59.5827931, 30.5465731],\n",
       "                {&quot;bubblingMouseEvents&quot;: true, &quot;color&quot;: &quot;#80797f&quot;, &quot;dashArray&quot;: null, &quot;dashOffset&quot;: null, &quot;fill&quot;: true, &quot;fillColor&quot;: &quot;#80797f&quot;, &quot;fillOpacity&quot;: 0.8, &quot;fillRule&quot;: &quot;evenodd&quot;, &quot;lineCap&quot;: &quot;round&quot;, &quot;lineJoin&quot;: &quot;round&quot;, &quot;opacity&quot;: 1.0, &quot;radius&quot;: 7, &quot;stroke&quot;: true, &quot;weight&quot;: 3}\n",
       "            ).addTo(map_84680dda492867ab341894f4da68230c);\n",
       "        \n",
       "    \n",
       "        var popup_e4e5b9714ea83568dbd79c4426f14a3d = L.popup({&quot;maxWidth&quot;: &quot;100%&quot;});\n",
       "\n",
       "        \n",
       "            \n",
       "                var html_da264849098e7912898f2bd1ef3e2397 = $(`&lt;div id=&quot;html_da264849098e7912898f2bd1ef3e2397&quot; style=&quot;width: 100.0%; height: 100.0%;&quot;&gt;Node 1389331056, Community 1&lt;/div&gt;`)[0];\n",
       "                popup_e4e5b9714ea83568dbd79c4426f14a3d.setContent(html_da264849098e7912898f2bd1ef3e2397);\n",
       "            \n",
       "        \n",
       "\n",
       "        circle_marker_bff557b4f9b55ba15ff2d2269fb2b14a.bindPopup(popup_e4e5b9714ea83568dbd79c4426f14a3d)\n",
       "        ;\n",
       "\n",
       "        \n",
       "    \n",
       "    \n",
       "            var circle_marker_9f659dc768468457adb62e00295aef43 = L.circleMarker(\n",
       "                [59.5752975, 30.5474871],\n",
       "                {&quot;bubblingMouseEvents&quot;: true, &quot;color&quot;: &quot;#80797f&quot;, &quot;dashArray&quot;: null, &quot;dashOffset&quot;: null, &quot;fill&quot;: true, &quot;fillColor&quot;: &quot;#80797f&quot;, &quot;fillOpacity&quot;: 0.8, &quot;fillRule&quot;: &quot;evenodd&quot;, &quot;lineCap&quot;: &quot;round&quot;, &quot;lineJoin&quot;: &quot;round&quot;, &quot;opacity&quot;: 1.0, &quot;radius&quot;: 7, &quot;stroke&quot;: true, &quot;weight&quot;: 3}\n",
       "            ).addTo(map_84680dda492867ab341894f4da68230c);\n",
       "        \n",
       "    \n",
       "        var popup_d8799002bb3d176e24a9272da2aaf13c = L.popup({&quot;maxWidth&quot;: &quot;100%&quot;});\n",
       "\n",
       "        \n",
       "            \n",
       "                var html_b55b599b1b57b7d8134999d145cf4089 = $(`&lt;div id=&quot;html_b55b599b1b57b7d8134999d145cf4089&quot; style=&quot;width: 100.0%; height: 100.0%;&quot;&gt;Node 1895372241, Community 1&lt;/div&gt;`)[0];\n",
       "                popup_d8799002bb3d176e24a9272da2aaf13c.setContent(html_b55b599b1b57b7d8134999d145cf4089);\n",
       "            \n",
       "        \n",
       "\n",
       "        circle_marker_9f659dc768468457adb62e00295aef43.bindPopup(popup_d8799002bb3d176e24a9272da2aaf13c)\n",
       "        ;\n",
       "\n",
       "        \n",
       "    \n",
       "    \n",
       "            var circle_marker_12f784bb92d0df9bb5b121ab1bdf0b26 = L.circleMarker(\n",
       "                [59.5727243, 30.5477899],\n",
       "                {&quot;bubblingMouseEvents&quot;: true, &quot;color&quot;: &quot;#80797f&quot;, &quot;dashArray&quot;: null, &quot;dashOffset&quot;: null, &quot;fill&quot;: true, &quot;fillColor&quot;: &quot;#80797f&quot;, &quot;fillOpacity&quot;: 0.8, &quot;fillRule&quot;: &quot;evenodd&quot;, &quot;lineCap&quot;: &quot;round&quot;, &quot;lineJoin&quot;: &quot;round&quot;, &quot;opacity&quot;: 1.0, &quot;radius&quot;: 7, &quot;stroke&quot;: true, &quot;weight&quot;: 3}\n",
       "            ).addTo(map_84680dda492867ab341894f4da68230c);\n",
       "        \n",
       "    \n",
       "        var popup_f75625ab92556df4ea6fec73d0eaba69 = L.popup({&quot;maxWidth&quot;: &quot;100%&quot;});\n",
       "\n",
       "        \n",
       "            \n",
       "                var html_23c30acd0cb13669ce71c850b7f3e6a3 = $(`&lt;div id=&quot;html_23c30acd0cb13669ce71c850b7f3e6a3&quot; style=&quot;width: 100.0%; height: 100.0%;&quot;&gt;Node 370010034, Community 1&lt;/div&gt;`)[0];\n",
       "                popup_f75625ab92556df4ea6fec73d0eaba69.setContent(html_23c30acd0cb13669ce71c850b7f3e6a3);\n",
       "            \n",
       "        \n",
       "\n",
       "        circle_marker_12f784bb92d0df9bb5b121ab1bdf0b26.bindPopup(popup_f75625ab92556df4ea6fec73d0eaba69)\n",
       "        ;\n",
       "\n",
       "        \n",
       "    \n",
       "    \n",
       "            var circle_marker_957ddfe9c0eb580656a1a9e20386f592 = L.circleMarker(\n",
       "                [59.5766291, 30.5361271],\n",
       "                {&quot;bubblingMouseEvents&quot;: true, &quot;color&quot;: &quot;#80797f&quot;, &quot;dashArray&quot;: null, &quot;dashOffset&quot;: null, &quot;fill&quot;: true, &quot;fillColor&quot;: &quot;#80797f&quot;, &quot;fillOpacity&quot;: 0.8, &quot;fillRule&quot;: &quot;evenodd&quot;, &quot;lineCap&quot;: &quot;round&quot;, &quot;lineJoin&quot;: &quot;round&quot;, &quot;opacity&quot;: 1.0, &quot;radius&quot;: 7, &quot;stroke&quot;: true, &quot;weight&quot;: 3}\n",
       "            ).addTo(map_84680dda492867ab341894f4da68230c);\n",
       "        \n",
       "    \n",
       "        var popup_fb0f0076b381ac49968a682d45cb1730 = L.popup({&quot;maxWidth&quot;: &quot;100%&quot;});\n",
       "\n",
       "        \n",
       "            \n",
       "                var html_6b0aa1d962719294a259511fe5468173 = $(`&lt;div id=&quot;html_6b0aa1d962719294a259511fe5468173&quot; style=&quot;width: 100.0%; height: 100.0%;&quot;&gt;Node 1894599512, Community 1&lt;/div&gt;`)[0];\n",
       "                popup_fb0f0076b381ac49968a682d45cb1730.setContent(html_6b0aa1d962719294a259511fe5468173);\n",
       "            \n",
       "        \n",
       "\n",
       "        circle_marker_957ddfe9c0eb580656a1a9e20386f592.bindPopup(popup_fb0f0076b381ac49968a682d45cb1730)\n",
       "        ;\n",
       "\n",
       "        \n",
       "    \n",
       "    \n",
       "            var circle_marker_ba928dab2e719cf0758ec1d6fc1dce1e = L.circleMarker(\n",
       "                [59.5761425, 30.5473835],\n",
       "                {&quot;bubblingMouseEvents&quot;: true, &quot;color&quot;: &quot;#80797f&quot;, &quot;dashArray&quot;: null, &quot;dashOffset&quot;: null, &quot;fill&quot;: true, &quot;fillColor&quot;: &quot;#80797f&quot;, &quot;fillOpacity&quot;: 0.8, &quot;fillRule&quot;: &quot;evenodd&quot;, &quot;lineCap&quot;: &quot;round&quot;, &quot;lineJoin&quot;: &quot;round&quot;, &quot;opacity&quot;: 1.0, &quot;radius&quot;: 7, &quot;stroke&quot;: true, &quot;weight&quot;: 3}\n",
       "            ).addTo(map_84680dda492867ab341894f4da68230c);\n",
       "        \n",
       "    \n",
       "        var popup_9feeeef18dea1fda749f7f5965d376a5 = L.popup({&quot;maxWidth&quot;: &quot;100%&quot;});\n",
       "\n",
       "        \n",
       "            \n",
       "                var html_136b4e602a80635d117d3ed0d6cd440f = $(`&lt;div id=&quot;html_136b4e602a80635d117d3ed0d6cd440f&quot; style=&quot;width: 100.0%; height: 100.0%;&quot;&gt;Node 2214268668, Community 1&lt;/div&gt;`)[0];\n",
       "                popup_9feeeef18dea1fda749f7f5965d376a5.setContent(html_136b4e602a80635d117d3ed0d6cd440f);\n",
       "            \n",
       "        \n",
       "\n",
       "        circle_marker_ba928dab2e719cf0758ec1d6fc1dce1e.bindPopup(popup_9feeeef18dea1fda749f7f5965d376a5)\n",
       "        ;\n",
       "\n",
       "        \n",
       "    \n",
       "    \n",
       "            var circle_marker_ed1b1d7a3e40d41f202fc9d95e894cc7 = L.circleMarker(\n",
       "                [59.5759528, 30.5474051],\n",
       "                {&quot;bubblingMouseEvents&quot;: true, &quot;color&quot;: &quot;#80797f&quot;, &quot;dashArray&quot;: null, &quot;dashOffset&quot;: null, &quot;fill&quot;: true, &quot;fillColor&quot;: &quot;#80797f&quot;, &quot;fillOpacity&quot;: 0.8, &quot;fillRule&quot;: &quot;evenodd&quot;, &quot;lineCap&quot;: &quot;round&quot;, &quot;lineJoin&quot;: &quot;round&quot;, &quot;opacity&quot;: 1.0, &quot;radius&quot;: 7, &quot;stroke&quot;: true, &quot;weight&quot;: 3}\n",
       "            ).addTo(map_84680dda492867ab341894f4da68230c);\n",
       "        \n",
       "    \n",
       "        var popup_c27849099dd4da1126a29a50434f91d0 = L.popup({&quot;maxWidth&quot;: &quot;100%&quot;});\n",
       "\n",
       "        \n",
       "            \n",
       "                var html_456b260be2866940e4061aae9996762d = $(`&lt;div id=&quot;html_456b260be2866940e4061aae9996762d&quot; style=&quot;width: 100.0%; height: 100.0%;&quot;&gt;Node 1894599485, Community 1&lt;/div&gt;`)[0];\n",
       "                popup_c27849099dd4da1126a29a50434f91d0.setContent(html_456b260be2866940e4061aae9996762d);\n",
       "            \n",
       "        \n",
       "\n",
       "        circle_marker_ed1b1d7a3e40d41f202fc9d95e894cc7.bindPopup(popup_c27849099dd4da1126a29a50434f91d0)\n",
       "        ;\n",
       "\n",
       "        \n",
       "    \n",
       "    \n",
       "            var circle_marker_0d315a3d81e3a088d8287286f238ee01 = L.circleMarker(\n",
       "                [59.5790857, 30.5565249],\n",
       "                {&quot;bubblingMouseEvents&quot;: true, &quot;color&quot;: &quot;#931e81&quot;, &quot;dashArray&quot;: null, &quot;dashOffset&quot;: null, &quot;fill&quot;: true, &quot;fillColor&quot;: &quot;#931e81&quot;, &quot;fillOpacity&quot;: 0.8, &quot;fillRule&quot;: &quot;evenodd&quot;, &quot;lineCap&quot;: &quot;round&quot;, &quot;lineJoin&quot;: &quot;round&quot;, &quot;opacity&quot;: 1.0, &quot;radius&quot;: 7, &quot;stroke&quot;: true, &quot;weight&quot;: 3}\n",
       "            ).addTo(map_84680dda492867ab341894f4da68230c);\n",
       "        \n",
       "    \n",
       "        var popup_2d4d0019b940339bd692d3358893b889 = L.popup({&quot;maxWidth&quot;: &quot;100%&quot;});\n",
       "\n",
       "        \n",
       "            \n",
       "                var html_1498b82c6438a3d0bd08b5495ff63896 = $(`&lt;div id=&quot;html_1498b82c6438a3d0bd08b5495ff63896&quot; style=&quot;width: 100.0%; height: 100.0%;&quot;&gt;Node 1838640290, Community 2&lt;/div&gt;`)[0];\n",
       "                popup_2d4d0019b940339bd692d3358893b889.setContent(html_1498b82c6438a3d0bd08b5495ff63896);\n",
       "            \n",
       "        \n",
       "\n",
       "        circle_marker_0d315a3d81e3a088d8287286f238ee01.bindPopup(popup_2d4d0019b940339bd692d3358893b889)\n",
       "        ;\n",
       "\n",
       "        \n",
       "    \n",
       "    \n",
       "            var circle_marker_cfa4292d0eb4897c08951d5758479d1c = L.circleMarker(\n",
       "                [59.5775683, 30.5568562],\n",
       "                {&quot;bubblingMouseEvents&quot;: true, &quot;color&quot;: &quot;#931e81&quot;, &quot;dashArray&quot;: null, &quot;dashOffset&quot;: null, &quot;fill&quot;: true, &quot;fillColor&quot;: &quot;#931e81&quot;, &quot;fillOpacity&quot;: 0.8, &quot;fillRule&quot;: &quot;evenodd&quot;, &quot;lineCap&quot;: &quot;round&quot;, &quot;lineJoin&quot;: &quot;round&quot;, &quot;opacity&quot;: 1.0, &quot;radius&quot;: 7, &quot;stroke&quot;: true, &quot;weight&quot;: 3}\n",
       "            ).addTo(map_84680dda492867ab341894f4da68230c);\n",
       "        \n",
       "    \n",
       "        var popup_59a4c8de3101ed2a767780aa2f0d9041 = L.popup({&quot;maxWidth&quot;: &quot;100%&quot;});\n",
       "\n",
       "        \n",
       "            \n",
       "                var html_6d46ed48fd2f1164de47b8ee7d0e6fa6 = $(`&lt;div id=&quot;html_6d46ed48fd2f1164de47b8ee7d0e6fa6&quot; style=&quot;width: 100.0%; height: 100.0%;&quot;&gt;Node 1838639333, Community 2&lt;/div&gt;`)[0];\n",
       "                popup_59a4c8de3101ed2a767780aa2f0d9041.setContent(html_6d46ed48fd2f1164de47b8ee7d0e6fa6);\n",
       "            \n",
       "        \n",
       "\n",
       "        circle_marker_cfa4292d0eb4897c08951d5758479d1c.bindPopup(popup_59a4c8de3101ed2a767780aa2f0d9041)\n",
       "        ;\n",
       "\n",
       "        \n",
       "    \n",
       "    \n",
       "            var circle_marker_29320ba310f5dfcb918da71fc3cac9ab = L.circleMarker(\n",
       "                [59.5785813, 30.5608618],\n",
       "                {&quot;bubblingMouseEvents&quot;: true, &quot;color&quot;: &quot;#931e81&quot;, &quot;dashArray&quot;: null, &quot;dashOffset&quot;: null, &quot;fill&quot;: true, &quot;fillColor&quot;: &quot;#931e81&quot;, &quot;fillOpacity&quot;: 0.8, &quot;fillRule&quot;: &quot;evenodd&quot;, &quot;lineCap&quot;: &quot;round&quot;, &quot;lineJoin&quot;: &quot;round&quot;, &quot;opacity&quot;: 1.0, &quot;radius&quot;: 7, &quot;stroke&quot;: true, &quot;weight&quot;: 3}\n",
       "            ).addTo(map_84680dda492867ab341894f4da68230c);\n",
       "        \n",
       "    \n",
       "        var popup_45eb109f87e40898a6032ab56f330e84 = L.popup({&quot;maxWidth&quot;: &quot;100%&quot;});\n",
       "\n",
       "        \n",
       "            \n",
       "                var html_41d465f00a06a3547c1888feda1d617c = $(`&lt;div id=&quot;html_41d465f00a06a3547c1888feda1d617c&quot; style=&quot;width: 100.0%; height: 100.0%;&quot;&gt;Node 1838640103, Community 2&lt;/div&gt;`)[0];\n",
       "                popup_45eb109f87e40898a6032ab56f330e84.setContent(html_41d465f00a06a3547c1888feda1d617c);\n",
       "            \n",
       "        \n",
       "\n",
       "        circle_marker_29320ba310f5dfcb918da71fc3cac9ab.bindPopup(popup_45eb109f87e40898a6032ab56f330e84)\n",
       "        ;\n",
       "\n",
       "        \n",
       "    \n",
       "    \n",
       "            var circle_marker_70947105acdb16bbfeeb90d645904283 = L.circleMarker(\n",
       "                [59.5786008, 30.5566308],\n",
       "                {&quot;bubblingMouseEvents&quot;: true, &quot;color&quot;: &quot;#931e81&quot;, &quot;dashArray&quot;: null, &quot;dashOffset&quot;: null, &quot;fill&quot;: true, &quot;fillColor&quot;: &quot;#931e81&quot;, &quot;fillOpacity&quot;: 0.8, &quot;fillRule&quot;: &quot;evenodd&quot;, &quot;lineCap&quot;: &quot;round&quot;, &quot;lineJoin&quot;: &quot;round&quot;, &quot;opacity&quot;: 1.0, &quot;radius&quot;: 7, &quot;stroke&quot;: true, &quot;weight&quot;: 3}\n",
       "            ).addTo(map_84680dda492867ab341894f4da68230c);\n",
       "        \n",
       "    \n",
       "        var popup_88d6ed379c012bebbd6535393bcd13d6 = L.popup({&quot;maxWidth&quot;: &quot;100%&quot;});\n",
       "\n",
       "        \n",
       "            \n",
       "                var html_1089796795dc394775477d2d80c9dd60 = $(`&lt;div id=&quot;html_1089796795dc394775477d2d80c9dd60&quot; style=&quot;width: 100.0%; height: 100.0%;&quot;&gt;Node 1838640106, Community 2&lt;/div&gt;`)[0];\n",
       "                popup_88d6ed379c012bebbd6535393bcd13d6.setContent(html_1089796795dc394775477d2d80c9dd60);\n",
       "            \n",
       "        \n",
       "\n",
       "        circle_marker_70947105acdb16bbfeeb90d645904283.bindPopup(popup_88d6ed379c012bebbd6535393bcd13d6)\n",
       "        ;\n",
       "\n",
       "        \n",
       "    \n",
       "    \n",
       "            var circle_marker_89d6ae7a2510d3c4051e0979f4739e77 = L.circleMarker(\n",
       "                [59.576726, 30.5563483],\n",
       "                {&quot;bubblingMouseEvents&quot;: true, &quot;color&quot;: &quot;#931e81&quot;, &quot;dashArray&quot;: null, &quot;dashOffset&quot;: null, &quot;fill&quot;: true, &quot;fillColor&quot;: &quot;#931e81&quot;, &quot;fillOpacity&quot;: 0.8, &quot;fillRule&quot;: &quot;evenodd&quot;, &quot;lineCap&quot;: &quot;round&quot;, &quot;lineJoin&quot;: &quot;round&quot;, &quot;opacity&quot;: 1.0, &quot;radius&quot;: 7, &quot;stroke&quot;: true, &quot;weight&quot;: 3}\n",
       "            ).addTo(map_84680dda492867ab341894f4da68230c);\n",
       "        \n",
       "    \n",
       "        var popup_f7253e1deba58232ce4e9382912d8fc6 = L.popup({&quot;maxWidth&quot;: &quot;100%&quot;});\n",
       "\n",
       "        \n",
       "            \n",
       "                var html_db420c1efdb75c8774875fa971019d0f = $(`&lt;div id=&quot;html_db420c1efdb75c8774875fa971019d0f&quot; style=&quot;width: 100.0%; height: 100.0%;&quot;&gt;Node 1838639052, Community 2&lt;/div&gt;`)[0];\n",
       "                popup_f7253e1deba58232ce4e9382912d8fc6.setContent(html_db420c1efdb75c8774875fa971019d0f);\n",
       "            \n",
       "        \n",
       "\n",
       "        circle_marker_89d6ae7a2510d3c4051e0979f4739e77.bindPopup(popup_f7253e1deba58232ce4e9382912d8fc6)\n",
       "        ;\n",
       "\n",
       "        \n",
       "    \n",
       "    \n",
       "            var circle_marker_75628866130516a10e0daeedaaff0463 = L.circleMarker(\n",
       "                [59.5803191, 30.5591777],\n",
       "                {&quot;bubblingMouseEvents&quot;: true, &quot;color&quot;: &quot;#931e81&quot;, &quot;dashArray&quot;: null, &quot;dashOffset&quot;: null, &quot;fill&quot;: true, &quot;fillColor&quot;: &quot;#931e81&quot;, &quot;fillOpacity&quot;: 0.8, &quot;fillRule&quot;: &quot;evenodd&quot;, &quot;lineCap&quot;: &quot;round&quot;, &quot;lineJoin&quot;: &quot;round&quot;, &quot;opacity&quot;: 1.0, &quot;radius&quot;: 7, &quot;stroke&quot;: true, &quot;weight&quot;: 3}\n",
       "            ).addTo(map_84680dda492867ab341894f4da68230c);\n",
       "        \n",
       "    \n",
       "        var popup_4411e0b07f3a4880b264fb64eec9cfa6 = L.popup({&quot;maxWidth&quot;: &quot;100%&quot;});\n",
       "\n",
       "        \n",
       "            \n",
       "                var html_8fd982120147df62681d006ab38e4950 = $(`&lt;div id=&quot;html_8fd982120147df62681d006ab38e4950&quot; style=&quot;width: 100.0%; height: 100.0%;&quot;&gt;Node 6566045868, Community 2&lt;/div&gt;`)[0];\n",
       "                popup_4411e0b07f3a4880b264fb64eec9cfa6.setContent(html_8fd982120147df62681d006ab38e4950);\n",
       "            \n",
       "        \n",
       "\n",
       "        circle_marker_75628866130516a10e0daeedaaff0463.bindPopup(popup_4411e0b07f3a4880b264fb64eec9cfa6)\n",
       "        ;\n",
       "\n",
       "        \n",
       "    \n",
       "    \n",
       "            var circle_marker_eeb0c07007a535d0632f81c0ae0f3f71 = L.circleMarker(\n",
       "                [59.5799239, 30.5585613],\n",
       "                {&quot;bubblingMouseEvents&quot;: true, &quot;color&quot;: &quot;#931e81&quot;, &quot;dashArray&quot;: null, &quot;dashOffset&quot;: null, &quot;fill&quot;: true, &quot;fillColor&quot;: &quot;#931e81&quot;, &quot;fillOpacity&quot;: 0.8, &quot;fillRule&quot;: &quot;evenodd&quot;, &quot;lineCap&quot;: &quot;round&quot;, &quot;lineJoin&quot;: &quot;round&quot;, &quot;opacity&quot;: 1.0, &quot;radius&quot;: 7, &quot;stroke&quot;: true, &quot;weight&quot;: 3}\n",
       "            ).addTo(map_84680dda492867ab341894f4da68230c);\n",
       "        \n",
       "    \n",
       "        var popup_092e4ba6318f159b6b7a755f75b5f6a3 = L.popup({&quot;maxWidth&quot;: &quot;100%&quot;});\n",
       "\n",
       "        \n",
       "            \n",
       "                var html_8e4ce4a676da5b29be718127033b879a = $(`&lt;div id=&quot;html_8e4ce4a676da5b29be718127033b879a&quot; style=&quot;width: 100.0%; height: 100.0%;&quot;&gt;Node 1838640686, Community 2&lt;/div&gt;`)[0];\n",
       "                popup_092e4ba6318f159b6b7a755f75b5f6a3.setContent(html_8e4ce4a676da5b29be718127033b879a);\n",
       "            \n",
       "        \n",
       "\n",
       "        circle_marker_eeb0c07007a535d0632f81c0ae0f3f71.bindPopup(popup_092e4ba6318f159b6b7a755f75b5f6a3)\n",
       "        ;\n",
       "\n",
       "        \n",
       "    \n",
       "    \n",
       "            var circle_marker_d19ff319b4ee027ae08ff5157af7695e = L.circleMarker(\n",
       "                [59.5778507, 30.559024],\n",
       "                {&quot;bubblingMouseEvents&quot;: true, &quot;color&quot;: &quot;#931e81&quot;, &quot;dashArray&quot;: null, &quot;dashOffset&quot;: null, &quot;fill&quot;: true, &quot;fillColor&quot;: &quot;#931e81&quot;, &quot;fillOpacity&quot;: 0.8, &quot;fillRule&quot;: &quot;evenodd&quot;, &quot;lineCap&quot;: &quot;round&quot;, &quot;lineJoin&quot;: &quot;round&quot;, &quot;opacity&quot;: 1.0, &quot;radius&quot;: 7, &quot;stroke&quot;: true, &quot;weight&quot;: 3}\n",
       "            ).addTo(map_84680dda492867ab341894f4da68230c);\n",
       "        \n",
       "    \n",
       "        var popup_3e361b80cfb640b82b80adf15d3553e9 = L.popup({&quot;maxWidth&quot;: &quot;100%&quot;});\n",
       "\n",
       "        \n",
       "            \n",
       "                var html_ea1d8ae3b612ed9bee9f0d4e098d0e12 = $(`&lt;div id=&quot;html_ea1d8ae3b612ed9bee9f0d4e098d0e12&quot; style=&quot;width: 100.0%; height: 100.0%;&quot;&gt;Node 1838639567, Community 2&lt;/div&gt;`)[0];\n",
       "                popup_3e361b80cfb640b82b80adf15d3553e9.setContent(html_ea1d8ae3b612ed9bee9f0d4e098d0e12);\n",
       "            \n",
       "        \n",
       "\n",
       "        circle_marker_d19ff319b4ee027ae08ff5157af7695e.bindPopup(popup_3e361b80cfb640b82b80adf15d3553e9)\n",
       "        ;\n",
       "\n",
       "        \n",
       "    \n",
       "    \n",
       "            var circle_marker_b29f72408ba976a4d23f45182650ef03 = L.circleMarker(\n",
       "                [59.5794249, 30.5593761],\n",
       "                {&quot;bubblingMouseEvents&quot;: true, &quot;color&quot;: &quot;#931e81&quot;, &quot;dashArray&quot;: null, &quot;dashOffset&quot;: null, &quot;fill&quot;: true, &quot;fillColor&quot;: &quot;#931e81&quot;, &quot;fillOpacity&quot;: 0.8, &quot;fillRule&quot;: &quot;evenodd&quot;, &quot;lineCap&quot;: &quot;round&quot;, &quot;lineJoin&quot;: &quot;round&quot;, &quot;opacity&quot;: 1.0, &quot;radius&quot;: 7, &quot;stroke&quot;: true, &quot;weight&quot;: 3}\n",
       "            ).addTo(map_84680dda492867ab341894f4da68230c);\n",
       "        \n",
       "    \n",
       "        var popup_0be457d692923d86589c0ffc31e559b7 = L.popup({&quot;maxWidth&quot;: &quot;100%&quot;});\n",
       "\n",
       "        \n",
       "            \n",
       "                var html_5c4339e0d639252718386f0036a1dbcf = $(`&lt;div id=&quot;html_5c4339e0d639252718386f0036a1dbcf&quot; style=&quot;width: 100.0%; height: 100.0%;&quot;&gt;Node 1838640465, Community 2&lt;/div&gt;`)[0];\n",
       "                popup_0be457d692923d86589c0ffc31e559b7.setContent(html_5c4339e0d639252718386f0036a1dbcf);\n",
       "            \n",
       "        \n",
       "\n",
       "        circle_marker_b29f72408ba976a4d23f45182650ef03.bindPopup(popup_0be457d692923d86589c0ffc31e559b7)\n",
       "        ;\n",
       "\n",
       "        \n",
       "    \n",
       "    \n",
       "            var circle_marker_1c18cc88ae00bd26048ab26c1c4dd02d = L.circleMarker(\n",
       "                [59.5796983, 30.5609809],\n",
       "                {&quot;bubblingMouseEvents&quot;: true, &quot;color&quot;: &quot;#931e81&quot;, &quot;dashArray&quot;: null, &quot;dashOffset&quot;: null, &quot;fill&quot;: true, &quot;fillColor&quot;: &quot;#931e81&quot;, &quot;fillOpacity&quot;: 0.8, &quot;fillRule&quot;: &quot;evenodd&quot;, &quot;lineCap&quot;: &quot;round&quot;, &quot;lineJoin&quot;: &quot;round&quot;, &quot;opacity&quot;: 1.0, &quot;radius&quot;: 7, &quot;stroke&quot;: true, &quot;weight&quot;: 3}\n",
       "            ).addTo(map_84680dda492867ab341894f4da68230c);\n",
       "        \n",
       "    \n",
       "        var popup_c3fefdba3a8b810ca3f5cb03f3b643c1 = L.popup({&quot;maxWidth&quot;: &quot;100%&quot;});\n",
       "\n",
       "        \n",
       "            \n",
       "                var html_aec91a88a75c250fd9e6dffb9762193b = $(`&lt;div id=&quot;html_aec91a88a75c250fd9e6dffb9762193b&quot; style=&quot;width: 100.0%; height: 100.0%;&quot;&gt;Node 1838640562, Community 2&lt;/div&gt;`)[0];\n",
       "                popup_c3fefdba3a8b810ca3f5cb03f3b643c1.setContent(html_aec91a88a75c250fd9e6dffb9762193b);\n",
       "            \n",
       "        \n",
       "\n",
       "        circle_marker_1c18cc88ae00bd26048ab26c1c4dd02d.bindPopup(popup_c3fefdba3a8b810ca3f5cb03f3b643c1)\n",
       "        ;\n",
       "\n",
       "        \n",
       "    \n",
       "    \n",
       "            var circle_marker_db84528347f5fa93acd518420ace07e1 = L.circleMarker(\n",
       "                [59.5765347, 30.5555808],\n",
       "                {&quot;bubblingMouseEvents&quot;: true, &quot;color&quot;: &quot;#931e81&quot;, &quot;dashArray&quot;: null, &quot;dashOffset&quot;: null, &quot;fill&quot;: true, &quot;fillColor&quot;: &quot;#931e81&quot;, &quot;fillOpacity&quot;: 0.8, &quot;fillRule&quot;: &quot;evenodd&quot;, &quot;lineCap&quot;: &quot;round&quot;, &quot;lineJoin&quot;: &quot;round&quot;, &quot;opacity&quot;: 1.0, &quot;radius&quot;: 7, &quot;stroke&quot;: true, &quot;weight&quot;: 3}\n",
       "            ).addTo(map_84680dda492867ab341894f4da68230c);\n",
       "        \n",
       "    \n",
       "        var popup_b27c0b6bde8fa675e42b305f0579d0d7 = L.popup({&quot;maxWidth&quot;: &quot;100%&quot;});\n",
       "\n",
       "        \n",
       "            \n",
       "                var html_457dd18745a33a619529e3a00da73330 = $(`&lt;div id=&quot;html_457dd18745a33a619529e3a00da73330&quot; style=&quot;width: 100.0%; height: 100.0%;&quot;&gt;Node 1838639027, Community 2&lt;/div&gt;`)[0];\n",
       "                popup_b27c0b6bde8fa675e42b305f0579d0d7.setContent(html_457dd18745a33a619529e3a00da73330);\n",
       "            \n",
       "        \n",
       "\n",
       "        circle_marker_db84528347f5fa93acd518420ace07e1.bindPopup(popup_b27c0b6bde8fa675e42b305f0579d0d7)\n",
       "        ;\n",
       "\n",
       "        \n",
       "    \n",
       "    \n",
       "            var circle_marker_cf9a12805274e8ae4161ec7123204446 = L.circleMarker(\n",
       "                [59.5787192, 30.5613517],\n",
       "                {&quot;bubblingMouseEvents&quot;: true, &quot;color&quot;: &quot;#931e81&quot;, &quot;dashArray&quot;: null, &quot;dashOffset&quot;: null, &quot;fill&quot;: true, &quot;fillColor&quot;: &quot;#931e81&quot;, &quot;fillOpacity&quot;: 0.8, &quot;fillRule&quot;: &quot;evenodd&quot;, &quot;lineCap&quot;: &quot;round&quot;, &quot;lineJoin&quot;: &quot;round&quot;, &quot;opacity&quot;: 1.0, &quot;radius&quot;: 7, &quot;stroke&quot;: true, &quot;weight&quot;: 3}\n",
       "            ).addTo(map_84680dda492867ab341894f4da68230c);\n",
       "        \n",
       "    \n",
       "        var popup_611dc8722de79a30d6aec64dc592d87a = L.popup({&quot;maxWidth&quot;: &quot;100%&quot;});\n",
       "\n",
       "        \n",
       "            \n",
       "                var html_0dc55a1ac2f711590906e93740462b6b = $(`&lt;div id=&quot;html_0dc55a1ac2f711590906e93740462b6b&quot; style=&quot;width: 100.0%; height: 100.0%;&quot;&gt;Node 9658430003, Community 2&lt;/div&gt;`)[0];\n",
       "                popup_611dc8722de79a30d6aec64dc592d87a.setContent(html_0dc55a1ac2f711590906e93740462b6b);\n",
       "            \n",
       "        \n",
       "\n",
       "        circle_marker_cf9a12805274e8ae4161ec7123204446.bindPopup(popup_611dc8722de79a30d6aec64dc592d87a)\n",
       "        ;\n",
       "\n",
       "        \n",
       "    \n",
       "    \n",
       "            var circle_marker_3d13d84bacf78651b58b60efe542e093 = L.circleMarker(\n",
       "                [59.5783987, 30.5590841],\n",
       "                {&quot;bubblingMouseEvents&quot;: true, &quot;color&quot;: &quot;#931e81&quot;, &quot;dashArray&quot;: null, &quot;dashOffset&quot;: null, &quot;fill&quot;: true, &quot;fillColor&quot;: &quot;#931e81&quot;, &quot;fillOpacity&quot;: 0.8, &quot;fillRule&quot;: &quot;evenodd&quot;, &quot;lineCap&quot;: &quot;round&quot;, &quot;lineJoin&quot;: &quot;round&quot;, &quot;opacity&quot;: 1.0, &quot;radius&quot;: 7, &quot;stroke&quot;: true, &quot;weight&quot;: 3}\n",
       "            ).addTo(map_84680dda492867ab341894f4da68230c);\n",
       "        \n",
       "    \n",
       "        var popup_26724ee5fb3b8d763000e9a0fdc35722 = L.popup({&quot;maxWidth&quot;: &quot;100%&quot;});\n",
       "\n",
       "        \n",
       "            \n",
       "                var html_b2f13c676caefd83565f1b5184064dc0 = $(`&lt;div id=&quot;html_b2f13c676caefd83565f1b5184064dc0&quot; style=&quot;width: 100.0%; height: 100.0%;&quot;&gt;Node 1838639992, Community 2&lt;/div&gt;`)[0];\n",
       "                popup_26724ee5fb3b8d763000e9a0fdc35722.setContent(html_b2f13c676caefd83565f1b5184064dc0);\n",
       "            \n",
       "        \n",
       "\n",
       "        circle_marker_3d13d84bacf78651b58b60efe542e093.bindPopup(popup_26724ee5fb3b8d763000e9a0fdc35722)\n",
       "        ;\n",
       "\n",
       "        \n",
       "    \n",
       "    \n",
       "            var circle_marker_01d89705276988f06de2f68b95ad38f5 = L.circleMarker(\n",
       "                [59.5810593, 30.5605183],\n",
       "                {&quot;bubblingMouseEvents&quot;: true, &quot;color&quot;: &quot;#97ce00&quot;, &quot;dashArray&quot;: null, &quot;dashOffset&quot;: null, &quot;fill&quot;: true, &quot;fillColor&quot;: &quot;#97ce00&quot;, &quot;fillOpacity&quot;: 0.8, &quot;fillRule&quot;: &quot;evenodd&quot;, &quot;lineCap&quot;: &quot;round&quot;, &quot;lineJoin&quot;: &quot;round&quot;, &quot;opacity&quot;: 1.0, &quot;radius&quot;: 7, &quot;stroke&quot;: true, &quot;weight&quot;: 3}\n",
       "            ).addTo(map_84680dda492867ab341894f4da68230c);\n",
       "        \n",
       "    \n",
       "        var popup_a08992002fa357f7a90b0f9ff250a86a = L.popup({&quot;maxWidth&quot;: &quot;100%&quot;});\n",
       "\n",
       "        \n",
       "            \n",
       "                var html_eb2c453f79f1f5911f1a053cfa83b0b2 = $(`&lt;div id=&quot;html_eb2c453f79f1f5911f1a053cfa83b0b2&quot; style=&quot;width: 100.0%; height: 100.0%;&quot;&gt;Node 1838641217, Community 3&lt;/div&gt;`)[0];\n",
       "                popup_a08992002fa357f7a90b0f9ff250a86a.setContent(html_eb2c453f79f1f5911f1a053cfa83b0b2);\n",
       "            \n",
       "        \n",
       "\n",
       "        circle_marker_01d89705276988f06de2f68b95ad38f5.bindPopup(popup_a08992002fa357f7a90b0f9ff250a86a)\n",
       "        ;\n",
       "\n",
       "        \n",
       "    \n",
       "    \n",
       "            var circle_marker_f99e102a8888207d55abb3d251e34a7c = L.circleMarker(\n",
       "                [59.5844915, 30.5620106],\n",
       "                {&quot;bubblingMouseEvents&quot;: true, &quot;color&quot;: &quot;#97ce00&quot;, &quot;dashArray&quot;: null, &quot;dashOffset&quot;: null, &quot;fill&quot;: true, &quot;fillColor&quot;: &quot;#97ce00&quot;, &quot;fillOpacity&quot;: 0.8, &quot;fillRule&quot;: &quot;evenodd&quot;, &quot;lineCap&quot;: &quot;round&quot;, &quot;lineJoin&quot;: &quot;round&quot;, &quot;opacity&quot;: 1.0, &quot;radius&quot;: 7, &quot;stroke&quot;: true, &quot;weight&quot;: 3}\n",
       "            ).addTo(map_84680dda492867ab341894f4da68230c);\n",
       "        \n",
       "    \n",
       "        var popup_b54f6a17f30f37f28b22675d17ce9f4d = L.popup({&quot;maxWidth&quot;: &quot;100%&quot;});\n",
       "\n",
       "        \n",
       "            \n",
       "                var html_12fd08c80a6fcd922983c483907780ed = $(`&lt;div id=&quot;html_12fd08c80a6fcd922983c483907780ed&quot; style=&quot;width: 100.0%; height: 100.0%;&quot;&gt;Node 1838642051, Community 3&lt;/div&gt;`)[0];\n",
       "                popup_b54f6a17f30f37f28b22675d17ce9f4d.setContent(html_12fd08c80a6fcd922983c483907780ed);\n",
       "            \n",
       "        \n",
       "\n",
       "        circle_marker_f99e102a8888207d55abb3d251e34a7c.bindPopup(popup_b54f6a17f30f37f28b22675d17ce9f4d)\n",
       "        ;\n",
       "\n",
       "        \n",
       "    \n",
       "    \n",
       "            var circle_marker_f38e0b3ae85c47e875302e557827b311 = L.circleMarker(\n",
       "                [59.5834628, 30.5683899],\n",
       "                {&quot;bubblingMouseEvents&quot;: true, &quot;color&quot;: &quot;#97ce00&quot;, &quot;dashArray&quot;: null, &quot;dashOffset&quot;: null, &quot;fill&quot;: true, &quot;fillColor&quot;: &quot;#97ce00&quot;, &quot;fillOpacity&quot;: 0.8, &quot;fillRule&quot;: &quot;evenodd&quot;, &quot;lineCap&quot;: &quot;round&quot;, &quot;lineJoin&quot;: &quot;round&quot;, &quot;opacity&quot;: 1.0, &quot;radius&quot;: 7, &quot;stroke&quot;: true, &quot;weight&quot;: 3}\n",
       "            ).addTo(map_84680dda492867ab341894f4da68230c);\n",
       "        \n",
       "    \n",
       "        var popup_d4cc35e2e355b252a453bb4a9da09c63 = L.popup({&quot;maxWidth&quot;: &quot;100%&quot;});\n",
       "\n",
       "        \n",
       "            \n",
       "                var html_6604b76c56d3beb63bdaa159913505be = $(`&lt;div id=&quot;html_6604b76c56d3beb63bdaa159913505be&quot; style=&quot;width: 100.0%; height: 100.0%;&quot;&gt;Node 1389334563, Community 3&lt;/div&gt;`)[0];\n",
       "                popup_d4cc35e2e355b252a453bb4a9da09c63.setContent(html_6604b76c56d3beb63bdaa159913505be);\n",
       "            \n",
       "        \n",
       "\n",
       "        circle_marker_f38e0b3ae85c47e875302e557827b311.bindPopup(popup_d4cc35e2e355b252a453bb4a9da09c63)\n",
       "        ;\n",
       "\n",
       "        \n",
       "    \n",
       "    \n",
       "            var circle_marker_2097cb9c9bdc3c52e729170555f15ac2 = L.circleMarker(\n",
       "                [59.5826977, 30.567995],\n",
       "                {&quot;bubblingMouseEvents&quot;: true, &quot;color&quot;: &quot;#97ce00&quot;, &quot;dashArray&quot;: null, &quot;dashOffset&quot;: null, &quot;fill&quot;: true, &quot;fillColor&quot;: &quot;#97ce00&quot;, &quot;fillOpacity&quot;: 0.8, &quot;fillRule&quot;: &quot;evenodd&quot;, &quot;lineCap&quot;: &quot;round&quot;, &quot;lineJoin&quot;: &quot;round&quot;, &quot;opacity&quot;: 1.0, &quot;radius&quot;: 7, &quot;stroke&quot;: true, &quot;weight&quot;: 3}\n",
       "            ).addTo(map_84680dda492867ab341894f4da68230c);\n",
       "        \n",
       "    \n",
       "        var popup_fe4435d33a68e8d2c3d074df5de76da9 = L.popup({&quot;maxWidth&quot;: &quot;100%&quot;});\n",
       "\n",
       "        \n",
       "            \n",
       "                var html_30b0747c10b6d8a29746dd27f614ee87 = $(`&lt;div id=&quot;html_30b0747c10b6d8a29746dd27f614ee87&quot; style=&quot;width: 100.0%; height: 100.0%;&quot;&gt;Node 1838641795, Community 3&lt;/div&gt;`)[0];\n",
       "                popup_fe4435d33a68e8d2c3d074df5de76da9.setContent(html_30b0747c10b6d8a29746dd27f614ee87);\n",
       "            \n",
       "        \n",
       "\n",
       "        circle_marker_2097cb9c9bdc3c52e729170555f15ac2.bindPopup(popup_fe4435d33a68e8d2c3d074df5de76da9)\n",
       "        ;\n",
       "\n",
       "        \n",
       "    \n",
       "    \n",
       "            var circle_marker_c8e85d076bec1da668cf55f454d595f3 = L.circleMarker(\n",
       "                [59.5806567, 30.5648594],\n",
       "                {&quot;bubblingMouseEvents&quot;: true, &quot;color&quot;: &quot;#97ce00&quot;, &quot;dashArray&quot;: null, &quot;dashOffset&quot;: null, &quot;fill&quot;: true, &quot;fillColor&quot;: &quot;#97ce00&quot;, &quot;fillOpacity&quot;: 0.8, &quot;fillRule&quot;: &quot;evenodd&quot;, &quot;lineCap&quot;: &quot;round&quot;, &quot;lineJoin&quot;: &quot;round&quot;, &quot;opacity&quot;: 1.0, &quot;radius&quot;: 7, &quot;stroke&quot;: true, &quot;weight&quot;: 3}\n",
       "            ).addTo(map_84680dda492867ab341894f4da68230c);\n",
       "        \n",
       "    \n",
       "        var popup_18ec54450bfc2f8c1b26eb7a5cdc7d6a = L.popup({&quot;maxWidth&quot;: &quot;100%&quot;});\n",
       "\n",
       "        \n",
       "            \n",
       "                var html_579e4300e04e424f6c18d68994bc9090 = $(`&lt;div id=&quot;html_579e4300e04e424f6c18d68994bc9090&quot; style=&quot;width: 100.0%; height: 100.0%;&quot;&gt;Node 6566045861, Community 3&lt;/div&gt;`)[0];\n",
       "                popup_18ec54450bfc2f8c1b26eb7a5cdc7d6a.setContent(html_579e4300e04e424f6c18d68994bc9090);\n",
       "            \n",
       "        \n",
       "\n",
       "        circle_marker_c8e85d076bec1da668cf55f454d595f3.bindPopup(popup_18ec54450bfc2f8c1b26eb7a5cdc7d6a)\n",
       "        ;\n",
       "\n",
       "        \n",
       "    \n",
       "    \n",
       "            var circle_marker_ff1abcc9953b653979375ccd934031a1 = L.circleMarker(\n",
       "                [59.5847936, 30.5602331],\n",
       "                {&quot;bubblingMouseEvents&quot;: true, &quot;color&quot;: &quot;#97ce00&quot;, &quot;dashArray&quot;: null, &quot;dashOffset&quot;: null, &quot;fill&quot;: true, &quot;fillColor&quot;: &quot;#97ce00&quot;, &quot;fillOpacity&quot;: 0.8, &quot;fillRule&quot;: &quot;evenodd&quot;, &quot;lineCap&quot;: &quot;round&quot;, &quot;lineJoin&quot;: &quot;round&quot;, &quot;opacity&quot;: 1.0, &quot;radius&quot;: 7, &quot;stroke&quot;: true, &quot;weight&quot;: 3}\n",
       "            ).addTo(map_84680dda492867ab341894f4da68230c);\n",
       "        \n",
       "    \n",
       "        var popup_5f21ee2a844499601b521c420400bc37 = L.popup({&quot;maxWidth&quot;: &quot;100%&quot;});\n",
       "\n",
       "        \n",
       "            \n",
       "                var html_af1cf1153ed984ed676d85401e40b905 = $(`&lt;div id=&quot;html_af1cf1153ed984ed676d85401e40b905&quot; style=&quot;width: 100.0%; height: 100.0%;&quot;&gt;Node 1838642055, Community 3&lt;/div&gt;`)[0];\n",
       "                popup_5f21ee2a844499601b521c420400bc37.setContent(html_af1cf1153ed984ed676d85401e40b905);\n",
       "            \n",
       "        \n",
       "\n",
       "        circle_marker_ff1abcc9953b653979375ccd934031a1.bindPopup(popup_5f21ee2a844499601b521c420400bc37)\n",
       "        ;\n",
       "\n",
       "        \n",
       "    \n",
       "    \n",
       "            var circle_marker_e6859031e60d2639304cb27580239837 = L.circleMarker(\n",
       "                [59.5812676, 30.5619379],\n",
       "                {&quot;bubblingMouseEvents&quot;: true, &quot;color&quot;: &quot;#97ce00&quot;, &quot;dashArray&quot;: null, &quot;dashOffset&quot;: null, &quot;fill&quot;: true, &quot;fillColor&quot;: &quot;#97ce00&quot;, &quot;fillOpacity&quot;: 0.8, &quot;fillRule&quot;: &quot;evenodd&quot;, &quot;lineCap&quot;: &quot;round&quot;, &quot;lineJoin&quot;: &quot;round&quot;, &quot;opacity&quot;: 1.0, &quot;radius&quot;: 7, &quot;stroke&quot;: true, &quot;weight&quot;: 3}\n",
       "            ).addTo(map_84680dda492867ab341894f4da68230c);\n",
       "        \n",
       "    \n",
       "        var popup_cef22cc1efb6949c5a2706980481279c = L.popup({&quot;maxWidth&quot;: &quot;100%&quot;});\n",
       "\n",
       "        \n",
       "            \n",
       "                var html_08abafe638a8a85f3fb219ef9bb56adf = $(`&lt;div id=&quot;html_08abafe638a8a85f3fb219ef9bb56adf&quot; style=&quot;width: 100.0%; height: 100.0%;&quot;&gt;Node 1838641257, Community 3&lt;/div&gt;`)[0];\n",
       "                popup_cef22cc1efb6949c5a2706980481279c.setContent(html_08abafe638a8a85f3fb219ef9bb56adf);\n",
       "            \n",
       "        \n",
       "\n",
       "        circle_marker_e6859031e60d2639304cb27580239837.bindPopup(popup_cef22cc1efb6949c5a2706980481279c)\n",
       "        ;\n",
       "\n",
       "        \n",
       "    \n",
       "    \n",
       "            var circle_marker_ac011f9c70f90d2825ab46f8f86abd7e = L.circleMarker(\n",
       "                [59.5827631, 30.5627629],\n",
       "                {&quot;bubblingMouseEvents&quot;: true, &quot;color&quot;: &quot;#97ce00&quot;, &quot;dashArray&quot;: null, &quot;dashOffset&quot;: null, &quot;fill&quot;: true, &quot;fillColor&quot;: &quot;#97ce00&quot;, &quot;fillOpacity&quot;: 0.8, &quot;fillRule&quot;: &quot;evenodd&quot;, &quot;lineCap&quot;: &quot;round&quot;, &quot;lineJoin&quot;: &quot;round&quot;, &quot;opacity&quot;: 1.0, &quot;radius&quot;: 7, &quot;stroke&quot;: true, &quot;weight&quot;: 3}\n",
       "            ).addTo(map_84680dda492867ab341894f4da68230c);\n",
       "        \n",
       "    \n",
       "        var popup_34f7304425ca212711b09f5ee5f5e420 = L.popup({&quot;maxWidth&quot;: &quot;100%&quot;});\n",
       "\n",
       "        \n",
       "            \n",
       "                var html_5bac613efee02c08c5d166d3234045a3 = $(`&lt;div id=&quot;html_5bac613efee02c08c5d166d3234045a3&quot; style=&quot;width: 100.0%; height: 100.0%;&quot;&gt;Node 10703921997, Community 3&lt;/div&gt;`)[0];\n",
       "                popup_34f7304425ca212711b09f5ee5f5e420.setContent(html_5bac613efee02c08c5d166d3234045a3);\n",
       "            \n",
       "        \n",
       "\n",
       "        circle_marker_ac011f9c70f90d2825ab46f8f86abd7e.bindPopup(popup_34f7304425ca212711b09f5ee5f5e420)\n",
       "        ;\n",
       "\n",
       "        \n",
       "    \n",
       "    \n",
       "            var circle_marker_9851f1f23a753cac83da34585f284f4a = L.circleMarker(\n",
       "                [59.5820535, 30.5675112],\n",
       "                {&quot;bubblingMouseEvents&quot;: true, &quot;color&quot;: &quot;#97ce00&quot;, &quot;dashArray&quot;: null, &quot;dashOffset&quot;: null, &quot;fill&quot;: true, &quot;fillColor&quot;: &quot;#97ce00&quot;, &quot;fillOpacity&quot;: 0.8, &quot;fillRule&quot;: &quot;evenodd&quot;, &quot;lineCap&quot;: &quot;round&quot;, &quot;lineJoin&quot;: &quot;round&quot;, &quot;opacity&quot;: 1.0, &quot;radius&quot;: 7, &quot;stroke&quot;: true, &quot;weight&quot;: 3}\n",
       "            ).addTo(map_84680dda492867ab341894f4da68230c);\n",
       "        \n",
       "    \n",
       "        var popup_80d846464d4a0ecde1a858ae21ba67c7 = L.popup({&quot;maxWidth&quot;: &quot;100%&quot;});\n",
       "\n",
       "        \n",
       "            \n",
       "                var html_d4843f212a926de45e476203591d2b04 = $(`&lt;div id=&quot;html_d4843f212a926de45e476203591d2b04&quot; style=&quot;width: 100.0%; height: 100.0%;&quot;&gt;Node 10703921998, Community 3&lt;/div&gt;`)[0];\n",
       "                popup_80d846464d4a0ecde1a858ae21ba67c7.setContent(html_d4843f212a926de45e476203591d2b04);\n",
       "            \n",
       "        \n",
       "\n",
       "        circle_marker_9851f1f23a753cac83da34585f284f4a.bindPopup(popup_80d846464d4a0ecde1a858ae21ba67c7)\n",
       "        ;\n",
       "\n",
       "        \n",
       "    \n",
       "    \n",
       "            var circle_marker_776ad612b50d97b594e1d0209a60c567 = L.circleMarker(\n",
       "                [59.5813848, 30.5633353],\n",
       "                {&quot;bubblingMouseEvents&quot;: true, &quot;color&quot;: &quot;#97ce00&quot;, &quot;dashArray&quot;: null, &quot;dashOffset&quot;: null, &quot;fill&quot;: true, &quot;fillColor&quot;: &quot;#97ce00&quot;, &quot;fillOpacity&quot;: 0.8, &quot;fillRule&quot;: &quot;evenodd&quot;, &quot;lineCap&quot;: &quot;round&quot;, &quot;lineJoin&quot;: &quot;round&quot;, &quot;opacity&quot;: 1.0, &quot;radius&quot;: 7, &quot;stroke&quot;: true, &quot;weight&quot;: 3}\n",
       "            ).addTo(map_84680dda492867ab341894f4da68230c);\n",
       "        \n",
       "    \n",
       "        var popup_b30e959e32b99c6b85ea27415d7fbc8a = L.popup({&quot;maxWidth&quot;: &quot;100%&quot;});\n",
       "\n",
       "        \n",
       "            \n",
       "                var html_a3342c072832775ec61a69c2f6cb2ad5 = $(`&lt;div id=&quot;html_a3342c072832775ec61a69c2f6cb2ad5&quot; style=&quot;width: 100.0%; height: 100.0%;&quot;&gt;Node 1838641302, Community 3&lt;/div&gt;`)[0];\n",
       "                popup_b30e959e32b99c6b85ea27415d7fbc8a.setContent(html_a3342c072832775ec61a69c2f6cb2ad5);\n",
       "            \n",
       "        \n",
       "\n",
       "        circle_marker_776ad612b50d97b594e1d0209a60c567.bindPopup(popup_b30e959e32b99c6b85ea27415d7fbc8a)\n",
       "        ;\n",
       "\n",
       "        \n",
       "    \n",
       "    \n",
       "            var circle_marker_542980c3c2ad6d08cf43cda3d4544ac1 = L.circleMarker(\n",
       "                [59.5836101, 30.5623532],\n",
       "                {&quot;bubblingMouseEvents&quot;: true, &quot;color&quot;: &quot;#97ce00&quot;, &quot;dashArray&quot;: null, &quot;dashOffset&quot;: null, &quot;fill&quot;: true, &quot;fillColor&quot;: &quot;#97ce00&quot;, &quot;fillOpacity&quot;: 0.8, &quot;fillRule&quot;: &quot;evenodd&quot;, &quot;lineCap&quot;: &quot;round&quot;, &quot;lineJoin&quot;: &quot;round&quot;, &quot;opacity&quot;: 1.0, &quot;radius&quot;: 7, &quot;stroke&quot;: true, &quot;weight&quot;: 3}\n",
       "            ).addTo(map_84680dda492867ab341894f4da68230c);\n",
       "        \n",
       "    \n",
       "        var popup_9f48d2b34393d7ffd6f44c55407fe553 = L.popup({&quot;maxWidth&quot;: &quot;100%&quot;});\n",
       "\n",
       "        \n",
       "            \n",
       "                var html_1d742052fb31a1705d983f96ef05c1ca = $(`&lt;div id=&quot;html_1d742052fb31a1705d983f96ef05c1ca&quot; style=&quot;width: 100.0%; height: 100.0%;&quot;&gt;Node 1838641976, Community 3&lt;/div&gt;`)[0];\n",
       "                popup_9f48d2b34393d7ffd6f44c55407fe553.setContent(html_1d742052fb31a1705d983f96ef05c1ca);\n",
       "            \n",
       "        \n",
       "\n",
       "        circle_marker_542980c3c2ad6d08cf43cda3d4544ac1.bindPopup(popup_9f48d2b34393d7ffd6f44c55407fe553)\n",
       "        ;\n",
       "\n",
       "        \n",
       "    \n",
       "    \n",
       "            var circle_marker_f4308ed9023313de95f197299a9a737b = L.circleMarker(\n",
       "                [59.583147, 30.5590927],\n",
       "                {&quot;bubblingMouseEvents&quot;: true, &quot;color&quot;: &quot;#97ce00&quot;, &quot;dashArray&quot;: null, &quot;dashOffset&quot;: null, &quot;fill&quot;: true, &quot;fillColor&quot;: &quot;#97ce00&quot;, &quot;fillOpacity&quot;: 0.8, &quot;fillRule&quot;: &quot;evenodd&quot;, &quot;lineCap&quot;: &quot;round&quot;, &quot;lineJoin&quot;: &quot;round&quot;, &quot;opacity&quot;: 1.0, &quot;radius&quot;: 7, &quot;stroke&quot;: true, &quot;weight&quot;: 3}\n",
       "            ).addTo(map_84680dda492867ab341894f4da68230c);\n",
       "        \n",
       "    \n",
       "        var popup_e476f21b5060199b525bd2ddd13320d6 = L.popup({&quot;maxWidth&quot;: &quot;100%&quot;});\n",
       "\n",
       "        \n",
       "            \n",
       "                var html_6e5ac0b823d7cf6ddb78ee29a54a2d07 = $(`&lt;div id=&quot;html_6e5ac0b823d7cf6ddb78ee29a54a2d07&quot; style=&quot;width: 100.0%; height: 100.0%;&quot;&gt;Node 1838641914, Community 3&lt;/div&gt;`)[0];\n",
       "                popup_e476f21b5060199b525bd2ddd13320d6.setContent(html_6e5ac0b823d7cf6ddb78ee29a54a2d07);\n",
       "            \n",
       "        \n",
       "\n",
       "        circle_marker_f4308ed9023313de95f197299a9a737b.bindPopup(popup_e476f21b5060199b525bd2ddd13320d6)\n",
       "        ;\n",
       "\n",
       "        \n",
       "    \n",
       "    \n",
       "            var circle_marker_d7590100845481e202a981feb44323d0 = L.circleMarker(\n",
       "                [59.5668844, 30.5428452],\n",
       "                {&quot;bubblingMouseEvents&quot;: true, &quot;color&quot;: &quot;#d3a6a9&quot;, &quot;dashArray&quot;: null, &quot;dashOffset&quot;: null, &quot;fill&quot;: true, &quot;fillColor&quot;: &quot;#d3a6a9&quot;, &quot;fillOpacity&quot;: 0.8, &quot;fillRule&quot;: &quot;evenodd&quot;, &quot;lineCap&quot;: &quot;round&quot;, &quot;lineJoin&quot;: &quot;round&quot;, &quot;opacity&quot;: 1.0, &quot;radius&quot;: 7, &quot;stroke&quot;: true, &quot;weight&quot;: 3}\n",
       "            ).addTo(map_84680dda492867ab341894f4da68230c);\n",
       "        \n",
       "    \n",
       "        var popup_b1aa1bc7306301d0ebb190ddbadd71d9 = L.popup({&quot;maxWidth&quot;: &quot;100%&quot;});\n",
       "\n",
       "        \n",
       "            \n",
       "                var html_e16785efaeaa179ef0966c51ef335cf5 = $(`&lt;div id=&quot;html_e16785efaeaa179ef0966c51ef335cf5&quot; style=&quot;width: 100.0%; height: 100.0%;&quot;&gt;Node 1279474048, Community 4&lt;/div&gt;`)[0];\n",
       "                popup_b1aa1bc7306301d0ebb190ddbadd71d9.setContent(html_e16785efaeaa179ef0966c51ef335cf5);\n",
       "            \n",
       "        \n",
       "\n",
       "        circle_marker_d7590100845481e202a981feb44323d0.bindPopup(popup_b1aa1bc7306301d0ebb190ddbadd71d9)\n",
       "        ;\n",
       "\n",
       "        \n",
       "    \n",
       "    \n",
       "            var circle_marker_0c42239254a12a1664c55c342d282dfd = L.circleMarker(\n",
       "                [59.5694428, 30.5398134],\n",
       "                {&quot;bubblingMouseEvents&quot;: true, &quot;color&quot;: &quot;#d3a6a9&quot;, &quot;dashArray&quot;: null, &quot;dashOffset&quot;: null, &quot;fill&quot;: true, &quot;fillColor&quot;: &quot;#d3a6a9&quot;, &quot;fillOpacity&quot;: 0.8, &quot;fillRule&quot;: &quot;evenodd&quot;, &quot;lineCap&quot;: &quot;round&quot;, &quot;lineJoin&quot;: &quot;round&quot;, &quot;opacity&quot;: 1.0, &quot;radius&quot;: 7, &quot;stroke&quot;: true, &quot;weight&quot;: 3}\n",
       "            ).addTo(map_84680dda492867ab341894f4da68230c);\n",
       "        \n",
       "    \n",
       "        var popup_4b06f924dc1d591873a637a2b5c57af6 = L.popup({&quot;maxWidth&quot;: &quot;100%&quot;});\n",
       "\n",
       "        \n",
       "            \n",
       "                var html_3ce5470d7162cd2fe85174e557a2d20b = $(`&lt;div id=&quot;html_3ce5470d7162cd2fe85174e557a2d20b&quot; style=&quot;width: 100.0%; height: 100.0%;&quot;&gt;Node 3301434625, Community 4&lt;/div&gt;`)[0];\n",
       "                popup_4b06f924dc1d591873a637a2b5c57af6.setContent(html_3ce5470d7162cd2fe85174e557a2d20b);\n",
       "            \n",
       "        \n",
       "\n",
       "        circle_marker_0c42239254a12a1664c55c342d282dfd.bindPopup(popup_4b06f924dc1d591873a637a2b5c57af6)\n",
       "        ;\n",
       "\n",
       "        \n",
       "    \n",
       "    \n",
       "            var circle_marker_9dc993956c127471f3c1f56efbb1181c = L.circleMarker(\n",
       "                [59.570269, 30.5510469],\n",
       "                {&quot;bubblingMouseEvents&quot;: true, &quot;color&quot;: &quot;#d3a6a9&quot;, &quot;dashArray&quot;: null, &quot;dashOffset&quot;: null, &quot;fill&quot;: true, &quot;fillColor&quot;: &quot;#d3a6a9&quot;, &quot;fillOpacity&quot;: 0.8, &quot;fillRule&quot;: &quot;evenodd&quot;, &quot;lineCap&quot;: &quot;round&quot;, &quot;lineJoin&quot;: &quot;round&quot;, &quot;opacity&quot;: 1.0, &quot;radius&quot;: 7, &quot;stroke&quot;: true, &quot;weight&quot;: 3}\n",
       "            ).addTo(map_84680dda492867ab341894f4da68230c);\n",
       "        \n",
       "    \n",
       "        var popup_26274c90105e616a1a33e99deca34d2d = L.popup({&quot;maxWidth&quot;: &quot;100%&quot;});\n",
       "\n",
       "        \n",
       "            \n",
       "                var html_e9414c749664b7dbdfe437ac82221d6a = $(`&lt;div id=&quot;html_e9414c749664b7dbdfe437ac82221d6a&quot; style=&quot;width: 100.0%; height: 100.0%;&quot;&gt;Node 3301438338, Community 4&lt;/div&gt;`)[0];\n",
       "                popup_26274c90105e616a1a33e99deca34d2d.setContent(html_e9414c749664b7dbdfe437ac82221d6a);\n",
       "            \n",
       "        \n",
       "\n",
       "        circle_marker_9dc993956c127471f3c1f56efbb1181c.bindPopup(popup_26274c90105e616a1a33e99deca34d2d)\n",
       "        ;\n",
       "\n",
       "        \n",
       "    \n",
       "    \n",
       "            var circle_marker_f6d6634e741c6ca38362c4acd8ec2b28 = L.circleMarker(\n",
       "                [59.5706302, 30.5508729],\n",
       "                {&quot;bubblingMouseEvents&quot;: true, &quot;color&quot;: &quot;#d3a6a9&quot;, &quot;dashArray&quot;: null, &quot;dashOffset&quot;: null, &quot;fill&quot;: true, &quot;fillColor&quot;: &quot;#d3a6a9&quot;, &quot;fillOpacity&quot;: 0.8, &quot;fillRule&quot;: &quot;evenodd&quot;, &quot;lineCap&quot;: &quot;round&quot;, &quot;lineJoin&quot;: &quot;round&quot;, &quot;opacity&quot;: 1.0, &quot;radius&quot;: 7, &quot;stroke&quot;: true, &quot;weight&quot;: 3}\n",
       "            ).addTo(map_84680dda492867ab341894f4da68230c);\n",
       "        \n",
       "    \n",
       "        var popup_d039b5ea1557e37a6c2535d510b06608 = L.popup({&quot;maxWidth&quot;: &quot;100%&quot;});\n",
       "\n",
       "        \n",
       "            \n",
       "                var html_5eb149d31882372598630a6fcfffd8bd = $(`&lt;div id=&quot;html_5eb149d31882372598630a6fcfffd8bd&quot; style=&quot;width: 100.0%; height: 100.0%;&quot;&gt;Node 3301438349, Community 4&lt;/div&gt;`)[0];\n",
       "                popup_d039b5ea1557e37a6c2535d510b06608.setContent(html_5eb149d31882372598630a6fcfffd8bd);\n",
       "            \n",
       "        \n",
       "\n",
       "        circle_marker_f6d6634e741c6ca38362c4acd8ec2b28.bindPopup(popup_d039b5ea1557e37a6c2535d510b06608)\n",
       "        ;\n",
       "\n",
       "        \n",
       "    \n",
       "    \n",
       "            var circle_marker_00de2c3149502cfbb065ce121891085e = L.circleMarker(\n",
       "                [59.5686649, 30.5461739],\n",
       "                {&quot;bubblingMouseEvents&quot;: true, &quot;color&quot;: &quot;#d3a6a9&quot;, &quot;dashArray&quot;: null, &quot;dashOffset&quot;: null, &quot;fill&quot;: true, &quot;fillColor&quot;: &quot;#d3a6a9&quot;, &quot;fillOpacity&quot;: 0.8, &quot;fillRule&quot;: &quot;evenodd&quot;, &quot;lineCap&quot;: &quot;round&quot;, &quot;lineJoin&quot;: &quot;round&quot;, &quot;opacity&quot;: 1.0, &quot;radius&quot;: 7, &quot;stroke&quot;: true, &quot;weight&quot;: 3}\n",
       "            ).addTo(map_84680dda492867ab341894f4da68230c);\n",
       "        \n",
       "    \n",
       "        var popup_08603d0ed0e612f3971b7c6cce34ffeb = L.popup({&quot;maxWidth&quot;: &quot;100%&quot;});\n",
       "\n",
       "        \n",
       "            \n",
       "                var html_fc5fd86ca93b3f295d9c3eb8388792c5 = $(`&lt;div id=&quot;html_fc5fd86ca93b3f295d9c3eb8388792c5&quot; style=&quot;width: 100.0%; height: 100.0%;&quot;&gt;Node 1279474195, Community 4&lt;/div&gt;`)[0];\n",
       "                popup_08603d0ed0e612f3971b7c6cce34ffeb.setContent(html_fc5fd86ca93b3f295d9c3eb8388792c5);\n",
       "            \n",
       "        \n",
       "\n",
       "        circle_marker_00de2c3149502cfbb065ce121891085e.bindPopup(popup_08603d0ed0e612f3971b7c6cce34ffeb)\n",
       "        ;\n",
       "\n",
       "        \n",
       "    \n",
       "    \n",
       "            var circle_marker_a39e425719de9a10a819da34dd979e84 = L.circleMarker(\n",
       "                [59.5695031, 30.5414331],\n",
       "                {&quot;bubblingMouseEvents&quot;: true, &quot;color&quot;: &quot;#d3a6a9&quot;, &quot;dashArray&quot;: null, &quot;dashOffset&quot;: null, &quot;fill&quot;: true, &quot;fillColor&quot;: &quot;#d3a6a9&quot;, &quot;fillOpacity&quot;: 0.8, &quot;fillRule&quot;: &quot;evenodd&quot;, &quot;lineCap&quot;: &quot;round&quot;, &quot;lineJoin&quot;: &quot;round&quot;, &quot;opacity&quot;: 1.0, &quot;radius&quot;: 7, &quot;stroke&quot;: true, &quot;weight&quot;: 3}\n",
       "            ).addTo(map_84680dda492867ab341894f4da68230c);\n",
       "        \n",
       "    \n",
       "        var popup_941acd9458f62728ff9f759d07db61de = L.popup({&quot;maxWidth&quot;: &quot;100%&quot;});\n",
       "\n",
       "        \n",
       "            \n",
       "                var html_2bd8eaa14a673107c543655200f07fca = $(`&lt;div id=&quot;html_2bd8eaa14a673107c543655200f07fca&quot; style=&quot;width: 100.0%; height: 100.0%;&quot;&gt;Node 1279473304, Community 4&lt;/div&gt;`)[0];\n",
       "                popup_941acd9458f62728ff9f759d07db61de.setContent(html_2bd8eaa14a673107c543655200f07fca);\n",
       "            \n",
       "        \n",
       "\n",
       "        circle_marker_a39e425719de9a10a819da34dd979e84.bindPopup(popup_941acd9458f62728ff9f759d07db61de)\n",
       "        ;\n",
       "\n",
       "        \n",
       "    \n",
       "    \n",
       "            var circle_marker_48b2628ab41f5bb1a317df90aab7cf71 = L.circleMarker(\n",
       "                [59.5716825, 30.5479234],\n",
       "                {&quot;bubblingMouseEvents&quot;: true, &quot;color&quot;: &quot;#d3a6a9&quot;, &quot;dashArray&quot;: null, &quot;dashOffset&quot;: null, &quot;fill&quot;: true, &quot;fillColor&quot;: &quot;#d3a6a9&quot;, &quot;fillOpacity&quot;: 0.8, &quot;fillRule&quot;: &quot;evenodd&quot;, &quot;lineCap&quot;: &quot;round&quot;, &quot;lineJoin&quot;: &quot;round&quot;, &quot;opacity&quot;: 1.0, &quot;radius&quot;: 7, &quot;stroke&quot;: true, &quot;weight&quot;: 3}\n",
       "            ).addTo(map_84680dda492867ab341894f4da68230c);\n",
       "        \n",
       "    \n",
       "        var popup_6ee33b6572d02f42c9bc634306d1bed9 = L.popup({&quot;maxWidth&quot;: &quot;100%&quot;});\n",
       "\n",
       "        \n",
       "            \n",
       "                var html_813445f0a9d3a7c91683bd4c7d047f7f = $(`&lt;div id=&quot;html_813445f0a9d3a7c91683bd4c7d047f7f&quot; style=&quot;width: 100.0%; height: 100.0%;&quot;&gt;Node 3301441692, Community 4&lt;/div&gt;`)[0];\n",
       "                popup_6ee33b6572d02f42c9bc634306d1bed9.setContent(html_813445f0a9d3a7c91683bd4c7d047f7f);\n",
       "            \n",
       "        \n",
       "\n",
       "        circle_marker_48b2628ab41f5bb1a317df90aab7cf71.bindPopup(popup_6ee33b6572d02f42c9bc634306d1bed9)\n",
       "        ;\n",
       "\n",
       "        \n",
       "    \n",
       "    \n",
       "            var circle_marker_994e41e362be764fb34d7edf4e12f95e = L.circleMarker(\n",
       "                [59.5687172, 30.5451352],\n",
       "                {&quot;bubblingMouseEvents&quot;: true, &quot;color&quot;: &quot;#d3a6a9&quot;, &quot;dashArray&quot;: null, &quot;dashOffset&quot;: null, &quot;fill&quot;: true, &quot;fillColor&quot;: &quot;#d3a6a9&quot;, &quot;fillOpacity&quot;: 0.8, &quot;fillRule&quot;: &quot;evenodd&quot;, &quot;lineCap&quot;: &quot;round&quot;, &quot;lineJoin&quot;: &quot;round&quot;, &quot;opacity&quot;: 1.0, &quot;radius&quot;: 7, &quot;stroke&quot;: true, &quot;weight&quot;: 3}\n",
       "            ).addTo(map_84680dda492867ab341894f4da68230c);\n",
       "        \n",
       "    \n",
       "        var popup_05fe2049e70e99f219395add1a54f12a = L.popup({&quot;maxWidth&quot;: &quot;100%&quot;});\n",
       "\n",
       "        \n",
       "            \n",
       "                var html_3d4e87cf5fb725f74bef7bc727d496ea = $(`&lt;div id=&quot;html_3d4e87cf5fb725f74bef7bc727d496ea&quot; style=&quot;width: 100.0%; height: 100.0%;&quot;&gt;Node 1279472800, Community 4&lt;/div&gt;`)[0];\n",
       "                popup_05fe2049e70e99f219395add1a54f12a.setContent(html_3d4e87cf5fb725f74bef7bc727d496ea);\n",
       "            \n",
       "        \n",
       "\n",
       "        circle_marker_994e41e362be764fb34d7edf4e12f95e.bindPopup(popup_05fe2049e70e99f219395add1a54f12a)\n",
       "        ;\n",
       "\n",
       "        \n",
       "    \n",
       "    \n",
       "            var circle_marker_4ed135665b4e61ae5be060d16f5d968c = L.circleMarker(\n",
       "                [59.5683129, 30.5471313],\n",
       "                {&quot;bubblingMouseEvents&quot;: true, &quot;color&quot;: &quot;#d3a6a9&quot;, &quot;dashArray&quot;: null, &quot;dashOffset&quot;: null, &quot;fill&quot;: true, &quot;fillColor&quot;: &quot;#d3a6a9&quot;, &quot;fillOpacity&quot;: 0.8, &quot;fillRule&quot;: &quot;evenodd&quot;, &quot;lineCap&quot;: &quot;round&quot;, &quot;lineJoin&quot;: &quot;round&quot;, &quot;opacity&quot;: 1.0, &quot;radius&quot;: 7, &quot;stroke&quot;: true, &quot;weight&quot;: 3}\n",
       "            ).addTo(map_84680dda492867ab341894f4da68230c);\n",
       "        \n",
       "    \n",
       "        var popup_185a92c885e6e7b722ee89e1a5c17a94 = L.popup({&quot;maxWidth&quot;: &quot;100%&quot;});\n",
       "\n",
       "        \n",
       "            \n",
       "                var html_bdcec5b167ba5122a583c35fed90244e = $(`&lt;div id=&quot;html_bdcec5b167ba5122a583c35fed90244e&quot; style=&quot;width: 100.0%; height: 100.0%;&quot;&gt;Node 6125937057, Community 4&lt;/div&gt;`)[0];\n",
       "                popup_185a92c885e6e7b722ee89e1a5c17a94.setContent(html_bdcec5b167ba5122a583c35fed90244e);\n",
       "            \n",
       "        \n",
       "\n",
       "        circle_marker_4ed135665b4e61ae5be060d16f5d968c.bindPopup(popup_185a92c885e6e7b722ee89e1a5c17a94)\n",
       "        ;\n",
       "\n",
       "        \n",
       "    \n",
       "    \n",
       "            var circle_marker_c7090281b4942f56b705db8277c14b54 = L.circleMarker(\n",
       "                [59.5699435, 30.5502584],\n",
       "                {&quot;bubblingMouseEvents&quot;: true, &quot;color&quot;: &quot;#d3a6a9&quot;, &quot;dashArray&quot;: null, &quot;dashOffset&quot;: null, &quot;fill&quot;: true, &quot;fillColor&quot;: &quot;#d3a6a9&quot;, &quot;fillOpacity&quot;: 0.8, &quot;fillRule&quot;: &quot;evenodd&quot;, &quot;lineCap&quot;: &quot;round&quot;, &quot;lineJoin&quot;: &quot;round&quot;, &quot;opacity&quot;: 1.0, &quot;radius&quot;: 7, &quot;stroke&quot;: true, &quot;weight&quot;: 3}\n",
       "            ).addTo(map_84680dda492867ab341894f4da68230c);\n",
       "        \n",
       "    \n",
       "        var popup_9781d83ef9e9756bcfbb29a860e2b880 = L.popup({&quot;maxWidth&quot;: &quot;100%&quot;});\n",
       "\n",
       "        \n",
       "            \n",
       "                var html_425f6c040f823aeef1336092d2734fe7 = $(`&lt;div id=&quot;html_425f6c040f823aeef1336092d2734fe7&quot; style=&quot;width: 100.0%; height: 100.0%;&quot;&gt;Node 4374836529, Community 4&lt;/div&gt;`)[0];\n",
       "                popup_9781d83ef9e9756bcfbb29a860e2b880.setContent(html_425f6c040f823aeef1336092d2734fe7);\n",
       "            \n",
       "        \n",
       "\n",
       "        circle_marker_c7090281b4942f56b705db8277c14b54.bindPopup(popup_9781d83ef9e9756bcfbb29a860e2b880)\n",
       "        ;\n",
       "\n",
       "        \n",
       "    \n",
       "    \n",
       "            var circle_marker_3c311d3bf35837d3641cf4e5db0d43e1 = L.circleMarker(\n",
       "                [59.5723359, 30.5517722],\n",
       "                {&quot;bubblingMouseEvents&quot;: true, &quot;color&quot;: &quot;#d3a6a9&quot;, &quot;dashArray&quot;: null, &quot;dashOffset&quot;: null, &quot;fill&quot;: true, &quot;fillColor&quot;: &quot;#d3a6a9&quot;, &quot;fillOpacity&quot;: 0.8, &quot;fillRule&quot;: &quot;evenodd&quot;, &quot;lineCap&quot;: &quot;round&quot;, &quot;lineJoin&quot;: &quot;round&quot;, &quot;opacity&quot;: 1.0, &quot;radius&quot;: 7, &quot;stroke&quot;: true, &quot;weight&quot;: 3}\n",
       "            ).addTo(map_84680dda492867ab341894f4da68230c);\n",
       "        \n",
       "    \n",
       "        var popup_6be6abdbcbe40d81c2209acd50cc661c = L.popup({&quot;maxWidth&quot;: &quot;100%&quot;});\n",
       "\n",
       "        \n",
       "            \n",
       "                var html_a9fab44eef24fb01fe00f21f78df6f4b = $(`&lt;div id=&quot;html_a9fab44eef24fb01fe00f21f78df6f4b&quot; style=&quot;width: 100.0%; height: 100.0%;&quot;&gt;Node 3301441715, Community 4&lt;/div&gt;`)[0];\n",
       "                popup_6be6abdbcbe40d81c2209acd50cc661c.setContent(html_a9fab44eef24fb01fe00f21f78df6f4b);\n",
       "            \n",
       "        \n",
       "\n",
       "        circle_marker_3c311d3bf35837d3641cf4e5db0d43e1.bindPopup(popup_6be6abdbcbe40d81c2209acd50cc661c)\n",
       "        ;\n",
       "\n",
       "        \n",
       "    \n",
       "    \n",
       "            var circle_marker_6fe4f4bf11023b90e8b594a0c0f1d076 = L.circleMarker(\n",
       "                [59.5694373, 30.5482898],\n",
       "                {&quot;bubblingMouseEvents&quot;: true, &quot;color&quot;: &quot;#d3a6a9&quot;, &quot;dashArray&quot;: null, &quot;dashOffset&quot;: null, &quot;fill&quot;: true, &quot;fillColor&quot;: &quot;#d3a6a9&quot;, &quot;fillOpacity&quot;: 0.8, &quot;fillRule&quot;: &quot;evenodd&quot;, &quot;lineCap&quot;: &quot;round&quot;, &quot;lineJoin&quot;: &quot;round&quot;, &quot;opacity&quot;: 1.0, &quot;radius&quot;: 7, &quot;stroke&quot;: true, &quot;weight&quot;: 3}\n",
       "            ).addTo(map_84680dda492867ab341894f4da68230c);\n",
       "        \n",
       "    \n",
       "        var popup_2b36cccd49ba30a544c8cb10587904d8 = L.popup({&quot;maxWidth&quot;: &quot;100%&quot;});\n",
       "\n",
       "        \n",
       "            \n",
       "                var html_b6946a46cb086f1fb19ab322c818bf8d = $(`&lt;div id=&quot;html_b6946a46cb086f1fb19ab322c818bf8d&quot; style=&quot;width: 100.0%; height: 100.0%;&quot;&gt;Node 1837764661, Community 4&lt;/div&gt;`)[0];\n",
       "                popup_2b36cccd49ba30a544c8cb10587904d8.setContent(html_b6946a46cb086f1fb19ab322c818bf8d);\n",
       "            \n",
       "        \n",
       "\n",
       "        circle_marker_6fe4f4bf11023b90e8b594a0c0f1d076.bindPopup(popup_2b36cccd49ba30a544c8cb10587904d8)\n",
       "        ;\n",
       "\n",
       "        \n",
       "    \n",
       "    \n",
       "            var circle_marker_f02b5b9e3ff9a81aa903d95e78ecec17 = L.circleMarker(\n",
       "                [59.5675474, 30.540484],\n",
       "                {&quot;bubblingMouseEvents&quot;: true, &quot;color&quot;: &quot;#d3a6a9&quot;, &quot;dashArray&quot;: null, &quot;dashOffset&quot;: null, &quot;fill&quot;: true, &quot;fillColor&quot;: &quot;#d3a6a9&quot;, &quot;fillOpacity&quot;: 0.8, &quot;fillRule&quot;: &quot;evenodd&quot;, &quot;lineCap&quot;: &quot;round&quot;, &quot;lineJoin&quot;: &quot;round&quot;, &quot;opacity&quot;: 1.0, &quot;radius&quot;: 7, &quot;stroke&quot;: true, &quot;weight&quot;: 3}\n",
       "            ).addTo(map_84680dda492867ab341894f4da68230c);\n",
       "        \n",
       "    \n",
       "        var popup_50a4961d88feb38d057c60ff885cabcb = L.popup({&quot;maxWidth&quot;: &quot;100%&quot;});\n",
       "\n",
       "        \n",
       "            \n",
       "                var html_52d822c141afe88379a2a9bf34cee0c4 = $(`&lt;div id=&quot;html_52d822c141afe88379a2a9bf34cee0c4&quot; style=&quot;width: 100.0%; height: 100.0%;&quot;&gt;Node 3301441466, Community 4&lt;/div&gt;`)[0];\n",
       "                popup_50a4961d88feb38d057c60ff885cabcb.setContent(html_52d822c141afe88379a2a9bf34cee0c4);\n",
       "            \n",
       "        \n",
       "\n",
       "        circle_marker_f02b5b9e3ff9a81aa903d95e78ecec17.bindPopup(popup_50a4961d88feb38d057c60ff885cabcb)\n",
       "        ;\n",
       "\n",
       "        \n",
       "    \n",
       "    \n",
       "            var circle_marker_fde207752f3956b20c46b65988696339 = L.circleMarker(\n",
       "                [59.5696854, 30.5481913],\n",
       "                {&quot;bubblingMouseEvents&quot;: true, &quot;color&quot;: &quot;#d3a6a9&quot;, &quot;dashArray&quot;: null, &quot;dashOffset&quot;: null, &quot;fill&quot;: true, &quot;fillColor&quot;: &quot;#d3a6a9&quot;, &quot;fillOpacity&quot;: 0.8, &quot;fillRule&quot;: &quot;evenodd&quot;, &quot;lineCap&quot;: &quot;round&quot;, &quot;lineJoin&quot;: &quot;round&quot;, &quot;opacity&quot;: 1.0, &quot;radius&quot;: 7, &quot;stroke&quot;: true, &quot;weight&quot;: 3}\n",
       "            ).addTo(map_84680dda492867ab341894f4da68230c);\n",
       "        \n",
       "    \n",
       "        var popup_a9b418b4d86c3c0746e305927da0399e = L.popup({&quot;maxWidth&quot;: &quot;100%&quot;});\n",
       "\n",
       "        \n",
       "            \n",
       "                var html_2cc80b99cbe14b7c83f83c5b2655d460 = $(`&lt;div id=&quot;html_2cc80b99cbe14b7c83f83c5b2655d460&quot; style=&quot;width: 100.0%; height: 100.0%;&quot;&gt;Node 1837764668, Community 4&lt;/div&gt;`)[0];\n",
       "                popup_a9b418b4d86c3c0746e305927da0399e.setContent(html_2cc80b99cbe14b7c83f83c5b2655d460);\n",
       "            \n",
       "        \n",
       "\n",
       "        circle_marker_fde207752f3956b20c46b65988696339.bindPopup(popup_a9b418b4d86c3c0746e305927da0399e)\n",
       "        ;\n",
       "\n",
       "        \n",
       "    \n",
       "    \n",
       "            var circle_marker_a12bf58643f5cb46beb2b4a743be115a = L.circleMarker(\n",
       "                [59.5691962, 30.5415326],\n",
       "                {&quot;bubblingMouseEvents&quot;: true, &quot;color&quot;: &quot;#d3a6a9&quot;, &quot;dashArray&quot;: null, &quot;dashOffset&quot;: null, &quot;fill&quot;: true, &quot;fillColor&quot;: &quot;#d3a6a9&quot;, &quot;fillOpacity&quot;: 0.8, &quot;fillRule&quot;: &quot;evenodd&quot;, &quot;lineCap&quot;: &quot;round&quot;, &quot;lineJoin&quot;: &quot;round&quot;, &quot;opacity&quot;: 1.0, &quot;radius&quot;: 7, &quot;stroke&quot;: true, &quot;weight&quot;: 3}\n",
       "            ).addTo(map_84680dda492867ab341894f4da68230c);\n",
       "        \n",
       "    \n",
       "        var popup_236cb1eedb0a9fa83351293431a37637 = L.popup({&quot;maxWidth&quot;: &quot;100%&quot;});\n",
       "\n",
       "        \n",
       "            \n",
       "                var html_06a85a14674eeabd247f630cdcab458a = $(`&lt;div id=&quot;html_06a85a14674eeabd247f630cdcab458a&quot; style=&quot;width: 100.0%; height: 100.0%;&quot;&gt;Node 1279472729, Community 4&lt;/div&gt;`)[0];\n",
       "                popup_236cb1eedb0a9fa83351293431a37637.setContent(html_06a85a14674eeabd247f630cdcab458a);\n",
       "            \n",
       "        \n",
       "\n",
       "        circle_marker_a12bf58643f5cb46beb2b4a743be115a.bindPopup(popup_236cb1eedb0a9fa83351293431a37637)\n",
       "        ;\n",
       "\n",
       "        \n",
       "    \n",
       "    \n",
       "            var circle_marker_c826e763a1d6b6b59ac04bbf92f49690 = L.circleMarker(\n",
       "                [59.5671978, 30.5440622],\n",
       "                {&quot;bubblingMouseEvents&quot;: true, &quot;color&quot;: &quot;#d3a6a9&quot;, &quot;dashArray&quot;: null, &quot;dashOffset&quot;: null, &quot;fill&quot;: true, &quot;fillColor&quot;: &quot;#d3a6a9&quot;, &quot;fillOpacity&quot;: 0.8, &quot;fillRule&quot;: &quot;evenodd&quot;, &quot;lineCap&quot;: &quot;round&quot;, &quot;lineJoin&quot;: &quot;round&quot;, &quot;opacity&quot;: 1.0, &quot;radius&quot;: 7, &quot;stroke&quot;: true, &quot;weight&quot;: 3}\n",
       "            ).addTo(map_84680dda492867ab341894f4da68230c);\n",
       "        \n",
       "    \n",
       "        var popup_84d8c8ca054cff8a08dc96e72f7b7878 = L.popup({&quot;maxWidth&quot;: &quot;100%&quot;});\n",
       "\n",
       "        \n",
       "            \n",
       "                var html_b1747b8062b790c605e9d63f1e765537 = $(`&lt;div id=&quot;html_b1747b8062b790c605e9d63f1e765537&quot; style=&quot;width: 100.0%; height: 100.0%;&quot;&gt;Node 1279474140, Community 4&lt;/div&gt;`)[0];\n",
       "                popup_84d8c8ca054cff8a08dc96e72f7b7878.setContent(html_b1747b8062b790c605e9d63f1e765537);\n",
       "            \n",
       "        \n",
       "\n",
       "        circle_marker_c826e763a1d6b6b59ac04bbf92f49690.bindPopup(popup_84d8c8ca054cff8a08dc96e72f7b7878)\n",
       "        ;\n",
       "\n",
       "        \n",
       "    \n",
       "    \n",
       "            var circle_marker_73aac2d24508b24153afae1f5fab00df = L.circleMarker(\n",
       "                [59.5669005, 30.5465604],\n",
       "                {&quot;bubblingMouseEvents&quot;: true, &quot;color&quot;: &quot;#d3a6a9&quot;, &quot;dashArray&quot;: null, &quot;dashOffset&quot;: null, &quot;fill&quot;: true, &quot;fillColor&quot;: &quot;#d3a6a9&quot;, &quot;fillOpacity&quot;: 0.8, &quot;fillRule&quot;: &quot;evenodd&quot;, &quot;lineCap&quot;: &quot;round&quot;, &quot;lineJoin&quot;: &quot;round&quot;, &quot;opacity&quot;: 1.0, &quot;radius&quot;: 7, &quot;stroke&quot;: true, &quot;weight&quot;: 3}\n",
       "            ).addTo(map_84680dda492867ab341894f4da68230c);\n",
       "        \n",
       "    \n",
       "        var popup_6f0a73ef74af9e087e2dfe2628773423 = L.popup({&quot;maxWidth&quot;: &quot;100%&quot;});\n",
       "\n",
       "        \n",
       "            \n",
       "                var html_477fbbe8ac6051240ed3daffe4e06f1c = $(`&lt;div id=&quot;html_477fbbe8ac6051240ed3daffe4e06f1c&quot; style=&quot;width: 100.0%; height: 100.0%;&quot;&gt;Node 1279473117, Community 4&lt;/div&gt;`)[0];\n",
       "                popup_6f0a73ef74af9e087e2dfe2628773423.setContent(html_477fbbe8ac6051240ed3daffe4e06f1c);\n",
       "            \n",
       "        \n",
       "\n",
       "        circle_marker_73aac2d24508b24153afae1f5fab00df.bindPopup(popup_6f0a73ef74af9e087e2dfe2628773423)\n",
       "        ;\n",
       "\n",
       "        \n",
       "    \n",
       "    \n",
       "            var circle_marker_649b09ae437c9c85af35c853e41ca290 = L.circleMarker(\n",
       "                [59.566991, 30.5394348],\n",
       "                {&quot;bubblingMouseEvents&quot;: true, &quot;color&quot;: &quot;#d3a6a9&quot;, &quot;dashArray&quot;: null, &quot;dashOffset&quot;: null, &quot;fill&quot;: true, &quot;fillColor&quot;: &quot;#d3a6a9&quot;, &quot;fillOpacity&quot;: 0.8, &quot;fillRule&quot;: &quot;evenodd&quot;, &quot;lineCap&quot;: &quot;round&quot;, &quot;lineJoin&quot;: &quot;round&quot;, &quot;opacity&quot;: 1.0, &quot;radius&quot;: 7, &quot;stroke&quot;: true, &quot;weight&quot;: 3}\n",
       "            ).addTo(map_84680dda492867ab341894f4da68230c);\n",
       "        \n",
       "    \n",
       "        var popup_939c285589226ecad4145ce593eb9e3a = L.popup({&quot;maxWidth&quot;: &quot;100%&quot;});\n",
       "\n",
       "        \n",
       "            \n",
       "                var html_f8eedabab5de66ea988c742a20eda14b = $(`&lt;div id=&quot;html_f8eedabab5de66ea988c742a20eda14b&quot; style=&quot;width: 100.0%; height: 100.0%;&quot;&gt;Node 3301441246, Community 4&lt;/div&gt;`)[0];\n",
       "                popup_939c285589226ecad4145ce593eb9e3a.setContent(html_f8eedabab5de66ea988c742a20eda14b);\n",
       "            \n",
       "        \n",
       "\n",
       "        circle_marker_649b09ae437c9c85af35c853e41ca290.bindPopup(popup_939c285589226ecad4145ce593eb9e3a)\n",
       "        ;\n",
       "\n",
       "        \n",
       "    \n",
       "    \n",
       "            var circle_marker_cdc540e7fbbba0e814a5b92a7ba1572b = L.circleMarker(\n",
       "                [59.5675132, 30.5446918],\n",
       "                {&quot;bubblingMouseEvents&quot;: true, &quot;color&quot;: &quot;#d3a6a9&quot;, &quot;dashArray&quot;: null, &quot;dashOffset&quot;: null, &quot;fill&quot;: true, &quot;fillColor&quot;: &quot;#d3a6a9&quot;, &quot;fillOpacity&quot;: 0.8, &quot;fillRule&quot;: &quot;evenodd&quot;, &quot;lineCap&quot;: &quot;round&quot;, &quot;lineJoin&quot;: &quot;round&quot;, &quot;opacity&quot;: 1.0, &quot;radius&quot;: 7, &quot;stroke&quot;: true, &quot;weight&quot;: 3}\n",
       "            ).addTo(map_84680dda492867ab341894f4da68230c);\n",
       "        \n",
       "    \n",
       "        var popup_122c71e68476ad0cb14a8b73b3554b7d = L.popup({&quot;maxWidth&quot;: &quot;100%&quot;});\n",
       "\n",
       "        \n",
       "            \n",
       "                var html_5164b9afaca2fbdcedd94b1db626585d = $(`&lt;div id=&quot;html_5164b9afaca2fbdcedd94b1db626585d&quot; style=&quot;width: 100.0%; height: 100.0%;&quot;&gt;Node 1279473895, Community 4&lt;/div&gt;`)[0];\n",
       "                popup_122c71e68476ad0cb14a8b73b3554b7d.setContent(html_5164b9afaca2fbdcedd94b1db626585d);\n",
       "            \n",
       "        \n",
       "\n",
       "        circle_marker_cdc540e7fbbba0e814a5b92a7ba1572b.bindPopup(popup_122c71e68476ad0cb14a8b73b3554b7d)\n",
       "        ;\n",
       "\n",
       "        \n",
       "    \n",
       "    \n",
       "            var circle_marker_95b3f461db658fd3dd9cbd62495e9429 = L.circleMarker(\n",
       "                [59.570203, 30.5498692],\n",
       "                {&quot;bubblingMouseEvents&quot;: true, &quot;color&quot;: &quot;#d3a6a9&quot;, &quot;dashArray&quot;: null, &quot;dashOffset&quot;: null, &quot;fill&quot;: true, &quot;fillColor&quot;: &quot;#d3a6a9&quot;, &quot;fillOpacity&quot;: 0.8, &quot;fillRule&quot;: &quot;evenodd&quot;, &quot;lineCap&quot;: &quot;round&quot;, &quot;lineJoin&quot;: &quot;round&quot;, &quot;opacity&quot;: 1.0, &quot;radius&quot;: 7, &quot;stroke&quot;: true, &quot;weight&quot;: 3}\n",
       "            ).addTo(map_84680dda492867ab341894f4da68230c);\n",
       "        \n",
       "    \n",
       "        var popup_831f64a4a47b97f6994bf39987b7a039 = L.popup({&quot;maxWidth&quot;: &quot;100%&quot;});\n",
       "\n",
       "        \n",
       "            \n",
       "                var html_0d8c0b06d863f42fbf94c0ba472ed511 = $(`&lt;div id=&quot;html_0d8c0b06d863f42fbf94c0ba472ed511&quot; style=&quot;width: 100.0%; height: 100.0%;&quot;&gt;Node 4868415612, Community 4&lt;/div&gt;`)[0];\n",
       "                popup_831f64a4a47b97f6994bf39987b7a039.setContent(html_0d8c0b06d863f42fbf94c0ba472ed511);\n",
       "            \n",
       "        \n",
       "\n",
       "        circle_marker_95b3f461db658fd3dd9cbd62495e9429.bindPopup(popup_831f64a4a47b97f6994bf39987b7a039)\n",
       "        ;\n",
       "\n",
       "        \n",
       "    \n",
       "    \n",
       "            var circle_marker_583a621928893b2983ecc16d17acb828 = L.circleMarker(\n",
       "                [59.5729991, 30.5571227],\n",
       "                {&quot;bubblingMouseEvents&quot;: true, &quot;color&quot;: &quot;#d3a6a9&quot;, &quot;dashArray&quot;: null, &quot;dashOffset&quot;: null, &quot;fill&quot;: true, &quot;fillColor&quot;: &quot;#d3a6a9&quot;, &quot;fillOpacity&quot;: 0.8, &quot;fillRule&quot;: &quot;evenodd&quot;, &quot;lineCap&quot;: &quot;round&quot;, &quot;lineJoin&quot;: &quot;round&quot;, &quot;opacity&quot;: 1.0, &quot;radius&quot;: 7, &quot;stroke&quot;: true, &quot;weight&quot;: 3}\n",
       "            ).addTo(map_84680dda492867ab341894f4da68230c);\n",
       "        \n",
       "    \n",
       "        var popup_e1fbef8aeb43972adda4f4a7d8e4e812 = L.popup({&quot;maxWidth&quot;: &quot;100%&quot;});\n",
       "\n",
       "        \n",
       "            \n",
       "                var html_db2dd03a4dce735c9f082c2398cfdf2d = $(`&lt;div id=&quot;html_db2dd03a4dce735c9f082c2398cfdf2d&quot; style=&quot;width: 100.0%; height: 100.0%;&quot;&gt;Node 3301441535, Community 4&lt;/div&gt;`)[0];\n",
       "                popup_e1fbef8aeb43972adda4f4a7d8e4e812.setContent(html_db2dd03a4dce735c9f082c2398cfdf2d);\n",
       "            \n",
       "        \n",
       "\n",
       "        circle_marker_583a621928893b2983ecc16d17acb828.bindPopup(popup_e1fbef8aeb43972adda4f4a7d8e4e812)\n",
       "        ;\n",
       "\n",
       "        \n",
       "    \n",
       "&lt;/script&gt;\n",
       "&lt;/html&gt;\" style=\"position:absolute;width:100%;height:100%;left:0;top:0;border:none !important;\" allowfullscreen webkitallowfullscreen mozallowfullscreen></iframe></div></div>"
      ],
      "text/plain": [
       "<folium.folium.Map at 0x179d5ce7dd0>"
      ]
     },
     "execution_count": 9,
     "metadata": {},
     "output_type": "execute_result"
    }
   ],
   "source": [
    "import networkx as nx\n",
    "import community  # python-louvain\n",
    "import folium\n",
    "import random\n",
    "from collections import defaultdict\n",
    "\n",
    "# Применяем алгоритм Лувена для поиска сообществ\n",
    "partition = community.best_partition(g, weight='length')\n",
    "\n",
    "# Группируем id по значению\n",
    "grouped = defaultdict(set)\n",
    "for id, value in partition.items():\n",
    "    grouped[value].add(id)\n",
    "\n",
    "# Преобразуем в список множеств\n",
    "# cms = list(grouped.values())\n",
    "\n",
    "# Генерация случайных цветов для сообществ\n",
    "def generate_colors(n):\n",
    "    return [f\"#{random.randint(0, 0xFFFFFF):06x}\" for _ in range(n)]\n",
    "\n",
    "unique_communities = set(range(len(cms)))\n",
    "colors = generate_colors(len(unique_communities))\n",
    "\n",
    "# Создаем отображение цвета для каждого сообщества\n",
    "community_colors = {community_id: color for community_id, color in zip(unique_communities, colors)}\n",
    "\n",
    "# Создаем карту Folium\n",
    "m = folium.Map()\n",
    "\n",
    "# Отображаем узлы графа по сообществам\n",
    "for community_id, community_nodes in enumerate(cms):\n",
    "    color = colors[community_id]  # Цвет сообщества\n",
    "    for node in community_nodes:\n",
    "        node_data = g.nodes[node]\n",
    "        folium.CircleMarker(\n",
    "            location=(node_data['y'], node_data['x']),\n",
    "            radius=7,\n",
    "            color=color,\n",
    "            fill=True,\n",
    "            fill_color=color,\n",
    "            fill_opacity=0.8,\n",
    "            popup=f\"Node {node}, Community {community_id}\"\n",
    "        ).add_to(m)\n",
    "\n",
    "m"
   ]
  },
  {
   "cell_type": "code",
   "execution_count": 10,
   "id": "b21d2f57477fd4d8",
   "metadata": {
    "ExecuteTime": {
     "end_time": "2024-11-26T08:49:06.007951Z",
     "start_time": "2024-11-26T08:49:06.002954Z"
    },
    "collapsed": false
   },
   "outputs": [
    {
     "data": {
      "text/plain": [
       "9.5367431640625e-05"
      ]
     },
     "execution_count": 10,
     "metadata": {},
     "output_type": "execute_result"
    }
   ],
   "source": [
    "d_clusters = np.zeros((len(cms), len(cms)),dtype=np.float32)\n",
    "d_clusters.size * d_clusters.itemsize / 1024 / 1024"
   ]
  },
  {
   "cell_type": "code",
   "execution_count": 118,
   "id": "c212be3a651b722e",
   "metadata": {
    "ExecuteTime": {
     "end_time": "2024-11-26T08:25:55.611655Z",
     "start_time": "2024-11-26T08:25:55.601143Z"
    },
    "collapsed": false
   },
   "outputs": [],
   "source": [
    "from tqdm import tqdm\n",
    "import numpy as np\n",
    "\n",
    "def calc(data):\n",
    "    points, name, cms, g = data \n",
    "    d_clusters = np.zeros((len(cms), len(cms)))\n",
    "\n",
    "    # Добавляем tqdm для отслеживания обработки каждой вершины\n",
    "    for u in tqdm(points, desc=\"Processing nodes\"):\n",
    "        ll = dijkstra_pfa_min_dst(g, cms[u])\n",
    "        q = {}\n",
    "        for v, d in ll.items():\n",
    "            if g.nodes()[v][name] in q:\n",
    "                q[g.nodes()[v][name]] = min(q[g.nodes()[v][name]], d)\n",
    "            else:\n",
    "                q[g.nodes()[v][name]] = d\n",
    "        for v in range(len(cms)):\n",
    "            if v in q:\n",
    "                d_clusters[u, v] = q[v]\n",
    "    \n",
    "    return d_clusters\n"
   ]
  },
  {
   "cell_type": "code",
   "execution_count": 12,
   "id": "8aaa3d7a",
   "metadata": {},
   "outputs": [],
   "source": [
    "import numpy as np\n",
    "import networkx as nx\n",
    "from scipy.sparse.csgraph import shortest_path\n",
    "\n",
    "def calc_fast(data):\n",
    "    points, name, cms, g = data\n",
    "    d_clusters = np.zeros((len(cms), len(cms)))\n",
    "\n",
    "    # Преобразуем граф в матрицу смежности\n",
    "    adj_matrix = nx.to_scipy_sparse_matrix(g, weight='length', format='csr')\n",
    "\n",
    "    # Вычисляем кратчайшие пути между всеми узлами\n",
    "    all_distances = shortest_path(csgraph=adj_matrix, directed=False)\n",
    "\n",
    "    # Получаем группы узлов по их сообществам\n",
    "    cluster_nodes = {i: [] for i in range(len(cms))}\n",
    "    for node in g.nodes(data=True):\n",
    "        cluster_id = node[1][name]  # Значение атрибута name\n",
    "        cluster_nodes[cluster_id].append(node[0])\n",
    "\n",
    "    # Для каждого узла в points считаем минимальное расстояние до всех кластеров\n",
    "    for u in points:\n",
    "        for cluster_id, nodes in cluster_nodes.items():\n",
    "            d_clusters[u, cluster_id] = np.min(all_distances[u, nodes])\n",
    "\n",
    "    return d_clusters\n",
    "\n",
    "def calc_networkx(data):\n",
    "    points, name, cms, g = data\n",
    "    d_clusters = np.zeros((len(points), len(cms)))\n",
    "\n",
    "    print(\"INFO: Начало предвычисления кратчайших расстояний между всеми парами узлов...\")\n",
    "    # Предвычисляем кратчайшие расстояния между всеми парами узлов\n",
    "    all_distances = dict(tqdm(nx.all_pairs_dijkstra_path_length(g, weight='length'), \n",
    "                              total=len(g.nodes), \n",
    "                              desc=\"Вычисление кратчайших расстояний\"))\n",
    "    print(\"INFO: Кратчайшие расстояния рассчитаны.\")\n",
    "\n",
    "    print(\"INFO: Группировка узлов по сообществам...\")\n",
    "    # Группируем узлы по сообществам\n",
    "    cluster_nodes = {i: [] for i in range(len(cms))}\n",
    "    for node in tqdm(g.nodes(data=True), desc=\"Обработка узлов\"):\n",
    "        cluster_id = node[1][name]\n",
    "        cluster_nodes[cluster_id].append(node[0])\n",
    "    print(\"INFO: Узлы сгруппированы по сообществам.\")\n",
    "\n",
    "    print(\"INFO: Начало расчёта минимальных расстояний для узлов...\")\n",
    "    # Для каждого узла в points считаем минимальное расстояние до всех кластеров\n",
    "    return d_clusters, cluster_nodes, all_distances, points\n",
    "    for u in tqdm(points, desc=\"Обработка узлов points\"):\n",
    "        for cluster_id, nodes in cluster_nodes.items():\n",
    "            d_clusters[u, cluster_id] = min(all_distances[u][v] for v in nodes)\n",
    "    print(\"INFO: Расчёт минимальных расстояний завершён.\")\n",
    "\n",
    "    return d_clusters"
   ]
  },
  {
   "cell_type": "code",
   "execution_count": 162,
   "id": "daf8928c68f67d63",
   "metadata": {
    "ExecuteTime": {
     "end_time": "2024-11-26T08:25:55.629820Z",
     "start_time": "2024-11-26T08:25:55.622774Z"
    },
    "collapsed": false
   },
   "outputs": [
    {
     "name": "stdout",
     "output_type": "stream",
     "text": [
      "2024-11-29 17:51:45,844 - root - INFO - communities: 1674\n",
      "2024-11-29 17:51:45,844 - root - INFO - communities: 1674\n"
     ]
    },
    {
     "name": "stderr",
     "output_type": "stream",
     "text": [
      "100%|██████████| 100/100 [00:26<00:00,  3.72it/s]\n",
      "Processing nodes: 100%|██████████| 1674/1674 [03:26<00:00,  8.10it/s]\n"
     ]
    }
   ],
   "source": [
    "lib_community = False\n",
    "\n",
    "if lib_community:\n",
    "    # Применяем алгоритм Лувена для поиска сообществ\n",
    "    partition = community.best_partition(g)\n",
    "\n",
    "    # Группируем id по значению\n",
    "    grouped = defaultdict(set)\n",
    "    for id, value in partition.items():\n",
    "        grouped[value].add(id)\n",
    "\n",
    "    # Преобразуем в список множеств\n",
    "    cms = list(grouped.values())\n",
    "\n",
    "else:\n",
    "    cms = clustering.resolve_k_means_communities(g, resolution=100, max_iteration=100, print_log=True)\n",
    "\n",
    "\n",
    "\n",
    "cms_points = list(range(len(cms)))\n",
    "data = [cms_points,'cluster', cms, g]\n",
    "d_clusters = calc(data)"
   ]
  },
  {
   "cell_type": "code",
   "execution_count": 170,
   "id": "0290219f",
   "metadata": {},
   "outputs": [],
   "source": [
    "import networkx as nx\n",
    "import random\n",
    "from collections import defaultdict\n",
    "import numpy as np\n",
    "\n",
    "def cluster_graph(g, method=\"louvain\", **kwargs):\n",
    "    \"\"\"\n",
    "    Кластеризация графа с выбором метода.\n",
    "\n",
    "    :param g: Граф (networkx.Graph)\n",
    "    :param method: Название метода кластеризации\n",
    "    :param kwargs: Дополнительные параметры для методов\n",
    "    :return: Список множеств узлов (cms)\n",
    "    \"\"\"\n",
    "    if method == \"louvain\":\n",
    "        import community  # python-louvain\n",
    "        partition = community.best_partition(g)\n",
    "        grouped = defaultdict(set)\n",
    "        for node, cluster in partition.items():\n",
    "            grouped[cluster].add(node)\n",
    "            g.nodes[node]['cluster'] = cluster  # Добавляем атрибут 'cluster'\n",
    "        cms = list(grouped.values())\n",
    "\n",
    "    elif method == \"girvan_newman\":\n",
    "        num_clusters = kwargs.get(\"num_clusters\", 5)\n",
    "        comp = nx.community.girvan_newman(g)\n",
    "        for i, communities in enumerate(comp):\n",
    "            if i + 1 == num_clusters:\n",
    "                cms = [set(c) for c in communities]\n",
    "                # Добавляем атрибут 'cluster' для каждого узла\n",
    "                for idx, cluster in enumerate(communities):\n",
    "                    for node in cluster:\n",
    "                        g.nodes[node]['cluster'] = idx\n",
    "                break\n",
    "\n",
    "    elif method == \"modularity\":\n",
    "        communities = nx.community.greedy_modularity_communities(g)\n",
    "        cms = [set(c) for c in communities]\n",
    "        # Добавляем атрибут 'cluster' для каждого узла\n",
    "        for idx, community in enumerate(communities):\n",
    "            for node in community:\n",
    "                g.nodes[node]['cluster'] = idx\n",
    "\n",
    "    elif method == \"spectral\":\n",
    "        from sklearn.cluster import SpectralClustering\n",
    "        n_clusters = kwargs.get(\"n_clusters\", 5)\n",
    "        adj_matrix = nx.to_numpy_array(g)\n",
    "        spectral = SpectralClustering(n_clusters=n_clusters, affinity=\"precomputed\", random_state=42)\n",
    "        labels = spectral.fit_predict(adj_matrix)\n",
    "        grouped = defaultdict(set)\n",
    "        for node, label in zip(g.nodes(), labels):\n",
    "            grouped[label].add(node)\n",
    "            g.nodes[node]['cluster'] = label  # Добавляем атрибут 'cluster'\n",
    "        cms = list(grouped.values())\n",
    "\n",
    "    elif method == \"walktrap\":\n",
    "        import igraph as ig\n",
    "        ig_graph = ig.Graph.TupleList(g.edges(), directed=False)\n",
    "        clusters = ig_graph.community_walktrap().as_clustering()\n",
    "        cms = [set(cluster) for cluster in clusters]\n",
    "        # Добавляем атрибут 'cluster' для каждого узла\n",
    "        for idx, cluster in enumerate(clusters):\n",
    "            for node in cluster:\n",
    "                g.nodes[node]['cluster'] = idx\n",
    "\n",
    "    elif method == \"dbscan\":\n",
    "        from sklearn.cluster import DBSCAN\n",
    "        positions = np.array([[g.nodes[node]['x'], g.nodes[node]['y']] for node in g.nodes()])\n",
    "        eps = kwargs.get(\"eps\", 0.5)\n",
    "        min_samples = kwargs.get(\"min_samples\", 5)\n",
    "        dbscan = DBSCAN(eps=eps, min_samples=min_samples)\n",
    "        labels = dbscan.fit_predict(positions)\n",
    "        grouped = defaultdict(set)\n",
    "        for node, label in zip(g.nodes(), labels):\n",
    "            if label != -1:  # -1 — шум\n",
    "                grouped[label].add(node)\n",
    "                g.nodes[node]['cluster'] = label  # Добавляем атрибут 'cluster'\n",
    "        cms = list(grouped.values())\n",
    "\n",
    "    elif method == \"kmeans\":\n",
    "        from sklearn.cluster import KMeans\n",
    "        positions = np.array([[g.nodes[node]['x'], g.nodes[node]['y']] for node in g.nodes()])\n",
    "        n_clusters = kwargs.get(\"n_clusters\", 5)\n",
    "        kmeans = KMeans(n_clusters=n_clusters, random_state=42)\n",
    "        labels = kmeans.fit_predict(positions)\n",
    "        grouped = defaultdict(set)\n",
    "        for node, label in zip(g.nodes(), labels):\n",
    "            grouped[label].add(node)\n",
    "            g.nodes[node]['cluster'] = label  # Добавляем атрибут 'cluster'\n",
    "        cms = list(grouped.values())\n",
    "\n",
    "    elif method == \"connected_components\":\n",
    "        components = nx.connected_components(g)\n",
    "        cms = [set(component) for component in components]\n",
    "        # Добавляем атрибут 'cluster' для каждого узла\n",
    "        for idx, component in enumerate(components):\n",
    "            for node in component:\n",
    "                g.nodes[node]['cluster'] = idx\n",
    "\n",
    "    elif method == \"random\":\n",
    "        num_clusters = kwargs.get(\"num_clusters\", 5)\n",
    "        nodes = list(g.nodes())\n",
    "        random.shuffle(nodes)\n",
    "        cms = [set(nodes[i::num_clusters]) for i in range(num_clusters)]\n",
    "        # Добавляем атрибут 'cluster' для каждого узла\n",
    "        for idx, cluster in enumerate(cms):\n",
    "            for node in cluster:\n",
    "                g.nodes[node]['cluster'] = idx\n",
    "\n",
    "    # elif method == \"sbm\":\n",
    "    #     import graph_tool.all as gt\n",
    "    #     gt_graph = gt.Graph(directed=False)\n",
    "    #     gt_graph.add_edge_list(g.edges())\n",
    "    #     state = gt.minimize_blockmodel_dl(gt_graph)\n",
    "    #     blocks = state.get_blocks()\n",
    "    #     grouped = defaultdict(set)\n",
    "    #     for node in range(len(blocks)):\n",
    "    #         grouped[blocks[node]].add(node)\n",
    "    #         g.nodes[node]['cluster'] = blocks[node]  # Добавляем атрибут 'cluster'\n",
    "    #     cms = list(grouped.values())\n",
    "\n",
    "    else:\n",
    "        raise ValueError(f\"Unknown clustering method: {method}\")\n",
    "\n",
    "    return cms\n"
   ]
  },
  {
   "cell_type": "code",
   "execution_count": 173,
   "id": "cbf99cff",
   "metadata": {},
   "outputs": [
    {
     "name": "stderr",
     "output_type": "stream",
     "text": [
      "Processing nodes: 100%|██████████| 70/70 [00:07<00:00,  9.22it/s]\n"
     ]
    }
   ],
   "source": [
    "cms = cluster_graph(g, method=\"louvain\")\n",
    "cms_points = list(range(len(cms)))\n",
    "data = [cms_points,'cluster', cms, g]\n",
    "d_clusters = calc(data)"
   ]
  },
  {
   "cell_type": "code",
   "execution_count": 174,
   "id": "96f44cd9",
   "metadata": {},
   "outputs": [
    {
     "data": {
      "text/html": [
       "<div>\n",
       "<style scoped>\n",
       "    .dataframe tbody tr th:only-of-type {\n",
       "        vertical-align: middle;\n",
       "    }\n",
       "\n",
       "    .dataframe tbody tr th {\n",
       "        vertical-align: top;\n",
       "    }\n",
       "\n",
       "    .dataframe thead th {\n",
       "        text-align: right;\n",
       "    }\n",
       "</style>\n",
       "<table border=\"1\" class=\"dataframe\">\n",
       "  <thead>\n",
       "    <tr style=\"text-align: right;\">\n",
       "      <th></th>\n",
       "      <th>0</th>\n",
       "      <th>1</th>\n",
       "      <th>2</th>\n",
       "      <th>3</th>\n",
       "      <th>4</th>\n",
       "      <th>5</th>\n",
       "      <th>6</th>\n",
       "      <th>7</th>\n",
       "      <th>8</th>\n",
       "      <th>9</th>\n",
       "      <th>...</th>\n",
       "      <th>60</th>\n",
       "      <th>61</th>\n",
       "      <th>62</th>\n",
       "      <th>63</th>\n",
       "      <th>64</th>\n",
       "      <th>65</th>\n",
       "      <th>66</th>\n",
       "      <th>67</th>\n",
       "      <th>68</th>\n",
       "      <th>69</th>\n",
       "    </tr>\n",
       "  </thead>\n",
       "  <tbody>\n",
       "    <tr>\n",
       "      <th>0</th>\n",
       "      <td>0.000</td>\n",
       "      <td>10568.395</td>\n",
       "      <td>18736.841</td>\n",
       "      <td>20815.566</td>\n",
       "      <td>8418.655</td>\n",
       "      <td>12130.133</td>\n",
       "      <td>19354.646</td>\n",
       "      <td>11723.082</td>\n",
       "      <td>18143.905</td>\n",
       "      <td>27890.285</td>\n",
       "      <td>...</td>\n",
       "      <td>21420.912</td>\n",
       "      <td>2795.445</td>\n",
       "      <td>28984.331</td>\n",
       "      <td>8701.166</td>\n",
       "      <td>36064.729</td>\n",
       "      <td>1696.990</td>\n",
       "      <td>12873.033</td>\n",
       "      <td>35221.827</td>\n",
       "      <td>27009.672</td>\n",
       "      <td>23603.314</td>\n",
       "    </tr>\n",
       "    <tr>\n",
       "      <th>1</th>\n",
       "      <td>10568.395</td>\n",
       "      <td>0.000</td>\n",
       "      <td>20770.632</td>\n",
       "      <td>19887.137</td>\n",
       "      <td>14997.307</td>\n",
       "      <td>18388.165</td>\n",
       "      <td>6239.531</td>\n",
       "      <td>258.869</td>\n",
       "      <td>17790.626</td>\n",
       "      <td>24046.049</td>\n",
       "      <td>...</td>\n",
       "      <td>13294.344</td>\n",
       "      <td>19925.826</td>\n",
       "      <td>15866.115</td>\n",
       "      <td>18413.025</td>\n",
       "      <td>31835.805</td>\n",
       "      <td>15220.820</td>\n",
       "      <td>18714.464</td>\n",
       "      <td>30992.903</td>\n",
       "      <td>26534.275</td>\n",
       "      <td>13707.315</td>\n",
       "    </tr>\n",
       "    <tr>\n",
       "      <th>2</th>\n",
       "      <td>18736.841</td>\n",
       "      <td>20770.632</td>\n",
       "      <td>0.000</td>\n",
       "      <td>56.185</td>\n",
       "      <td>2504.981</td>\n",
       "      <td>184.528</td>\n",
       "      <td>20823.056</td>\n",
       "      <td>21973.049</td>\n",
       "      <td>15.843</td>\n",
       "      <td>5378.618</td>\n",
       "      <td>...</td>\n",
       "      <td>19769.724</td>\n",
       "      <td>8923.907</td>\n",
       "      <td>30257.108</td>\n",
       "      <td>8384.209</td>\n",
       "      <td>15661.734</td>\n",
       "      <td>26067.266</td>\n",
       "      <td>8820.468</td>\n",
       "      <td>18106.462</td>\n",
       "      <td>1454.698</td>\n",
       "      <td>22182.930</td>\n",
       "    </tr>\n",
       "    <tr>\n",
       "      <th>3</th>\n",
       "      <td>20815.566</td>\n",
       "      <td>19887.137</td>\n",
       "      <td>56.185</td>\n",
       "      <td>0.000</td>\n",
       "      <td>7914.059</td>\n",
       "      <td>4552.199</td>\n",
       "      <td>18522.467</td>\n",
       "      <td>20952.183</td>\n",
       "      <td>350.150</td>\n",
       "      <td>382.885</td>\n",
       "      <td>...</td>\n",
       "      <td>13838.773</td>\n",
       "      <td>15005.087</td>\n",
       "      <td>26946.397</td>\n",
       "      <td>14330.176</td>\n",
       "      <td>9992.874</td>\n",
       "      <td>27680.163</td>\n",
       "      <td>14229.546</td>\n",
       "      <td>12437.602</td>\n",
       "      <td>402.160</td>\n",
       "      <td>16778.888</td>\n",
       "    </tr>\n",
       "    <tr>\n",
       "      <th>4</th>\n",
       "      <td>8418.655</td>\n",
       "      <td>14997.307</td>\n",
       "      <td>2504.981</td>\n",
       "      <td>7914.059</td>\n",
       "      <td>0.000</td>\n",
       "      <td>155.720</td>\n",
       "      <td>17458.767</td>\n",
       "      <td>16685.281</td>\n",
       "      <td>3530.721</td>\n",
       "      <td>14773.056</td>\n",
       "      <td>...</td>\n",
       "      <td>18019.597</td>\n",
       "      <td>174.962</td>\n",
       "      <td>26897.219</td>\n",
       "      <td>41.803</td>\n",
       "      <td>25590.222</td>\n",
       "      <td>15749.080</td>\n",
       "      <td>212.550</td>\n",
       "      <td>28034.950</td>\n",
       "      <td>11288.967</td>\n",
       "      <td>20260.767</td>\n",
       "    </tr>\n",
       "    <tr>\n",
       "      <th>...</th>\n",
       "      <td>...</td>\n",
       "      <td>...</td>\n",
       "      <td>...</td>\n",
       "      <td>...</td>\n",
       "      <td>...</td>\n",
       "      <td>...</td>\n",
       "      <td>...</td>\n",
       "      <td>...</td>\n",
       "      <td>...</td>\n",
       "      <td>...</td>\n",
       "      <td>...</td>\n",
       "      <td>...</td>\n",
       "      <td>...</td>\n",
       "      <td>...</td>\n",
       "      <td>...</td>\n",
       "      <td>...</td>\n",
       "      <td>...</td>\n",
       "      <td>...</td>\n",
       "      <td>...</td>\n",
       "      <td>...</td>\n",
       "      <td>...</td>\n",
       "    </tr>\n",
       "    <tr>\n",
       "      <th>65</th>\n",
       "      <td>12873.033</td>\n",
       "      <td>18714.464</td>\n",
       "      <td>8820.468</td>\n",
       "      <td>14229.546</td>\n",
       "      <td>212.550</td>\n",
       "      <td>4478.812</td>\n",
       "      <td>21112.372</td>\n",
       "      <td>20402.438</td>\n",
       "      <td>9846.208</td>\n",
       "      <td>21088.543</td>\n",
       "      <td>...</td>\n",
       "      <td>21673.202</td>\n",
       "      <td>7833.761</td>\n",
       "      <td>30550.824</td>\n",
       "      <td>3639.007</td>\n",
       "      <td>31905.709</td>\n",
       "      <td>20203.458</td>\n",
       "      <td>0.000</td>\n",
       "      <td>33091.048</td>\n",
       "      <td>17604.454</td>\n",
       "      <td>23914.372</td>\n",
       "    </tr>\n",
       "    <tr>\n",
       "      <th>66</th>\n",
       "      <td>35221.827</td>\n",
       "      <td>30992.903</td>\n",
       "      <td>18106.462</td>\n",
       "      <td>12437.602</td>\n",
       "      <td>28034.950</td>\n",
       "      <td>24376.100</td>\n",
       "      <td>27598.608</td>\n",
       "      <td>29926.251</td>\n",
       "      <td>20665.982</td>\n",
       "      <td>7006.689</td>\n",
       "      <td>...</td>\n",
       "      <td>15589.471</td>\n",
       "      <td>33115.479</td>\n",
       "      <td>30459.413</td>\n",
       "      <td>32974.757</td>\n",
       "      <td>2406.449</td>\n",
       "      <td>42083.638</td>\n",
       "      <td>33091.048</td>\n",
       "      <td>0.000</td>\n",
       "      <td>17875.510</td>\n",
       "      <td>18529.586</td>\n",
       "    </tr>\n",
       "    <tr>\n",
       "      <th>67</th>\n",
       "      <td>27009.672</td>\n",
       "      <td>26534.275</td>\n",
       "      <td>1454.698</td>\n",
       "      <td>402.160</td>\n",
       "      <td>11288.967</td>\n",
       "      <td>7724.336</td>\n",
       "      <td>25513.756</td>\n",
       "      <td>27625.906</td>\n",
       "      <td>4212.095</td>\n",
       "      <td>5466.511</td>\n",
       "      <td>...</td>\n",
       "      <td>20814.432</td>\n",
       "      <td>16463.715</td>\n",
       "      <td>34309.423</td>\n",
       "      <td>16087.651</td>\n",
       "      <td>15430.782</td>\n",
       "      <td>34336.027</td>\n",
       "      <td>17604.454</td>\n",
       "      <td>17875.510</td>\n",
       "      <td>0.000</td>\n",
       "      <td>23754.547</td>\n",
       "    </tr>\n",
       "    <tr>\n",
       "      <th>68</th>\n",
       "      <td>23603.314</td>\n",
       "      <td>13707.315</td>\n",
       "      <td>22182.930</td>\n",
       "      <td>16778.888</td>\n",
       "      <td>20260.767</td>\n",
       "      <td>20929.054</td>\n",
       "      <td>8545.207</td>\n",
       "      <td>11088.577</td>\n",
       "      <td>18858.500</td>\n",
       "      <td>16285.699</td>\n",
       "      <td>...</td>\n",
       "      <td>85.880</td>\n",
       "      <td>26832.501</td>\n",
       "      <td>10700.685</td>\n",
       "      <td>25261.791</td>\n",
       "      <td>19510.381</td>\n",
       "      <td>30453.086</td>\n",
       "      <td>23914.372</td>\n",
       "      <td>18529.586</td>\n",
       "      <td>23754.547</td>\n",
       "      <td>0.000</td>\n",
       "    </tr>\n",
       "    <tr>\n",
       "      <th>69</th>\n",
       "      <td>25906.844</td>\n",
       "      <td>27042.777</td>\n",
       "      <td>222.399</td>\n",
       "      <td>514.453</td>\n",
       "      <td>10248.328</td>\n",
       "      <td>6621.508</td>\n",
       "      <td>26099.689</td>\n",
       "      <td>28175.239</td>\n",
       "      <td>3036.140</td>\n",
       "      <td>5836.886</td>\n",
       "      <td>...</td>\n",
       "      <td>21400.365</td>\n",
       "      <td>15360.887</td>\n",
       "      <td>34895.356</td>\n",
       "      <td>15047.012</td>\n",
       "      <td>16141.596</td>\n",
       "      <td>33793.585</td>\n",
       "      <td>16563.815</td>\n",
       "      <td>18586.324</td>\n",
       "      <td>1934.560</td>\n",
       "      <td>24340.480</td>\n",
       "    </tr>\n",
       "  </tbody>\n",
       "</table>\n",
       "<p>70 rows × 70 columns</p>\n",
       "</div>"
      ],
      "text/plain": [
       "           0          1          2          3          4          5   \\\n",
       "0       0.000  10568.395  18736.841  20815.566   8418.655  12130.133   \n",
       "1   10568.395      0.000  20770.632  19887.137  14997.307  18388.165   \n",
       "2   18736.841  20770.632      0.000     56.185   2504.981    184.528   \n",
       "3   20815.566  19887.137     56.185      0.000   7914.059   4552.199   \n",
       "4    8418.655  14997.307   2504.981   7914.059      0.000    155.720   \n",
       "..        ...        ...        ...        ...        ...        ...   \n",
       "65  12873.033  18714.464   8820.468  14229.546    212.550   4478.812   \n",
       "66  35221.827  30992.903  18106.462  12437.602  28034.950  24376.100   \n",
       "67  27009.672  26534.275   1454.698    402.160  11288.967   7724.336   \n",
       "68  23603.314  13707.315  22182.930  16778.888  20260.767  20929.054   \n",
       "69  25906.844  27042.777    222.399    514.453  10248.328   6621.508   \n",
       "\n",
       "           6          7          8          9   ...         60         61  \\\n",
       "0   19354.646  11723.082  18143.905  27890.285  ...  21420.912   2795.445   \n",
       "1    6239.531    258.869  17790.626  24046.049  ...  13294.344  19925.826   \n",
       "2   20823.056  21973.049     15.843   5378.618  ...  19769.724   8923.907   \n",
       "3   18522.467  20952.183    350.150    382.885  ...  13838.773  15005.087   \n",
       "4   17458.767  16685.281   3530.721  14773.056  ...  18019.597    174.962   \n",
       "..        ...        ...        ...        ...  ...        ...        ...   \n",
       "65  21112.372  20402.438   9846.208  21088.543  ...  21673.202   7833.761   \n",
       "66  27598.608  29926.251  20665.982   7006.689  ...  15589.471  33115.479   \n",
       "67  25513.756  27625.906   4212.095   5466.511  ...  20814.432  16463.715   \n",
       "68   8545.207  11088.577  18858.500  16285.699  ...     85.880  26832.501   \n",
       "69  26099.689  28175.239   3036.140   5836.886  ...  21400.365  15360.887   \n",
       "\n",
       "           62         63         64         65         66         67  \\\n",
       "0   28984.331   8701.166  36064.729   1696.990  12873.033  35221.827   \n",
       "1   15866.115  18413.025  31835.805  15220.820  18714.464  30992.903   \n",
       "2   30257.108   8384.209  15661.734  26067.266   8820.468  18106.462   \n",
       "3   26946.397  14330.176   9992.874  27680.163  14229.546  12437.602   \n",
       "4   26897.219     41.803  25590.222  15749.080    212.550  28034.950   \n",
       "..        ...        ...        ...        ...        ...        ...   \n",
       "65  30550.824   3639.007  31905.709  20203.458      0.000  33091.048   \n",
       "66  30459.413  32974.757   2406.449  42083.638  33091.048      0.000   \n",
       "67  34309.423  16087.651  15430.782  34336.027  17604.454  17875.510   \n",
       "68  10700.685  25261.791  19510.381  30453.086  23914.372  18529.586   \n",
       "69  34895.356  15047.012  16141.596  33793.585  16563.815  18586.324   \n",
       "\n",
       "           68         69  \n",
       "0   27009.672  23603.314  \n",
       "1   26534.275  13707.315  \n",
       "2    1454.698  22182.930  \n",
       "3     402.160  16778.888  \n",
       "4   11288.967  20260.767  \n",
       "..        ...        ...  \n",
       "65  17604.454  23914.372  \n",
       "66  17875.510  18529.586  \n",
       "67      0.000  23754.547  \n",
       "68  23754.547      0.000  \n",
       "69   1934.560  24340.480  \n",
       "\n",
       "[70 rows x 70 columns]"
      ]
     },
     "execution_count": 174,
     "metadata": {},
     "output_type": "execute_result"
    }
   ],
   "source": [
    "import pandas as pd\n",
    "pd.DataFrame(d_clusters)"
   ]
  },
  {
   "cell_type": "code",
   "execution_count": 175,
   "id": "d37d5156bf0da65e",
   "metadata": {
    "ExecuteTime": {
     "end_time": "2024-11-26T08:27:34.578050Z",
     "start_time": "2024-11-26T08:27:34.572139Z"
    },
    "collapsed": false
   },
   "outputs": [],
   "source": [
    "nodes = g.nodes()"
   ]
  },
  {
   "cell_type": "code",
   "execution_count": 176,
   "id": "2081393eaf43ca2",
   "metadata": {
    "ExecuteTime": {
     "end_time": "2024-11-26T08:27:34.590872Z",
     "start_time": "2024-11-26T08:27:34.579801Z"
    },
    "collapsed": false
   },
   "outputs": [],
   "source": [
    "def func(u, v):\n",
    "    n1,n2 = nodes[u],nodes[v]\n",
    "    c11 = n1['cluster']\n",
    "    c12 = n2['cluster']  \n",
    "    return d_clusters[c11, c12]"
   ]
  },
  {
   "cell_type": "code",
   "execution_count": 177,
   "id": "d1069473230a56d8",
   "metadata": {
    "ExecuteTime": {
     "end_time": "2024-11-26T08:45:31.941837Z",
     "start_time": "2024-11-26T08:45:31.934365Z"
    },
    "collapsed": false
   },
   "outputs": [],
   "source": [
    "def dijkstra_pfa_cls(graph: nx.Graph,\n",
    "                     start: int,\n",
    "                     end: int\n",
    "                     ) -> tuple[float, list[int]]:\n",
    "    if start == end:\n",
    "        return 0, [start]\n",
    "    push = heappush\n",
    "    pop = heappop\n",
    "    dist = {start: (0, None)}\n",
    "    fringe = []\n",
    "    c = count()\n",
    "    adjacency = graph._adj\n",
    "    print()\n",
    "    push(fringe, (0, next(c), 0, func(start, end), start))\n",
    "\n",
    "    while fringe:\n",
    "        (_, _, d1, l1, v1) = pop(fringe) \n",
    "        if v1 == end:\n",
    "            break\n",
    "        for u, e in adjacency[v1].items():\n",
    "            vu_dist = d1 + e['length']\n",
    "            if u not in dist or dist[u][0] > vu_dist:\n",
    "                dist[u] = (vu_dist, v1)\n",
    "                lu = func(u, end)\n",
    "                push(fringe, (vu_dist + lu, next(c), vu_dist, lu, u))\n",
    "    path = [end]\n",
    "    e = end\n",
    "    while dist[e][1] is not None:\n",
    "        e = dist[e][1]\n",
    "        path.append(e)\n",
    "    l = 0\n",
    "    e = g.edges()\n",
    "    for i in range(len(path) - 1):\n",
    "        p1, p2 = path[i], path[i + 1]\n",
    "        l += e[p1, p2]['length']\n",
    "    path.reverse()\n",
    "    return l, path"
   ]
  },
  {
   "cell_type": "code",
   "execution_count": 178,
   "id": "e4fcd02b902382dc",
   "metadata": {
    "ExecuteTime": {
     "end_time": "2024-11-26T08:42:45.493551Z",
     "start_time": "2024-11-26T08:42:45.476601Z"
    },
    "collapsed": false
   },
   "outputs": [],
   "source": [
    "def bi_dijkstra_pfa_cls(graph: nx.Graph,\n",
    "                        start: int,\n",
    "                        end: int\n",
    "                        ) -> tuple[float, list[int]]:\n",
    "    if start == end:\n",
    "        return 0, [start]\n",
    "    \n",
    "    push = heappush\n",
    "    pop = heappop\n",
    "    dist = ({start: (0, None)}, {end: (0, None)})\n",
    "    fringe = ([], [])\n",
    "    c = count()\n",
    "    adjacency = graph._adj\n",
    "\n",
    "    push(fringe[0], (0, next(c), 0,  start))\n",
    "    push(fringe[1], (0, next(c), 0,  end))\n",
    "    \n",
    "    union_node = None\n",
    "    union_dst = float('inf')\n",
    "    seen = (set(), set())\n",
    "    while fringe[0] and fringe[1]:\n",
    "        (_, _, d1,  v1) = pop(fringe[0])\n",
    "        (_, _, d2,  v2) = pop(fringe[1])\n",
    "\n",
    "        for u, e in adjacency[v1].items():\n",
    "            vu_dist = d1 + e['length']\n",
    "            if u not in dist[0] or dist[0][u][0] > vu_dist:\n",
    "                dist[0][u] = (vu_dist, v1)\n",
    "                lu = func(u,end)\n",
    "                push(fringe[0], (vu_dist + lu, next(c), vu_dist, u))\n",
    "        for u, e in adjacency[v2].items():\n",
    "            vu_dist = d2 + e['length']\n",
    "            if u not in dist[1] or dist[1][u][0] > vu_dist:\n",
    "                dist[1][u] = (vu_dist, v2)\n",
    "                lu = func(u,start)\n",
    "                push(fringe[1], (vu_dist + lu, next(c), vu_dist, u))\n",
    "        if v1 in seen[1]:\n",
    "            union_node = v1\n",
    "            union_dst = dist[0][v1][0] + dist[1][v1][0]\n",
    "            break\n",
    "        if v2 in seen[0]:\n",
    "            union_node = v2\n",
    "            union_dst = dist[0][v2][0] + dist[1][v2][0]\n",
    "            break\n",
    "        seen[0].add(v1)\n",
    "        seen[1].add(v2)\n",
    "        \n",
    "    for (_, _, d1, v1) in fringe[0]:\n",
    "        if v1 in dist[1]:\n",
    "            dd = dist[1][v1][0] + dist[0][v1][0]\n",
    "            if dd < union_dst:\n",
    "                union_dst = dd\n",
    "                union_node = v1\n",
    "        for u, e in adjacency[v1].items():\n",
    "            if u in dist[1]:\n",
    "                if u not in dist[0]:\n",
    "                    vu_dist = d1 + e['length']\n",
    "                    dist[0][u] = (vu_dist, v1)    \n",
    "                dd = dist[1][u][0] + dist[0][u][0]\n",
    "                if dd < union_dst:\n",
    "                    union_dst = dd\n",
    "                    union_node = u\n",
    "                    \n",
    "    for (_, _, d2, v2) in  fringe[1]:\n",
    "        if v2 in dist[0]:\n",
    "            dd = dist[1][v2][0] + dist[0][v2][0]\n",
    "            if dd < union_dst:\n",
    "                union_dst = dd\n",
    "                union_node = v2\n",
    "        for u, e in adjacency[v2].items():\n",
    "            if u in dist[0]:\n",
    "                if u not in dist[1]:\n",
    "                    vu_dist = d2 + e['length']\n",
    "                    dist[1][u] = (vu_dist, v2)\n",
    "                dd = dist[1][u][0] + dist[0][u][0]\n",
    "                if dd < union_dst:\n",
    "                    union_dst = dd\n",
    "                    union_node = u\n",
    "    path = []\n",
    "    e = union_node\n",
    "    while dist[0][e][1] is not None:\n",
    "        path = [e] + path\n",
    "        e = dist[0][e][1]\n",
    "    path = [e] + path\n",
    "\n",
    "    e = union_node\n",
    "    while dist[1][e][1] is not None:\n",
    "        e = dist[1][e][1]\n",
    "        path += [e]\n",
    "\n",
    "    l = 0\n",
    "    e = g.edges()\n",
    "    for i in range(len(path) - 1):\n",
    "        p1, p2 = path[i], path[i + 1]\n",
    "        l += e[p1, p2]['length']\n",
    "    return l, path"
   ]
  },
  {
   "cell_type": "code",
   "execution_count": 179,
   "id": "a30e70cfa72463f4",
   "metadata": {
    "ExecuteTime": {
     "end_time": "2024-11-26T08:42:46.267322Z",
     "start_time": "2024-11-26T08:42:46.012623Z"
    },
    "collapsed": false
   },
   "outputs": [
    {
     "data": {
      "application/vnd.jupyter.widget-view+json": {
       "model_id": "477be7f635754ad39d5705281a57f9b2",
       "version_major": 2,
       "version_minor": 0
      },
      "text/plain": [
       "generate points:   0%|          | 0/1000 [00:00<?, ?it/s]"
      ]
     },
     "metadata": {},
     "output_type": "display_data"
    }
   ],
   "source": [
    "points = [utils.get_node_for_initial_graph_v2(g) for _ in trange(1000, desc='generate points')]"
   ]
  },
  {
   "cell_type": "code",
   "execution_count": 180,
   "id": "7312717ee99a6dc",
   "metadata": {
    "ExecuteTime": {
     "end_time": "2024-11-26T08:46:43.639523Z",
     "start_time": "2024-11-26T08:45:38.827762Z"
    },
    "collapsed": false
   },
   "outputs": [],
   "source": [
    "NUM_ITERATION = 3  # чтобы уменьшить ошибку при вычислении времени выполнения, при каждом замере время меряется для NUM_ITERATION повторений\n",
    "WORKER = 1  # количество потоков\n",
    "\n",
    "\n",
    "def do_calc(data):\n",
    "    pps, worker_id = data\n",
    "\n",
    "    stat = {\n",
    "        'l': [],\n",
    "        'h_l': [],\n",
    "        'p': [],\n",
    "        'h_p': [],\n",
    "        'time_l': [],\n",
    "        'time_h': [],\n",
    "        'delta': [],\n",
    "    }\n",
    "\n",
    "    # Чтобы `tqdm` корректно отображался для каждого WORKER\n",
    "    sleep(worker_id / 10)\n",
    "    print(f\"INFO: Worker {worker_id} started\")\n",
    "\n",
    "    for p1, p2 in tqdm(pps, desc=f'Worker {worker_id} - find paths', position=worker_id):\n",
    "        if (p1, p2) in stat:\n",
    "            continue\n",
    "\n",
    "        # Классический алгоритм Дейкстры\n",
    "        l, p = None, None\n",
    "        start = time.time()\n",
    "        for _ in range(NUM_ITERATION):\n",
    "            l, p = nx.single_source_dijkstra(g, p1, p2, weight='length')\n",
    "        time_l = (time.time() - start) / NUM_ITERATION\n",
    "\n",
    "        # Иерархический алгоритм\n",
    "        h_l, h_p = None, None\n",
    "        start = time.time()\n",
    "        for _ in range(NUM_ITERATION):\n",
    "            h_l, h_p = dijkstra_pfa_cls(g, p1, p2)\n",
    "        time_h = (time.time() - start) / NUM_ITERATION\n",
    "\n",
    "        # Вычисление относительной ошибки\n",
    "        delta = (h_l - l) / l * 100 if l != 0 else 0\n",
    "\n",
    "        # Сохранение результатов\n",
    "        stat['l'].append(l)\n",
    "        stat['h_l'].append(h_l)\n",
    "        stat['p'].append(p)\n",
    "        stat['h_p'].append(h_p)\n",
    "        stat['delta'].append(delta)\n",
    "        stat['time_l'].append(time_l)\n",
    "        stat['time_h'].append(time_h)\n",
    "\n",
    "    return stat"
   ]
  },
  {
   "cell_type": "code",
   "execution_count": 181,
   "id": "e0569371",
   "metadata": {},
   "outputs": [
    {
     "name": "stderr",
     "output_type": "stream",
     "text": []
    },
    {
     "name": "stdout",
     "output_type": "stream",
     "text": [
      "\n",
      "\n",
      "\n",
      "\n",
      "\n",
      "\n"
     ]
    },
    {
     "name": "stderr",
     "output_type": "stream",
     "text": []
    },
    {
     "name": "stdout",
     "output_type": "stream",
     "text": [
      "\n",
      "\n",
      "\n"
     ]
    },
    {
     "name": "stderr",
     "output_type": "stream",
     "text": []
    },
    {
     "name": "stdout",
     "output_type": "stream",
     "text": [
      "\n",
      "\n",
      "\n",
      "\n",
      "\n"
     ]
    },
    {
     "name": "stderr",
     "output_type": "stream",
     "text": []
    },
    {
     "name": "stdout",
     "output_type": "stream",
     "text": [
      "\n"
     ]
    },
    {
     "name": "stderr",
     "output_type": "stream",
     "text": []
    },
    {
     "name": "stdout",
     "output_type": "stream",
     "text": [
      "\n",
      "\n",
      "\n"
     ]
    },
    {
     "name": "stderr",
     "output_type": "stream",
     "text": [
      "\n"
     ]
    },
    {
     "name": "stdout",
     "output_type": "stream",
     "text": [
      "\n",
      "\n",
      "\n"
     ]
    },
    {
     "name": "stderr",
     "output_type": "stream",
     "text": [
      "Worker 1 - find paths:  13%|█▎        | 127/1000 [00:55<07:36,  1.91it/s]\u001b[A"
     ]
    },
    {
     "name": "stdout",
     "output_type": "stream",
     "text": [
      "\n",
      "\n",
      "\n"
     ]
    },
    {
     "name": "stderr",
     "output_type": "stream",
     "text": []
    },
    {
     "name": "stdout",
     "output_type": "stream",
     "text": [
      "\n",
      "\n",
      "\n"
     ]
    },
    {
     "name": "stderr",
     "output_type": "stream",
     "text": []
    },
    {
     "name": "stdout",
     "output_type": "stream",
     "text": [
      "\n",
      "\n"
     ]
    },
    {
     "name": "stderr",
     "output_type": "stream",
     "text": []
    },
    {
     "name": "stdout",
     "output_type": "stream",
     "text": [
      "\n",
      "\n",
      "\n",
      "\n"
     ]
    },
    {
     "name": "stderr",
     "output_type": "stream",
     "text": []
    },
    {
     "name": "stdout",
     "output_type": "stream",
     "text": [
      "\n",
      "\n",
      "\n",
      "\n",
      "\n"
     ]
    },
    {
     "name": "stderr",
     "output_type": "stream",
     "text": []
    },
    {
     "name": "stdout",
     "output_type": "stream",
     "text": [
      "\n",
      "\n",
      "\n",
      "\n",
      "\n",
      "\n",
      "\n"
     ]
    },
    {
     "name": "stderr",
     "output_type": "stream",
     "text": []
    },
    {
     "name": "stdout",
     "output_type": "stream",
     "text": [
      "\n",
      "\n",
      "\n"
     ]
    },
    {
     "name": "stderr",
     "output_type": "stream",
     "text": []
    },
    {
     "name": "stdout",
     "output_type": "stream",
     "text": [
      "\n",
      "\n",
      "\n",
      "\n",
      "\n",
      "\n",
      "\n",
      "\n",
      "\n"
     ]
    },
    {
     "name": "stderr",
     "output_type": "stream",
     "text": []
    },
    {
     "name": "stdout",
     "output_type": "stream",
     "text": [
      "\n",
      "\n",
      "\n",
      "\n",
      "\n",
      "\n"
     ]
    },
    {
     "name": "stderr",
     "output_type": "stream",
     "text": []
    },
    {
     "name": "stdout",
     "output_type": "stream",
     "text": [
      "\n",
      "\n",
      "\n",
      "\n",
      "\n",
      "\n"
     ]
    },
    {
     "name": "stderr",
     "output_type": "stream",
     "text": []
    },
    {
     "name": "stdout",
     "output_type": "stream",
     "text": [
      "\n",
      "\n",
      "\n",
      "\n",
      "\n"
     ]
    },
    {
     "name": "stderr",
     "output_type": "stream",
     "text": []
    },
    {
     "name": "stdout",
     "output_type": "stream",
     "text": [
      "\n",
      "\n",
      "\n",
      "\n"
     ]
    },
    {
     "name": "stderr",
     "output_type": "stream",
     "text": [
      "\n"
     ]
    },
    {
     "name": "stdout",
     "output_type": "stream",
     "text": [
      "\n",
      "\n",
      "\n"
     ]
    },
    {
     "name": "stderr",
     "output_type": "stream",
     "text": [
      "Worker 1 - find paths:  15%|█▍        | 147/1000 [01:02<03:28,  4.09it/s]\u001b[A"
     ]
    },
    {
     "name": "stdout",
     "output_type": "stream",
     "text": [
      "\n",
      "\n",
      "\n",
      "\n",
      "\n",
      "\n"
     ]
    },
    {
     "name": "stderr",
     "output_type": "stream",
     "text": []
    },
    {
     "name": "stdout",
     "output_type": "stream",
     "text": [
      "\n",
      "\n",
      "\n"
     ]
    },
    {
     "name": "stderr",
     "output_type": "stream",
     "text": []
    },
    {
     "name": "stdout",
     "output_type": "stream",
     "text": [
      "\n",
      "\n",
      "\n",
      "\n",
      "\n",
      "\n"
     ]
    },
    {
     "name": "stderr",
     "output_type": "stream",
     "text": []
    },
    {
     "name": "stdout",
     "output_type": "stream",
     "text": [
      "\n",
      "\n",
      "\n",
      "\n",
      "\n",
      "\n",
      "\n",
      "\n",
      "\n",
      "\n",
      "\n",
      "\n"
     ]
    },
    {
     "name": "stderr",
     "output_type": "stream",
     "text": []
    },
    {
     "name": "stdout",
     "output_type": "stream",
     "text": [
      "\n",
      "\n",
      "\n",
      "\n",
      "\n",
      "\n"
     ]
    },
    {
     "name": "stderr",
     "output_type": "stream",
     "text": []
    },
    {
     "name": "stdout",
     "output_type": "stream",
     "text": [
      "\n",
      "\n",
      "\n",
      "\n",
      "\n",
      "\n"
     ]
    },
    {
     "name": "stderr",
     "output_type": "stream",
     "text": []
    },
    {
     "name": "stdout",
     "output_type": "stream",
     "text": [
      "\n",
      "\n",
      "\n",
      "\n",
      "\n",
      "\n",
      "\n",
      "\n",
      "\n"
     ]
    },
    {
     "name": "stderr",
     "output_type": "stream",
     "text": []
    },
    {
     "name": "stdout",
     "output_type": "stream",
     "text": [
      "\n",
      "\n",
      "\n",
      "\n",
      "\n",
      "\n"
     ]
    },
    {
     "name": "stderr",
     "output_type": "stream",
     "text": []
    },
    {
     "name": "stdout",
     "output_type": "stream",
     "text": [
      "\n",
      "\n",
      "\n"
     ]
    },
    {
     "name": "stderr",
     "output_type": "stream",
     "text": []
    },
    {
     "name": "stdout",
     "output_type": "stream",
     "text": [
      "\n",
      "\n",
      "\n",
      "\n",
      "\n"
     ]
    },
    {
     "name": "stderr",
     "output_type": "stream",
     "text": []
    },
    {
     "name": "stdout",
     "output_type": "stream",
     "text": [
      "\n"
     ]
    },
    {
     "name": "stderr",
     "output_type": "stream",
     "text": []
    },
    {
     "name": "stdout",
     "output_type": "stream",
     "text": [
      "\n",
      "\n",
      "\n"
     ]
    },
    {
     "name": "stderr",
     "output_type": "stream",
     "text": []
    },
    {
     "name": "stdout",
     "output_type": "stream",
     "text": [
      "\n",
      "\n",
      "\n",
      "\n",
      "\n"
     ]
    },
    {
     "name": "stderr",
     "output_type": "stream",
     "text": []
    },
    {
     "name": "stdout",
     "output_type": "stream",
     "text": [
      "\n"
     ]
    },
    {
     "name": "stderr",
     "output_type": "stream",
     "text": []
    },
    {
     "name": "stdout",
     "output_type": "stream",
     "text": [
      "\n",
      "\n",
      "\n"
     ]
    },
    {
     "name": "stderr",
     "output_type": "stream",
     "text": []
    },
    {
     "name": "stdout",
     "output_type": "stream",
     "text": [
      "\n",
      "\n",
      "\n"
     ]
    },
    {
     "name": "stderr",
     "output_type": "stream",
     "text": []
    },
    {
     "name": "stdout",
     "output_type": "stream",
     "text": [
      "\n",
      "\n",
      "\n"
     ]
    },
    {
     "name": "stderr",
     "output_type": "stream",
     "text": []
    },
    {
     "name": "stdout",
     "output_type": "stream",
     "text": [
      "\n",
      "\n",
      "\n",
      "\n",
      "\n",
      "\n",
      "\n",
      "\n",
      "\n"
     ]
    },
    {
     "name": "stderr",
     "output_type": "stream",
     "text": []
    },
    {
     "name": "stdout",
     "output_type": "stream",
     "text": [
      "\n",
      "\n",
      "\n"
     ]
    },
    {
     "name": "stderr",
     "output_type": "stream",
     "text": []
    },
    {
     "name": "stdout",
     "output_type": "stream",
     "text": [
      "\n",
      "\n",
      "\n"
     ]
    },
    {
     "name": "stderr",
     "output_type": "stream",
     "text": []
    },
    {
     "name": "stdout",
     "output_type": "stream",
     "text": [
      "\n",
      "\n",
      "\n",
      "\n",
      "\n",
      "\n"
     ]
    },
    {
     "name": "stderr",
     "output_type": "stream",
     "text": []
    },
    {
     "name": "stdout",
     "output_type": "stream",
     "text": [
      "\n",
      "\n",
      "\n",
      "\n",
      "\n"
     ]
    },
    {
     "name": "stderr",
     "output_type": "stream",
     "text": [
      "\n"
     ]
    },
    {
     "name": "stdout",
     "output_type": "stream",
     "text": [
      "\n"
     ]
    },
    {
     "name": "stderr",
     "output_type": "stream",
     "text": [
      "Worker 1 - find paths:  18%|█▊        | 183/1000 [01:13<05:34,  2.45it/s]\u001b[A"
     ]
    },
    {
     "name": "stdout",
     "output_type": "stream",
     "text": [
      "\n",
      "\n",
      "\n"
     ]
    },
    {
     "name": "stderr",
     "output_type": "stream",
     "text": [
      "\n",
      "Worker 1 - find paths:  18%|█▊        | 185/1000 [01:14<05:46,  2.35it/s]"
     ]
    },
    {
     "name": "stdout",
     "output_type": "stream",
     "text": [
      "\n",
      "\n",
      "\n"
     ]
    },
    {
     "name": "stderr",
     "output_type": "stream",
     "text": [
      "\u001b[A"
     ]
    },
    {
     "name": "stdout",
     "output_type": "stream",
     "text": [
      "\n",
      "\n",
      "\n"
     ]
    },
    {
     "name": "stderr",
     "output_type": "stream",
     "text": []
    },
    {
     "name": "stdout",
     "output_type": "stream",
     "text": [
      "\n",
      "\n",
      "\n",
      "\n",
      "\n",
      "\n",
      "\n"
     ]
    },
    {
     "name": "stderr",
     "output_type": "stream",
     "text": []
    },
    {
     "name": "stdout",
     "output_type": "stream",
     "text": [
      "\n",
      "\n",
      "\n",
      "\n"
     ]
    },
    {
     "name": "stderr",
     "output_type": "stream",
     "text": []
    },
    {
     "name": "stdout",
     "output_type": "stream",
     "text": [
      "\n",
      "\n",
      "\n",
      "\n"
     ]
    },
    {
     "name": "stderr",
     "output_type": "stream",
     "text": []
    },
    {
     "name": "stdout",
     "output_type": "stream",
     "text": [
      "\n",
      "\n",
      "\n"
     ]
    },
    {
     "name": "stderr",
     "output_type": "stream",
     "text": []
    },
    {
     "name": "stdout",
     "output_type": "stream",
     "text": [
      "\n",
      "\n",
      "\n"
     ]
    },
    {
     "name": "stderr",
     "output_type": "stream",
     "text": []
    },
    {
     "name": "stdout",
     "output_type": "stream",
     "text": [
      "\n",
      "\n",
      "\n"
     ]
    },
    {
     "name": "stderr",
     "output_type": "stream",
     "text": []
    },
    {
     "name": "stdout",
     "output_type": "stream",
     "text": [
      "\n",
      "\n",
      "\n"
     ]
    },
    {
     "name": "stderr",
     "output_type": "stream",
     "text": []
    },
    {
     "name": "stdout",
     "output_type": "stream",
     "text": [
      "\n",
      "\n",
      "\n"
     ]
    },
    {
     "name": "stderr",
     "output_type": "stream",
     "text": []
    },
    {
     "name": "stdout",
     "output_type": "stream",
     "text": [
      "\n",
      "\n",
      "\n",
      "\n",
      "\n",
      "\n"
     ]
    },
    {
     "name": "stderr",
     "output_type": "stream",
     "text": []
    },
    {
     "name": "stdout",
     "output_type": "stream",
     "text": [
      "\n",
      "\n",
      "\n",
      "\n",
      "\n",
      "\n"
     ]
    },
    {
     "name": "stderr",
     "output_type": "stream",
     "text": []
    },
    {
     "name": "stdout",
     "output_type": "stream",
     "text": [
      "\n",
      "\n"
     ]
    },
    {
     "name": "stderr",
     "output_type": "stream",
     "text": []
    },
    {
     "name": "stdout",
     "output_type": "stream",
     "text": [
      "\n"
     ]
    },
    {
     "name": "stderr",
     "output_type": "stream",
     "text": []
    },
    {
     "name": "stdout",
     "output_type": "stream",
     "text": [
      "\n",
      "\n",
      "\n",
      "\n",
      "\n",
      "\n",
      "\n",
      "\n",
      "\n"
     ]
    },
    {
     "name": "stderr",
     "output_type": "stream",
     "text": []
    },
    {
     "name": "stdout",
     "output_type": "stream",
     "text": [
      "\n",
      "\n",
      "\n"
     ]
    },
    {
     "name": "stderr",
     "output_type": "stream",
     "text": []
    },
    {
     "name": "stdout",
     "output_type": "stream",
     "text": [
      "\n",
      "\n",
      "\n"
     ]
    },
    {
     "name": "stderr",
     "output_type": "stream",
     "text": [
      "\n"
     ]
    },
    {
     "name": "stdout",
     "output_type": "stream",
     "text": [
      "\n",
      "\n",
      "\n",
      "\n",
      "\n",
      "\n"
     ]
    },
    {
     "name": "stderr",
     "output_type": "stream",
     "text": [
      "Worker 1 - find paths:  21%|██        | 208/1000 [01:21<03:34,  3.70it/s]\u001b[A"
     ]
    },
    {
     "name": "stdout",
     "output_type": "stream",
     "text": [
      "\n",
      "\n",
      "\n"
     ]
    },
    {
     "name": "stderr",
     "output_type": "stream",
     "text": []
    },
    {
     "name": "stdout",
     "output_type": "stream",
     "text": [
      "\n",
      "\n"
     ]
    },
    {
     "name": "stderr",
     "output_type": "stream",
     "text": []
    },
    {
     "name": "stdout",
     "output_type": "stream",
     "text": [
      "\n"
     ]
    },
    {
     "name": "stderr",
     "output_type": "stream",
     "text": []
    },
    {
     "name": "stdout",
     "output_type": "stream",
     "text": [
      "\n",
      "\n",
      "\n",
      "\n",
      "\n"
     ]
    },
    {
     "name": "stderr",
     "output_type": "stream",
     "text": []
    },
    {
     "name": "stdout",
     "output_type": "stream",
     "text": [
      "\n",
      "\n",
      "\n",
      "\n"
     ]
    },
    {
     "name": "stderr",
     "output_type": "stream",
     "text": []
    },
    {
     "name": "stdout",
     "output_type": "stream",
     "text": [
      "\n",
      "\n",
      "\n",
      "\n",
      "\n",
      "\n"
     ]
    },
    {
     "name": "stderr",
     "output_type": "stream",
     "text": []
    },
    {
     "name": "stdout",
     "output_type": "stream",
     "text": [
      "\n",
      "\n",
      "\n"
     ]
    },
    {
     "name": "stderr",
     "output_type": "stream",
     "text": []
    },
    {
     "name": "stdout",
     "output_type": "stream",
     "text": [
      "\n",
      "\n",
      "\n",
      "\n",
      "\n",
      "\n"
     ]
    },
    {
     "name": "stderr",
     "output_type": "stream",
     "text": []
    },
    {
     "name": "stdout",
     "output_type": "stream",
     "text": [
      "\n",
      "\n",
      "\n",
      "\n",
      "\n",
      "\n"
     ]
    },
    {
     "name": "stderr",
     "output_type": "stream",
     "text": []
    },
    {
     "name": "stdout",
     "output_type": "stream",
     "text": [
      "\n",
      "\n",
      "\n"
     ]
    },
    {
     "name": "stderr",
     "output_type": "stream",
     "text": [
      "\n"
     ]
    },
    {
     "name": "stdout",
     "output_type": "stream",
     "text": [
      "\n",
      "\n",
      "\n",
      "\n",
      "\n",
      "\n"
     ]
    },
    {
     "name": "stderr",
     "output_type": "stream",
     "text": [
      "Worker 1 - find paths:  22%|██▏       | 223/1000 [01:27<03:04,  4.21it/s]\u001b[A"
     ]
    },
    {
     "name": "stdout",
     "output_type": "stream",
     "text": [
      "\n",
      "\n",
      "\n",
      "\n",
      "\n",
      "\n"
     ]
    },
    {
     "name": "stderr",
     "output_type": "stream",
     "text": []
    },
    {
     "name": "stdout",
     "output_type": "stream",
     "text": [
      "\n",
      "\n",
      "\n",
      "\n",
      "\n",
      "\n",
      "\n",
      "\n",
      "\n"
     ]
    },
    {
     "name": "stderr",
     "output_type": "stream",
     "text": []
    },
    {
     "name": "stdout",
     "output_type": "stream",
     "text": [
      "\n",
      "\n",
      "\n"
     ]
    },
    {
     "name": "stderr",
     "output_type": "stream",
     "text": []
    },
    {
     "name": "stdout",
     "output_type": "stream",
     "text": [
      "\n",
      "\n"
     ]
    },
    {
     "name": "stderr",
     "output_type": "stream",
     "text": []
    },
    {
     "name": "stdout",
     "output_type": "stream",
     "text": [
      "\n",
      "\n",
      "\n"
     ]
    },
    {
     "name": "stderr",
     "output_type": "stream",
     "text": []
    },
    {
     "name": "stdout",
     "output_type": "stream",
     "text": [
      "\n"
     ]
    },
    {
     "name": "stderr",
     "output_type": "stream",
     "text": []
    },
    {
     "name": "stdout",
     "output_type": "stream",
     "text": [
      "\n",
      "\n",
      "\n",
      "\n",
      "\n"
     ]
    },
    {
     "name": "stderr",
     "output_type": "stream",
     "text": [
      "\n"
     ]
    },
    {
     "name": "stdout",
     "output_type": "stream",
     "text": [
      "\n"
     ]
    },
    {
     "name": "stderr",
     "output_type": "stream",
     "text": [
      "Worker 1 - find paths:  23%|██▎       | 233/1000 [01:32<08:10,  1.56it/s]\u001b[A"
     ]
    },
    {
     "name": "stdout",
     "output_type": "stream",
     "text": [
      "\n",
      "\n",
      "\n",
      "\n",
      "\n",
      "\n"
     ]
    },
    {
     "name": "stderr",
     "output_type": "stream",
     "text": []
    },
    {
     "name": "stdout",
     "output_type": "stream",
     "text": [
      "\n",
      "\n"
     ]
    },
    {
     "name": "stderr",
     "output_type": "stream",
     "text": [
      "\n"
     ]
    },
    {
     "name": "stdout",
     "output_type": "stream",
     "text": [
      "\n"
     ]
    },
    {
     "name": "stderr",
     "output_type": "stream",
     "text": [
      "Worker 1 - find paths:  24%|██▎       | 236/1000 [01:34<08:20,  1.53it/s]\u001b[A"
     ]
    },
    {
     "name": "stdout",
     "output_type": "stream",
     "text": [
      "\n",
      "\n",
      "\n",
      "\n",
      "\n",
      "\n"
     ]
    },
    {
     "name": "stderr",
     "output_type": "stream",
     "text": []
    },
    {
     "name": "stdout",
     "output_type": "stream",
     "text": [
      "\n",
      "\n",
      "\n"
     ]
    },
    {
     "name": "stderr",
     "output_type": "stream",
     "text": []
    },
    {
     "name": "stdout",
     "output_type": "stream",
     "text": [
      "\n",
      "\n",
      "\n",
      "\n",
      "\n"
     ]
    },
    {
     "name": "stderr",
     "output_type": "stream",
     "text": []
    },
    {
     "name": "stdout",
     "output_type": "stream",
     "text": [
      "\n",
      "\n",
      "\n"
     ]
    },
    {
     "name": "stderr",
     "output_type": "stream",
     "text": []
    },
    {
     "name": "stdout",
     "output_type": "stream",
     "text": [
      "\n"
     ]
    },
    {
     "name": "stderr",
     "output_type": "stream",
     "text": [
      "\n"
     ]
    },
    {
     "name": "stdout",
     "output_type": "stream",
     "text": [
      "\n",
      "\n",
      "\n"
     ]
    },
    {
     "name": "stderr",
     "output_type": "stream",
     "text": [
      "Worker 1 - find paths:  24%|██▍       | 243/1000 [01:36<05:45,  2.19it/s]\u001b[A"
     ]
    },
    {
     "name": "stdout",
     "output_type": "stream",
     "text": [
      "\n",
      "\n",
      "\n",
      "\n",
      "\n"
     ]
    },
    {
     "name": "stderr",
     "output_type": "stream",
     "text": []
    },
    {
     "name": "stdout",
     "output_type": "stream",
     "text": [
      "\n",
      "\n",
      "\n",
      "\n"
     ]
    },
    {
     "name": "stderr",
     "output_type": "stream",
     "text": []
    },
    {
     "name": "stdout",
     "output_type": "stream",
     "text": [
      "\n",
      "\n",
      "\n",
      "\n",
      "\n"
     ]
    },
    {
     "name": "stderr",
     "output_type": "stream",
     "text": []
    },
    {
     "name": "stdout",
     "output_type": "stream",
     "text": [
      "\n"
     ]
    },
    {
     "name": "stderr",
     "output_type": "stream",
     "text": []
    },
    {
     "name": "stdout",
     "output_type": "stream",
     "text": [
      "\n",
      "\n",
      "\n",
      "\n",
      "\n"
     ]
    },
    {
     "name": "stderr",
     "output_type": "stream",
     "text": []
    },
    {
     "name": "stdout",
     "output_type": "stream",
     "text": [
      "\n",
      "\n",
      "\n",
      "\n"
     ]
    },
    {
     "name": "stderr",
     "output_type": "stream",
     "text": []
    },
    {
     "name": "stdout",
     "output_type": "stream",
     "text": [
      "\n",
      "\n",
      "\n",
      "\n",
      "\n",
      "\n"
     ]
    },
    {
     "name": "stderr",
     "output_type": "stream",
     "text": []
    },
    {
     "name": "stdout",
     "output_type": "stream",
     "text": [
      "\n",
      "\n",
      "\n",
      "\n",
      "\n",
      "\n",
      "\n",
      "\n",
      "\n"
     ]
    },
    {
     "name": "stderr",
     "output_type": "stream",
     "text": []
    },
    {
     "name": "stdout",
     "output_type": "stream",
     "text": [
      "\n",
      "\n",
      "\n",
      "\n",
      "\n"
     ]
    },
    {
     "name": "stderr",
     "output_type": "stream",
     "text": []
    },
    {
     "name": "stdout",
     "output_type": "stream",
     "text": [
      "\n"
     ]
    },
    {
     "name": "stderr",
     "output_type": "stream",
     "text": []
    },
    {
     "name": "stdout",
     "output_type": "stream",
     "text": [
      "\n",
      "\n",
      "\n",
      "\n",
      "\n",
      "\n"
     ]
    },
    {
     "name": "stderr",
     "output_type": "stream",
     "text": []
    },
    {
     "name": "stdout",
     "output_type": "stream",
     "text": [
      "\n",
      "\n",
      "\n"
     ]
    },
    {
     "name": "stderr",
     "output_type": "stream",
     "text": []
    },
    {
     "name": "stdout",
     "output_type": "stream",
     "text": [
      "\n",
      "\n",
      "\n",
      "\n",
      "\n",
      "\n"
     ]
    },
    {
     "name": "stderr",
     "output_type": "stream",
     "text": []
    },
    {
     "name": "stdout",
     "output_type": "stream",
     "text": [
      "\n",
      "\n",
      "\n"
     ]
    },
    {
     "name": "stderr",
     "output_type": "stream",
     "text": []
    },
    {
     "name": "stdout",
     "output_type": "stream",
     "text": [
      "\n",
      "\n",
      "\n",
      "\n",
      "\n",
      "\n"
     ]
    },
    {
     "name": "stderr",
     "output_type": "stream",
     "text": []
    },
    {
     "name": "stdout",
     "output_type": "stream",
     "text": [
      "\n",
      "\n",
      "\n"
     ]
    },
    {
     "name": "stderr",
     "output_type": "stream",
     "text": []
    },
    {
     "name": "stdout",
     "output_type": "stream",
     "text": [
      "\n",
      "\n",
      "\n",
      "\n",
      "\n",
      "\n",
      "\n",
      "\n",
      "\n"
     ]
    },
    {
     "name": "stderr",
     "output_type": "stream",
     "text": []
    },
    {
     "name": "stdout",
     "output_type": "stream",
     "text": [
      "\n",
      "\n",
      "\n"
     ]
    },
    {
     "name": "stderr",
     "output_type": "stream",
     "text": []
    },
    {
     "name": "stdout",
     "output_type": "stream",
     "text": [
      "\n",
      "\n",
      "\n"
     ]
    },
    {
     "name": "stderr",
     "output_type": "stream",
     "text": []
    },
    {
     "name": "stdout",
     "output_type": "stream",
     "text": [
      "\n",
      "\n",
      "\n",
      "\n",
      "\n",
      "\n",
      "\n",
      "\n"
     ]
    },
    {
     "name": "stderr",
     "output_type": "stream",
     "text": []
    },
    {
     "name": "stdout",
     "output_type": "stream",
     "text": [
      "\n"
     ]
    },
    {
     "name": "stderr",
     "output_type": "stream",
     "text": []
    },
    {
     "name": "stdout",
     "output_type": "stream",
     "text": [
      "\n",
      "\n",
      "\n",
      "\n",
      "\n",
      "\n"
     ]
    },
    {
     "name": "stderr",
     "output_type": "stream",
     "text": []
    },
    {
     "name": "stdout",
     "output_type": "stream",
     "text": [
      "\n",
      "\n",
      "\n",
      "\n",
      "\n",
      "\n",
      "\n",
      "\n",
      "\n",
      "\n",
      "\n",
      "\n",
      "\n",
      "\n",
      "\n"
     ]
    },
    {
     "name": "stderr",
     "output_type": "stream",
     "text": []
    },
    {
     "name": "stdout",
     "output_type": "stream",
     "text": [
      "\n",
      "\n",
      "\n",
      "\n",
      "\n",
      "\n",
      "\n",
      "\n",
      "\n"
     ]
    },
    {
     "name": "stderr",
     "output_type": "stream",
     "text": []
    },
    {
     "name": "stdout",
     "output_type": "stream",
     "text": [
      "\n",
      "\n",
      "\n",
      "\n",
      "\n",
      "\n"
     ]
    },
    {
     "name": "stderr",
     "output_type": "stream",
     "text": []
    },
    {
     "name": "stdout",
     "output_type": "stream",
     "text": [
      "\n",
      "\n",
      "\n",
      "\n",
      "\n",
      "\n"
     ]
    },
    {
     "name": "stderr",
     "output_type": "stream",
     "text": []
    },
    {
     "name": "stdout",
     "output_type": "stream",
     "text": [
      "\n",
      "\n",
      "\n",
      "\n",
      "\n"
     ]
    },
    {
     "name": "stderr",
     "output_type": "stream",
     "text": []
    },
    {
     "name": "stdout",
     "output_type": "stream",
     "text": [
      "\n",
      "\n",
      "\n"
     ]
    },
    {
     "name": "stderr",
     "output_type": "stream",
     "text": []
    },
    {
     "name": "stdout",
     "output_type": "stream",
     "text": [
      "\n",
      "\n",
      "\n",
      "\n"
     ]
    },
    {
     "name": "stderr",
     "output_type": "stream",
     "text": []
    },
    {
     "name": "stdout",
     "output_type": "stream",
     "text": [
      "\n",
      "\n",
      "\n"
     ]
    },
    {
     "name": "stderr",
     "output_type": "stream",
     "text": []
    },
    {
     "name": "stdout",
     "output_type": "stream",
     "text": [
      "\n",
      "\n",
      "\n"
     ]
    },
    {
     "name": "stderr",
     "output_type": "stream",
     "text": []
    },
    {
     "name": "stdout",
     "output_type": "stream",
     "text": [
      "\n",
      "\n",
      "\n"
     ]
    },
    {
     "name": "stderr",
     "output_type": "stream",
     "text": []
    },
    {
     "name": "stdout",
     "output_type": "stream",
     "text": [
      "\n",
      "\n",
      "\n",
      "\n",
      "\n",
      "\n"
     ]
    },
    {
     "name": "stderr",
     "output_type": "stream",
     "text": []
    },
    {
     "name": "stdout",
     "output_type": "stream",
     "text": [
      "\n",
      "\n",
      "\n"
     ]
    },
    {
     "name": "stderr",
     "output_type": "stream",
     "text": []
    },
    {
     "name": "stdout",
     "output_type": "stream",
     "text": [
      "\n",
      "\n",
      "\n",
      "\n",
      "\n",
      "\n",
      "\n",
      "\n",
      "\n"
     ]
    },
    {
     "name": "stderr",
     "output_type": "stream",
     "text": []
    },
    {
     "name": "stdout",
     "output_type": "stream",
     "text": [
      "\n",
      "\n",
      "\n",
      "\n",
      "\n",
      "\n"
     ]
    },
    {
     "name": "stderr",
     "output_type": "stream",
     "text": []
    },
    {
     "name": "stdout",
     "output_type": "stream",
     "text": [
      "\n",
      "\n",
      "\n",
      "\n",
      "\n"
     ]
    },
    {
     "name": "stderr",
     "output_type": "stream",
     "text": []
    },
    {
     "name": "stdout",
     "output_type": "stream",
     "text": [
      "\n",
      "\n",
      "\n",
      "\n"
     ]
    },
    {
     "name": "stderr",
     "output_type": "stream",
     "text": []
    },
    {
     "name": "stdout",
     "output_type": "stream",
     "text": [
      "\n",
      "\n",
      "\n",
      "\n",
      "\n",
      "\n",
      "\n",
      "\n",
      "\n",
      "\n",
      "\n"
     ]
    },
    {
     "name": "stderr",
     "output_type": "stream",
     "text": [
      "\n"
     ]
    },
    {
     "name": "stdout",
     "output_type": "stream",
     "text": [
      "\n"
     ]
    },
    {
     "name": "stderr",
     "output_type": "stream",
     "text": [
      "Worker 1 - find paths:  31%|███       | 311/1000 [01:58<03:17,  3.50it/s]\u001b[A"
     ]
    },
    {
     "name": "stdout",
     "output_type": "stream",
     "text": [
      "\n",
      "\n",
      "\n"
     ]
    },
    {
     "name": "stderr",
     "output_type": "stream",
     "text": []
    },
    {
     "name": "stdout",
     "output_type": "stream",
     "text": [
      "\n",
      "\n",
      "\n",
      "\n",
      "\n"
     ]
    },
    {
     "name": "stderr",
     "output_type": "stream",
     "text": []
    },
    {
     "name": "stdout",
     "output_type": "stream",
     "text": [
      "\n"
     ]
    },
    {
     "name": "stderr",
     "output_type": "stream",
     "text": []
    },
    {
     "name": "stdout",
     "output_type": "stream",
     "text": [
      "\n",
      "\n",
      "\n",
      "\n",
      "\n"
     ]
    },
    {
     "name": "stderr",
     "output_type": "stream",
     "text": []
    },
    {
     "name": "stdout",
     "output_type": "stream",
     "text": [
      "\n",
      "\n"
     ]
    },
    {
     "name": "stderr",
     "output_type": "stream",
     "text": []
    },
    {
     "name": "stdout",
     "output_type": "stream",
     "text": [
      "\n",
      "\n"
     ]
    },
    {
     "name": "stderr",
     "output_type": "stream",
     "text": []
    },
    {
     "name": "stdout",
     "output_type": "stream",
     "text": [
      "\n",
      "\n",
      "\n"
     ]
    },
    {
     "name": "stderr",
     "output_type": "stream",
     "text": []
    },
    {
     "name": "stdout",
     "output_type": "stream",
     "text": [
      "\n",
      "\n",
      "\n",
      "\n",
      "\n",
      "\n"
     ]
    },
    {
     "name": "stderr",
     "output_type": "stream",
     "text": [
      "\n"
     ]
    },
    {
     "name": "stdout",
     "output_type": "stream",
     "text": [
      "\n",
      "\n",
      "\n",
      "\n",
      "\n",
      "\n"
     ]
    },
    {
     "name": "stderr",
     "output_type": "stream",
     "text": [
      "Worker 1 - find paths:  32%|███▏      | 322/1000 [02:02<03:46,  3.00it/s]\u001b[A"
     ]
    },
    {
     "name": "stdout",
     "output_type": "stream",
     "text": [
      "\n",
      "\n",
      "\n",
      "\n",
      "\n",
      "\n"
     ]
    },
    {
     "name": "stderr",
     "output_type": "stream",
     "text": []
    },
    {
     "name": "stdout",
     "output_type": "stream",
     "text": [
      "\n",
      "\n",
      "\n",
      "\n",
      "\n",
      "\n",
      "\n",
      "\n",
      "\n"
     ]
    },
    {
     "name": "stderr",
     "output_type": "stream",
     "text": []
    },
    {
     "name": "stdout",
     "output_type": "stream",
     "text": [
      "\n",
      "\n"
     ]
    },
    {
     "name": "stderr",
     "output_type": "stream",
     "text": []
    },
    {
     "name": "stdout",
     "output_type": "stream",
     "text": [
      "\n",
      "\n",
      "\n",
      "\n"
     ]
    },
    {
     "name": "stderr",
     "output_type": "stream",
     "text": []
    },
    {
     "name": "stdout",
     "output_type": "stream",
     "text": [
      "\n",
      "\n",
      "\n"
     ]
    },
    {
     "name": "stderr",
     "output_type": "stream",
     "text": []
    },
    {
     "name": "stdout",
     "output_type": "stream",
     "text": [
      "\n",
      "\n",
      "\n"
     ]
    },
    {
     "name": "stderr",
     "output_type": "stream",
     "text": []
    },
    {
     "name": "stdout",
     "output_type": "stream",
     "text": [
      "\n",
      "\n",
      "\n"
     ]
    },
    {
     "name": "stderr",
     "output_type": "stream",
     "text": []
    },
    {
     "name": "stdout",
     "output_type": "stream",
     "text": [
      "\n",
      "\n",
      "\n"
     ]
    },
    {
     "name": "stderr",
     "output_type": "stream",
     "text": []
    },
    {
     "name": "stdout",
     "output_type": "stream",
     "text": [
      "\n",
      "\n",
      "\n",
      "\n",
      "\n",
      "\n"
     ]
    },
    {
     "name": "stderr",
     "output_type": "stream",
     "text": []
    },
    {
     "name": "stdout",
     "output_type": "stream",
     "text": [
      "\n",
      "\n",
      "\n",
      "\n",
      "\n",
      "\n",
      "\n",
      "\n",
      "\n",
      "\n",
      "\n",
      "\n"
     ]
    },
    {
     "name": "stderr",
     "output_type": "stream",
     "text": []
    },
    {
     "name": "stdout",
     "output_type": "stream",
     "text": [
      "\n",
      "\n",
      "\n"
     ]
    },
    {
     "name": "stderr",
     "output_type": "stream",
     "text": []
    },
    {
     "name": "stdout",
     "output_type": "stream",
     "text": [
      "\n",
      "\n",
      "\n"
     ]
    },
    {
     "name": "stderr",
     "output_type": "stream",
     "text": []
    },
    {
     "name": "stdout",
     "output_type": "stream",
     "text": [
      "\n",
      "\n",
      "\n",
      "\n",
      "\n"
     ]
    },
    {
     "name": "stderr",
     "output_type": "stream",
     "text": []
    },
    {
     "name": "stdout",
     "output_type": "stream",
     "text": [
      "\n",
      "\n",
      "\n",
      "\n"
     ]
    },
    {
     "name": "stderr",
     "output_type": "stream",
     "text": [
      "\n"
     ]
    },
    {
     "name": "stdout",
     "output_type": "stream",
     "text": [
      "\n",
      "\n",
      "\n",
      "\n",
      "\n",
      "\n"
     ]
    },
    {
     "name": "stderr",
     "output_type": "stream",
     "text": [
      "Worker 1 - find paths:  35%|███▍      | 346/1000 [02:10<03:37,  3.01it/s]\u001b[A"
     ]
    },
    {
     "name": "stdout",
     "output_type": "stream",
     "text": [
      "\n",
      "\n",
      "\n",
      "\n",
      "\n"
     ]
    },
    {
     "name": "stderr",
     "output_type": "stream",
     "text": []
    },
    {
     "name": "stdout",
     "output_type": "stream",
     "text": [
      "\n",
      "\n"
     ]
    },
    {
     "name": "stderr",
     "output_type": "stream",
     "text": [
      "\n"
     ]
    },
    {
     "name": "stdout",
     "output_type": "stream",
     "text": [
      "\n",
      "\n"
     ]
    },
    {
     "name": "stderr",
     "output_type": "stream",
     "text": [
      "Worker 1 - find paths:  35%|███▍      | 349/1000 [02:11<03:28,  3.12it/s]\u001b[A"
     ]
    },
    {
     "name": "stdout",
     "output_type": "stream",
     "text": [
      "\n",
      "\n",
      "\n",
      "\n",
      "\n",
      "\n"
     ]
    },
    {
     "name": "stderr",
     "output_type": "stream",
     "text": []
    },
    {
     "name": "stdout",
     "output_type": "stream",
     "text": [
      "\n",
      "\n",
      "\n",
      "\n",
      "\n"
     ]
    },
    {
     "name": "stderr",
     "output_type": "stream",
     "text": []
    },
    {
     "name": "stdout",
     "output_type": "stream",
     "text": [
      "\n",
      "\n",
      "\n",
      "\n"
     ]
    },
    {
     "name": "stderr",
     "output_type": "stream",
     "text": []
    },
    {
     "name": "stdout",
     "output_type": "stream",
     "text": [
      "\n",
      "\n"
     ]
    },
    {
     "name": "stderr",
     "output_type": "stream",
     "text": []
    },
    {
     "name": "stdout",
     "output_type": "stream",
     "text": [
      "\n",
      "\n",
      "\n"
     ]
    },
    {
     "name": "stderr",
     "output_type": "stream",
     "text": []
    },
    {
     "name": "stdout",
     "output_type": "stream",
     "text": [
      "\n",
      "\n",
      "\n",
      "\n",
      "\n",
      "\n",
      "\n",
      "\n",
      "\n",
      "\n"
     ]
    },
    {
     "name": "stderr",
     "output_type": "stream",
     "text": []
    },
    {
     "name": "stdout",
     "output_type": "stream",
     "text": [
      "\n",
      "\n"
     ]
    },
    {
     "name": "stderr",
     "output_type": "stream",
     "text": []
    },
    {
     "name": "stdout",
     "output_type": "stream",
     "text": [
      "\n",
      "\n",
      "\n",
      "\n"
     ]
    },
    {
     "name": "stderr",
     "output_type": "stream",
     "text": []
    },
    {
     "name": "stdout",
     "output_type": "stream",
     "text": [
      "\n",
      "\n",
      "\n",
      "\n",
      "\n",
      "\n"
     ]
    },
    {
     "name": "stderr",
     "output_type": "stream",
     "text": []
    },
    {
     "name": "stdout",
     "output_type": "stream",
     "text": [
      "\n",
      "\n",
      "\n",
      "\n",
      "\n",
      "\n"
     ]
    },
    {
     "name": "stderr",
     "output_type": "stream",
     "text": []
    },
    {
     "name": "stdout",
     "output_type": "stream",
     "text": [
      "\n",
      "\n"
     ]
    },
    {
     "name": "stderr",
     "output_type": "stream",
     "text": []
    },
    {
     "name": "stdout",
     "output_type": "stream",
     "text": [
      "\n",
      "\n",
      "\n"
     ]
    },
    {
     "name": "stderr",
     "output_type": "stream",
     "text": []
    },
    {
     "name": "stdout",
     "output_type": "stream",
     "text": [
      "\n"
     ]
    },
    {
     "name": "stderr",
     "output_type": "stream",
     "text": []
    },
    {
     "name": "stdout",
     "output_type": "stream",
     "text": [
      "\n",
      "\n",
      "\n"
     ]
    },
    {
     "name": "stderr",
     "output_type": "stream",
     "text": []
    },
    {
     "name": "stdout",
     "output_type": "stream",
     "text": [
      "\n",
      "\n",
      "\n",
      "\n",
      "\n",
      "\n"
     ]
    },
    {
     "name": "stderr",
     "output_type": "stream",
     "text": []
    },
    {
     "name": "stdout",
     "output_type": "stream",
     "text": [
      "\n",
      "\n"
     ]
    },
    {
     "name": "stderr",
     "output_type": "stream",
     "text": []
    },
    {
     "name": "stdout",
     "output_type": "stream",
     "text": [
      "\n"
     ]
    },
    {
     "name": "stderr",
     "output_type": "stream",
     "text": []
    },
    {
     "name": "stdout",
     "output_type": "stream",
     "text": [
      "\n",
      "\n",
      "\n",
      "\n",
      "\n",
      "\n"
     ]
    },
    {
     "name": "stderr",
     "output_type": "stream",
     "text": []
    },
    {
     "name": "stdout",
     "output_type": "stream",
     "text": [
      "\n",
      "\n",
      "\n",
      "\n",
      "\n"
     ]
    },
    {
     "name": "stderr",
     "output_type": "stream",
     "text": []
    },
    {
     "name": "stdout",
     "output_type": "stream",
     "text": [
      "\n"
     ]
    },
    {
     "name": "stderr",
     "output_type": "stream",
     "text": []
    },
    {
     "name": "stdout",
     "output_type": "stream",
     "text": [
      "\n",
      "\n",
      "\n",
      "\n",
      "\n",
      "\n"
     ]
    },
    {
     "name": "stderr",
     "output_type": "stream",
     "text": []
    },
    {
     "name": "stdout",
     "output_type": "stream",
     "text": [
      "\n",
      "\n"
     ]
    },
    {
     "name": "stderr",
     "output_type": "stream",
     "text": []
    },
    {
     "name": "stdout",
     "output_type": "stream",
     "text": [
      "\n",
      "\n",
      "\n",
      "\n"
     ]
    },
    {
     "name": "stderr",
     "output_type": "stream",
     "text": []
    },
    {
     "name": "stdout",
     "output_type": "stream",
     "text": [
      "\n",
      "\n"
     ]
    },
    {
     "name": "stderr",
     "output_type": "stream",
     "text": [
      "\n"
     ]
    },
    {
     "name": "stdout",
     "output_type": "stream",
     "text": [
      "\n"
     ]
    },
    {
     "name": "stderr",
     "output_type": "stream",
     "text": [
      "Worker 1 - find paths:  38%|███▊      | 380/1000 [02:26<08:21,  1.24it/s]\u001b[A"
     ]
    },
    {
     "name": "stdout",
     "output_type": "stream",
     "text": [
      "\n",
      "\n",
      "\n"
     ]
    },
    {
     "name": "stderr",
     "output_type": "stream",
     "text": []
    },
    {
     "name": "stdout",
     "output_type": "stream",
     "text": [
      "\n",
      "\n",
      "\n",
      "\n",
      "\n"
     ]
    },
    {
     "name": "stderr",
     "output_type": "stream",
     "text": []
    },
    {
     "name": "stdout",
     "output_type": "stream",
     "text": [
      "\n",
      "\n",
      "\n",
      "\n",
      "\n",
      "\n",
      "\n"
     ]
    },
    {
     "name": "stderr",
     "output_type": "stream",
     "text": [
      "\n"
     ]
    },
    {
     "name": "stdout",
     "output_type": "stream",
     "text": [
      "\n",
      "\n",
      "\n"
     ]
    },
    {
     "name": "stderr",
     "output_type": "stream",
     "text": [
      "Worker 1 - find paths:  39%|███▊      | 386/1000 [02:28<03:39,  2.79it/s]\u001b[A"
     ]
    },
    {
     "name": "stdout",
     "output_type": "stream",
     "text": [
      "\n",
      "\n",
      "\n",
      "\n",
      "\n"
     ]
    },
    {
     "name": "stderr",
     "output_type": "stream",
     "text": []
    },
    {
     "name": "stdout",
     "output_type": "stream",
     "text": [
      "\n"
     ]
    },
    {
     "name": "stderr",
     "output_type": "stream",
     "text": []
    },
    {
     "name": "stdout",
     "output_type": "stream",
     "text": [
      "\n",
      "\n",
      "\n",
      "\n",
      "\n",
      "\n"
     ]
    },
    {
     "name": "stderr",
     "output_type": "stream",
     "text": []
    },
    {
     "name": "stdout",
     "output_type": "stream",
     "text": [
      "\n",
      "\n"
     ]
    },
    {
     "name": "stderr",
     "output_type": "stream",
     "text": []
    },
    {
     "name": "stdout",
     "output_type": "stream",
     "text": [
      "\n",
      "\n",
      "\n",
      "\n"
     ]
    },
    {
     "name": "stderr",
     "output_type": "stream",
     "text": []
    },
    {
     "name": "stdout",
     "output_type": "stream",
     "text": [
      "\n",
      "\n",
      "\n",
      "\n",
      "\n",
      "\n"
     ]
    },
    {
     "name": "stderr",
     "output_type": "stream",
     "text": []
    },
    {
     "name": "stdout",
     "output_type": "stream",
     "text": [
      "\n",
      "\n",
      "\n",
      "\n",
      "\n",
      "\n"
     ]
    },
    {
     "name": "stderr",
     "output_type": "stream",
     "text": []
    },
    {
     "name": "stdout",
     "output_type": "stream",
     "text": [
      "\n",
      "\n",
      "\n"
     ]
    },
    {
     "name": "stderr",
     "output_type": "stream",
     "text": []
    },
    {
     "name": "stdout",
     "output_type": "stream",
     "text": [
      "\n",
      "\n",
      "\n"
     ]
    },
    {
     "name": "stderr",
     "output_type": "stream",
     "text": []
    },
    {
     "name": "stdout",
     "output_type": "stream",
     "text": [
      "\n",
      "\n",
      "\n",
      "\n",
      "\n",
      "\n"
     ]
    },
    {
     "name": "stderr",
     "output_type": "stream",
     "text": []
    },
    {
     "name": "stdout",
     "output_type": "stream",
     "text": [
      "\n",
      "\n"
     ]
    },
    {
     "name": "stderr",
     "output_type": "stream",
     "text": []
    },
    {
     "name": "stdout",
     "output_type": "stream",
     "text": [
      "\n"
     ]
    },
    {
     "name": "stderr",
     "output_type": "stream",
     "text": []
    },
    {
     "name": "stdout",
     "output_type": "stream",
     "text": [
      "\n",
      "\n",
      "\n"
     ]
    },
    {
     "name": "stderr",
     "output_type": "stream",
     "text": []
    },
    {
     "name": "stdout",
     "output_type": "stream",
     "text": [
      "\n",
      "\n",
      "\n",
      "\n",
      "\n"
     ]
    },
    {
     "name": "stderr",
     "output_type": "stream",
     "text": []
    },
    {
     "name": "stdout",
     "output_type": "stream",
     "text": [
      "\n"
     ]
    },
    {
     "name": "stderr",
     "output_type": "stream",
     "text": []
    },
    {
     "name": "stdout",
     "output_type": "stream",
     "text": [
      "\n",
      "\n",
      "\n"
     ]
    },
    {
     "name": "stderr",
     "output_type": "stream",
     "text": []
    },
    {
     "name": "stdout",
     "output_type": "stream",
     "text": [
      "\n",
      "\n",
      "\n"
     ]
    },
    {
     "name": "stderr",
     "output_type": "stream",
     "text": []
    },
    {
     "name": "stdout",
     "output_type": "stream",
     "text": [
      "\n",
      "\n",
      "\n",
      "\n",
      "\n"
     ]
    },
    {
     "name": "stderr",
     "output_type": "stream",
     "text": []
    },
    {
     "name": "stdout",
     "output_type": "stream",
     "text": [
      "\n"
     ]
    },
    {
     "name": "stderr",
     "output_type": "stream",
     "text": []
    },
    {
     "name": "stdout",
     "output_type": "stream",
     "text": [
      "\n",
      "\n",
      "\n"
     ]
    },
    {
     "name": "stderr",
     "output_type": "stream",
     "text": []
    },
    {
     "name": "stdout",
     "output_type": "stream",
     "text": [
      "\n",
      "\n",
      "\n",
      "\n",
      "\n"
     ]
    },
    {
     "name": "stderr",
     "output_type": "stream",
     "text": []
    },
    {
     "name": "stdout",
     "output_type": "stream",
     "text": [
      "\n"
     ]
    },
    {
     "name": "stderr",
     "output_type": "stream",
     "text": [
      "\n"
     ]
    },
    {
     "name": "stdout",
     "output_type": "stream",
     "text": [
      "\n",
      "\n",
      "\n"
     ]
    },
    {
     "name": "stderr",
     "output_type": "stream",
     "text": [
      "Worker 1 - find paths:  41%|████      | 412/1000 [02:38<03:20,  2.94it/s]\u001b[A"
     ]
    },
    {
     "name": "stdout",
     "output_type": "stream",
     "text": [
      "\n",
      "\n",
      "\n",
      "\n",
      "\n"
     ]
    },
    {
     "name": "stderr",
     "output_type": "stream",
     "text": []
    },
    {
     "name": "stdout",
     "output_type": "stream",
     "text": [
      "\n"
     ]
    },
    {
     "name": "stderr",
     "output_type": "stream",
     "text": []
    },
    {
     "name": "stdout",
     "output_type": "stream",
     "text": [
      "\n",
      "\n",
      "\n",
      "\n",
      "\n"
     ]
    },
    {
     "name": "stderr",
     "output_type": "stream",
     "text": []
    },
    {
     "name": "stdout",
     "output_type": "stream",
     "text": [
      "\n"
     ]
    },
    {
     "name": "stderr",
     "output_type": "stream",
     "text": []
    },
    {
     "name": "stdout",
     "output_type": "stream",
     "text": [
      "\n",
      "\n",
      "\n"
     ]
    },
    {
     "name": "stderr",
     "output_type": "stream",
     "text": []
    },
    {
     "name": "stdout",
     "output_type": "stream",
     "text": [
      "\n",
      "\n",
      "\n",
      "\n",
      "\n",
      "\n",
      "\n",
      "\n"
     ]
    },
    {
     "name": "stderr",
     "output_type": "stream",
     "text": []
    },
    {
     "name": "stdout",
     "output_type": "stream",
     "text": [
      "\n"
     ]
    },
    {
     "name": "stderr",
     "output_type": "stream",
     "text": []
    },
    {
     "name": "stdout",
     "output_type": "stream",
     "text": [
      "\n",
      "\n",
      "\n",
      "\n",
      "\n",
      "\n"
     ]
    },
    {
     "name": "stderr",
     "output_type": "stream",
     "text": []
    },
    {
     "name": "stdout",
     "output_type": "stream",
     "text": [
      "\n",
      "\n",
      "\n"
     ]
    },
    {
     "name": "stderr",
     "output_type": "stream",
     "text": []
    },
    {
     "name": "stdout",
     "output_type": "stream",
     "text": [
      "\n",
      "\n",
      "\n"
     ]
    },
    {
     "name": "stderr",
     "output_type": "stream",
     "text": []
    },
    {
     "name": "stdout",
     "output_type": "stream",
     "text": [
      "\n",
      "\n",
      "\n",
      "\n",
      "\n",
      "\n"
     ]
    },
    {
     "name": "stderr",
     "output_type": "stream",
     "text": []
    },
    {
     "name": "stdout",
     "output_type": "stream",
     "text": [
      "\n",
      "\n",
      "\n"
     ]
    },
    {
     "name": "stderr",
     "output_type": "stream",
     "text": []
    },
    {
     "name": "stdout",
     "output_type": "stream",
     "text": [
      "\n",
      "\n",
      "\n"
     ]
    },
    {
     "name": "stderr",
     "output_type": "stream",
     "text": []
    },
    {
     "name": "stdout",
     "output_type": "stream",
     "text": [
      "\n",
      "\n",
      "\n"
     ]
    },
    {
     "name": "stderr",
     "output_type": "stream",
     "text": []
    },
    {
     "name": "stdout",
     "output_type": "stream",
     "text": [
      "\n",
      "\n",
      "\n",
      "\n",
      "\n",
      "\n",
      "\n",
      "\n",
      "\n"
     ]
    },
    {
     "name": "stderr",
     "output_type": "stream",
     "text": []
    },
    {
     "name": "stdout",
     "output_type": "stream",
     "text": [
      "\n",
      "\n"
     ]
    },
    {
     "name": "stderr",
     "output_type": "stream",
     "text": []
    },
    {
     "name": "stdout",
     "output_type": "stream",
     "text": [
      "\n",
      "\n",
      "\n",
      "\n"
     ]
    },
    {
     "name": "stderr",
     "output_type": "stream",
     "text": []
    },
    {
     "name": "stdout",
     "output_type": "stream",
     "text": [
      "\n",
      "\n",
      "\n"
     ]
    },
    {
     "name": "stderr",
     "output_type": "stream",
     "text": []
    },
    {
     "name": "stdout",
     "output_type": "stream",
     "text": [
      "\n",
      "\n",
      "\n"
     ]
    },
    {
     "name": "stderr",
     "output_type": "stream",
     "text": []
    },
    {
     "name": "stdout",
     "output_type": "stream",
     "text": [
      "\n",
      "\n",
      "\n",
      "\n",
      "\n",
      "\n"
     ]
    },
    {
     "name": "stderr",
     "output_type": "stream",
     "text": []
    },
    {
     "name": "stdout",
     "output_type": "stream",
     "text": [
      "\n",
      "\n",
      "\n"
     ]
    },
    {
     "name": "stderr",
     "output_type": "stream",
     "text": [
      "\n"
     ]
    },
    {
     "name": "stdout",
     "output_type": "stream",
     "text": [
      "\n",
      "\n",
      "\n"
     ]
    },
    {
     "name": "stderr",
     "output_type": "stream",
     "text": [
      "Worker 1 - find paths:  44%|████▍     | 440/1000 [02:47<02:55,  3.20it/s]\u001b[A\n"
     ]
    },
    {
     "name": "stdout",
     "output_type": "stream",
     "text": [
      "\n",
      "\n",
      "\n"
     ]
    },
    {
     "name": "stderr",
     "output_type": "stream",
     "text": [
      "Worker 1 - find paths:  44%|████▍     | 441/1000 [02:48<03:29,  2.67it/s]\u001b[A"
     ]
    },
    {
     "name": "stdout",
     "output_type": "stream",
     "text": [
      "\n",
      "\n",
      "\n"
     ]
    },
    {
     "name": "stderr",
     "output_type": "stream",
     "text": [
      "\n"
     ]
    },
    {
     "name": "stdout",
     "output_type": "stream",
     "text": [
      "\n",
      "\n",
      "\n"
     ]
    },
    {
     "name": "stderr",
     "output_type": "stream",
     "text": [
      "Worker 1 - find paths:  44%|████▍     | 443/1000 [02:49<03:33,  2.61it/s]\u001b[A"
     ]
    },
    {
     "name": "stdout",
     "output_type": "stream",
     "text": [
      "\n",
      "\n",
      "\n",
      "\n",
      "\n",
      "\n"
     ]
    },
    {
     "name": "stderr",
     "output_type": "stream",
     "text": []
    },
    {
     "name": "stdout",
     "output_type": "stream",
     "text": [
      "\n",
      "\n",
      "\n"
     ]
    },
    {
     "name": "stderr",
     "output_type": "stream",
     "text": []
    },
    {
     "name": "stdout",
     "output_type": "stream",
     "text": [
      "\n",
      "\n",
      "\n"
     ]
    },
    {
     "name": "stderr",
     "output_type": "stream",
     "text": []
    },
    {
     "name": "stdout",
     "output_type": "stream",
     "text": [
      "\n",
      "\n",
      "\n",
      "\n",
      "\n"
     ]
    },
    {
     "name": "stderr",
     "output_type": "stream",
     "text": []
    },
    {
     "name": "stdout",
     "output_type": "stream",
     "text": [
      "\n"
     ]
    },
    {
     "name": "stderr",
     "output_type": "stream",
     "text": [
      "\n"
     ]
    },
    {
     "name": "stdout",
     "output_type": "stream",
     "text": [
      "\n",
      "\n",
      "\n"
     ]
    },
    {
     "name": "stderr",
     "output_type": "stream",
     "text": [
      "Worker 1 - find paths:  45%|████▌     | 450/1000 [02:52<05:06,  1.80it/s]\u001b[A\n"
     ]
    },
    {
     "name": "stdout",
     "output_type": "stream",
     "text": [
      "\n",
      "\n",
      "\n",
      "\n",
      "\n",
      "\n"
     ]
    },
    {
     "name": "stderr",
     "output_type": "stream",
     "text": [
      "Worker 1 - find paths:  45%|████▌     | 452/1000 [02:52<03:22,  2.70it/s]\u001b[A"
     ]
    },
    {
     "name": "stdout",
     "output_type": "stream",
     "text": [
      "\n",
      "\n",
      "\n"
     ]
    },
    {
     "name": "stderr",
     "output_type": "stream",
     "text": []
    },
    {
     "name": "stdout",
     "output_type": "stream",
     "text": [
      "\n",
      "\n",
      "\n"
     ]
    },
    {
     "name": "stderr",
     "output_type": "stream",
     "text": []
    },
    {
     "name": "stdout",
     "output_type": "stream",
     "text": [
      "\n",
      "\n",
      "\n",
      "\n",
      "\n",
      "\n"
     ]
    },
    {
     "name": "stderr",
     "output_type": "stream",
     "text": []
    },
    {
     "name": "stdout",
     "output_type": "stream",
     "text": [
      "\n",
      "\n",
      "\n",
      "\n",
      "\n",
      "\n"
     ]
    },
    {
     "name": "stderr",
     "output_type": "stream",
     "text": []
    },
    {
     "name": "stdout",
     "output_type": "stream",
     "text": [
      "\n",
      "\n"
     ]
    },
    {
     "name": "stderr",
     "output_type": "stream",
     "text": []
    },
    {
     "name": "stdout",
     "output_type": "stream",
     "text": [
      "\n",
      "\n",
      "\n",
      "\n"
     ]
    },
    {
     "name": "stderr",
     "output_type": "stream",
     "text": [
      "\n"
     ]
    },
    {
     "name": "stdout",
     "output_type": "stream",
     "text": [
      "\n",
      "\n",
      "\n"
     ]
    },
    {
     "name": "stderr",
     "output_type": "stream",
     "text": [
      "Worker 1 - find paths:  46%|████▌     | 461/1000 [02:56<04:47,  1.88it/s]\u001b[A"
     ]
    },
    {
     "name": "stdout",
     "output_type": "stream",
     "text": [
      "\n",
      "\n",
      "\n"
     ]
    },
    {
     "name": "stderr",
     "output_type": "stream",
     "text": []
    },
    {
     "name": "stdout",
     "output_type": "stream",
     "text": [
      "\n",
      "\n",
      "\n"
     ]
    },
    {
     "name": "stderr",
     "output_type": "stream",
     "text": []
    },
    {
     "name": "stdout",
     "output_type": "stream",
     "text": [
      "\n",
      "\n",
      "\n"
     ]
    },
    {
     "name": "stderr",
     "output_type": "stream",
     "text": []
    },
    {
     "name": "stdout",
     "output_type": "stream",
     "text": [
      "\n",
      "\n",
      "\n"
     ]
    },
    {
     "name": "stderr",
     "output_type": "stream",
     "text": []
    },
    {
     "name": "stdout",
     "output_type": "stream",
     "text": [
      "\n",
      "\n",
      "\n",
      "\n",
      "\n"
     ]
    },
    {
     "name": "stderr",
     "output_type": "stream",
     "text": []
    },
    {
     "name": "stdout",
     "output_type": "stream",
     "text": [
      "\n",
      "\n",
      "\n"
     ]
    },
    {
     "name": "stderr",
     "output_type": "stream",
     "text": []
    },
    {
     "name": "stdout",
     "output_type": "stream",
     "text": [
      "\n",
      "\n"
     ]
    },
    {
     "name": "stderr",
     "output_type": "stream",
     "text": []
    },
    {
     "name": "stdout",
     "output_type": "stream",
     "text": [
      "\n",
      "\n"
     ]
    },
    {
     "name": "stderr",
     "output_type": "stream",
     "text": []
    },
    {
     "name": "stdout",
     "output_type": "stream",
     "text": [
      "\n",
      "\n",
      "\n",
      "\n",
      "\n",
      "\n"
     ]
    },
    {
     "name": "stderr",
     "output_type": "stream",
     "text": []
    },
    {
     "name": "stdout",
     "output_type": "stream",
     "text": [
      "\n",
      "\n",
      "\n",
      "\n",
      "\n",
      "\n"
     ]
    },
    {
     "name": "stderr",
     "output_type": "stream",
     "text": []
    },
    {
     "name": "stdout",
     "output_type": "stream",
     "text": [
      "\n",
      "\n",
      "\n",
      "\n",
      "\n",
      "\n",
      "\n",
      "\n",
      "\n"
     ]
    },
    {
     "name": "stderr",
     "output_type": "stream",
     "text": []
    },
    {
     "name": "stdout",
     "output_type": "stream",
     "text": [
      "\n",
      "\n",
      "\n",
      "\n",
      "\n"
     ]
    },
    {
     "name": "stderr",
     "output_type": "stream",
     "text": []
    },
    {
     "name": "stdout",
     "output_type": "stream",
     "text": [
      "\n"
     ]
    },
    {
     "name": "stderr",
     "output_type": "stream",
     "text": [
      "\n"
     ]
    },
    {
     "name": "stdout",
     "output_type": "stream",
     "text": [
      "\n",
      "\n",
      "\n"
     ]
    },
    {
     "name": "stderr",
     "output_type": "stream",
     "text": [
      "Worker 1 - find paths:  48%|████▊     | 479/1000 [03:03<02:41,  3.22it/s]\u001b[A"
     ]
    },
    {
     "name": "stdout",
     "output_type": "stream",
     "text": [
      "\n",
      "\n",
      "\n"
     ]
    },
    {
     "name": "stderr",
     "output_type": "stream",
     "text": []
    },
    {
     "name": "stdout",
     "output_type": "stream",
     "text": [
      "\n",
      "\n",
      "\n",
      "\n",
      "\n",
      "\n",
      "\n"
     ]
    },
    {
     "name": "stderr",
     "output_type": "stream",
     "text": []
    },
    {
     "name": "stdout",
     "output_type": "stream",
     "text": [
      "\n",
      "\n",
      "\n",
      "\n",
      "\n"
     ]
    },
    {
     "name": "stderr",
     "output_type": "stream",
     "text": []
    },
    {
     "name": "stdout",
     "output_type": "stream",
     "text": [
      "\n",
      "\n",
      "\n"
     ]
    },
    {
     "name": "stderr",
     "output_type": "stream",
     "text": [
      "\n",
      "Worker 1 - find paths:  49%|████▊     | 486/1000 [03:05<02:30,  3.42it/s]"
     ]
    },
    {
     "name": "stdout",
     "output_type": "stream",
     "text": [
      "\n",
      "\n",
      "\n"
     ]
    },
    {
     "name": "stderr",
     "output_type": "stream",
     "text": [
      "\u001b[A"
     ]
    },
    {
     "name": "stdout",
     "output_type": "stream",
     "text": [
      "\n",
      "\n",
      "\n"
     ]
    },
    {
     "name": "stderr",
     "output_type": "stream",
     "text": []
    },
    {
     "name": "stdout",
     "output_type": "stream",
     "text": [
      "\n",
      "\n",
      "\n",
      "\n",
      "\n",
      "\n"
     ]
    },
    {
     "name": "stderr",
     "output_type": "stream",
     "text": []
    },
    {
     "name": "stdout",
     "output_type": "stream",
     "text": [
      "\n",
      "\n",
      "\n",
      "\n",
      "\n"
     ]
    },
    {
     "name": "stderr",
     "output_type": "stream",
     "text": []
    },
    {
     "name": "stdout",
     "output_type": "stream",
     "text": [
      "\n"
     ]
    },
    {
     "name": "stderr",
     "output_type": "stream",
     "text": []
    },
    {
     "name": "stdout",
     "output_type": "stream",
     "text": [
      "\n",
      "\n",
      "\n",
      "\n",
      "\n",
      "\n"
     ]
    },
    {
     "name": "stderr",
     "output_type": "stream",
     "text": []
    },
    {
     "name": "stdout",
     "output_type": "stream",
     "text": [
      "\n",
      "\n",
      "\n",
      "\n",
      "\n",
      "\n",
      "\n",
      "\n",
      "\n"
     ]
    },
    {
     "name": "stderr",
     "output_type": "stream",
     "text": []
    },
    {
     "name": "stdout",
     "output_type": "stream",
     "text": [
      "\n",
      "\n",
      "\n"
     ]
    },
    {
     "name": "stderr",
     "output_type": "stream",
     "text": []
    },
    {
     "name": "stdout",
     "output_type": "stream",
     "text": [
      "\n",
      "\n",
      "\n",
      "\n",
      "\n"
     ]
    },
    {
     "name": "stderr",
     "output_type": "stream",
     "text": []
    },
    {
     "name": "stdout",
     "output_type": "stream",
     "text": [
      "\n"
     ]
    },
    {
     "name": "stderr",
     "output_type": "stream",
     "text": [
      "\n"
     ]
    },
    {
     "name": "stdout",
     "output_type": "stream",
     "text": [
      "\n",
      "\n",
      "\n"
     ]
    },
    {
     "name": "stderr",
     "output_type": "stream",
     "text": [
      "Worker 1 - find paths:  50%|█████     | 500/1000 [03:11<03:38,  2.28it/s]\u001b[A"
     ]
    },
    {
     "name": "stdout",
     "output_type": "stream",
     "text": [
      "\n",
      "\n",
      "\n"
     ]
    },
    {
     "name": "stderr",
     "output_type": "stream",
     "text": []
    },
    {
     "name": "stdout",
     "output_type": "stream",
     "text": [
      "\n",
      "\n",
      "\n"
     ]
    },
    {
     "name": "stderr",
     "output_type": "stream",
     "text": []
    },
    {
     "name": "stdout",
     "output_type": "stream",
     "text": [
      "\n",
      "\n"
     ]
    },
    {
     "name": "stderr",
     "output_type": "stream",
     "text": []
    },
    {
     "name": "stdout",
     "output_type": "stream",
     "text": [
      "\n",
      "\n",
      "\n",
      "\n"
     ]
    },
    {
     "name": "stderr",
     "output_type": "stream",
     "text": []
    },
    {
     "name": "stdout",
     "output_type": "stream",
     "text": [
      "\n",
      "\n",
      "\n",
      "\n",
      "\n"
     ]
    },
    {
     "name": "stderr",
     "output_type": "stream",
     "text": []
    },
    {
     "name": "stdout",
     "output_type": "stream",
     "text": [
      "\n",
      "\n",
      "\n",
      "\n"
     ]
    },
    {
     "name": "stderr",
     "output_type": "stream",
     "text": []
    },
    {
     "name": "stdout",
     "output_type": "stream",
     "text": [
      "\n",
      "\n",
      "\n"
     ]
    },
    {
     "name": "stderr",
     "output_type": "stream",
     "text": []
    },
    {
     "name": "stdout",
     "output_type": "stream",
     "text": [
      "\n",
      "\n",
      "\n"
     ]
    },
    {
     "name": "stderr",
     "output_type": "stream",
     "text": []
    },
    {
     "name": "stdout",
     "output_type": "stream",
     "text": [
      "\n",
      "\n",
      "\n"
     ]
    },
    {
     "name": "stderr",
     "output_type": "stream",
     "text": []
    },
    {
     "name": "stdout",
     "output_type": "stream",
     "text": [
      "\n",
      "\n",
      "\n"
     ]
    },
    {
     "name": "stderr",
     "output_type": "stream",
     "text": []
    },
    {
     "name": "stdout",
     "output_type": "stream",
     "text": [
      "\n",
      "\n",
      "\n",
      "\n",
      "\n"
     ]
    },
    {
     "name": "stderr",
     "output_type": "stream",
     "text": []
    },
    {
     "name": "stdout",
     "output_type": "stream",
     "text": [
      "\n",
      "\n",
      "\n",
      "\n"
     ]
    },
    {
     "name": "stderr",
     "output_type": "stream",
     "text": []
    },
    {
     "name": "stdout",
     "output_type": "stream",
     "text": [
      "\n",
      "\n",
      "\n",
      "\n",
      "\n",
      "\n"
     ]
    },
    {
     "name": "stderr",
     "output_type": "stream",
     "text": []
    },
    {
     "name": "stdout",
     "output_type": "stream",
     "text": [
      "\n",
      "\n"
     ]
    },
    {
     "name": "stderr",
     "output_type": "stream",
     "text": []
    },
    {
     "name": "stdout",
     "output_type": "stream",
     "text": [
      "\n"
     ]
    },
    {
     "name": "stderr",
     "output_type": "stream",
     "text": [
      "\n"
     ]
    },
    {
     "name": "stdout",
     "output_type": "stream",
     "text": [
      "\n",
      "\n",
      "\n",
      "\n",
      "\n",
      "\n"
     ]
    },
    {
     "name": "stderr",
     "output_type": "stream",
     "text": [
      "Worker 1 - find paths:  52%|█████▏    | 519/1000 [03:19<02:59,  2.68it/s]\u001b[A"
     ]
    },
    {
     "name": "stdout",
     "output_type": "stream",
     "text": [
      "\n",
      "\n",
      "\n"
     ]
    },
    {
     "name": "stderr",
     "output_type": "stream",
     "text": []
    },
    {
     "name": "stdout",
     "output_type": "stream",
     "text": [
      "\n",
      "\n",
      "\n"
     ]
    },
    {
     "name": "stderr",
     "output_type": "stream",
     "text": [
      "\n"
     ]
    },
    {
     "name": "stdout",
     "output_type": "stream",
     "text": [
      "\n",
      "\n",
      "\n",
      "\n",
      "\n",
      "\n"
     ]
    },
    {
     "name": "stderr",
     "output_type": "stream",
     "text": [
      "Worker 1 - find paths:  52%|█████▏    | 523/1000 [03:20<02:37,  3.02it/s]\u001b[A"
     ]
    },
    {
     "name": "stdout",
     "output_type": "stream",
     "text": [
      "\n",
      "\n",
      "\n",
      "\n",
      "\n",
      "\n"
     ]
    },
    {
     "name": "stderr",
     "output_type": "stream",
     "text": []
    },
    {
     "name": "stdout",
     "output_type": "stream",
     "text": [
      "\n",
      "\n",
      "\n"
     ]
    },
    {
     "name": "stderr",
     "output_type": "stream",
     "text": []
    },
    {
     "name": "stdout",
     "output_type": "stream",
     "text": [
      "\n",
      "\n",
      "\n"
     ]
    },
    {
     "name": "stderr",
     "output_type": "stream",
     "text": []
    },
    {
     "name": "stdout",
     "output_type": "stream",
     "text": [
      "\n",
      "\n",
      "\n",
      "\n",
      "\n"
     ]
    },
    {
     "name": "stderr",
     "output_type": "stream",
     "text": []
    },
    {
     "name": "stdout",
     "output_type": "stream",
     "text": [
      "\n"
     ]
    },
    {
     "name": "stderr",
     "output_type": "stream",
     "text": []
    },
    {
     "name": "stdout",
     "output_type": "stream",
     "text": [
      "\n",
      "\n",
      "\n"
     ]
    },
    {
     "name": "stderr",
     "output_type": "stream",
     "text": []
    },
    {
     "name": "stdout",
     "output_type": "stream",
     "text": [
      "\n",
      "\n",
      "\n",
      "\n"
     ]
    },
    {
     "name": "stderr",
     "output_type": "stream",
     "text": []
    },
    {
     "name": "stdout",
     "output_type": "stream",
     "text": [
      "\n",
      "\n"
     ]
    },
    {
     "name": "stderr",
     "output_type": "stream",
     "text": []
    },
    {
     "name": "stdout",
     "output_type": "stream",
     "text": [
      "\n",
      "\n",
      "\n",
      "\n",
      "\n"
     ]
    },
    {
     "name": "stderr",
     "output_type": "stream",
     "text": []
    },
    {
     "name": "stdout",
     "output_type": "stream",
     "text": [
      "\n"
     ]
    },
    {
     "name": "stderr",
     "output_type": "stream",
     "text": [
      "\n"
     ]
    },
    {
     "name": "stdout",
     "output_type": "stream",
     "text": [
      "\n",
      "\n",
      "\n"
     ]
    },
    {
     "name": "stderr",
     "output_type": "stream",
     "text": [
      "Worker 1 - find paths:  54%|█████▎    | 535/1000 [03:25<03:48,  2.03it/s]\u001b[A"
     ]
    },
    {
     "name": "stdout",
     "output_type": "stream",
     "text": [
      "\n",
      "\n",
      "\n"
     ]
    },
    {
     "name": "stderr",
     "output_type": "stream",
     "text": [
      "\n"
     ]
    },
    {
     "name": "stdout",
     "output_type": "stream",
     "text": [
      "\n",
      "\n",
      "\n",
      "\n",
      "\n",
      "\n"
     ]
    },
    {
     "name": "stderr",
     "output_type": "stream",
     "text": [
      "Worker 1 - find paths:  54%|█████▍    | 538/1000 [03:26<02:34,  2.99it/s]\u001b[A"
     ]
    },
    {
     "name": "stdout",
     "output_type": "stream",
     "text": [
      "\n",
      "\n",
      "\n",
      "\n",
      "\n",
      "\n"
     ]
    },
    {
     "name": "stderr",
     "output_type": "stream",
     "text": []
    },
    {
     "name": "stdout",
     "output_type": "stream",
     "text": [
      "\n",
      "\n",
      "\n",
      "\n",
      "\n",
      "\n",
      "\n",
      "\n",
      "\n"
     ]
    },
    {
     "name": "stderr",
     "output_type": "stream",
     "text": []
    },
    {
     "name": "stdout",
     "output_type": "stream",
     "text": [
      "\n",
      "\n",
      "\n",
      "\n",
      "\n",
      "\n",
      "\n",
      "\n",
      "\n"
     ]
    },
    {
     "name": "stderr",
     "output_type": "stream",
     "text": []
    },
    {
     "name": "stdout",
     "output_type": "stream",
     "text": [
      "\n",
      "\n",
      "\n"
     ]
    },
    {
     "name": "stderr",
     "output_type": "stream",
     "text": []
    },
    {
     "name": "stdout",
     "output_type": "stream",
     "text": [
      "\n",
      "\n",
      "\n",
      "\n",
      "\n"
     ]
    },
    {
     "name": "stderr",
     "output_type": "stream",
     "text": []
    },
    {
     "name": "stdout",
     "output_type": "stream",
     "text": [
      "\n",
      "\n",
      "\n",
      "\n"
     ]
    },
    {
     "name": "stderr",
     "output_type": "stream",
     "text": []
    },
    {
     "name": "stdout",
     "output_type": "stream",
     "text": [
      "\n",
      "\n",
      "\n",
      "\n"
     ]
    },
    {
     "name": "stderr",
     "output_type": "stream",
     "text": []
    },
    {
     "name": "stdout",
     "output_type": "stream",
     "text": [
      "\n",
      "\n",
      "\n",
      "\n"
     ]
    },
    {
     "name": "stderr",
     "output_type": "stream",
     "text": []
    },
    {
     "name": "stdout",
     "output_type": "stream",
     "text": [
      "\n",
      "\n",
      "\n",
      "\n"
     ]
    },
    {
     "name": "stderr",
     "output_type": "stream",
     "text": []
    },
    {
     "name": "stdout",
     "output_type": "stream",
     "text": [
      "\n",
      "\n"
     ]
    },
    {
     "name": "stderr",
     "output_type": "stream",
     "text": []
    },
    {
     "name": "stdout",
     "output_type": "stream",
     "text": [
      "\n"
     ]
    },
    {
     "name": "stderr",
     "output_type": "stream",
     "text": []
    },
    {
     "name": "stdout",
     "output_type": "stream",
     "text": [
      "\n",
      "\n",
      "\n",
      "\n",
      "\n"
     ]
    },
    {
     "name": "stderr",
     "output_type": "stream",
     "text": []
    },
    {
     "name": "stdout",
     "output_type": "stream",
     "text": [
      "\n"
     ]
    },
    {
     "name": "stderr",
     "output_type": "stream",
     "text": []
    },
    {
     "name": "stdout",
     "output_type": "stream",
     "text": [
      "\n",
      "\n",
      "\n",
      "\n",
      "\n"
     ]
    },
    {
     "name": "stderr",
     "output_type": "stream",
     "text": []
    },
    {
     "name": "stdout",
     "output_type": "stream",
     "text": [
      "\n"
     ]
    },
    {
     "name": "stderr",
     "output_type": "stream",
     "text": []
    },
    {
     "name": "stdout",
     "output_type": "stream",
     "text": [
      "\n",
      "\n",
      "\n",
      "\n",
      "\n",
      "\n"
     ]
    },
    {
     "name": "stderr",
     "output_type": "stream",
     "text": []
    },
    {
     "name": "stdout",
     "output_type": "stream",
     "text": [
      "\n",
      "\n",
      "\n"
     ]
    },
    {
     "name": "stderr",
     "output_type": "stream",
     "text": [
      "\n"
     ]
    },
    {
     "name": "stdout",
     "output_type": "stream",
     "text": [
      "\n",
      "\n",
      "\n"
     ]
    },
    {
     "name": "stderr",
     "output_type": "stream",
     "text": [
      "Worker 1 - find paths:  56%|█████▋    | 563/1000 [03:36<03:30,  2.07it/s]\u001b[A"
     ]
    },
    {
     "name": "stdout",
     "output_type": "stream",
     "text": [
      "\n",
      "\n",
      "\n",
      "\n",
      "\n"
     ]
    },
    {
     "name": "stderr",
     "output_type": "stream",
     "text": []
    },
    {
     "name": "stdout",
     "output_type": "stream",
     "text": [
      "\n",
      "\n",
      "\n",
      "\n"
     ]
    },
    {
     "name": "stderr",
     "output_type": "stream",
     "text": []
    },
    {
     "name": "stdout",
     "output_type": "stream",
     "text": [
      "\n",
      "\n",
      "\n"
     ]
    },
    {
     "name": "stderr",
     "output_type": "stream",
     "text": []
    },
    {
     "name": "stdout",
     "output_type": "stream",
     "text": [
      "\n",
      "\n",
      "\n",
      "\n"
     ]
    },
    {
     "name": "stderr",
     "output_type": "stream",
     "text": []
    },
    {
     "name": "stdout",
     "output_type": "stream",
     "text": [
      "\n",
      "\n",
      "\n",
      "\n"
     ]
    },
    {
     "name": "stderr",
     "output_type": "stream",
     "text": []
    },
    {
     "name": "stdout",
     "output_type": "stream",
     "text": [
      "\n",
      "\n",
      "\n",
      "\n"
     ]
    },
    {
     "name": "stderr",
     "output_type": "stream",
     "text": []
    },
    {
     "name": "stdout",
     "output_type": "stream",
     "text": [
      "\n",
      "\n",
      "\n",
      "\n",
      "\n",
      "\n"
     ]
    },
    {
     "name": "stderr",
     "output_type": "stream",
     "text": []
    },
    {
     "name": "stdout",
     "output_type": "stream",
     "text": [
      "\n",
      "\n",
      "\n",
      "\n",
      "\n",
      "\n"
     ]
    },
    {
     "name": "stderr",
     "output_type": "stream",
     "text": []
    },
    {
     "name": "stdout",
     "output_type": "stream",
     "text": [
      "\n",
      "\n",
      "\n"
     ]
    },
    {
     "name": "stderr",
     "output_type": "stream",
     "text": []
    },
    {
     "name": "stdout",
     "output_type": "stream",
     "text": [
      "\n",
      "\n",
      "\n",
      "\n",
      "\n",
      "\n"
     ]
    },
    {
     "name": "stderr",
     "output_type": "stream",
     "text": []
    },
    {
     "name": "stdout",
     "output_type": "stream",
     "text": [
      "\n",
      "\n",
      "\n",
      "\n",
      "\n"
     ]
    },
    {
     "name": "stderr",
     "output_type": "stream",
     "text": []
    },
    {
     "name": "stdout",
     "output_type": "stream",
     "text": [
      "\n",
      "\n",
      "\n",
      "\n"
     ]
    },
    {
     "name": "stderr",
     "output_type": "stream",
     "text": []
    },
    {
     "name": "stdout",
     "output_type": "stream",
     "text": [
      "\n",
      "\n",
      "\n",
      "\n",
      "\n"
     ]
    },
    {
     "name": "stderr",
     "output_type": "stream",
     "text": []
    },
    {
     "name": "stdout",
     "output_type": "stream",
     "text": [
      "\n"
     ]
    },
    {
     "name": "stderr",
     "output_type": "stream",
     "text": []
    },
    {
     "name": "stdout",
     "output_type": "stream",
     "text": [
      "\n",
      "\n",
      "\n"
     ]
    },
    {
     "name": "stderr",
     "output_type": "stream",
     "text": []
    },
    {
     "name": "stdout",
     "output_type": "stream",
     "text": [
      "\n",
      "\n",
      "\n"
     ]
    },
    {
     "name": "stderr",
     "output_type": "stream",
     "text": []
    },
    {
     "name": "stdout",
     "output_type": "stream",
     "text": [
      "\n",
      "\n",
      "\n",
      "\n",
      "\n",
      "\n",
      "\n"
     ]
    },
    {
     "name": "stderr",
     "output_type": "stream",
     "text": []
    },
    {
     "name": "stdout",
     "output_type": "stream",
     "text": [
      "\n",
      "\n"
     ]
    },
    {
     "name": "stderr",
     "output_type": "stream",
     "text": []
    },
    {
     "name": "stdout",
     "output_type": "stream",
     "text": [
      "\n",
      "\n",
      "\n",
      "\n",
      "\n",
      "\n"
     ]
    },
    {
     "name": "stderr",
     "output_type": "stream",
     "text": []
    },
    {
     "name": "stdout",
     "output_type": "stream",
     "text": [
      "\n",
      "\n",
      "\n",
      "\n",
      "\n",
      "\n",
      "\n",
      "\n",
      "\n"
     ]
    },
    {
     "name": "stderr",
     "output_type": "stream",
     "text": []
    },
    {
     "name": "stdout",
     "output_type": "stream",
     "text": [
      "\n",
      "\n",
      "\n",
      "\n",
      "\n",
      "\n"
     ]
    },
    {
     "name": "stderr",
     "output_type": "stream",
     "text": []
    },
    {
     "name": "stdout",
     "output_type": "stream",
     "text": [
      "\n",
      "\n",
      "\n"
     ]
    },
    {
     "name": "stderr",
     "output_type": "stream",
     "text": [
      "\n"
     ]
    },
    {
     "name": "stdout",
     "output_type": "stream",
     "text": [
      "\n",
      "\n",
      "\n",
      "\n",
      "\n",
      "\n"
     ]
    },
    {
     "name": "stderr",
     "output_type": "stream",
     "text": [
      "Worker 1 - find paths:  60%|█████▉    | 598/1000 [03:46<01:21,  4.92it/s]\u001b[A"
     ]
    },
    {
     "name": "stdout",
     "output_type": "stream",
     "text": [
      "\n",
      "\n",
      "\n",
      "\n",
      "\n"
     ]
    },
    {
     "name": "stderr",
     "output_type": "stream",
     "text": []
    },
    {
     "name": "stdout",
     "output_type": "stream",
     "text": [
      "\n"
     ]
    },
    {
     "name": "stderr",
     "output_type": "stream",
     "text": []
    },
    {
     "name": "stdout",
     "output_type": "stream",
     "text": [
      "\n",
      "\n",
      "\n"
     ]
    },
    {
     "name": "stderr",
     "output_type": "stream",
     "text": []
    },
    {
     "name": "stdout",
     "output_type": "stream",
     "text": [
      "\n",
      "\n",
      "\n",
      "\n",
      "\n"
     ]
    },
    {
     "name": "stderr",
     "output_type": "stream",
     "text": []
    },
    {
     "name": "stdout",
     "output_type": "stream",
     "text": [
      "\n"
     ]
    },
    {
     "name": "stderr",
     "output_type": "stream",
     "text": []
    },
    {
     "name": "stdout",
     "output_type": "stream",
     "text": [
      "\n",
      "\n",
      "\n",
      "\n",
      "\n",
      "\n"
     ]
    },
    {
     "name": "stderr",
     "output_type": "stream",
     "text": []
    },
    {
     "name": "stdout",
     "output_type": "stream",
     "text": [
      "\n",
      "\n",
      "\n",
      "\n",
      "\n"
     ]
    },
    {
     "name": "stderr",
     "output_type": "stream",
     "text": []
    },
    {
     "name": "stdout",
     "output_type": "stream",
     "text": [
      "\n",
      "\n",
      "\n"
     ]
    },
    {
     "name": "stderr",
     "output_type": "stream",
     "text": []
    },
    {
     "name": "stdout",
     "output_type": "stream",
     "text": [
      "\n"
     ]
    },
    {
     "name": "stderr",
     "output_type": "stream",
     "text": []
    },
    {
     "name": "stdout",
     "output_type": "stream",
     "text": [
      "\n",
      "\n",
      "\n",
      "\n",
      "\n",
      "\n",
      "\n",
      "\n",
      "\n"
     ]
    },
    {
     "name": "stderr",
     "output_type": "stream",
     "text": []
    },
    {
     "name": "stdout",
     "output_type": "stream",
     "text": [
      "\n",
      "\n",
      "\n",
      "\n"
     ]
    },
    {
     "name": "stderr",
     "output_type": "stream",
     "text": []
    },
    {
     "name": "stdout",
     "output_type": "stream",
     "text": [
      "\n",
      "\n",
      "\n",
      "\n",
      "\n"
     ]
    },
    {
     "name": "stderr",
     "output_type": "stream",
     "text": []
    },
    {
     "name": "stdout",
     "output_type": "stream",
     "text": [
      "\n",
      "\n",
      "\n",
      "\n",
      "\n",
      "\n"
     ]
    },
    {
     "name": "stderr",
     "output_type": "stream",
     "text": []
    },
    {
     "name": "stdout",
     "output_type": "stream",
     "text": [
      "\n",
      "\n",
      "\n"
     ]
    },
    {
     "name": "stderr",
     "output_type": "stream",
     "text": []
    },
    {
     "name": "stdout",
     "output_type": "stream",
     "text": [
      "\n",
      "\n",
      "\n"
     ]
    },
    {
     "name": "stderr",
     "output_type": "stream",
     "text": [
      "\n"
     ]
    },
    {
     "name": "stdout",
     "output_type": "stream",
     "text": [
      "\n",
      "\n",
      "\n",
      "\n",
      "\n",
      "\n"
     ]
    },
    {
     "name": "stderr",
     "output_type": "stream",
     "text": [
      "Worker 1 - find paths:  62%|██████▏   | 620/1000 [03:53<01:35,  3.97it/s]\u001b[A"
     ]
    },
    {
     "name": "stdout",
     "output_type": "stream",
     "text": [
      "\n",
      "\n",
      "\n",
      "\n",
      "\n",
      "\n"
     ]
    },
    {
     "name": "stderr",
     "output_type": "stream",
     "text": []
    },
    {
     "name": "stdout",
     "output_type": "stream",
     "text": [
      "\n",
      "\n",
      "\n",
      "\n"
     ]
    },
    {
     "name": "stderr",
     "output_type": "stream",
     "text": []
    },
    {
     "name": "stdout",
     "output_type": "stream",
     "text": [
      "\n",
      "\n"
     ]
    },
    {
     "name": "stderr",
     "output_type": "stream",
     "text": []
    },
    {
     "name": "stdout",
     "output_type": "stream",
     "text": [
      "\n",
      "\n",
      "\n"
     ]
    },
    {
     "name": "stderr",
     "output_type": "stream",
     "text": [
      "\n",
      "Worker 1 - find paths:  63%|██████▎   | 626/1000 [03:54<01:49,  3.42it/s]"
     ]
    },
    {
     "name": "stdout",
     "output_type": "stream",
     "text": [
      "\n",
      "\n",
      "\n"
     ]
    },
    {
     "name": "stderr",
     "output_type": "stream",
     "text": [
      "\u001b[A"
     ]
    },
    {
     "name": "stdout",
     "output_type": "stream",
     "text": [
      "\n",
      "\n",
      "\n"
     ]
    },
    {
     "name": "stderr",
     "output_type": "stream",
     "text": []
    },
    {
     "name": "stdout",
     "output_type": "stream",
     "text": [
      "\n",
      "\n",
      "\n"
     ]
    },
    {
     "name": "stderr",
     "output_type": "stream",
     "text": []
    },
    {
     "name": "stdout",
     "output_type": "stream",
     "text": [
      "\n",
      "\n",
      "\n"
     ]
    },
    {
     "name": "stderr",
     "output_type": "stream",
     "text": []
    },
    {
     "name": "stdout",
     "output_type": "stream",
     "text": [
      "\n",
      "\n",
      "\n",
      "\n",
      "\n",
      "\n"
     ]
    },
    {
     "name": "stderr",
     "output_type": "stream",
     "text": []
    },
    {
     "name": "stdout",
     "output_type": "stream",
     "text": [
      "\n",
      "\n",
      "\n",
      "\n",
      "\n",
      "\n"
     ]
    },
    {
     "name": "stderr",
     "output_type": "stream",
     "text": []
    },
    {
     "name": "stdout",
     "output_type": "stream",
     "text": [
      "\n",
      "\n",
      "\n"
     ]
    },
    {
     "name": "stderr",
     "output_type": "stream",
     "text": []
    },
    {
     "name": "stdout",
     "output_type": "stream",
     "text": [
      "\n",
      "\n"
     ]
    },
    {
     "name": "stderr",
     "output_type": "stream",
     "text": [
      "\n"
     ]
    },
    {
     "name": "stdout",
     "output_type": "stream",
     "text": [
      "\n"
     ]
    },
    {
     "name": "stderr",
     "output_type": "stream",
     "text": [
      "Worker 1 - find paths:  64%|██████▎   | 635/1000 [03:58<03:34,  1.70it/s]\u001b[A"
     ]
    },
    {
     "name": "stdout",
     "output_type": "stream",
     "text": [
      "\n",
      "\n",
      "\n"
     ]
    },
    {
     "name": "stderr",
     "output_type": "stream",
     "text": []
    },
    {
     "name": "stdout",
     "output_type": "stream",
     "text": [
      "\n",
      "\n",
      "\n"
     ]
    },
    {
     "name": "stderr",
     "output_type": "stream",
     "text": []
    },
    {
     "name": "stdout",
     "output_type": "stream",
     "text": [
      "\n",
      "\n",
      "\n",
      "\n",
      "\n",
      "\n"
     ]
    },
    {
     "name": "stderr",
     "output_type": "stream",
     "text": []
    },
    {
     "name": "stdout",
     "output_type": "stream",
     "text": [
      "\n",
      "\n",
      "\n"
     ]
    },
    {
     "name": "stderr",
     "output_type": "stream",
     "text": []
    },
    {
     "name": "stdout",
     "output_type": "stream",
     "text": [
      "\n",
      "\n",
      "\n",
      "\n",
      "\n"
     ]
    },
    {
     "name": "stderr",
     "output_type": "stream",
     "text": []
    },
    {
     "name": "stdout",
     "output_type": "stream",
     "text": [
      "\n",
      "\n",
      "\n",
      "\n"
     ]
    },
    {
     "name": "stderr",
     "output_type": "stream",
     "text": []
    },
    {
     "name": "stdout",
     "output_type": "stream",
     "text": [
      "\n",
      "\n",
      "\n",
      "\n",
      "\n"
     ]
    },
    {
     "name": "stderr",
     "output_type": "stream",
     "text": []
    },
    {
     "name": "stdout",
     "output_type": "stream",
     "text": [
      "\n",
      "\n",
      "\n",
      "\n",
      "\n",
      "\n"
     ]
    },
    {
     "name": "stderr",
     "output_type": "stream",
     "text": []
    },
    {
     "name": "stdout",
     "output_type": "stream",
     "text": [
      "\n"
     ]
    },
    {
     "name": "stderr",
     "output_type": "stream",
     "text": []
    },
    {
     "name": "stdout",
     "output_type": "stream",
     "text": [
      "\n",
      "\n",
      "\n"
     ]
    },
    {
     "name": "stderr",
     "output_type": "stream",
     "text": [
      "\n"
     ]
    },
    {
     "name": "stdout",
     "output_type": "stream",
     "text": [
      "\n",
      "\n",
      "\n"
     ]
    },
    {
     "name": "stderr",
     "output_type": "stream",
     "text": [
      "Worker 1 - find paths:  65%|██████▍   | 649/1000 [04:04<01:58,  2.96it/s]\u001b[A"
     ]
    },
    {
     "name": "stdout",
     "output_type": "stream",
     "text": [
      "\n",
      "\n",
      "\n"
     ]
    },
    {
     "name": "stderr",
     "output_type": "stream",
     "text": []
    },
    {
     "name": "stdout",
     "output_type": "stream",
     "text": [
      "\n",
      "\n",
      "\n"
     ]
    },
    {
     "name": "stderr",
     "output_type": "stream",
     "text": []
    },
    {
     "name": "stdout",
     "output_type": "stream",
     "text": [
      "\n",
      "\n",
      "\n"
     ]
    },
    {
     "name": "stderr",
     "output_type": "stream",
     "text": []
    },
    {
     "name": "stdout",
     "output_type": "stream",
     "text": [
      "\n",
      "\n",
      "\n"
     ]
    },
    {
     "name": "stderr",
     "output_type": "stream",
     "text": [
      "\n"
     ]
    },
    {
     "name": "stdout",
     "output_type": "stream",
     "text": [
      "\n",
      "\n",
      "\n",
      "\n",
      "\n",
      "\n"
     ]
    },
    {
     "name": "stderr",
     "output_type": "stream",
     "text": [
      "Worker 1 - find paths:  66%|██████▌   | 655/1000 [04:06<01:37,  3.55it/s]\u001b[A"
     ]
    },
    {
     "name": "stdout",
     "output_type": "stream",
     "text": [
      "\n",
      "\n"
     ]
    },
    {
     "name": "stderr",
     "output_type": "stream",
     "text": []
    },
    {
     "name": "stdout",
     "output_type": "stream",
     "text": [
      "\n",
      "\n",
      "\n",
      "\n"
     ]
    },
    {
     "name": "stderr",
     "output_type": "stream",
     "text": []
    },
    {
     "name": "stdout",
     "output_type": "stream",
     "text": [
      "\n",
      "\n",
      "\n"
     ]
    },
    {
     "name": "stderr",
     "output_type": "stream",
     "text": []
    },
    {
     "name": "stdout",
     "output_type": "stream",
     "text": [
      "\n",
      "\n",
      "\n",
      "\n",
      "\n"
     ]
    },
    {
     "name": "stderr",
     "output_type": "stream",
     "text": []
    },
    {
     "name": "stdout",
     "output_type": "stream",
     "text": [
      "\n"
     ]
    },
    {
     "name": "stderr",
     "output_type": "stream",
     "text": []
    },
    {
     "name": "stdout",
     "output_type": "stream",
     "text": [
      "\n",
      "\n",
      "\n",
      "\n",
      "\n"
     ]
    },
    {
     "name": "stderr",
     "output_type": "stream",
     "text": []
    },
    {
     "name": "stdout",
     "output_type": "stream",
     "text": [
      "\n",
      "\n",
      "\n",
      "\n",
      "\n",
      "\n"
     ]
    },
    {
     "name": "stderr",
     "output_type": "stream",
     "text": []
    },
    {
     "name": "stdout",
     "output_type": "stream",
     "text": [
      "\n",
      "\n",
      "\n",
      "\n"
     ]
    },
    {
     "name": "stderr",
     "output_type": "stream",
     "text": []
    },
    {
     "name": "stdout",
     "output_type": "stream",
     "text": [
      "\n",
      "\n",
      "\n"
     ]
    },
    {
     "name": "stderr",
     "output_type": "stream",
     "text": []
    },
    {
     "name": "stdout",
     "output_type": "stream",
     "text": [
      "\n",
      "\n",
      "\n",
      "\n",
      "\n",
      "\n"
     ]
    },
    {
     "name": "stderr",
     "output_type": "stream",
     "text": []
    },
    {
     "name": "stdout",
     "output_type": "stream",
     "text": [
      "\n",
      "\n"
     ]
    },
    {
     "name": "stderr",
     "output_type": "stream",
     "text": []
    },
    {
     "name": "stdout",
     "output_type": "stream",
     "text": [
      "\n",
      "\n",
      "\n",
      "\n"
     ]
    },
    {
     "name": "stderr",
     "output_type": "stream",
     "text": []
    },
    {
     "name": "stdout",
     "output_type": "stream",
     "text": [
      "\n",
      "\n",
      "\n",
      "\n"
     ]
    },
    {
     "name": "stderr",
     "output_type": "stream",
     "text": []
    },
    {
     "name": "stdout",
     "output_type": "stream",
     "text": [
      "\n",
      "\n",
      "\n",
      "\n",
      "\n"
     ]
    },
    {
     "name": "stderr",
     "output_type": "stream",
     "text": []
    },
    {
     "name": "stdout",
     "output_type": "stream",
     "text": [
      "\n",
      "\n",
      "\n",
      "\n",
      "\n",
      "\n"
     ]
    },
    {
     "name": "stderr",
     "output_type": "stream",
     "text": [
      "\n"
     ]
    },
    {
     "name": "stdout",
     "output_type": "stream",
     "text": [
      "\n",
      "\n",
      "\n"
     ]
    },
    {
     "name": "stderr",
     "output_type": "stream",
     "text": [
      "Worker 1 - find paths:  68%|██████▊   | 676/1000 [04:15<02:04,  2.59it/s]\u001b[A"
     ]
    },
    {
     "name": "stdout",
     "output_type": "stream",
     "text": [
      "\n",
      "\n",
      "\n",
      "\n",
      "\n",
      "\n"
     ]
    },
    {
     "name": "stderr",
     "output_type": "stream",
     "text": []
    },
    {
     "name": "stdout",
     "output_type": "stream",
     "text": [
      "\n",
      "\n",
      "\n"
     ]
    },
    {
     "name": "stderr",
     "output_type": "stream",
     "text": []
    },
    {
     "name": "stdout",
     "output_type": "stream",
     "text": [
      "\n",
      "\n",
      "\n"
     ]
    },
    {
     "name": "stderr",
     "output_type": "stream",
     "text": []
    },
    {
     "name": "stdout",
     "output_type": "stream",
     "text": [
      "\n",
      "\n",
      "\n"
     ]
    },
    {
     "name": "stderr",
     "output_type": "stream",
     "text": []
    },
    {
     "name": "stdout",
     "output_type": "stream",
     "text": [
      "\n",
      "\n",
      "\n",
      "\n",
      "\n",
      "\n"
     ]
    },
    {
     "name": "stderr",
     "output_type": "stream",
     "text": []
    },
    {
     "name": "stdout",
     "output_type": "stream",
     "text": [
      "\n",
      "\n"
     ]
    },
    {
     "name": "stderr",
     "output_type": "stream",
     "text": []
    },
    {
     "name": "stdout",
     "output_type": "stream",
     "text": [
      "\n",
      "\n",
      "\n",
      "\n"
     ]
    },
    {
     "name": "stderr",
     "output_type": "stream",
     "text": []
    },
    {
     "name": "stdout",
     "output_type": "stream",
     "text": [
      "\n",
      "\n",
      "\n",
      "\n",
      "\n",
      "\n"
     ]
    },
    {
     "name": "stderr",
     "output_type": "stream",
     "text": []
    },
    {
     "name": "stdout",
     "output_type": "stream",
     "text": [
      "\n",
      "\n",
      "\n"
     ]
    },
    {
     "name": "stderr",
     "output_type": "stream",
     "text": []
    },
    {
     "name": "stdout",
     "output_type": "stream",
     "text": [
      "\n",
      "\n",
      "\n"
     ]
    },
    {
     "name": "stderr",
     "output_type": "stream",
     "text": []
    },
    {
     "name": "stdout",
     "output_type": "stream",
     "text": [
      "\n",
      "\n"
     ]
    },
    {
     "name": "stderr",
     "output_type": "stream",
     "text": []
    },
    {
     "name": "stdout",
     "output_type": "stream",
     "text": [
      "\n",
      "\n",
      "\n",
      "\n"
     ]
    },
    {
     "name": "stderr",
     "output_type": "stream",
     "text": []
    },
    {
     "name": "stdout",
     "output_type": "stream",
     "text": [
      "\n",
      "\n",
      "\n",
      "\n",
      "\n",
      "\n"
     ]
    },
    {
     "name": "stderr",
     "output_type": "stream",
     "text": []
    },
    {
     "name": "stdout",
     "output_type": "stream",
     "text": [
      "\n",
      "\n",
      "\n",
      "\n",
      "\n",
      "\n",
      "\n",
      "\n",
      "\n"
     ]
    },
    {
     "name": "stderr",
     "output_type": "stream",
     "text": []
    },
    {
     "name": "stdout",
     "output_type": "stream",
     "text": [
      "\n",
      "\n",
      "\n",
      "\n",
      "\n",
      "\n"
     ]
    },
    {
     "name": "stderr",
     "output_type": "stream",
     "text": []
    },
    {
     "name": "stdout",
     "output_type": "stream",
     "text": [
      "\n",
      "\n",
      "\n",
      "\n",
      "\n",
      "\n",
      "\n",
      "\n",
      "\n",
      "\n",
      "\n"
     ]
    },
    {
     "name": "stderr",
     "output_type": "stream",
     "text": []
    },
    {
     "name": "stdout",
     "output_type": "stream",
     "text": [
      "\n",
      "\n",
      "\n",
      "\n"
     ]
    },
    {
     "name": "stderr",
     "output_type": "stream",
     "text": []
    },
    {
     "name": "stdout",
     "output_type": "stream",
     "text": [
      "\n",
      "\n",
      "\n",
      "\n",
      "\n",
      "\n"
     ]
    },
    {
     "name": "stderr",
     "output_type": "stream",
     "text": [
      "\n"
     ]
    },
    {
     "name": "stdout",
     "output_type": "stream",
     "text": [
      "\n",
      "\n",
      "\n",
      "\n",
      "\n",
      "\n"
     ]
    },
    {
     "name": "stderr",
     "output_type": "stream",
     "text": [
      "Worker 1 - find paths:  71%|███████   | 707/1000 [04:25<00:45,  6.45it/s]\u001b[A"
     ]
    },
    {
     "name": "stdout",
     "output_type": "stream",
     "text": [
      "\n",
      "\n",
      "\n",
      "\n",
      "\n",
      "\n"
     ]
    },
    {
     "name": "stderr",
     "output_type": "stream",
     "text": []
    },
    {
     "name": "stdout",
     "output_type": "stream",
     "text": [
      "\n",
      "\n",
      "\n",
      "\n",
      "\n",
      "\n"
     ]
    },
    {
     "name": "stderr",
     "output_type": "stream",
     "text": []
    },
    {
     "name": "stdout",
     "output_type": "stream",
     "text": [
      "\n",
      "\n",
      "\n"
     ]
    },
    {
     "name": "stderr",
     "output_type": "stream",
     "text": []
    },
    {
     "name": "stdout",
     "output_type": "stream",
     "text": [
      "\n",
      "\n",
      "\n"
     ]
    },
    {
     "name": "stderr",
     "output_type": "stream",
     "text": []
    },
    {
     "name": "stdout",
     "output_type": "stream",
     "text": [
      "\n",
      "\n",
      "\n",
      "\n"
     ]
    },
    {
     "name": "stderr",
     "output_type": "stream",
     "text": []
    },
    {
     "name": "stdout",
     "output_type": "stream",
     "text": [
      "\n",
      "\n",
      "\n",
      "\n",
      "\n"
     ]
    },
    {
     "name": "stderr",
     "output_type": "stream",
     "text": []
    },
    {
     "name": "stdout",
     "output_type": "stream",
     "text": [
      "\n",
      "\n"
     ]
    },
    {
     "name": "stderr",
     "output_type": "stream",
     "text": []
    },
    {
     "name": "stdout",
     "output_type": "stream",
     "text": [
      "\n"
     ]
    },
    {
     "name": "stderr",
     "output_type": "stream",
     "text": []
    },
    {
     "name": "stdout",
     "output_type": "stream",
     "text": [
      "\n",
      "\n",
      "\n",
      "\n",
      "\n",
      "\n"
     ]
    },
    {
     "name": "stderr",
     "output_type": "stream",
     "text": []
    },
    {
     "name": "stdout",
     "output_type": "stream",
     "text": [
      "\n",
      "\n",
      "\n"
     ]
    },
    {
     "name": "stderr",
     "output_type": "stream",
     "text": []
    },
    {
     "name": "stdout",
     "output_type": "stream",
     "text": [
      "\n",
      "\n",
      "\n",
      "\n",
      "\n",
      "\n",
      "\n",
      "\n"
     ]
    },
    {
     "name": "stderr",
     "output_type": "stream",
     "text": []
    },
    {
     "name": "stdout",
     "output_type": "stream",
     "text": [
      "\n",
      "\n",
      "\n",
      "\n"
     ]
    },
    {
     "name": "stderr",
     "output_type": "stream",
     "text": [
      "\n"
     ]
    },
    {
     "name": "stdout",
     "output_type": "stream",
     "text": [
      "\n",
      "\n",
      "\n"
     ]
    },
    {
     "name": "stderr",
     "output_type": "stream",
     "text": [
      "Worker 1 - find paths:  72%|███████▎  | 725/1000 [04:31<01:37,  2.82it/s]\u001b[A"
     ]
    },
    {
     "name": "stdout",
     "output_type": "stream",
     "text": [
      "\n",
      "\n"
     ]
    },
    {
     "name": "stderr",
     "output_type": "stream",
     "text": []
    },
    {
     "name": "stdout",
     "output_type": "stream",
     "text": [
      "\n",
      "\n",
      "\n",
      "\n"
     ]
    },
    {
     "name": "stderr",
     "output_type": "stream",
     "text": []
    },
    {
     "name": "stdout",
     "output_type": "stream",
     "text": [
      "\n",
      "\n",
      "\n"
     ]
    },
    {
     "name": "stderr",
     "output_type": "stream",
     "text": []
    },
    {
     "name": "stdout",
     "output_type": "stream",
     "text": [
      "\n",
      "\n",
      "\n",
      "\n",
      "\n",
      "\n"
     ]
    },
    {
     "name": "stderr",
     "output_type": "stream",
     "text": []
    },
    {
     "name": "stdout",
     "output_type": "stream",
     "text": [
      "\n",
      "\n",
      "\n",
      "\n",
      "\n"
     ]
    },
    {
     "name": "stderr",
     "output_type": "stream",
     "text": []
    },
    {
     "name": "stdout",
     "output_type": "stream",
     "text": [
      "\n",
      "\n",
      "\n",
      "\n"
     ]
    },
    {
     "name": "stderr",
     "output_type": "stream",
     "text": []
    },
    {
     "name": "stdout",
     "output_type": "stream",
     "text": [
      "\n",
      "\n",
      "\n",
      "\n",
      "\n",
      "\n"
     ]
    },
    {
     "name": "stderr",
     "output_type": "stream",
     "text": [
      "\n"
     ]
    },
    {
     "name": "stdout",
     "output_type": "stream",
     "text": [
      "\n",
      "\n",
      "\n",
      "\n",
      "\n",
      "\n"
     ]
    },
    {
     "name": "stderr",
     "output_type": "stream",
     "text": [
      "Worker 1 - find paths:  74%|███████▎  | 737/1000 [04:37<01:34,  2.78it/s]\u001b[A"
     ]
    },
    {
     "name": "stdout",
     "output_type": "stream",
     "text": [
      "\n",
      "\n",
      "\n",
      "\n",
      "\n",
      "\n"
     ]
    },
    {
     "name": "stderr",
     "output_type": "stream",
     "text": []
    },
    {
     "name": "stdout",
     "output_type": "stream",
     "text": [
      "\n",
      "\n",
      "\n"
     ]
    },
    {
     "name": "stderr",
     "output_type": "stream",
     "text": []
    },
    {
     "name": "stdout",
     "output_type": "stream",
     "text": [
      "\n",
      "\n",
      "\n",
      "\n",
      "\n",
      "\n"
     ]
    },
    {
     "name": "stderr",
     "output_type": "stream",
     "text": []
    },
    {
     "name": "stdout",
     "output_type": "stream",
     "text": [
      "\n",
      "\n",
      "\n"
     ]
    },
    {
     "name": "stderr",
     "output_type": "stream",
     "text": [
      "\n"
     ]
    },
    {
     "name": "stdout",
     "output_type": "stream",
     "text": [
      "\n",
      "\n",
      "\n"
     ]
    },
    {
     "name": "stderr",
     "output_type": "stream",
     "text": [
      "Worker 1 - find paths:  74%|███████▍  | 744/1000 [04:39<01:18,  3.26it/s]\u001b[A\n"
     ]
    },
    {
     "name": "stdout",
     "output_type": "stream",
     "text": [
      "\n",
      "\n",
      "\n"
     ]
    },
    {
     "name": "stderr",
     "output_type": "stream",
     "text": [
      "Worker 1 - find paths:  74%|███████▍  | 745/1000 [04:39<01:26,  2.96it/s]\u001b[A"
     ]
    },
    {
     "name": "stdout",
     "output_type": "stream",
     "text": [
      "\n",
      "\n",
      "\n"
     ]
    },
    {
     "name": "stderr",
     "output_type": "stream",
     "text": [
      "\n"
     ]
    },
    {
     "name": "stdout",
     "output_type": "stream",
     "text": [
      "\n",
      "\n",
      "\n"
     ]
    },
    {
     "name": "stderr",
     "output_type": "stream",
     "text": [
      "Worker 1 - find paths:  75%|███████▍  | 747/1000 [04:40<01:17,  3.27it/s]\u001b[A"
     ]
    },
    {
     "name": "stdout",
     "output_type": "stream",
     "text": [
      "\n",
      "\n",
      "\n"
     ]
    },
    {
     "name": "stderr",
     "output_type": "stream",
     "text": []
    },
    {
     "name": "stdout",
     "output_type": "stream",
     "text": [
      "\n",
      "\n",
      "\n"
     ]
    },
    {
     "name": "stderr",
     "output_type": "stream",
     "text": []
    },
    {
     "name": "stdout",
     "output_type": "stream",
     "text": [
      "\n",
      "\n",
      "\n"
     ]
    },
    {
     "name": "stderr",
     "output_type": "stream",
     "text": []
    },
    {
     "name": "stdout",
     "output_type": "stream",
     "text": [
      "\n",
      "\n",
      "\n"
     ]
    },
    {
     "name": "stderr",
     "output_type": "stream",
     "text": []
    },
    {
     "name": "stdout",
     "output_type": "stream",
     "text": [
      "\n",
      "\n",
      "\n",
      "\n",
      "\n"
     ]
    },
    {
     "name": "stderr",
     "output_type": "stream",
     "text": []
    },
    {
     "name": "stdout",
     "output_type": "stream",
     "text": [
      "\n"
     ]
    },
    {
     "name": "stderr",
     "output_type": "stream",
     "text": []
    },
    {
     "name": "stdout",
     "output_type": "stream",
     "text": [
      "\n",
      "\n",
      "\n"
     ]
    },
    {
     "name": "stderr",
     "output_type": "stream",
     "text": []
    },
    {
     "name": "stdout",
     "output_type": "stream",
     "text": [
      "\n",
      "\n",
      "\n"
     ]
    },
    {
     "name": "stderr",
     "output_type": "stream",
     "text": []
    },
    {
     "name": "stdout",
     "output_type": "stream",
     "text": [
      "\n",
      "\n",
      "\n",
      "\n",
      "\n",
      "\n"
     ]
    },
    {
     "name": "stderr",
     "output_type": "stream",
     "text": []
    },
    {
     "name": "stdout",
     "output_type": "stream",
     "text": [
      "\n",
      "\n",
      "\n",
      "\n",
      "\n",
      "\n"
     ]
    },
    {
     "name": "stderr",
     "output_type": "stream",
     "text": []
    },
    {
     "name": "stdout",
     "output_type": "stream",
     "text": [
      "\n",
      "\n",
      "\n",
      "\n",
      "\n",
      "\n"
     ]
    },
    {
     "name": "stderr",
     "output_type": "stream",
     "text": []
    },
    {
     "name": "stdout",
     "output_type": "stream",
     "text": [
      "\n",
      "\n"
     ]
    },
    {
     "name": "stderr",
     "output_type": "stream",
     "text": []
    },
    {
     "name": "stdout",
     "output_type": "stream",
     "text": [
      "\n",
      "\n",
      "\n",
      "\n"
     ]
    },
    {
     "name": "stderr",
     "output_type": "stream",
     "text": []
    },
    {
     "name": "stdout",
     "output_type": "stream",
     "text": [
      "\n",
      "\n"
     ]
    },
    {
     "name": "stderr",
     "output_type": "stream",
     "text": []
    },
    {
     "name": "stdout",
     "output_type": "stream",
     "text": [
      "\n"
     ]
    },
    {
     "name": "stderr",
     "output_type": "stream",
     "text": []
    },
    {
     "name": "stdout",
     "output_type": "stream",
     "text": [
      "\n",
      "\n",
      "\n",
      "\n",
      "\n"
     ]
    },
    {
     "name": "stderr",
     "output_type": "stream",
     "text": []
    },
    {
     "name": "stdout",
     "output_type": "stream",
     "text": [
      "\n",
      "\n",
      "\n",
      "\n"
     ]
    },
    {
     "name": "stderr",
     "output_type": "stream",
     "text": []
    },
    {
     "name": "stdout",
     "output_type": "stream",
     "text": [
      "\n",
      "\n",
      "\n"
     ]
    },
    {
     "name": "stderr",
     "output_type": "stream",
     "text": []
    },
    {
     "name": "stdout",
     "output_type": "stream",
     "text": [
      "\n",
      "\n",
      "\n",
      "\n",
      "\n"
     ]
    },
    {
     "name": "stderr",
     "output_type": "stream",
     "text": []
    },
    {
     "name": "stdout",
     "output_type": "stream",
     "text": [
      "\n",
      "\n",
      "\n",
      "\n",
      "\n",
      "\n",
      "\n"
     ]
    },
    {
     "name": "stderr",
     "output_type": "stream",
     "text": []
    },
    {
     "name": "stdout",
     "output_type": "stream",
     "text": [
      "\n",
      "\n",
      "\n",
      "\n"
     ]
    },
    {
     "name": "stderr",
     "output_type": "stream",
     "text": []
    },
    {
     "name": "stdout",
     "output_type": "stream",
     "text": [
      "\n",
      "\n"
     ]
    },
    {
     "name": "stderr",
     "output_type": "stream",
     "text": []
    },
    {
     "name": "stdout",
     "output_type": "stream",
     "text": [
      "\n",
      "\n",
      "\n"
     ]
    },
    {
     "name": "stderr",
     "output_type": "stream",
     "text": [
      "\n"
     ]
    },
    {
     "name": "stdout",
     "output_type": "stream",
     "text": [
      "\n",
      "\n",
      "\n",
      "\n",
      "\n",
      "\n"
     ]
    },
    {
     "name": "stderr",
     "output_type": "stream",
     "text": [
      "Worker 1 - find paths:  78%|███████▊  | 777/1000 [04:50<01:02,  3.57it/s]\u001b[A"
     ]
    },
    {
     "name": "stdout",
     "output_type": "stream",
     "text": [
      "\n",
      "\n"
     ]
    },
    {
     "name": "stderr",
     "output_type": "stream",
     "text": []
    },
    {
     "name": "stdout",
     "output_type": "stream",
     "text": [
      "\n",
      "\n",
      "\n",
      "\n",
      "\n",
      "\n",
      "\n"
     ]
    },
    {
     "name": "stderr",
     "output_type": "stream",
     "text": []
    },
    {
     "name": "stdout",
     "output_type": "stream",
     "text": [
      "\n",
      "\n",
      "\n"
     ]
    },
    {
     "name": "stderr",
     "output_type": "stream",
     "text": []
    },
    {
     "name": "stdout",
     "output_type": "stream",
     "text": [
      "\n",
      "\n",
      "\n"
     ]
    },
    {
     "name": "stderr",
     "output_type": "stream",
     "text": []
    },
    {
     "name": "stdout",
     "output_type": "stream",
     "text": [
      "\n",
      "\n",
      "\n"
     ]
    },
    {
     "name": "stderr",
     "output_type": "stream",
     "text": []
    },
    {
     "name": "stdout",
     "output_type": "stream",
     "text": [
      "\n",
      "\n",
      "\n"
     ]
    },
    {
     "name": "stderr",
     "output_type": "stream",
     "text": []
    },
    {
     "name": "stdout",
     "output_type": "stream",
     "text": [
      "\n",
      "\n",
      "\n"
     ]
    },
    {
     "name": "stderr",
     "output_type": "stream",
     "text": [
      "\n"
     ]
    },
    {
     "name": "stdout",
     "output_type": "stream",
     "text": [
      "\n",
      "\n",
      "\n"
     ]
    },
    {
     "name": "stderr",
     "output_type": "stream",
     "text": [
      "Worker 1 - find paths:  79%|███████▊  | 786/1000 [04:54<01:26,  2.47it/s]\u001b[A"
     ]
    },
    {
     "name": "stdout",
     "output_type": "stream",
     "text": [
      "\n",
      "\n",
      "\n"
     ]
    },
    {
     "name": "stderr",
     "output_type": "stream",
     "text": []
    },
    {
     "name": "stdout",
     "output_type": "stream",
     "text": [
      "\n",
      "\n",
      "\n",
      "\n",
      "\n",
      "\n"
     ]
    },
    {
     "name": "stderr",
     "output_type": "stream",
     "text": []
    },
    {
     "name": "stdout",
     "output_type": "stream",
     "text": [
      "\n",
      "\n",
      "\n",
      "\n",
      "\n",
      "\n"
     ]
    },
    {
     "name": "stderr",
     "output_type": "stream",
     "text": []
    },
    {
     "name": "stdout",
     "output_type": "stream",
     "text": [
      "\n",
      "\n",
      "\n",
      "\n",
      "\n",
      "\n",
      "\n",
      "\n"
     ]
    },
    {
     "name": "stderr",
     "output_type": "stream",
     "text": []
    },
    {
     "name": "stdout",
     "output_type": "stream",
     "text": [
      "\n"
     ]
    },
    {
     "name": "stderr",
     "output_type": "stream",
     "text": []
    },
    {
     "name": "stdout",
     "output_type": "stream",
     "text": [
      "\n",
      "\n",
      "\n",
      "\n",
      "\n",
      "\n",
      "\n",
      "\n",
      "\n"
     ]
    },
    {
     "name": "stderr",
     "output_type": "stream",
     "text": []
    },
    {
     "name": "stdout",
     "output_type": "stream",
     "text": [
      "\n",
      "\n",
      "\n"
     ]
    },
    {
     "name": "stderr",
     "output_type": "stream",
     "text": []
    },
    {
     "name": "stdout",
     "output_type": "stream",
     "text": [
      "\n",
      "\n",
      "\n",
      "\n",
      "\n",
      "\n"
     ]
    },
    {
     "name": "stderr",
     "output_type": "stream",
     "text": []
    },
    {
     "name": "stdout",
     "output_type": "stream",
     "text": [
      "\n",
      "\n"
     ]
    },
    {
     "name": "stderr",
     "output_type": "stream",
     "text": []
    },
    {
     "name": "stdout",
     "output_type": "stream",
     "text": [
      "\n",
      "\n",
      "\n",
      "\n"
     ]
    },
    {
     "name": "stderr",
     "output_type": "stream",
     "text": []
    },
    {
     "name": "stdout",
     "output_type": "stream",
     "text": [
      "\n",
      "\n",
      "\n",
      "\n",
      "\n"
     ]
    },
    {
     "name": "stderr",
     "output_type": "stream",
     "text": []
    },
    {
     "name": "stdout",
     "output_type": "stream",
     "text": [
      "\n"
     ]
    },
    {
     "name": "stderr",
     "output_type": "stream",
     "text": []
    },
    {
     "name": "stdout",
     "output_type": "stream",
     "text": [
      "\n",
      "\n",
      "\n",
      "\n",
      "\n"
     ]
    },
    {
     "name": "stderr",
     "output_type": "stream",
     "text": []
    },
    {
     "name": "stdout",
     "output_type": "stream",
     "text": [
      "\n",
      "\n",
      "\n",
      "\n"
     ]
    },
    {
     "name": "stderr",
     "output_type": "stream",
     "text": []
    },
    {
     "name": "stdout",
     "output_type": "stream",
     "text": [
      "\n",
      "\n",
      "\n"
     ]
    },
    {
     "name": "stderr",
     "output_type": "stream",
     "text": []
    },
    {
     "name": "stdout",
     "output_type": "stream",
     "text": [
      "\n",
      "\n",
      "\n"
     ]
    },
    {
     "name": "stderr",
     "output_type": "stream",
     "text": []
    },
    {
     "name": "stdout",
     "output_type": "stream",
     "text": [
      "\n",
      "\n",
      "\n"
     ]
    },
    {
     "name": "stderr",
     "output_type": "stream",
     "text": []
    },
    {
     "name": "stdout",
     "output_type": "stream",
     "text": [
      "\n",
      "\n",
      "\n",
      "\n",
      "\n",
      "\n"
     ]
    },
    {
     "name": "stderr",
     "output_type": "stream",
     "text": []
    },
    {
     "name": "stdout",
     "output_type": "stream",
     "text": [
      "\n",
      "\n",
      "\n",
      "\n",
      "\n",
      "\n"
     ]
    },
    {
     "name": "stderr",
     "output_type": "stream",
     "text": []
    },
    {
     "name": "stdout",
     "output_type": "stream",
     "text": [
      "\n",
      "\n",
      "\n"
     ]
    },
    {
     "name": "stderr",
     "output_type": "stream",
     "text": []
    },
    {
     "name": "stdout",
     "output_type": "stream",
     "text": [
      "\n",
      "\n"
     ]
    },
    {
     "name": "stderr",
     "output_type": "stream",
     "text": []
    },
    {
     "name": "stdout",
     "output_type": "stream",
     "text": [
      "\n"
     ]
    },
    {
     "name": "stderr",
     "output_type": "stream",
     "text": []
    },
    {
     "name": "stdout",
     "output_type": "stream",
     "text": [
      "\n",
      "\n",
      "\n",
      "\n",
      "\n"
     ]
    },
    {
     "name": "stderr",
     "output_type": "stream",
     "text": []
    },
    {
     "name": "stdout",
     "output_type": "stream",
     "text": [
      "\n"
     ]
    },
    {
     "name": "stderr",
     "output_type": "stream",
     "text": [
      "\n"
     ]
    },
    {
     "name": "stdout",
     "output_type": "stream",
     "text": [
      "\n",
      "\n",
      "\n"
     ]
    },
    {
     "name": "stderr",
     "output_type": "stream",
     "text": [
      "Worker 1 - find paths:  82%|████████▏ | 819/1000 [05:08<01:33,  1.93it/s]\u001b[A"
     ]
    },
    {
     "name": "stdout",
     "output_type": "stream",
     "text": [
      "\n",
      "\n",
      "\n",
      "\n",
      "\n"
     ]
    },
    {
     "name": "stderr",
     "output_type": "stream",
     "text": []
    },
    {
     "name": "stdout",
     "output_type": "stream",
     "text": [
      "\n",
      "\n",
      "\n",
      "\n"
     ]
    },
    {
     "name": "stderr",
     "output_type": "stream",
     "text": []
    },
    {
     "name": "stdout",
     "output_type": "stream",
     "text": [
      "\n",
      "\n",
      "\n",
      "\n",
      "\n"
     ]
    },
    {
     "name": "stderr",
     "output_type": "stream",
     "text": [
      "\n"
     ]
    },
    {
     "name": "stdout",
     "output_type": "stream",
     "text": [
      "\n",
      "\n",
      "\n",
      "\n"
     ]
    },
    {
     "name": "stderr",
     "output_type": "stream",
     "text": [
      "Worker 1 - find paths:  82%|████████▎ | 825/1000 [05:10<00:51,  3.37it/s]\u001b[A"
     ]
    },
    {
     "name": "stdout",
     "output_type": "stream",
     "text": [
      "\n",
      "\n"
     ]
    },
    {
     "name": "stderr",
     "output_type": "stream",
     "text": []
    },
    {
     "name": "stdout",
     "output_type": "stream",
     "text": [
      "\n",
      "\n",
      "\n",
      "\n"
     ]
    },
    {
     "name": "stderr",
     "output_type": "stream",
     "text": []
    },
    {
     "name": "stdout",
     "output_type": "stream",
     "text": [
      "\n",
      "\n",
      "\n"
     ]
    },
    {
     "name": "stderr",
     "output_type": "stream",
     "text": []
    },
    {
     "name": "stdout",
     "output_type": "stream",
     "text": [
      "\n",
      "\n",
      "\n",
      "\n",
      "\n",
      "\n"
     ]
    },
    {
     "name": "stderr",
     "output_type": "stream",
     "text": []
    },
    {
     "name": "stdout",
     "output_type": "stream",
     "text": [
      "\n",
      "\n",
      "\n",
      "\n",
      "\n",
      "\n"
     ]
    },
    {
     "name": "stderr",
     "output_type": "stream",
     "text": []
    },
    {
     "name": "stdout",
     "output_type": "stream",
     "text": [
      "\n",
      "\n",
      "\n",
      "\n",
      "\n",
      "\n"
     ]
    },
    {
     "name": "stderr",
     "output_type": "stream",
     "text": []
    },
    {
     "name": "stdout",
     "output_type": "stream",
     "text": [
      "\n",
      "\n",
      "\n"
     ]
    },
    {
     "name": "stderr",
     "output_type": "stream",
     "text": []
    },
    {
     "name": "stdout",
     "output_type": "stream",
     "text": [
      "\n",
      "\n",
      "\n"
     ]
    },
    {
     "name": "stderr",
     "output_type": "stream",
     "text": []
    },
    {
     "name": "stdout",
     "output_type": "stream",
     "text": [
      "\n",
      "\n",
      "\n",
      "\n",
      "\n",
      "\n"
     ]
    },
    {
     "name": "stderr",
     "output_type": "stream",
     "text": []
    },
    {
     "name": "stdout",
     "output_type": "stream",
     "text": [
      "\n",
      "\n",
      "\n",
      "\n",
      "\n",
      "\n"
     ]
    },
    {
     "name": "stderr",
     "output_type": "stream",
     "text": []
    },
    {
     "name": "stdout",
     "output_type": "stream",
     "text": [
      "\n",
      "\n",
      "\n"
     ]
    },
    {
     "name": "stderr",
     "output_type": "stream",
     "text": [
      "\n"
     ]
    },
    {
     "name": "stdout",
     "output_type": "stream",
     "text": [
      "\n",
      "\n",
      "\n"
     ]
    },
    {
     "name": "stderr",
     "output_type": "stream",
     "text": [
      "Worker 1 - find paths:  84%|████████▍ | 842/1000 [05:16<00:43,  3.65it/s]\u001b[A"
     ]
    },
    {
     "name": "stdout",
     "output_type": "stream",
     "text": [
      "\n",
      "\n",
      "\n",
      "\n",
      "\n",
      "\n"
     ]
    },
    {
     "name": "stderr",
     "output_type": "stream",
     "text": []
    },
    {
     "name": "stdout",
     "output_type": "stream",
     "text": [
      "\n",
      "\n",
      "\n",
      "\n",
      "\n"
     ]
    },
    {
     "name": "stderr",
     "output_type": "stream",
     "text": []
    },
    {
     "name": "stdout",
     "output_type": "stream",
     "text": [
      "\n",
      "\n",
      "\n",
      "\n",
      "\n",
      "\n"
     ]
    },
    {
     "name": "stderr",
     "output_type": "stream",
     "text": []
    },
    {
     "name": "stdout",
     "output_type": "stream",
     "text": [
      "\n",
      "\n",
      "\n"
     ]
    },
    {
     "name": "stderr",
     "output_type": "stream",
     "text": []
    },
    {
     "name": "stdout",
     "output_type": "stream",
     "text": [
      "\n",
      "\n",
      "\n"
     ]
    },
    {
     "name": "stderr",
     "output_type": "stream",
     "text": []
    },
    {
     "name": "stdout",
     "output_type": "stream",
     "text": [
      "\n",
      "\n",
      "\n",
      "\n"
     ]
    },
    {
     "name": "stderr",
     "output_type": "stream",
     "text": []
    },
    {
     "name": "stdout",
     "output_type": "stream",
     "text": [
      "\n",
      "\n",
      "\n"
     ]
    },
    {
     "name": "stderr",
     "output_type": "stream",
     "text": []
    },
    {
     "name": "stdout",
     "output_type": "stream",
     "text": [
      "\n",
      "\n",
      "\n",
      "\n",
      "\n",
      "\n",
      "\n",
      "\n",
      "\n"
     ]
    },
    {
     "name": "stderr",
     "output_type": "stream",
     "text": []
    },
    {
     "name": "stdout",
     "output_type": "stream",
     "text": [
      "\n",
      "\n",
      "\n",
      "\n",
      "\n",
      "\n"
     ]
    },
    {
     "name": "stderr",
     "output_type": "stream",
     "text": []
    },
    {
     "name": "stdout",
     "output_type": "stream",
     "text": [
      "\n",
      "\n",
      "\n",
      "\n",
      "\n",
      "\n",
      "\n",
      "\n",
      "\n"
     ]
    },
    {
     "name": "stderr",
     "output_type": "stream",
     "text": []
    },
    {
     "name": "stdout",
     "output_type": "stream",
     "text": [
      "\n",
      "\n",
      "\n"
     ]
    },
    {
     "name": "stderr",
     "output_type": "stream",
     "text": []
    },
    {
     "name": "stdout",
     "output_type": "stream",
     "text": [
      "\n",
      "\n",
      "\n",
      "\n",
      "\n",
      "\n",
      "\n",
      "\n",
      "\n",
      "\n",
      "\n"
     ]
    },
    {
     "name": "stderr",
     "output_type": "stream",
     "text": []
    },
    {
     "name": "stdout",
     "output_type": "stream",
     "text": [
      "\n",
      "\n",
      "\n"
     ]
    },
    {
     "name": "stderr",
     "output_type": "stream",
     "text": []
    },
    {
     "name": "stdout",
     "output_type": "stream",
     "text": [
      "\n"
     ]
    },
    {
     "name": "stderr",
     "output_type": "stream",
     "text": []
    },
    {
     "name": "stdout",
     "output_type": "stream",
     "text": [
      "\n",
      "\n",
      "\n",
      "\n"
     ]
    },
    {
     "name": "stderr",
     "output_type": "stream",
     "text": []
    },
    {
     "name": "stdout",
     "output_type": "stream",
     "text": [
      "\n",
      "\n",
      "\n",
      "\n",
      "\n",
      "\n",
      "\n",
      "\n",
      "\n",
      "\n",
      "\n"
     ]
    },
    {
     "name": "stderr",
     "output_type": "stream",
     "text": []
    },
    {
     "name": "stdout",
     "output_type": "stream",
     "text": [
      "\n",
      "\n",
      "\n"
     ]
    },
    {
     "name": "stderr",
     "output_type": "stream",
     "text": []
    },
    {
     "name": "stdout",
     "output_type": "stream",
     "text": [
      "\n",
      "\n",
      "\n"
     ]
    },
    {
     "name": "stderr",
     "output_type": "stream",
     "text": []
    },
    {
     "name": "stdout",
     "output_type": "stream",
     "text": [
      "\n",
      "\n",
      "\n",
      "\n",
      "\n"
     ]
    },
    {
     "name": "stderr",
     "output_type": "stream",
     "text": [
      "\n"
     ]
    },
    {
     "name": "stdout",
     "output_type": "stream",
     "text": [
      "\n"
     ]
    },
    {
     "name": "stderr",
     "output_type": "stream",
     "text": [
      "Worker 1 - find paths:  88%|████████▊ | 875/1000 [05:28<00:56,  2.21it/s]\u001b[A"
     ]
    },
    {
     "name": "stdout",
     "output_type": "stream",
     "text": [
      "\n",
      "\n",
      "\n",
      "\n",
      "\n",
      "\n",
      "\n"
     ]
    },
    {
     "name": "stderr",
     "output_type": "stream",
     "text": []
    },
    {
     "name": "stdout",
     "output_type": "stream",
     "text": [
      "\n",
      "\n"
     ]
    },
    {
     "name": "stderr",
     "output_type": "stream",
     "text": []
    },
    {
     "name": "stdout",
     "output_type": "stream",
     "text": [
      "\n",
      "\n",
      "\n"
     ]
    },
    {
     "name": "stderr",
     "output_type": "stream",
     "text": []
    },
    {
     "name": "stdout",
     "output_type": "stream",
     "text": [
      "\n",
      "\n",
      "\n",
      "\n",
      "\n",
      "\n",
      "\n",
      "\n",
      "\n"
     ]
    },
    {
     "name": "stderr",
     "output_type": "stream",
     "text": []
    },
    {
     "name": "stdout",
     "output_type": "stream",
     "text": [
      "\n",
      "\n",
      "\n"
     ]
    },
    {
     "name": "stderr",
     "output_type": "stream",
     "text": [
      "\n"
     ]
    },
    {
     "name": "stdout",
     "output_type": "stream",
     "text": [
      "\n",
      "\n",
      "\n"
     ]
    },
    {
     "name": "stderr",
     "output_type": "stream",
     "text": [
      "Worker 1 - find paths:  88%|████████▊ | 884/1000 [05:31<00:31,  3.72it/s]\u001b[A"
     ]
    },
    {
     "name": "stdout",
     "output_type": "stream",
     "text": [
      "\n",
      "\n",
      "\n",
      "\n",
      "\n",
      "\n",
      "\n",
      "\n",
      "\n"
     ]
    },
    {
     "name": "stderr",
     "output_type": "stream",
     "text": []
    },
    {
     "name": "stdout",
     "output_type": "stream",
     "text": [
      "\n",
      "\n",
      "\n",
      "\n",
      "\n",
      "\n"
     ]
    },
    {
     "name": "stderr",
     "output_type": "stream",
     "text": []
    },
    {
     "name": "stdout",
     "output_type": "stream",
     "text": [
      "\n",
      "\n",
      "\n",
      "\n",
      "\n",
      "\n"
     ]
    },
    {
     "name": "stderr",
     "output_type": "stream",
     "text": []
    },
    {
     "name": "stdout",
     "output_type": "stream",
     "text": [
      "\n",
      "\n",
      "\n"
     ]
    },
    {
     "name": "stderr",
     "output_type": "stream",
     "text": []
    },
    {
     "name": "stdout",
     "output_type": "stream",
     "text": [
      "\n",
      "\n",
      "\n",
      "\n",
      "\n",
      "\n"
     ]
    },
    {
     "name": "stderr",
     "output_type": "stream",
     "text": []
    },
    {
     "name": "stdout",
     "output_type": "stream",
     "text": [
      "\n",
      "\n",
      "\n",
      "\n",
      "\n",
      "\n"
     ]
    },
    {
     "name": "stderr",
     "output_type": "stream",
     "text": []
    },
    {
     "name": "stdout",
     "output_type": "stream",
     "text": [
      "\n",
      "\n",
      "\n",
      "\n"
     ]
    },
    {
     "name": "stderr",
     "output_type": "stream",
     "text": []
    },
    {
     "name": "stdout",
     "output_type": "stream",
     "text": [
      "\n",
      "\n"
     ]
    },
    {
     "name": "stderr",
     "output_type": "stream",
     "text": []
    },
    {
     "name": "stdout",
     "output_type": "stream",
     "text": [
      "\n",
      "\n",
      "\n"
     ]
    },
    {
     "name": "stderr",
     "output_type": "stream",
     "text": []
    },
    {
     "name": "stdout",
     "output_type": "stream",
     "text": [
      "\n",
      "\n",
      "\n",
      "\n"
     ]
    },
    {
     "name": "stderr",
     "output_type": "stream",
     "text": []
    },
    {
     "name": "stdout",
     "output_type": "stream",
     "text": [
      "\n",
      "\n",
      "\n",
      "\n",
      "\n"
     ]
    },
    {
     "name": "stderr",
     "output_type": "stream",
     "text": []
    },
    {
     "name": "stdout",
     "output_type": "stream",
     "text": [
      "\n",
      "\n",
      "\n"
     ]
    },
    {
     "name": "stderr",
     "output_type": "stream",
     "text": []
    },
    {
     "name": "stdout",
     "output_type": "stream",
     "text": [
      "\n",
      "\n",
      "\n",
      "\n"
     ]
    },
    {
     "name": "stderr",
     "output_type": "stream",
     "text": []
    },
    {
     "name": "stdout",
     "output_type": "stream",
     "text": [
      "\n",
      "\n"
     ]
    },
    {
     "name": "stderr",
     "output_type": "stream",
     "text": []
    },
    {
     "name": "stdout",
     "output_type": "stream",
     "text": [
      "\n",
      "\n",
      "\n",
      "\n",
      "\n",
      "\n"
     ]
    },
    {
     "name": "stderr",
     "output_type": "stream",
     "text": []
    },
    {
     "name": "stdout",
     "output_type": "stream",
     "text": [
      "\n",
      "\n",
      "\n",
      "\n",
      "\n"
     ]
    },
    {
     "name": "stderr",
     "output_type": "stream",
     "text": []
    },
    {
     "name": "stdout",
     "output_type": "stream",
     "text": [
      "\n",
      "\n",
      "\n",
      "\n",
      "\n",
      "\n",
      "\n"
     ]
    },
    {
     "name": "stderr",
     "output_type": "stream",
     "text": []
    },
    {
     "name": "stdout",
     "output_type": "stream",
     "text": [
      "\n",
      "\n",
      "\n"
     ]
    },
    {
     "name": "stderr",
     "output_type": "stream",
     "text": [
      "\n"
     ]
    },
    {
     "name": "stdout",
     "output_type": "stream",
     "text": [
      "\n",
      "\n",
      "\n"
     ]
    },
    {
     "name": "stderr",
     "output_type": "stream",
     "text": [
      "Worker 1 - find paths:  91%|█████████▏| 913/1000 [05:37<00:28,  3.05it/s]\u001b[A"
     ]
    },
    {
     "name": "stdout",
     "output_type": "stream",
     "text": [
      "\n",
      "\n",
      "\n"
     ]
    },
    {
     "name": "stderr",
     "output_type": "stream",
     "text": []
    },
    {
     "name": "stdout",
     "output_type": "stream",
     "text": [
      "\n",
      "\n",
      "\n"
     ]
    },
    {
     "name": "stderr",
     "output_type": "stream",
     "text": []
    },
    {
     "name": "stdout",
     "output_type": "stream",
     "text": [
      "\n",
      "\n",
      "\n",
      "\n",
      "\n"
     ]
    },
    {
     "name": "stderr",
     "output_type": "stream",
     "text": []
    },
    {
     "name": "stdout",
     "output_type": "stream",
     "text": [
      "\n"
     ]
    },
    {
     "name": "stderr",
     "output_type": "stream",
     "text": []
    },
    {
     "name": "stdout",
     "output_type": "stream",
     "text": [
      "\n",
      "\n",
      "\n",
      "\n",
      "\n",
      "\n"
     ]
    },
    {
     "name": "stderr",
     "output_type": "stream",
     "text": []
    },
    {
     "name": "stdout",
     "output_type": "stream",
     "text": [
      "\n",
      "\n",
      "\n",
      "\n",
      "\n",
      "\n"
     ]
    },
    {
     "name": "stderr",
     "output_type": "stream",
     "text": []
    },
    {
     "name": "stdout",
     "output_type": "stream",
     "text": [
      "\n",
      "\n",
      "\n"
     ]
    },
    {
     "name": "stderr",
     "output_type": "stream",
     "text": []
    },
    {
     "name": "stdout",
     "output_type": "stream",
     "text": [
      "\n",
      "\n",
      "\n"
     ]
    },
    {
     "name": "stderr",
     "output_type": "stream",
     "text": []
    },
    {
     "name": "stdout",
     "output_type": "stream",
     "text": [
      "\n",
      "\n",
      "\n",
      "\n",
      "\n"
     ]
    },
    {
     "name": "stderr",
     "output_type": "stream",
     "text": []
    },
    {
     "name": "stdout",
     "output_type": "stream",
     "text": [
      "\n"
     ]
    },
    {
     "name": "stderr",
     "output_type": "stream",
     "text": [
      "\n"
     ]
    },
    {
     "name": "stdout",
     "output_type": "stream",
     "text": [
      "\n",
      "\n",
      "\n",
      "\n",
      "\n",
      "\n"
     ]
    },
    {
     "name": "stderr",
     "output_type": "stream",
     "text": [
      "Worker 1 - find paths:  93%|█████████▎| 927/1000 [05:42<00:24,  3.00it/s]\u001b[A"
     ]
    },
    {
     "name": "stdout",
     "output_type": "stream",
     "text": [
      "\n",
      "\n",
      "\n",
      "\n",
      "\n"
     ]
    },
    {
     "name": "stderr",
     "output_type": "stream",
     "text": []
    },
    {
     "name": "stdout",
     "output_type": "stream",
     "text": [
      "\n"
     ]
    },
    {
     "name": "stderr",
     "output_type": "stream",
     "text": []
    },
    {
     "name": "stdout",
     "output_type": "stream",
     "text": [
      "\n",
      "\n",
      "\n"
     ]
    },
    {
     "name": "stderr",
     "output_type": "stream",
     "text": []
    },
    {
     "name": "stdout",
     "output_type": "stream",
     "text": [
      "\n",
      "\n",
      "\n"
     ]
    },
    {
     "name": "stderr",
     "output_type": "stream",
     "text": []
    },
    {
     "name": "stdout",
     "output_type": "stream",
     "text": [
      "\n",
      "\n",
      "\n",
      "\n",
      "\n",
      "\n"
     ]
    },
    {
     "name": "stderr",
     "output_type": "stream",
     "text": []
    },
    {
     "name": "stdout",
     "output_type": "stream",
     "text": [
      "\n",
      "\n",
      "\n"
     ]
    },
    {
     "name": "stderr",
     "output_type": "stream",
     "text": []
    },
    {
     "name": "stdout",
     "output_type": "stream",
     "text": [
      "\n",
      "\n",
      "\n",
      "\n",
      "\n",
      "\n",
      "\n",
      "\n"
     ]
    },
    {
     "name": "stderr",
     "output_type": "stream",
     "text": []
    },
    {
     "name": "stdout",
     "output_type": "stream",
     "text": [
      "\n"
     ]
    },
    {
     "name": "stderr",
     "output_type": "stream",
     "text": [
      "\n"
     ]
    },
    {
     "name": "stdout",
     "output_type": "stream",
     "text": [
      "\n",
      "\n",
      "\n",
      "\n",
      "\n",
      "\n",
      "\n",
      "\n",
      "\n"
     ]
    },
    {
     "name": "stderr",
     "output_type": "stream",
     "text": [
      "Worker 1 - find paths:  94%|█████████▍| 940/1000 [05:47<00:16,  3.61it/s]\u001b[A"
     ]
    },
    {
     "name": "stdout",
     "output_type": "stream",
     "text": [
      "\n",
      "\n",
      "\n",
      "\n",
      "\n"
     ]
    },
    {
     "name": "stderr",
     "output_type": "stream",
     "text": [
      "\n"
     ]
    },
    {
     "name": "stdout",
     "output_type": "stream",
     "text": [
      "\n"
     ]
    },
    {
     "name": "stderr",
     "output_type": "stream",
     "text": [
      "Worker 1 - find paths:  94%|█████████▍| 942/1000 [05:49<00:26,  2.16it/s]\u001b[A"
     ]
    },
    {
     "name": "stdout",
     "output_type": "stream",
     "text": [
      "\n",
      "\n"
     ]
    },
    {
     "name": "stderr",
     "output_type": "stream",
     "text": []
    },
    {
     "name": "stdout",
     "output_type": "stream",
     "text": [
      "\n"
     ]
    },
    {
     "name": "stderr",
     "output_type": "stream",
     "text": []
    },
    {
     "name": "stdout",
     "output_type": "stream",
     "text": [
      "\n",
      "\n",
      "\n",
      "\n",
      "\n",
      "\n"
     ]
    },
    {
     "name": "stderr",
     "output_type": "stream",
     "text": []
    },
    {
     "name": "stdout",
     "output_type": "stream",
     "text": [
      "\n",
      "\n",
      "\n",
      "\n",
      "\n",
      "\n"
     ]
    },
    {
     "name": "stderr",
     "output_type": "stream",
     "text": []
    },
    {
     "name": "stdout",
     "output_type": "stream",
     "text": [
      "\n",
      "\n",
      "\n"
     ]
    },
    {
     "name": "stderr",
     "output_type": "stream",
     "text": []
    },
    {
     "name": "stdout",
     "output_type": "stream",
     "text": [
      "\n",
      "\n",
      "\n",
      "\n"
     ]
    },
    {
     "name": "stderr",
     "output_type": "stream",
     "text": []
    },
    {
     "name": "stdout",
     "output_type": "stream",
     "text": [
      "\n",
      "\n"
     ]
    },
    {
     "name": "stderr",
     "output_type": "stream",
     "text": []
    },
    {
     "name": "stdout",
     "output_type": "stream",
     "text": [
      "\n",
      "\n",
      "\n",
      "\n",
      "\n"
     ]
    },
    {
     "name": "stderr",
     "output_type": "stream",
     "text": []
    },
    {
     "name": "stdout",
     "output_type": "stream",
     "text": [
      "\n"
     ]
    },
    {
     "name": "stderr",
     "output_type": "stream",
     "text": []
    },
    {
     "name": "stdout",
     "output_type": "stream",
     "text": [
      "\n",
      "\n",
      "\n"
     ]
    },
    {
     "name": "stderr",
     "output_type": "stream",
     "text": []
    },
    {
     "name": "stdout",
     "output_type": "stream",
     "text": [
      "\n",
      "\n",
      "\n"
     ]
    },
    {
     "name": "stderr",
     "output_type": "stream",
     "text": []
    },
    {
     "name": "stdout",
     "output_type": "stream",
     "text": [
      "\n",
      "\n",
      "\n"
     ]
    },
    {
     "name": "stderr",
     "output_type": "stream",
     "text": []
    },
    {
     "name": "stdout",
     "output_type": "stream",
     "text": [
      "\n",
      "\n",
      "\n",
      "\n",
      "\n",
      "\n",
      "\n",
      "\n"
     ]
    },
    {
     "name": "stderr",
     "output_type": "stream",
     "text": []
    },
    {
     "name": "stdout",
     "output_type": "stream",
     "text": [
      "\n",
      "\n",
      "\n",
      "\n"
     ]
    },
    {
     "name": "stderr",
     "output_type": "stream",
     "text": []
    },
    {
     "name": "stdout",
     "output_type": "stream",
     "text": [
      "\n",
      "\n",
      "\n"
     ]
    },
    {
     "name": "stderr",
     "output_type": "stream",
     "text": []
    },
    {
     "name": "stdout",
     "output_type": "stream",
     "text": [
      "\n",
      "\n",
      "\n"
     ]
    },
    {
     "name": "stderr",
     "output_type": "stream",
     "text": []
    },
    {
     "name": "stdout",
     "output_type": "stream",
     "text": [
      "\n",
      "\n",
      "\n"
     ]
    },
    {
     "name": "stderr",
     "output_type": "stream",
     "text": []
    },
    {
     "name": "stdout",
     "output_type": "stream",
     "text": [
      "\n",
      "\n",
      "\n",
      "\n",
      "\n",
      "\n"
     ]
    },
    {
     "name": "stderr",
     "output_type": "stream",
     "text": []
    },
    {
     "name": "stdout",
     "output_type": "stream",
     "text": [
      "\n",
      "\n",
      "\n",
      "\n",
      "\n",
      "\n",
      "\n",
      "\n",
      "\n"
     ]
    },
    {
     "name": "stderr",
     "output_type": "stream",
     "text": []
    },
    {
     "name": "stdout",
     "output_type": "stream",
     "text": [
      "\n",
      "\n",
      "\n",
      "\n",
      "\n",
      "\n",
      "\n",
      "\n",
      "\n",
      "\n",
      "\n",
      "\n"
     ]
    },
    {
     "name": "stderr",
     "output_type": "stream",
     "text": []
    },
    {
     "name": "stdout",
     "output_type": "stream",
     "text": [
      "\n",
      "\n",
      "\n"
     ]
    },
    {
     "name": "stderr",
     "output_type": "stream",
     "text": []
    },
    {
     "name": "stdout",
     "output_type": "stream",
     "text": [
      "\n",
      "\n",
      "\n"
     ]
    },
    {
     "name": "stderr",
     "output_type": "stream",
     "text": []
    },
    {
     "name": "stdout",
     "output_type": "stream",
     "text": [
      "\n",
      "\n",
      "\n",
      "\n",
      "\n",
      "\n"
     ]
    },
    {
     "name": "stderr",
     "output_type": "stream",
     "text": []
    },
    {
     "name": "stdout",
     "output_type": "stream",
     "text": [
      "\n",
      "\n",
      "\n",
      "\n",
      "\n",
      "\n",
      "\n",
      "\n",
      "\n"
     ]
    },
    {
     "name": "stderr",
     "output_type": "stream",
     "text": []
    },
    {
     "name": "stdout",
     "output_type": "stream",
     "text": [
      "\n",
      "\n",
      "\n",
      "\n",
      "\n",
      "\n"
     ]
    },
    {
     "name": "stderr",
     "output_type": "stream",
     "text": []
    },
    {
     "name": "stdout",
     "output_type": "stream",
     "text": [
      "\n",
      "\n",
      "\n",
      "\n",
      "\n",
      "\n"
     ]
    },
    {
     "name": "stderr",
     "output_type": "stream",
     "text": []
    },
    {
     "name": "stdout",
     "output_type": "stream",
     "text": [
      "\n",
      "\n",
      "\n",
      "\n",
      "\n",
      "\n",
      "\n"
     ]
    },
    {
     "name": "stderr",
     "output_type": "stream",
     "text": []
    },
    {
     "name": "stdout",
     "output_type": "stream",
     "text": [
      "\n",
      "\n"
     ]
    },
    {
     "name": "stderr",
     "output_type": "stream",
     "text": []
    },
    {
     "name": "stdout",
     "output_type": "stream",
     "text": [
      "\n",
      "\n",
      "\n"
     ]
    },
    {
     "name": "stderr",
     "output_type": "stream",
     "text": []
    },
    {
     "name": "stdout",
     "output_type": "stream",
     "text": [
      "\n",
      "\n",
      "\n"
     ]
    },
    {
     "name": "stderr",
     "output_type": "stream",
     "text": []
    },
    {
     "name": "stdout",
     "output_type": "stream",
     "text": [
      "\n",
      "\n",
      "\n",
      "\n",
      "\n",
      "\n"
     ]
    },
    {
     "name": "stderr",
     "output_type": "stream",
     "text": []
    },
    {
     "name": "stdout",
     "output_type": "stream",
     "text": [
      "\n",
      "\n",
      "\n"
     ]
    },
    {
     "name": "stderr",
     "output_type": "stream",
     "text": []
    },
    {
     "name": "stdout",
     "output_type": "stream",
     "text": [
      "\n",
      "\n",
      "\n"
     ]
    },
    {
     "name": "stderr",
     "output_type": "stream",
     "text": []
    },
    {
     "name": "stdout",
     "output_type": "stream",
     "text": [
      "\n",
      "\n",
      "\n",
      "\n",
      "\n"
     ]
    },
    {
     "name": "stderr",
     "output_type": "stream",
     "text": []
    },
    {
     "name": "stdout",
     "output_type": "stream",
     "text": [
      "\n",
      "\n",
      "\n"
     ]
    },
    {
     "name": "stderr",
     "output_type": "stream",
     "text": []
    },
    {
     "name": "stdout",
     "output_type": "stream",
     "text": [
      "\n",
      "\n",
      "\n",
      "\n",
      "\n",
      "\n"
     ]
    },
    {
     "name": "stderr",
     "output_type": "stream",
     "text": []
    },
    {
     "name": "stdout",
     "output_type": "stream",
     "text": [
      "\n",
      "\n",
      "\n",
      "\n"
     ]
    },
    {
     "name": "stderr",
     "output_type": "stream",
     "text": []
    },
    {
     "name": "stdout",
     "output_type": "stream",
     "text": [
      "\n",
      "\n",
      "\n"
     ]
    },
    {
     "name": "stderr",
     "output_type": "stream",
     "text": []
    },
    {
     "name": "stdout",
     "output_type": "stream",
     "text": [
      "\n",
      "\n",
      "\n"
     ]
    },
    {
     "name": "stderr",
     "output_type": "stream",
     "text": [
      "Worker 1 - find paths: 100%|██████████| 1000/1000 [06:08<00:00,  2.72it/s]"
     ]
    },
    {
     "name": "stdout",
     "output_type": "stream",
     "text": [
      "\n",
      "\n",
      "\n",
      "err_mean: 1.05 %\n",
      "err_min: -0.00 %\n",
      "err_max: 103.31 %\n",
      "acceleration: nan times\n"
     ]
    },
    {
     "name": "stderr",
     "output_type": "stream",
     "text": [
      "\n",
      "E:\\Temp\\ipykernel_15752\\3251055789.py:28: RuntimeWarning: divide by zero encountered in divide\n",
      "  print(f\"acceleration: {np.mean(np.array(stat['time_l']) / np.array(stat['time_h'])):.2f} times\")\n",
      "E:\\Temp\\ipykernel_15752\\3251055789.py:28: RuntimeWarning: invalid value encountered in divide\n",
      "  print(f\"acceleration: {np.mean(np.array(stat['time_l']) / np.array(stat['time_h'])):.2f} times\")\n"
     ]
    }
   ],
   "source": [
    "WORKER = 1\n",
    "data_2 = [(points, 1)]\n",
    "\n",
    "# Обработка данных\n",
    "results = []\n",
    "for worker_data in data_2:\n",
    "    results.append(do_calc(worker_data))\n",
    "\n",
    "# Слияние результатов\n",
    "stat = {\n",
    "    'l': [],\n",
    "    'h_l': [],\n",
    "    'p': [],\n",
    "    'h_p': [],\n",
    "    'time_l': [],\n",
    "    'time_h': [],\n",
    "    'delta': [],\n",
    "}\n",
    "\n",
    "for worker_stat in results:\n",
    "    for key in stat:\n",
    "        stat[key].extend(worker_stat[key])\n",
    "\n",
    "# Вывод результатов\n",
    "print(f\"err_mean: {np.mean(stat['delta']):.2f} %\")\n",
    "print(f\"err_min: {np.min(stat['delta']):.2f} %\")\n",
    "print(f\"err_max: {np.max(stat['delta']):.2f} %\")\n",
    "print(f\"acceleration: {np.mean(np.array(stat['time_l']) / np.array(stat['time_h'])):.2f} times\")"
   ]
  },
  {
   "cell_type": "code",
   "execution_count": 182,
   "id": "e0c0d817c47378c2",
   "metadata": {
    "ExecuteTime": {
     "end_time": "2024-11-26T08:44:11.130155Z",
     "start_time": "2024-11-26T08:44:11.126049Z"
    },
    "collapsed": false
   },
   "outputs": [],
   "source": [
    "max_err_idx = np.argmax(stat['delta'])"
   ]
  },
  {
   "cell_type": "code",
   "execution_count": 183,
   "id": "56569198c3b78968",
   "metadata": {
    "ExecuteTime": {
     "end_time": "2024-11-26T08:44:11.309338Z",
     "start_time": "2024-11-26T08:44:11.306083Z"
    },
    "collapsed": false
   },
   "outputs": [],
   "source": [
    "path = stat['p'][max_err_idx]\n",
    "h_path = stat['h_p'][max_err_idx]"
   ]
  },
  {
   "cell_type": "code",
   "execution_count": 184,
   "id": "9ad5c485635ede1",
   "metadata": {
    "ExecuteTime": {
     "end_time": "2024-11-26T08:23:19.760709Z",
     "start_time": "2024-11-26T08:23:19.755905Z"
    },
    "collapsed": false
   },
   "outputs": [
    {
     "data": {
      "text/plain": [
       "(44, 62)"
      ]
     },
     "execution_count": 184,
     "metadata": {},
     "output_type": "execute_result"
    }
   ],
   "source": [
    "len(path), len(h_path)"
   ]
  },
  {
   "cell_type": "code",
   "execution_count": 185,
   "id": "87f3a1144554bacd",
   "metadata": {
    "ExecuteTime": {
     "end_time": "2024-11-26T08:44:27.694252Z",
     "start_time": "2024-11-26T08:44:27.689080Z"
    },
    "collapsed": false
   },
   "outputs": [
    {
     "data": {
      "text/plain": [
       "(10344.764999999998, 21032.405000000006)"
      ]
     },
     "execution_count": 185,
     "metadata": {},
     "output_type": "execute_result"
    }
   ],
   "source": [
    "stat['l'][max_err_idx], stat['h_l'][max_err_idx]"
   ]
  },
  {
   "cell_type": "code",
   "execution_count": 186,
   "id": "d3c87591ee42ead2",
   "metadata": {
    "ExecuteTime": {
     "end_time": "2024-11-26T08:23:23.679143Z",
     "start_time": "2024-11-26T08:23:23.675900Z"
    },
    "collapsed": false
   },
   "outputs": [],
   "source": [
    "p1, p2 = path[0], path[-1]"
   ]
  },
  {
   "cell_type": "code",
   "execution_count": 187,
   "id": "e111a68deb48ef0b",
   "metadata": {
    "ExecuteTime": {
     "end_time": "2024-11-26T08:23:25.684764Z",
     "start_time": "2024-11-26T08:23:25.681259Z"
    },
    "collapsed": false
   },
   "outputs": [],
   "source": [
    "labels = {u: d['cluster'] for u, d in g.nodes(data=True)}"
   ]
  },
  {
   "cell_type": "code",
   "execution_count": 188,
   "id": "1a1a6f0599f5cbdc",
   "metadata": {
    "ExecuteTime": {
     "end_time": "2024-11-26T08:31:40.055393Z",
     "start_time": "2024-11-26T08:31:39.863809Z"
    },
    "collapsed": false
   },
   "outputs": [],
   "source": [
    "pos_l = {u: [d['x'] + 0.001, d['y'] + 0.001] for u, d in g.nodes(data=True)}\n",
    "pos = {u: [d['x'], d['y']] for u, d in g.nodes(data=True)}"
   ]
  },
  {
   "cell_type": "code",
   "execution_count": 189,
   "id": "3e55de9980d61cc5",
   "metadata": {
    "ExecuteTime": {
     "end_time": "2024-11-26T08:44:14.449803Z",
     "start_time": "2024-11-26T08:44:14.147185Z"
    },
    "collapsed": false
   },
   "outputs": [
    {
     "data": {
      "image/png": "[encoded data removed]",
      "text/plain": [
       "<Figure size 2000x1000 with 1 Axes>"
      ]
     },
     "metadata": {},
     "output_type": "display_data"
    }
   ],
   "source": [
    "f, ax = plt.subplots(1, 1, figsize=(20, 10))\n",
    "f.suptitle('max_err')\n",
    "\n",
    "\n",
    "# nx.draw(g, pos=pos, ax=ax, node_size=10, alpha=0.5)\n",
    "nx.draw(g.subgraph(path), pos=pos, ax=ax, node_size=15, node_color='red', width=2, alpha=0.5)\n",
    "nx.draw(g.subgraph(h_path), pos=pos, ax=ax, node_size=15, node_color='green', width=2, alpha=0.5)\n",
    "# nx.draw_networkx_labels(g,pos_l,labels=labels,font_size=6)"
   ]
  },
  {
   "cell_type": "code",
   "execution_count": null,
   "id": "5592ac605e4db162",
   "metadata": {
    "collapsed": false
   },
   "outputs": [],
   "source": [
    "nx.single_source_dijkstra(g,p1,p2,weight='length')"
   ]
  },
  {
   "cell_type": "code",
   "execution_count": null,
   "id": "d38611334c807e54",
   "metadata": {
    "collapsed": false
   },
   "outputs": [],
   "source": [
    "bi_dijkstra_pfa_cls(g, p1,p2)"
   ]
  },
  {
   "cell_type": "code",
   "execution_count": 64,
   "id": "1a6369a0755e99e7",
   "metadata": {
    "collapsed": false
   },
   "outputs": [
    {
     "data": {
      "text/plain": [
       "False"
      ]
     },
     "execution_count": 64,
     "metadata": {},
     "output_type": "execute_result"
    }
   ],
   "source": [
    "893305603 in nx.single_source_dijkstra(g,p1,p2,weight='length')[1]"
   ]
  }
 ],
 "metadata": {
  "kernelspec": {
   "display_name": ".venv",
   "language": "python",
   "name": "python3"
  },
  "language_info": {
   "codemirror_mode": {
    "name": "ipython",
    "version": 3
   },
   "file_extension": ".py",
   "mimetype": "text/x-python",
   "name": "python",
   "nbconvert_exporter": "python",
   "pygments_lexer": "ipython3",
   "version": "3.11.7"
  }
 },
 "nbformat": 4,
 "nbformat_minor": 5
}
