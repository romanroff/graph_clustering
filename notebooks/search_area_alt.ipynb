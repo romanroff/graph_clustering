{
 "cells": [
  {
   "cell_type": "code",
   "execution_count": 1,
   "id": "92641b5d828c9de8",
   "metadata": {
    "collapsed": false
   },
   "outputs": [],
   "source": [
    "import logging\n",
    "import sys\n",
    "\n",
    "root = logging.getLogger()\n",
    "root.setLevel(logging.INFO)\n",
    "\n",
    "handler = logging.StreamHandler(sys.stdout)\n",
    "handler.setLevel(logging.INFO)\n",
    "formatter = logging.Formatter('%(asctime)s - %(name)s - %(levelname)s - %(message)s')\n",
    "handler.setFormatter(formatter)\n",
    "root.addHandler(handler)"
   ]
  },
  {
   "cell_type": "code",
   "execution_count": 2,
   "id": "679e292ddcafdd40",
   "metadata": {
    "collapsed": false
   },
   "outputs": [],
   "source": [
    "import sys\n",
    "\n",
    "import matplotlib.pyplot as plt\n",
    "\n",
    "sys.path.append('../scripts')\n",
    "sys.path.append('../')\n",
    "\n",
    "from heapq import heappop, heappush\n",
    "from itertools import count\n",
    "\n",
    "import time\n",
    "from multiprocessing import Pool\n",
    "from time import sleep\n",
    "\n",
    "import numpy as np\n",
    "from tqdm.notebook import trange, tqdm\n",
    "from scripts import centroids_graph_builder, graph_osm_loader, utils, clustering\n",
    "\n",
    "import networkx as nx\n"
   ]
  },
  {
   "cell_type": "code",
   "execution_count": 3,
   "id": "25e5c1440003f43a",
   "metadata": {
    "collapsed": false
   },
   "outputs": [],
   "source": [
    "def dijkstra_pfa_min_dst(graph: nx.Graph,\n",
    "                 start: set[int],\n",
    "                 ) -> \\\n",
    "        tuple[float, list[int]]:\n",
    "    adjacency = graph._adj\n",
    "    c = count()\n",
    "    push = heappush\n",
    "    pop = heappop\n",
    "    dist = {}\n",
    "    fringe = []\n",
    "    for s in start:\n",
    "        dist[s] = 0.0\n",
    "        push(fringe, (0.0, next(c), s))\n",
    "    while fringe:\n",
    "        (d, _, v) = pop(fringe)\n",
    "        for u, e in adjacency[v].items():\n",
    "            vu_dist = d + e['length']\n",
    "            if u not in dist or dist[u] > vu_dist:\n",
    "                dist[u] = vu_dist\n",
    "                push(fringe, (vu_dist, next(c), u))\n",
    "    return dist\n"
   ]
  },
  {
   "cell_type": "code",
   "execution_count": 4,
   "id": "34f910ca623208b5",
   "metadata": {
    "collapsed": false
   },
   "outputs": [],
   "source": [
    "def get_rand_graph(N, p):\n",
    "    G = nx.fast_gnp_random_graph(N, p, directed=False)\n",
    "    if not nx.is_connected(G):\n",
    "        tmp = []\n",
    "        for n in nx.connected_components(G):\n",
    "            for q in n:\n",
    "                tmp.append(q)\n",
    "                break\n",
    "        for i in range(len(tmp) - 1):\n",
    "            G.add_edge(tmp[i], tmp[i + 1])\n",
    "    for e in G.edges:\n",
    "        G.add_edge(e[0], e[1], length=np.random.random_sample() + 0.001)\n",
    "    for u in G.nodes:\n",
    "        if u in G[u]:\n",
    "            G.remove_edge(u, u)\n",
    "    return G"
   ]
  },
  {
   "cell_type": "code",
   "execution_count": 5,
   "id": "1b60f4b11aad1567",
   "metadata": {
    "ExecuteTime": {
     "end_time": "2024-11-26T08:25:35.655680Z",
     "start_time": "2024-11-26T08:25:35.591563Z"
    },
    "collapsed": false
   },
   "outputs": [
    {
     "name": "stdout",
     "output_type": "stream",
     "text": [
      "17931 27047\n"
     ]
    }
   ],
   "source": [
    "GRAPH_ID = 'R2555133'  # 'R13470549' 'R2555133' 'R3766483'\n",
    "# примеры id есть в graph_osm_loader.py\n",
    "# g = get_rand_graph(1000, 0.1)  # загрузка графа\n",
    "N = 100000\n",
    "p = 3/N\n",
    "# g = get_rand_grAaph(N,p)\n",
    "# g = get_graph()\n",
    "g= graph_osm_loader.get_graph(GRAPH_ID)\n",
    "print(len(g.nodes), len(g.edges))"
   ]
  },
  {
   "cell_type": "code",
   "execution_count": 6,
   "id": "af782e49baab793a",
   "metadata": {
    "ExecuteTime": {
     "end_time": "2024-11-26T08:25:36.781684Z",
     "start_time": "2024-11-26T08:25:36.774170Z"
    },
    "collapsed": false
   },
   "outputs": [],
   "source": [
    "g.remove_edges_from(nx.selfloop_edges(g))"
   ]
  },
  {
   "cell_type": "code",
   "execution_count": 52,
   "id": "64b0c1b8f91aeb84",
   "metadata": {
    "ExecuteTime": {
     "end_time": "2024-11-26T08:25:55.589118Z",
     "start_time": "2024-11-26T08:25:37.798158Z"
    },
    "collapsed": false
   },
   "outputs": [
    {
     "name": "stdout",
     "output_type": "stream",
     "text": [
      "2024-12-09 17:21:36,872 - root - INFO - communities: 3409\n"
     ]
    },
    {
     "name": "stderr",
     "output_type": "stream",
     "text": [
      "100%|██████████| 100/100 [00:16<00:00,  5.93it/s]\n"
     ]
    }
   ],
   "source": [
    "cms = clustering.resolve_k_means_communities(g, resolution=500, max_iteration=100, print_log=True)"
   ]
  },
  {
   "cell_type": "markdown",
   "id": "5285889f",
   "metadata": {},
   "source": [
    "### community"
   ]
  },
  {
   "cell_type": "code",
   "execution_count": 7,
   "id": "67c54b48",
   "metadata": {},
   "outputs": [],
   "source": [
    "import networkx as nx\n",
    "import community  # python-louvain\n",
    "import folium\n",
    "import random\n",
    "from collections import defaultdict\n",
    "\n",
    "# # Применяем алгоритм Лувена для поиска сообществ\n",
    "# partition = community.best_partition(g, weight='length')\n",
    "\n",
    "# # Группируем id по значению\n",
    "# grouped = defaultdict(set)\n",
    "# for id, value in partition.items():\n",
    "#     grouped[value].add(id)\n",
    "\n",
    "# # Преобразуем в список множеств\n",
    "# # cms = list(grouped.values())\n",
    "\n",
    "\n",
    "def create_map(cms, g):\n",
    "# Генерация случайных цветов для сообществ\n",
    "    def generate_colors(n):\n",
    "        return [f\"#{random.randint(0, 0xFFFFFF):06x}\" for _ in range(n)]\n",
    "\n",
    "    unique_communities = set(range(len(cms)))\n",
    "    colors = generate_colors(len(unique_communities))\n",
    "\n",
    "    # Создаем отображение цвета для каждого сообщества\n",
    "    community_colors = {community_id: color for community_id, color in zip(unique_communities, colors)}\n",
    "\n",
    "    # Создаем карту Folium\n",
    "    m = folium.Map()\n",
    "\n",
    "    # Отображаем узлы графа по сообществам\n",
    "    for community_id, community_nodes in enumerate(cms):\n",
    "        color = colors[community_id]  # Цвет сообщества\n",
    "        for node in community_nodes:\n",
    "            node_data = g.nodes[node]\n",
    "            folium.CircleMarker(\n",
    "                location=(node_data['y'], node_data['x']),\n",
    "                radius=7,\n",
    "                color=color,\n",
    "                fill=True,\n",
    "                fill_color=color,\n",
    "                fill_opacity=0.8,\n",
    "                popup=f\"Node {node}, Community {community_id}\"\n",
    "            ).add_to(m)\n",
    "\n",
    "    return m"
   ]
  },
  {
   "cell_type": "code",
   "execution_count": 8,
   "id": "c212be3a651b722e",
   "metadata": {
    "ExecuteTime": {
     "end_time": "2024-11-26T08:25:55.611655Z",
     "start_time": "2024-11-26T08:25:55.601143Z"
    },
    "collapsed": false
   },
   "outputs": [],
   "source": [
    "from tqdm import tqdm\n",
    "import numpy as np\n",
    "\n",
    "def calc(data):\n",
    "    points, name, cms, g = data \n",
    "    d_clusters = np.zeros((len(cms), len(cms)))\n",
    "\n",
    "    # Добавляем tqdm для отслеживания обработки каждой вершины\n",
    "    for u in tqdm(points, desc=\"Processing nodes\"):\n",
    "        ll = dijkstra_pfa_min_dst(g, cms[u])\n",
    "        q = {}\n",
    "        for v, d in ll.items():\n",
    "            if g.nodes()[v][name] in q:\n",
    "                q[g.nodes()[v][name]] = min(q[g.nodes()[v][name]], d)\n",
    "            else:\n",
    "                q[g.nodes()[v][name]] = d\n",
    "        for v in range(len(cms)):\n",
    "            if v in q:\n",
    "                d_clusters[u, v] = q[v]\n",
    "    \n",
    "    return d_clusters\n"
   ]
  },
  {
   "cell_type": "code",
   "execution_count": 53,
   "id": "daf8928c68f67d63",
   "metadata": {
    "ExecuteTime": {
     "end_time": "2024-11-26T08:25:55.629820Z",
     "start_time": "2024-11-26T08:25:55.622774Z"
    },
    "collapsed": false
   },
   "outputs": [
    {
     "name": "stderr",
     "output_type": "stream",
     "text": [
      "Processing nodes: 100%|██████████| 3409/3409 [05:59<00:00,  9.48it/s]\n"
     ]
    }
   ],
   "source": [
    "cms_points = list(range(len(cms)))\n",
    "data = [cms_points,'cluster', cms, g]\n",
    "d_clusters = calc(data)"
   ]
  },
  {
   "cell_type": "code",
   "execution_count": 31,
   "id": "0290219f",
   "metadata": {},
   "outputs": [],
   "source": [
    "import networkx as nx\n",
    "import random\n",
    "from collections import defaultdict\n",
    "import numpy as np\n",
    "\n",
    "def cluster_graph(g, method=\"louvain\", **kwargs):\n",
    "    \"\"\"\n",
    "    Кластеризация дорожного графа различными методами.\n",
    "    \n",
    "    :param g: Граф дорожной сети (networkx.Graph)\n",
    "    :param method: Метод кластеризации (\"ward\", \"mst\", \"components\", \"layered\")\n",
    "    :param kwargs: Дополнительные параметры\n",
    "        - n_clusters: Желаемое количество кластеров\n",
    "        - threshold: Пороговое значение для метода компонент\n",
    "        - layers: Количество слоев для послойной кластеризации\n",
    "    :return: (cms, g) - список множеств узлов и обновленный граф\n",
    "    \"\"\"\n",
    "    \n",
    "    if method == \"mst\":\n",
    "        # Алгоритм минимального остовного дерева\n",
    "        n_clusters = kwargs.get('n_clusters', 2)\n",
    "        \n",
    "        # Строим MST\n",
    "        mst = nx.minimum_spanning_tree(g)\n",
    "        edges = sorted(mst.edges(data=True), key=lambda x: x[2]['length'], reverse=True)\n",
    "        \n",
    "        # Удаляем n_clusters-1 самых длинных ребер\n",
    "        for i in range(n_clusters-1):\n",
    "            if i < len(edges):\n",
    "                mst.remove_edge(edges[i][0], edges[i][1])\n",
    "        \n",
    "        # Находим компоненты\n",
    "        components = list(nx.connected_components(mst))\n",
    "        \n",
    "        # Обновляем атрибуты кластеров\n",
    "        for cluster_id, component in enumerate(components):\n",
    "            for node in component:\n",
    "                g.nodes[node]['cluster'] = cluster_id\n",
    "                \n",
    "        return components\n",
    "\n",
    "    elif method == \"components\":\n",
    "        # Алгоритм выделения связных компонент\n",
    "        threshold = kwargs.get('threshold', 0.5)\n",
    "        \n",
    "        # Создаем копию графа для работы\n",
    "        temp_g = g.copy()\n",
    "        \n",
    "        # Нормализуем веса рёбер\n",
    "        weights = [d['length'] for _, _, d in temp_g.edges(data=True)]\n",
    "        min_weight = min(weights)\n",
    "        max_weight = max(weights)\n",
    "        \n",
    "        # Добавляем нормализованные веса как новый атрибут\n",
    "        for u, v, d in temp_g.edges(data=True):\n",
    "            d['normalized_length'] = (d['length'] - min_weight) / (max_weight - min_weight)\n",
    "        \n",
    "        # Удаляем ребра с нормализованным весом больше порога\n",
    "        edges_to_remove = [(u, v) for u, v, d in temp_g.edges(data=True) \n",
    "                        if d['normalized_length'] > threshold]\n",
    "        temp_g.remove_edges_from(edges_to_remove)\n",
    "        \n",
    "        # Находим компоненты\n",
    "        components = list(nx.connected_components(temp_g))\n",
    "        \n",
    "        # Обновляем атрибуты\n",
    "        for cluster_id, component in enumerate(components):\n",
    "            for node in component:\n",
    "                g.nodes[node]['cluster'] = cluster_id\n",
    "                \n",
    "        return components\n",
    "\n",
    "    elif method == \"layered\":\n",
    "        # Послойная кластеризация\n",
    "        n_layers = kwargs.get('layers', 3)\n",
    "        \n",
    "        # Получаем все веса ребер\n",
    "        weights = [d['length'] for _, _, d in g.edges(data=True)]\n",
    "        min_w, max_w = min(weights), max(weights)\n",
    "        \n",
    "        # Создаем пороги для слоев\n",
    "        thresholds = np.linspace(min_w, max_w, n_layers + 1)\n",
    "        \n",
    "        components_by_layer = []\n",
    "        temp_g = g.copy()\n",
    "        \n",
    "        for i, threshold in enumerate(thresholds[1:]):\n",
    "            # Удаляем ребра выше текущего порога\n",
    "            edges_to_remove = [(u, v) for u, v, d in temp_g.edges(data=True) \n",
    "                             if d['length'] > threshold]\n",
    "            temp_g.remove_edges_from(edges_to_remove)\n",
    "            \n",
    "            # Находим компоненты для текущего слоя\n",
    "            components = list(nx.connected_components(temp_g))\n",
    "            components_by_layer.append(components)\n",
    "            \n",
    "            # Обновляем атрибуты для последнего слоя\n",
    "            if i == len(thresholds) - 2:\n",
    "                for cluster_id, component in enumerate(components):\n",
    "                    for node in component:\n",
    "                        g.nodes[node]['cluster'] = cluster_id\n",
    "                        \n",
    "        return components_by_layer[-1]\n",
    "\n",
    "    elif method == \"ward\":\n",
    "        # Иерархический агломеративный метод Уорда\n",
    "        n_clusters = kwargs.get('n_clusters', 2)\n",
    "        \n",
    "        # Создаем матрицу расстояний\n",
    "        nodes = list(g.nodes())\n",
    "        n = len(nodes)\n",
    "        distances = np.zeros((n, n))\n",
    "        \n",
    "        for i in range(n):\n",
    "            for j in range(n):\n",
    "                if i != j:\n",
    "                    try:\n",
    "                        distances[i][j] = nx.shortest_path_length(\n",
    "                            g, nodes[i], nodes[j], weight='length'\n",
    "                        )\n",
    "                    except:\n",
    "                        distances[i][j] = float('inf')\n",
    "        \n",
    "        from sklearn.cluster import AgglomerativeClustering\n",
    "        clustering = AgglomerativeClustering(\n",
    "            n_clusters=n_clusters, \n",
    "            affinity='precomputed',\n",
    "            linkage='ward'\n",
    "        )\n",
    "        labels = clustering.fit_predict(distances)\n",
    "        \n",
    "        # Группируем узлы по кластерам\n",
    "        clusters = defaultdict(set)\n",
    "        for node_idx, label in enumerate(labels):\n",
    "            clusters[label].add(nodes[node_idx])\n",
    "            g.nodes[nodes[node_idx]]['cluster'] = label\n",
    "            \n",
    "        return list(clusters.values())\n",
    "\n",
    "    elif method == \"louvain\":\n",
    "        import community  # python-louvain\n",
    "        partition = community.best_partition(g)\n",
    "        grouped = defaultdict(set)\n",
    "        for node, cluster in partition.items():\n",
    "            grouped[cluster].add(node)\n",
    "            g.nodes[node]['cluster'] = cluster  # Добавляем атрибут 'cluster'\n",
    "        cms = list(grouped.values())\n",
    "\n",
    "        return cms\n",
    "\n",
    "    elif method == \"girvan_newman\":\n",
    "        num_clusters = kwargs.get(\"num_clusters\", 5)\n",
    "        comp = nx.community.girvan_newman(g)\n",
    "        for i, communities in enumerate(comp):\n",
    "            if i + 1 == num_clusters:\n",
    "                cms = [set(c) for c in communities]\n",
    "                # Добавляем атрибут 'cluster' для каждого узла\n",
    "                for idx, cluster in enumerate(communities):\n",
    "                    for node in cluster:\n",
    "                        g.nodes[node]['cluster'] = idx\n",
    "                break\n",
    "\n",
    "        return cms\n",
    "\n",
    "    elif method == \"modularity\":\n",
    "        communities = nx.community.greedy_modularity_communities(g)\n",
    "        cms = [set(c) for c in communities]\n",
    "        # Добавляем атрибут 'cluster' для каждого узла\n",
    "        for idx, community in enumerate(communities):\n",
    "            for node in community:\n",
    "                g.nodes[node]['cluster'] = idx\n",
    "\n",
    "        return cms\n",
    "\n",
    "    elif method == \"spectral\":\n",
    "        from sklearn.cluster import SpectralClustering\n",
    "        n_clusters = kwargs.get(\"n_clusters\", 5)\n",
    "        adj_matrix = nx.to_numpy_array(g)\n",
    "        spectral = SpectralClustering(n_clusters=n_clusters, affinity=\"precomputed\", random_state=42)\n",
    "        labels = spectral.fit_predict(adj_matrix)\n",
    "        grouped = defaultdict(set)\n",
    "        for node, label in zip(g.nodes(), labels):\n",
    "            grouped[label].add(node)\n",
    "            g.nodes[node]['cluster'] = label  # Добавляем атрибут 'cluster'\n",
    "        cms = list(grouped.values())\n",
    "\n",
    "        return cms\n",
    "\n",
    "    elif method == \"walktrap\":\n",
    "        import igraph as ig\n",
    "        ig_graph = ig.Graph.TupleList(g.edges(), directed=False)\n",
    "        mapping = {idx: node for idx, node in enumerate(g.nodes())}\n",
    "        clusters = ig_graph.community_walktrap().as_clustering()\n",
    "        cms = [set(mapping[idx] for idx in cluster) for cluster in clusters]\n",
    "        # Добавляем атрибут 'cluster' для каждого узла\n",
    "        for idx, cluster in enumerate(clusters):\n",
    "            for node in cluster:\n",
    "                real_node = mapping[node]\n",
    "                g.nodes[real_node]['cluster'] = idx\n",
    "\n",
    "        return cms\n",
    "\n",
    "    elif method == \"dbscan\":\n",
    "        from sklearn.cluster import DBSCAN\n",
    "        positions = np.array([[g.nodes[node]['x'], g.nodes[node]['y']] for node in g.nodes()])\n",
    "        eps = kwargs.get(\"eps\", 0.5)\n",
    "        min_samples = kwargs.get(\"min_samples\", 5)\n",
    "        dbscan = DBSCAN(eps=eps, min_samples=min_samples)\n",
    "        labels = dbscan.fit_predict(positions)\n",
    "        grouped = defaultdict(set)\n",
    "        for node, label in zip(g.nodes(), labels):\n",
    "            if label != -1:  # -1 — шум\n",
    "                grouped[label].add(node)\n",
    "                g.nodes[node]['cluster'] = label  # Добавляем атрибут 'cluster'\n",
    "        cms = list(grouped.values())\n",
    "\n",
    "        return cms\n",
    "\n",
    "    elif method == \"kmeans\":\n",
    "        from sklearn.cluster import KMeans\n",
    "        positions = np.array([[g.nodes[node]['x'], g.nodes[node]['y']] for node in g.nodes()])\n",
    "        n_clusters = kwargs.get(\"n_clusters\", 5)\n",
    "        kmeans = KMeans(n_clusters=n_clusters, random_state=42)\n",
    "        labels = kmeans.fit_predict(positions)\n",
    "        grouped = defaultdict(set)\n",
    "        for node, label in zip(g.nodes(), labels):\n",
    "            grouped[label].add(node)\n",
    "            g.nodes[node]['cluster'] = label  # Добавляем атрибут 'cluster'\n",
    "        cms = list(grouped.values())\n",
    "\n",
    "        return cms\n",
    "\n",
    "    else:\n",
    "        raise ValueError(f\"Неизвестный метод кластеризации: {method},\\nдоступные методы: 'mst', 'components', 'layered', 'ward', 'louvain', 'girvan_newman', 'modularity', 'spectral', 'walktrap', 'dbscan', 'kmeans'\")\n"
   ]
  },
  {
   "cell_type": "code",
   "execution_count": null,
   "id": "cbf99cff",
   "metadata": {},
   "outputs": [],
   "source": [
    "cms = cluster_graph(g, method=\"ward\", n_clusters=3400, threshold=0.03, layers=35)\n",
    "print(f'Количество кластеров: {len(cms)}')\n",
    "print(community.partition_quality(g, cms))"
   ]
  },
  {
   "cell_type": "code",
   "execution_count": 49,
   "id": "6d532ecd",
   "metadata": {},
   "outputs": [
    {
     "name": "stderr",
     "output_type": "stream",
     "text": [
      "Processing nodes: 100%|██████████| 3421/3421 [06:29<00:00,  8.79it/s]\n"
     ]
    }
   ],
   "source": [
    "cms_points = list(range(len(cms)))\n",
    "data = [cms_points,'cluster', cms, g]\n",
    "d_clusters = calc(data)"
   ]
  },
  {
   "cell_type": "code",
   "execution_count": 13,
   "id": "96f44cd9",
   "metadata": {},
   "outputs": [
    {
     "data": {
      "text/plain": [
       "20039240196.398"
      ]
     },
     "execution_count": 13,
     "metadata": {},
     "output_type": "execute_result"
    }
   ],
   "source": [
    "import pandas as pd\n",
    "pd.DataFrame(d_clusters).sum().sum()"
   ]
  },
  {
   "cell_type": "code",
   "execution_count": 14,
   "id": "d37d5156bf0da65e",
   "metadata": {
    "ExecuteTime": {
     "end_time": "2024-11-26T08:27:34.578050Z",
     "start_time": "2024-11-26T08:27:34.572139Z"
    },
    "collapsed": false
   },
   "outputs": [],
   "source": [
    "nodes = g.nodes()"
   ]
  },
  {
   "cell_type": "code",
   "execution_count": 15,
   "id": "2081393eaf43ca2",
   "metadata": {
    "ExecuteTime": {
     "end_time": "2024-11-26T08:27:34.590872Z",
     "start_time": "2024-11-26T08:27:34.579801Z"
    },
    "collapsed": false
   },
   "outputs": [],
   "source": [
    "def func(u, v):\n",
    "    n1,n2 = nodes[u],nodes[v]\n",
    "    c11 = n1['cluster']\n",
    "    c12 = n2['cluster']  \n",
    "    return d_clusters[c11, c12]"
   ]
  },
  {
   "cell_type": "code",
   "execution_count": 16,
   "id": "d1069473230a56d8",
   "metadata": {
    "ExecuteTime": {
     "end_time": "2024-11-26T08:45:31.941837Z",
     "start_time": "2024-11-26T08:45:31.934365Z"
    },
    "collapsed": false
   },
   "outputs": [],
   "source": [
    "def dijkstra_pfa_cls(graph: nx.Graph,\n",
    "                     start: int,\n",
    "                     end: int\n",
    "                     ) -> tuple[float, list[int]]:\n",
    "    if start == end:\n",
    "        return 0, [start]\n",
    "    push = heappush\n",
    "    pop = heappop\n",
    "    dist = {start: (0, None)}\n",
    "    fringe = []\n",
    "    c = count()\n",
    "    adjacency = graph._adj\n",
    "    push(fringe, (0, next(c), 0, func(start, end), start))\n",
    "\n",
    "    while fringe:\n",
    "        (_, _, d1, l1, v1) = pop(fringe) \n",
    "        if v1 == end:\n",
    "            break\n",
    "        for u, e in adjacency[v1].items():\n",
    "            vu_dist = d1 + e['length']\n",
    "            if u not in dist or dist[u][0] > vu_dist:\n",
    "                dist[u] = (vu_dist, v1)\n",
    "                lu = func(u, end)\n",
    "                push(fringe, (vu_dist + lu, next(c), vu_dist, lu, u))\n",
    "    path = [end]\n",
    "    e = end\n",
    "    while dist[e][1] is not None:\n",
    "        e = dist[e][1]\n",
    "        path.append(e)\n",
    "    l = 0\n",
    "    e = g.edges()\n",
    "    for i in range(len(path) - 1):\n",
    "        p1, p2 = path[i], path[i + 1]\n",
    "        l += e[p1, p2]['length']\n",
    "    path.reverse()\n",
    "    return l, path"
   ]
  },
  {
   "cell_type": "code",
   "execution_count": 17,
   "id": "e4fcd02b902382dc",
   "metadata": {
    "ExecuteTime": {
     "end_time": "2024-11-26T08:42:45.493551Z",
     "start_time": "2024-11-26T08:42:45.476601Z"
    },
    "collapsed": false
   },
   "outputs": [],
   "source": [
    "def bi_dijkstra_pfa_cls(graph: nx.Graph,\n",
    "                        start: int,\n",
    "                        end: int\n",
    "                        ) -> tuple[float, list[int]]:\n",
    "    if start == end:\n",
    "        return 0, [start]\n",
    "    \n",
    "    push = heappush\n",
    "    pop = heappop\n",
    "    dist = ({start: (0, None)}, {end: (0, None)})\n",
    "    fringe = ([], [])\n",
    "    c = count()\n",
    "    adjacency = graph._adj\n",
    "\n",
    "    push(fringe[0], (0, next(c), 0,  start))\n",
    "    push(fringe[1], (0, next(c), 0,  end))\n",
    "    \n",
    "    union_node = None\n",
    "    union_dst = float('inf')\n",
    "    seen = (set(), set())\n",
    "    while fringe[0] and fringe[1]:\n",
    "        (_, _, d1,  v1) = pop(fringe[0])\n",
    "        (_, _, d2,  v2) = pop(fringe[1])\n",
    "\n",
    "        for u, e in adjacency[v1].items():\n",
    "            vu_dist = d1 + e['length']\n",
    "            if u not in dist[0] or dist[0][u][0] > vu_dist:\n",
    "                dist[0][u] = (vu_dist, v1)\n",
    "                lu = func(u,end)\n",
    "                push(fringe[0], (vu_dist + lu, next(c), vu_dist, u))\n",
    "        for u, e in adjacency[v2].items():\n",
    "            vu_dist = d2 + e['length']\n",
    "            if u not in dist[1] or dist[1][u][0] > vu_dist:\n",
    "                dist[1][u] = (vu_dist, v2)\n",
    "                lu = func(u,start)\n",
    "                push(fringe[1], (vu_dist + lu, next(c), vu_dist, u))\n",
    "        if v1 in seen[1]:\n",
    "            union_node = v1\n",
    "            union_dst = dist[0][v1][0] + dist[1][v1][0]\n",
    "            break\n",
    "        if v2 in seen[0]:\n",
    "            union_node = v2\n",
    "            union_dst = dist[0][v2][0] + dist[1][v2][0]\n",
    "            break\n",
    "        seen[0].add(v1)\n",
    "        seen[1].add(v2)\n",
    "        \n",
    "    for (_, _, d1, v1) in fringe[0]:\n",
    "        if v1 in dist[1]:\n",
    "            dd = dist[1][v1][0] + dist[0][v1][0]\n",
    "            if dd < union_dst:\n",
    "                union_dst = dd\n",
    "                union_node = v1\n",
    "        for u, e in adjacency[v1].items():\n",
    "            if u in dist[1]:\n",
    "                if u not in dist[0]:\n",
    "                    vu_dist = d1 + e['length']\n",
    "                    dist[0][u] = (vu_dist, v1)    \n",
    "                dd = dist[1][u][0] + dist[0][u][0]\n",
    "                if dd < union_dst:\n",
    "                    union_dst = dd\n",
    "                    union_node = u\n",
    "                    \n",
    "    for (_, _, d2, v2) in  fringe[1]:\n",
    "        if v2 in dist[0]:\n",
    "            dd = dist[1][v2][0] + dist[0][v2][0]\n",
    "            if dd < union_dst:\n",
    "                union_dst = dd\n",
    "                union_node = v2\n",
    "        for u, e in adjacency[v2].items():\n",
    "            if u in dist[0]:\n",
    "                if u not in dist[1]:\n",
    "                    vu_dist = d2 + e['length']\n",
    "                    dist[1][u] = (vu_dist, v2)\n",
    "                dd = dist[1][u][0] + dist[0][u][0]\n",
    "                if dd < union_dst:\n",
    "                    union_dst = dd\n",
    "                    union_node = u\n",
    "    path = []\n",
    "    e = union_node\n",
    "    while dist[0][e][1] is not None:\n",
    "        path = [e] + path\n",
    "        e = dist[0][e][1]\n",
    "    path = [e] + path\n",
    "\n",
    "    e = union_node\n",
    "    while dist[1][e][1] is not None:\n",
    "        e = dist[1][e][1]\n",
    "        path += [e]\n",
    "\n",
    "    l = 0\n",
    "    e = g.edges()\n",
    "    for i in range(len(path) - 1):\n",
    "        p1, p2 = path[i], path[i + 1]\n",
    "        l += e[p1, p2]['length']\n",
    "    return l, path"
   ]
  },
  {
   "cell_type": "code",
   "execution_count": 28,
   "id": "a30e70cfa72463f4",
   "metadata": {
    "ExecuteTime": {
     "end_time": "2024-11-26T08:42:46.267322Z",
     "start_time": "2024-11-26T08:42:46.012623Z"
    },
    "collapsed": false
   },
   "outputs": [
    {
     "data": {
      "application/vnd.jupyter.widget-view+json": {
       "model_id": "ea2af72c6b834b03b4a66d1967e11199",
       "version_major": 2,
       "version_minor": 0
      },
      "text/plain": [
       "generate points:   0%|          | 0/125 [00:00<?, ?it/s]"
      ]
     },
     "metadata": {},
     "output_type": "display_data"
    }
   ],
   "source": [
    "points = [utils.get_node_for_initial_graph_v2(g) for _ in trange(125, desc='generate points')]"
   ]
  },
  {
   "cell_type": "code",
   "execution_count": 19,
   "id": "7312717ee99a6dc",
   "metadata": {
    "ExecuteTime": {
     "end_time": "2024-11-26T08:46:43.639523Z",
     "start_time": "2024-11-26T08:45:38.827762Z"
    },
    "collapsed": false
   },
   "outputs": [],
   "source": [
    "NUM_ITERATION = 3  # чтобы уменьшить ошибку при вычислении времени выполнения, при каждом замере время меряется для NUM_ITERATION повторений\n",
    "WORKER = 1  # количество потоков\n",
    "\n",
    "\n",
    "def do_calc(data):\n",
    "    pps, worker_id = data\n",
    "\n",
    "    stat = {\n",
    "        'l': [],\n",
    "        'h_l': [],\n",
    "        'p': [],\n",
    "        'h_p': [],\n",
    "        'time_l': [],\n",
    "        'time_h': [],\n",
    "        'delta': [],\n",
    "    }\n",
    "\n",
    "    # Чтобы `tqdm` корректно отображался для каждого WORKER\n",
    "    sleep(worker_id / 10)\n",
    "    print(f\"INFO: Worker {worker_id} started\")\n",
    "\n",
    "    # for p1, p2 in tqdm(pps, desc=f'Worker {worker_id} - find paths', position=worker_id):\n",
    "    for p1, p2 in tqdm(pps):\n",
    "        if (p1, p2) in stat:\n",
    "            continue\n",
    "\n",
    "        # Классический алгоритм Дейкстры\n",
    "        l, p = None, None\n",
    "        start = time.time()\n",
    "        for _ in range(NUM_ITERATION):\n",
    "            l, p = nx.single_source_dijkstra(g, p1, p2, weight='length')\n",
    "        time_l = (time.time() - start) / NUM_ITERATION\n",
    "\n",
    "        # Иерархический алгоритм\n",
    "        h_l, h_p = None, None\n",
    "        start = time.time()\n",
    "        for _ in range(NUM_ITERATION):\n",
    "            h_l, h_p = dijkstra_pfa_cls(g, p1, p2)\n",
    "        time_h = (time.time() - start) / NUM_ITERATION\n",
    "\n",
    "        # Вычисление относительной ошибки\n",
    "        delta = (h_l - l) / l * 100 if l != 0 else 0\n",
    "\n",
    "        # Сохранение результатов\n",
    "        stat['l'].append(l)\n",
    "        stat['h_l'].append(h_l)\n",
    "        stat['p'].append(p)\n",
    "        stat['h_p'].append(h_p)\n",
    "        stat['delta'].append(delta)\n",
    "        stat['time_l'].append(time_l)\n",
    "        stat['time_h'].append(time_h)\n",
    "\n",
    "    return stat"
   ]
  },
  {
   "cell_type": "code",
   "execution_count": 54,
   "id": "e0569371",
   "metadata": {},
   "outputs": [
    {
     "name": "stdout",
     "output_type": "stream",
     "text": [
      "INFO: Worker 1 started\n"
     ]
    },
    {
     "name": "stderr",
     "output_type": "stream",
     "text": [
      "100%|██████████| 125/125 [00:22<00:00,  5.53it/s]\n"
     ]
    }
   ],
   "source": [
    "WORKER = 1\n",
    "data_2 = [(points, 1)]\n",
    "\n",
    "# Обработка данных\n",
    "results = []\n",
    "for worker_data in data_2:\n",
    "    results.append(do_calc(worker_data))\n",
    "\n",
    "# Слияние результатов\n",
    "stat = {\n",
    "    'l': [],\n",
    "    'h_l': [],\n",
    "    'p': [],\n",
    "    'h_p': [],\n",
    "    'time_l': [],\n",
    "    'time_h': [],\n",
    "    'delta': [],\n",
    "}\n",
    "\n",
    "for worker_stat in results:\n",
    "    for key in stat:\n",
    "        stat[key].extend(worker_stat[key])"
   ]
  },
  {
   "cell_type": "code",
   "execution_count": 55,
   "id": "47542f37",
   "metadata": {},
   "outputs": [
    {
     "name": "stdout",
     "output_type": "stream",
     "text": [
      "err_mean: 0.00 %\n",
      "acceleration: 28.99 times\n"
     ]
    }
   ],
   "source": [
    "# Вывод результатов\n",
    "print(f\"err_mean: {np.mean(stat['delta']):.2f} %\")\n",
    "# print(f\"err_min: {np.min(stat['delta']):.2f} %\")\n",
    "# print(f\"err_max: {np.max(stat['delta']):.2f} %\")\n",
    "print(f\"acceleration: {np.mean(np.array(stat['time_l']) / np.mean(np.array(stat['time_h']))):.2f} times\")"
   ]
  },
  {
   "cell_type": "code",
   "execution_count": 83,
   "id": "e0c0d817c47378c2",
   "metadata": {
    "ExecuteTime": {
     "end_time": "2024-11-26T08:44:11.130155Z",
     "start_time": "2024-11-26T08:44:11.126049Z"
    },
    "collapsed": false
   },
   "outputs": [],
   "source": [
    "max_err_idx = np.argmax(stat['delta'])"
   ]
  },
  {
   "cell_type": "code",
   "execution_count": 84,
   "id": "56569198c3b78968",
   "metadata": {
    "ExecuteTime": {
     "end_time": "2024-11-26T08:44:11.309338Z",
     "start_time": "2024-11-26T08:44:11.306083Z"
    },
    "collapsed": false
   },
   "outputs": [],
   "source": [
    "path = stat['p'][max_err_idx]\n",
    "h_path = stat['h_p'][max_err_idx]"
   ]
  },
  {
   "cell_type": "code",
   "execution_count": 85,
   "id": "9ad5c485635ede1",
   "metadata": {
    "ExecuteTime": {
     "end_time": "2024-11-26T08:23:19.760709Z",
     "start_time": "2024-11-26T08:23:19.755905Z"
    },
    "collapsed": false
   },
   "outputs": [
    {
     "data": {
      "text/plain": [
       "(88, 88)"
      ]
     },
     "execution_count": 85,
     "metadata": {},
     "output_type": "execute_result"
    }
   ],
   "source": [
    "len(path), len(h_path)"
   ]
  },
  {
   "cell_type": "code",
   "execution_count": 86,
   "id": "87f3a1144554bacd",
   "metadata": {
    "ExecuteTime": {
     "end_time": "2024-11-26T08:44:27.694252Z",
     "start_time": "2024-11-26T08:44:27.689080Z"
    },
    "collapsed": false
   },
   "outputs": [
    {
     "data": {
      "text/plain": [
       "(21924.388999999985, 21924.38900000001)"
      ]
     },
     "execution_count": 86,
     "metadata": {},
     "output_type": "execute_result"
    }
   ],
   "source": [
    "stat['l'][max_err_idx], stat['h_l'][max_err_idx]"
   ]
  },
  {
   "cell_type": "code",
   "execution_count": 87,
   "id": "d3c87591ee42ead2",
   "metadata": {
    "ExecuteTime": {
     "end_time": "2024-11-26T08:23:23.679143Z",
     "start_time": "2024-11-26T08:23:23.675900Z"
    },
    "collapsed": false
   },
   "outputs": [],
   "source": [
    "p1, p2 = path[0], path[-1]"
   ]
  },
  {
   "cell_type": "code",
   "execution_count": 88,
   "id": "e111a68deb48ef0b",
   "metadata": {
    "ExecuteTime": {
     "end_time": "2024-11-26T08:23:25.684764Z",
     "start_time": "2024-11-26T08:23:25.681259Z"
    },
    "collapsed": false
   },
   "outputs": [],
   "source": [
    "labels = {u: d['cluster'] for u, d in g.nodes(data=True)}"
   ]
  },
  {
   "cell_type": "code",
   "execution_count": 89,
   "id": "1a1a6f0599f5cbdc",
   "metadata": {
    "ExecuteTime": {
     "end_time": "2024-11-26T08:31:40.055393Z",
     "start_time": "2024-11-26T08:31:39.863809Z"
    },
    "collapsed": false
   },
   "outputs": [],
   "source": [
    "pos_l = {u: [d['x'] + 0.001, d['y'] + 0.001] for u, d in g.nodes(data=True)}\n",
    "pos = {u: [d['x'], d['y']] for u, d in g.nodes(data=True)}"
   ]
  },
  {
   "cell_type": "code",
   "execution_count": 90,
   "id": "3e55de9980d61cc5",
   "metadata": {
    "ExecuteTime": {
     "end_time": "2024-11-26T08:44:14.449803Z",
     "start_time": "2024-11-26T08:44:14.147185Z"
    },
    "collapsed": false
   },
   "outputs": [
    {
     "data": {
      "image/png": "[encoded data removed]",
      "text/plain": [
       "<Figure size 2000x1000 with 1 Axes>"
      ]
     },
     "metadata": {},
     "output_type": "display_data"
    }
   ],
   "source": [
    "f, ax = plt.subplots(1, 1, figsize=(20, 10))\n",
    "f.suptitle('max_err')\n",
    "\n",
    "\n",
    "# nx.draw(g, pos=pos, ax=ax, node_size=10, alpha=0.5)\n",
    "nx.draw(g.subgraph(path), pos=pos, ax=ax, node_size=15, node_color='red', width=2, alpha=0.5)\n",
    "nx.draw(g.subgraph(h_path), pos=pos, ax=ax, node_size=15, node_color='green', width=2, alpha=0.5)\n",
    "# nx.draw_networkx_labels(g,pos_l,labels=labels,font_size=6)"
   ]
  },
  {
   "cell_type": "code",
   "execution_count": null,
   "id": "9a2ea382",
   "metadata": {},
   "outputs": [],
   "source": []
  }
 ],
 "metadata": {
  "kernelspec": {
   "display_name": ".venv",
   "language": "python",
   "name": "python3"
  },
  "language_info": {
   "codemirror_mode": {
    "name": "ipython",
    "version": 3
   },
   "file_extension": ".py",
   "mimetype": "text/x-python",
   "name": "python",
   "nbconvert_exporter": "python",
   "pygments_lexer": "ipython3",
   "version": "3.11.7"
  }
 },
 "nbformat": 4,
 "nbformat_minor": 5
}
